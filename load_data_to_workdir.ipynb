{
 "cells": [
  {
   "cell_type": "code",
   "metadata": {
    "tags": [],
    "cell_id": "00000-9c620760-4959-413e-a73b-084d0274e099",
    "deepnote_to_be_reexecuted": false,
    "source_hash": "c76c7c51",
    "execution_start": 1620490301214,
    "execution_millis": 0,
    "deepnote_cell_type": "code"
   },
   "source": "import pandas as pd\nimport numpy as np",
   "execution_count": 1,
   "outputs": []
  },
  {
   "cell_type": "code",
   "metadata": {
    "tags": [],
    "cell_id": "00000-45abe526-1433-4c40-a4bd-c29cc20c8da4",
    "deepnote_to_be_reexecuted": false,
    "source_hash": "5857aec0",
    "execution_start": 1620490301215,
    "execution_millis": 123,
    "deepnote_cell_type": "code"
   },
   "source": "penguins = pd.read_csv('https://raw.githubusercontent.com/rfordatascience/tidytuesday/master/data/2020/2020-07-28/penguins.csv')",
   "execution_count": 2,
   "outputs": []
  },
  {
   "cell_type": "code",
   "metadata": {
    "tags": [],
    "cell_id": "00001-6d90b0de-61a3-4d50-a369-8bafce66173a",
    "deepnote_to_be_reexecuted": false,
    "source_hash": "88179170",
    "execution_start": 1620490301343,
    "execution_millis": 14,
    "deepnote_cell_type": "code"
   },
   "source": "penguins.to_csv(\"data/penguins.csv\")",
   "execution_count": 3,
   "outputs": []
  },
  {
   "cell_type": "code",
   "metadata": {
    "tags": [],
    "cell_id": "00003-ee424df3-0b42-4ad8-9e8a-22e639ccee8d",
    "deepnote_to_be_reexecuted": false,
    "source_hash": "51887296",
    "execution_start": 1620490301365,
    "execution_millis": 116,
    "deepnote_cell_type": "code"
   },
   "source": "penguins_raw = pd.read_csv('https://raw.githubusercontent.com/rfordatascience/tidytuesday/master/data/2020/2020-07-28/penguins_raw.csv')\npenguins_raw.to_csv(\"data/penguins_raw.csv\")",
   "execution_count": 4,
   "outputs": []
  },
  {
   "cell_type": "code",
   "metadata": {
    "tags": [],
    "cell_id": "00004-9fd6953d-7d70-4284-87b1-d9acef1d536a",
    "deepnote_to_be_reexecuted": false,
    "source_hash": "3a3985cb",
    "execution_start": 1620490301496,
    "execution_millis": 90,
    "deepnote_cell_type": "code"
   },
   "source": "penguins.head()\n",
   "execution_count": 5,
   "outputs": [
    {
     "output_type": "execute_result",
     "execution_count": 5,
     "data": {
      "application/vnd.deepnote.dataframe.v2+json": {
       "row_count": 5,
       "column_count": 8,
       "columns": [
        {
         "name": "species",
         "dtype": "object",
         "stats": {
          "unique_count": 1,
          "nan_count": 0,
          "categories": [
           {
            "name": "Adelie",
            "count": 5
           }
          ]
         }
        },
        {
         "name": "island",
         "dtype": "object",
         "stats": {
          "unique_count": 1,
          "nan_count": 0,
          "categories": [
           {
            "name": "Torgersen",
            "count": 5
           }
          ]
         }
        },
        {
         "name": "bill_length_mm",
         "dtype": "float64",
         "stats": {
          "unique_count": 4,
          "nan_count": 1,
          "min": "36.7",
          "max": "40.3",
          "histogram": [
           {
            "bin_start": 36.7,
            "bin_end": 37.06,
            "count": 1
           },
           {
            "bin_start": 37.06,
            "bin_end": 37.42,
            "count": 0
           },
           {
            "bin_start": 37.42,
            "bin_end": 37.78,
            "count": 0
           },
           {
            "bin_start": 37.78,
            "bin_end": 38.14,
            "count": 0
           },
           {
            "bin_start": 38.14,
            "bin_end": 38.5,
            "count": 0
           },
           {
            "bin_start": 38.5,
            "bin_end": 38.86,
            "count": 0
           },
           {
            "bin_start": 38.86,
            "bin_end": 39.22,
            "count": 1
           },
           {
            "bin_start": 39.22,
            "bin_end": 39.58,
            "count": 1
           },
           {
            "bin_start": 39.58,
            "bin_end": 39.94,
            "count": 0
           },
           {
            "bin_start": 39.94,
            "bin_end": 40.3,
            "count": 1
           }
          ]
         }
        },
        {
         "name": "bill_depth_mm",
         "dtype": "float64",
         "stats": {
          "unique_count": 4,
          "nan_count": 1,
          "min": "17.4",
          "max": "19.3",
          "histogram": [
           {
            "bin_start": 17.4,
            "bin_end": 17.59,
            "count": 1
           },
           {
            "bin_start": 17.59,
            "bin_end": 17.779999999999998,
            "count": 0
           },
           {
            "bin_start": 17.779999999999998,
            "bin_end": 17.97,
            "count": 0
           },
           {
            "bin_start": 17.97,
            "bin_end": 18.16,
            "count": 1
           },
           {
            "bin_start": 18.16,
            "bin_end": 18.35,
            "count": 0
           },
           {
            "bin_start": 18.35,
            "bin_end": 18.54,
            "count": 0
           },
           {
            "bin_start": 18.54,
            "bin_end": 18.73,
            "count": 1
           },
           {
            "bin_start": 18.73,
            "bin_end": 18.92,
            "count": 0
           },
           {
            "bin_start": 18.92,
            "bin_end": 19.11,
            "count": 0
           },
           {
            "bin_start": 19.11,
            "bin_end": 19.3,
            "count": 1
           }
          ]
         }
        },
        {
         "name": "flipper_length_mm",
         "dtype": "float64",
         "stats": {
          "unique_count": 4,
          "nan_count": 1,
          "min": "181.0",
          "max": "195.0",
          "histogram": [
           {
            "bin_start": 181,
            "bin_end": 182.4,
            "count": 1
           },
           {
            "bin_start": 182.4,
            "bin_end": 183.8,
            "count": 0
           },
           {
            "bin_start": 183.8,
            "bin_end": 185.2,
            "count": 0
           },
           {
            "bin_start": 185.2,
            "bin_end": 186.6,
            "count": 1
           },
           {
            "bin_start": 186.6,
            "bin_end": 188,
            "count": 0
           },
           {
            "bin_start": 188,
            "bin_end": 189.4,
            "count": 0
           },
           {
            "bin_start": 189.4,
            "bin_end": 190.8,
            "count": 0
           },
           {
            "bin_start": 190.8,
            "bin_end": 192.2,
            "count": 0
           },
           {
            "bin_start": 192.2,
            "bin_end": 193.6,
            "count": 1
           },
           {
            "bin_start": 193.6,
            "bin_end": 195,
            "count": 1
           }
          ]
         }
        },
        {
         "name": "body_mass_g",
         "dtype": "float64",
         "stats": {
          "unique_count": 4,
          "nan_count": 1,
          "min": "3250.0",
          "max": "3800.0",
          "histogram": [
           {
            "bin_start": 3250,
            "bin_end": 3305,
            "count": 1
           },
           {
            "bin_start": 3305,
            "bin_end": 3360,
            "count": 0
           },
           {
            "bin_start": 3360,
            "bin_end": 3415,
            "count": 0
           },
           {
            "bin_start": 3415,
            "bin_end": 3470,
            "count": 1
           },
           {
            "bin_start": 3470,
            "bin_end": 3525,
            "count": 0
           },
           {
            "bin_start": 3525,
            "bin_end": 3580,
            "count": 0
           },
           {
            "bin_start": 3580,
            "bin_end": 3635,
            "count": 0
           },
           {
            "bin_start": 3635,
            "bin_end": 3690,
            "count": 0
           },
           {
            "bin_start": 3690,
            "bin_end": 3745,
            "count": 0
           },
           {
            "bin_start": 3745,
            "bin_end": 3800,
            "count": 2
           }
          ]
         }
        },
        {
         "name": "sex",
         "dtype": "object",
         "stats": {
          "unique_count": 2,
          "nan_count": 1,
          "categories": [
           {
            "name": "female",
            "count": 3
           },
           {
            "name": "male",
            "count": 1
           },
           {
            "name": "Missing",
            "count": 1
           }
          ]
         }
        },
        {
         "name": "year",
         "dtype": "int64",
         "stats": {
          "unique_count": 1,
          "nan_count": 0,
          "min": "2007",
          "max": "2007",
          "histogram": [
           {
            "bin_start": 2006.5,
            "bin_end": 2006.6,
            "count": 0
           },
           {
            "bin_start": 2006.6,
            "bin_end": 2006.7,
            "count": 0
           },
           {
            "bin_start": 2006.7,
            "bin_end": 2006.8,
            "count": 0
           },
           {
            "bin_start": 2006.8,
            "bin_end": 2006.9,
            "count": 0
           },
           {
            "bin_start": 2006.9,
            "bin_end": 2007,
            "count": 0
           },
           {
            "bin_start": 2007,
            "bin_end": 2007.1,
            "count": 5
           },
           {
            "bin_start": 2007.1,
            "bin_end": 2007.2,
            "count": 0
           },
           {
            "bin_start": 2007.2,
            "bin_end": 2007.3,
            "count": 0
           },
           {
            "bin_start": 2007.3,
            "bin_end": 2007.4,
            "count": 0
           },
           {
            "bin_start": 2007.4,
            "bin_end": 2007.5,
            "count": 0
           }
          ]
         }
        },
        {
         "name": "_deepnote_index_column",
         "dtype": "int64"
        }
       ],
       "rows_top": [
        {
         "species": "Adelie",
         "island": "Torgersen",
         "bill_length_mm": "39.1",
         "bill_depth_mm": "18.7",
         "flipper_length_mm": "181.0",
         "body_mass_g": "3750.0",
         "sex": "male",
         "year": 2007,
         "_deepnote_index_column": 0
        },
        {
         "species": "Adelie",
         "island": "Torgersen",
         "bill_length_mm": "39.5",
         "bill_depth_mm": "17.4",
         "flipper_length_mm": "186.0",
         "body_mass_g": "3800.0",
         "sex": "female",
         "year": 2007,
         "_deepnote_index_column": 1
        },
        {
         "species": "Adelie",
         "island": "Torgersen",
         "bill_length_mm": "40.3",
         "bill_depth_mm": "18.0",
         "flipper_length_mm": "195.0",
         "body_mass_g": "3250.0",
         "sex": "female",
         "year": 2007,
         "_deepnote_index_column": 2
        },
        {
         "species": "Adelie",
         "island": "Torgersen",
         "bill_length_mm": "nan",
         "bill_depth_mm": "nan",
         "flipper_length_mm": "nan",
         "body_mass_g": "nan",
         "sex": "nan",
         "year": 2007,
         "_deepnote_index_column": 3
        },
        {
         "species": "Adelie",
         "island": "Torgersen",
         "bill_length_mm": "36.7",
         "bill_depth_mm": "19.3",
         "flipper_length_mm": "193.0",
         "body_mass_g": "3450.0",
         "sex": "female",
         "year": 2007,
         "_deepnote_index_column": 4
        }
       ],
       "rows_bottom": null
      },
      "text/plain": "  species     island  bill_length_mm  bill_depth_mm  flipper_length_mm  \\\n0  Adelie  Torgersen            39.1           18.7              181.0   \n1  Adelie  Torgersen            39.5           17.4              186.0   \n2  Adelie  Torgersen            40.3           18.0              195.0   \n3  Adelie  Torgersen             NaN            NaN                NaN   \n4  Adelie  Torgersen            36.7           19.3              193.0   \n\n   body_mass_g     sex  year  \n0       3750.0    male  2007  \n1       3800.0  female  2007  \n2       3250.0  female  2007  \n3          NaN     NaN  2007  \n4       3450.0  female  2007  ",
      "text/html": "<div>\n<style scoped>\n    .dataframe tbody tr th:only-of-type {\n        vertical-align: middle;\n    }\n\n    .dataframe tbody tr th {\n        vertical-align: top;\n    }\n\n    .dataframe thead th {\n        text-align: right;\n    }\n</style>\n<table border=\"1\" class=\"dataframe\">\n  <thead>\n    <tr style=\"text-align: right;\">\n      <th></th>\n      <th>species</th>\n      <th>island</th>\n      <th>bill_length_mm</th>\n      <th>bill_depth_mm</th>\n      <th>flipper_length_mm</th>\n      <th>body_mass_g</th>\n      <th>sex</th>\n      <th>year</th>\n    </tr>\n  </thead>\n  <tbody>\n    <tr>\n      <th>0</th>\n      <td>Adelie</td>\n      <td>Torgersen</td>\n      <td>39.1</td>\n      <td>18.7</td>\n      <td>181.0</td>\n      <td>3750.0</td>\n      <td>male</td>\n      <td>2007</td>\n    </tr>\n    <tr>\n      <th>1</th>\n      <td>Adelie</td>\n      <td>Torgersen</td>\n      <td>39.5</td>\n      <td>17.4</td>\n      <td>186.0</td>\n      <td>3800.0</td>\n      <td>female</td>\n      <td>2007</td>\n    </tr>\n    <tr>\n      <th>2</th>\n      <td>Adelie</td>\n      <td>Torgersen</td>\n      <td>40.3</td>\n      <td>18.0</td>\n      <td>195.0</td>\n      <td>3250.0</td>\n      <td>female</td>\n      <td>2007</td>\n    </tr>\n    <tr>\n      <th>3</th>\n      <td>Adelie</td>\n      <td>Torgersen</td>\n      <td>NaN</td>\n      <td>NaN</td>\n      <td>NaN</td>\n      <td>NaN</td>\n      <td>NaN</td>\n      <td>2007</td>\n    </tr>\n    <tr>\n      <th>4</th>\n      <td>Adelie</td>\n      <td>Torgersen</td>\n      <td>36.7</td>\n      <td>19.3</td>\n      <td>193.0</td>\n      <td>3450.0</td>\n      <td>female</td>\n      <td>2007</td>\n    </tr>\n  </tbody>\n</table>\n</div>"
     },
     "metadata": {}
    }
   ]
  },
  {
   "cell_type": "code",
   "metadata": {
    "tags": [],
    "cell_id": "00005-a7a8e934-506b-4d19-ac59-fb3700379425",
    "deepnote_to_be_reexecuted": false,
    "source_hash": "51819ea5",
    "execution_start": 1620490301583,
    "execution_millis": 13,
    "deepnote_cell_type": "code"
   },
   "source": "pd.read_csv(\"data/penguins.csv\").head()",
   "execution_count": 6,
   "outputs": [
    {
     "output_type": "execute_result",
     "execution_count": 6,
     "data": {
      "application/vnd.deepnote.dataframe.v2+json": {
       "row_count": 5,
       "column_count": 9,
       "columns": [
        {
         "name": "Unnamed: 0",
         "dtype": "int64",
         "stats": {
          "unique_count": 5,
          "nan_count": 0,
          "min": "0",
          "max": "4",
          "histogram": [
           {
            "bin_start": 0,
            "bin_end": 0.4,
            "count": 1
           },
           {
            "bin_start": 0.4,
            "bin_end": 0.8,
            "count": 0
           },
           {
            "bin_start": 0.8,
            "bin_end": 1.2000000000000002,
            "count": 1
           },
           {
            "bin_start": 1.2000000000000002,
            "bin_end": 1.6,
            "count": 0
           },
           {
            "bin_start": 1.6,
            "bin_end": 2,
            "count": 0
           },
           {
            "bin_start": 2,
            "bin_end": 2.4000000000000004,
            "count": 1
           },
           {
            "bin_start": 2.4000000000000004,
            "bin_end": 2.8000000000000003,
            "count": 0
           },
           {
            "bin_start": 2.8000000000000003,
            "bin_end": 3.2,
            "count": 1
           },
           {
            "bin_start": 3.2,
            "bin_end": 3.6,
            "count": 0
           },
           {
            "bin_start": 3.6,
            "bin_end": 4,
            "count": 1
           }
          ]
         }
        },
        {
         "name": "species",
         "dtype": "object",
         "stats": {
          "unique_count": 1,
          "nan_count": 0,
          "categories": [
           {
            "name": "Adelie",
            "count": 5
           }
          ]
         }
        },
        {
         "name": "island",
         "dtype": "object",
         "stats": {
          "unique_count": 1,
          "nan_count": 0,
          "categories": [
           {
            "name": "Torgersen",
            "count": 5
           }
          ]
         }
        },
        {
         "name": "bill_length_mm",
         "dtype": "float64",
         "stats": {
          "unique_count": 4,
          "nan_count": 1,
          "min": "36.7",
          "max": "40.3",
          "histogram": [
           {
            "bin_start": 36.7,
            "bin_end": 37.06,
            "count": 1
           },
           {
            "bin_start": 37.06,
            "bin_end": 37.42,
            "count": 0
           },
           {
            "bin_start": 37.42,
            "bin_end": 37.78,
            "count": 0
           },
           {
            "bin_start": 37.78,
            "bin_end": 38.14,
            "count": 0
           },
           {
            "bin_start": 38.14,
            "bin_end": 38.5,
            "count": 0
           },
           {
            "bin_start": 38.5,
            "bin_end": 38.86,
            "count": 0
           },
           {
            "bin_start": 38.86,
            "bin_end": 39.22,
            "count": 1
           },
           {
            "bin_start": 39.22,
            "bin_end": 39.58,
            "count": 1
           },
           {
            "bin_start": 39.58,
            "bin_end": 39.94,
            "count": 0
           },
           {
            "bin_start": 39.94,
            "bin_end": 40.3,
            "count": 1
           }
          ]
         }
        },
        {
         "name": "bill_depth_mm",
         "dtype": "float64",
         "stats": {
          "unique_count": 4,
          "nan_count": 1,
          "min": "17.4",
          "max": "19.3",
          "histogram": [
           {
            "bin_start": 17.4,
            "bin_end": 17.59,
            "count": 1
           },
           {
            "bin_start": 17.59,
            "bin_end": 17.779999999999998,
            "count": 0
           },
           {
            "bin_start": 17.779999999999998,
            "bin_end": 17.97,
            "count": 0
           },
           {
            "bin_start": 17.97,
            "bin_end": 18.16,
            "count": 1
           },
           {
            "bin_start": 18.16,
            "bin_end": 18.35,
            "count": 0
           },
           {
            "bin_start": 18.35,
            "bin_end": 18.54,
            "count": 0
           },
           {
            "bin_start": 18.54,
            "bin_end": 18.73,
            "count": 1
           },
           {
            "bin_start": 18.73,
            "bin_end": 18.92,
            "count": 0
           },
           {
            "bin_start": 18.92,
            "bin_end": 19.11,
            "count": 0
           },
           {
            "bin_start": 19.11,
            "bin_end": 19.3,
            "count": 1
           }
          ]
         }
        },
        {
         "name": "flipper_length_mm",
         "dtype": "float64",
         "stats": {
          "unique_count": 4,
          "nan_count": 1,
          "min": "181.0",
          "max": "195.0",
          "histogram": [
           {
            "bin_start": 181,
            "bin_end": 182.4,
            "count": 1
           },
           {
            "bin_start": 182.4,
            "bin_end": 183.8,
            "count": 0
           },
           {
            "bin_start": 183.8,
            "bin_end": 185.2,
            "count": 0
           },
           {
            "bin_start": 185.2,
            "bin_end": 186.6,
            "count": 1
           },
           {
            "bin_start": 186.6,
            "bin_end": 188,
            "count": 0
           },
           {
            "bin_start": 188,
            "bin_end": 189.4,
            "count": 0
           },
           {
            "bin_start": 189.4,
            "bin_end": 190.8,
            "count": 0
           },
           {
            "bin_start": 190.8,
            "bin_end": 192.2,
            "count": 0
           },
           {
            "bin_start": 192.2,
            "bin_end": 193.6,
            "count": 1
           },
           {
            "bin_start": 193.6,
            "bin_end": 195,
            "count": 1
           }
          ]
         }
        },
        {
         "name": "body_mass_g",
         "dtype": "float64",
         "stats": {
          "unique_count": 4,
          "nan_count": 1,
          "min": "3250.0",
          "max": "3800.0",
          "histogram": [
           {
            "bin_start": 3250,
            "bin_end": 3305,
            "count": 1
           },
           {
            "bin_start": 3305,
            "bin_end": 3360,
            "count": 0
           },
           {
            "bin_start": 3360,
            "bin_end": 3415,
            "count": 0
           },
           {
            "bin_start": 3415,
            "bin_end": 3470,
            "count": 1
           },
           {
            "bin_start": 3470,
            "bin_end": 3525,
            "count": 0
           },
           {
            "bin_start": 3525,
            "bin_end": 3580,
            "count": 0
           },
           {
            "bin_start": 3580,
            "bin_end": 3635,
            "count": 0
           },
           {
            "bin_start": 3635,
            "bin_end": 3690,
            "count": 0
           },
           {
            "bin_start": 3690,
            "bin_end": 3745,
            "count": 0
           },
           {
            "bin_start": 3745,
            "bin_end": 3800,
            "count": 2
           }
          ]
         }
        },
        {
         "name": "sex",
         "dtype": "object",
         "stats": {
          "unique_count": 2,
          "nan_count": 1,
          "categories": [
           {
            "name": "female",
            "count": 3
           },
           {
            "name": "male",
            "count": 1
           },
           {
            "name": "Missing",
            "count": 1
           }
          ]
         }
        },
        {
         "name": "year",
         "dtype": "int64",
         "stats": {
          "unique_count": 1,
          "nan_count": 0,
          "min": "2007",
          "max": "2007",
          "histogram": [
           {
            "bin_start": 2006.5,
            "bin_end": 2006.6,
            "count": 0
           },
           {
            "bin_start": 2006.6,
            "bin_end": 2006.7,
            "count": 0
           },
           {
            "bin_start": 2006.7,
            "bin_end": 2006.8,
            "count": 0
           },
           {
            "bin_start": 2006.8,
            "bin_end": 2006.9,
            "count": 0
           },
           {
            "bin_start": 2006.9,
            "bin_end": 2007,
            "count": 0
           },
           {
            "bin_start": 2007,
            "bin_end": 2007.1,
            "count": 5
           },
           {
            "bin_start": 2007.1,
            "bin_end": 2007.2,
            "count": 0
           },
           {
            "bin_start": 2007.2,
            "bin_end": 2007.3,
            "count": 0
           },
           {
            "bin_start": 2007.3,
            "bin_end": 2007.4,
            "count": 0
           },
           {
            "bin_start": 2007.4,
            "bin_end": 2007.5,
            "count": 0
           }
          ]
         }
        },
        {
         "name": "_deepnote_index_column",
         "dtype": "int64"
        }
       ],
       "rows_top": [
        {
         "Unnamed: 0": 0,
         "species": "Adelie",
         "island": "Torgersen",
         "bill_length_mm": "39.1",
         "bill_depth_mm": "18.7",
         "flipper_length_mm": "181.0",
         "body_mass_g": "3750.0",
         "sex": "male",
         "year": 2007,
         "_deepnote_index_column": 0
        },
        {
         "Unnamed: 0": 1,
         "species": "Adelie",
         "island": "Torgersen",
         "bill_length_mm": "39.5",
         "bill_depth_mm": "17.4",
         "flipper_length_mm": "186.0",
         "body_mass_g": "3800.0",
         "sex": "female",
         "year": 2007,
         "_deepnote_index_column": 1
        },
        {
         "Unnamed: 0": 2,
         "species": "Adelie",
         "island": "Torgersen",
         "bill_length_mm": "40.3",
         "bill_depth_mm": "18.0",
         "flipper_length_mm": "195.0",
         "body_mass_g": "3250.0",
         "sex": "female",
         "year": 2007,
         "_deepnote_index_column": 2
        },
        {
         "Unnamed: 0": 3,
         "species": "Adelie",
         "island": "Torgersen",
         "bill_length_mm": "nan",
         "bill_depth_mm": "nan",
         "flipper_length_mm": "nan",
         "body_mass_g": "nan",
         "sex": "nan",
         "year": 2007,
         "_deepnote_index_column": 3
        },
        {
         "Unnamed: 0": 4,
         "species": "Adelie",
         "island": "Torgersen",
         "bill_length_mm": "36.7",
         "bill_depth_mm": "19.3",
         "flipper_length_mm": "193.0",
         "body_mass_g": "3450.0",
         "sex": "female",
         "year": 2007,
         "_deepnote_index_column": 4
        }
       ],
       "rows_bottom": null
      },
      "text/plain": "   Unnamed: 0 species     island  bill_length_mm  bill_depth_mm  \\\n0           0  Adelie  Torgersen            39.1           18.7   \n1           1  Adelie  Torgersen            39.5           17.4   \n2           2  Adelie  Torgersen            40.3           18.0   \n3           3  Adelie  Torgersen             NaN            NaN   \n4           4  Adelie  Torgersen            36.7           19.3   \n\n   flipper_length_mm  body_mass_g     sex  year  \n0              181.0       3750.0    male  2007  \n1              186.0       3800.0  female  2007  \n2              195.0       3250.0  female  2007  \n3                NaN          NaN     NaN  2007  \n4              193.0       3450.0  female  2007  ",
      "text/html": "<div>\n<style scoped>\n    .dataframe tbody tr th:only-of-type {\n        vertical-align: middle;\n    }\n\n    .dataframe tbody tr th {\n        vertical-align: top;\n    }\n\n    .dataframe thead th {\n        text-align: right;\n    }\n</style>\n<table border=\"1\" class=\"dataframe\">\n  <thead>\n    <tr style=\"text-align: right;\">\n      <th></th>\n      <th>Unnamed: 0</th>\n      <th>species</th>\n      <th>island</th>\n      <th>bill_length_mm</th>\n      <th>bill_depth_mm</th>\n      <th>flipper_length_mm</th>\n      <th>body_mass_g</th>\n      <th>sex</th>\n      <th>year</th>\n    </tr>\n  </thead>\n  <tbody>\n    <tr>\n      <th>0</th>\n      <td>0</td>\n      <td>Adelie</td>\n      <td>Torgersen</td>\n      <td>39.1</td>\n      <td>18.7</td>\n      <td>181.0</td>\n      <td>3750.0</td>\n      <td>male</td>\n      <td>2007</td>\n    </tr>\n    <tr>\n      <th>1</th>\n      <td>1</td>\n      <td>Adelie</td>\n      <td>Torgersen</td>\n      <td>39.5</td>\n      <td>17.4</td>\n      <td>186.0</td>\n      <td>3800.0</td>\n      <td>female</td>\n      <td>2007</td>\n    </tr>\n    <tr>\n      <th>2</th>\n      <td>2</td>\n      <td>Adelie</td>\n      <td>Torgersen</td>\n      <td>40.3</td>\n      <td>18.0</td>\n      <td>195.0</td>\n      <td>3250.0</td>\n      <td>female</td>\n      <td>2007</td>\n    </tr>\n    <tr>\n      <th>3</th>\n      <td>3</td>\n      <td>Adelie</td>\n      <td>Torgersen</td>\n      <td>NaN</td>\n      <td>NaN</td>\n      <td>NaN</td>\n      <td>NaN</td>\n      <td>NaN</td>\n      <td>2007</td>\n    </tr>\n    <tr>\n      <th>4</th>\n      <td>4</td>\n      <td>Adelie</td>\n      <td>Torgersen</td>\n      <td>36.7</td>\n      <td>19.3</td>\n      <td>193.0</td>\n      <td>3450.0</td>\n      <td>female</td>\n      <td>2007</td>\n    </tr>\n  </tbody>\n</table>\n</div>"
     },
     "metadata": {}
    }
   ]
  },
  {
   "cell_type": "markdown",
   "source": "<a style='text-decoration:none;line-height:16px;display:flex;color:#5B5B62;padding:10px;justify-content:end;' href='https://deepnote.com?utm_source=created-in-deepnote-cell&projectId=1dd35576-464a-4d46-a0e6-752fc35b7463' target=\"_blank\">\n<img alt='Created in deepnote.com' style='display:inline;max-height:16px;margin:0px;margin-right:7.5px;' src='data:image/svg+xml;base64,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' > </img>\nCreated in <span style='font-weight:600;margin-left:4px;'>Deepnote</span></a>",
   "metadata": {
    "tags": [],
    "created_in_deepnote_cell": true,
    "deepnote_cell_type": "markdown"
   }
  }
 ],
 "nbformat": 4,
 "nbformat_minor": 2,
 "metadata": {
  "orig_nbformat": 2,
  "deepnote": {
   "is_reactive": false
  },
  "deepnote_notebook_id": "54563dd9-025e-4904-8944-bbac2ac50732",
  "deepnote_execution_queue": []
 }
}