{
 "cells": [
  {
   "cell_type": "code",
   "metadata": {
    "id": "EfH_dlc8Wwst",
    "cell_id": "00000-f19d0691-fe6f-430c-acfa-24d5c38cd42d",
    "deepnote_to_be_reexecuted": false,
    "source_hash": "5812982f",
    "execution_start": 1622210668982,
    "execution_millis": 1648,
    "deepnote_cell_type": "code"
   },
   "source": "import pandas as pd\n\nfrom sklearn.model_selection import train_test_split\nfrom sklearn.naive_bayes import GaussianNB, BernoulliNB, MultinomialNB, ComplementNB\nfrom sklearn.metrics import accuracy_score",
   "outputs": [],
   "execution_count": null
  },
  {
   "cell_type": "code",
   "metadata": {
    "id": "fmn-V1fgXYqZ",
    "cell_id": "00001-136ec17b-8e0f-4902-9393-a3878bc0041b",
    "deepnote_to_be_reexecuted": false,
    "source_hash": "43d4df6c",
    "execution_start": 1622210670632,
    "execution_millis": 20,
    "deepnote_cell_type": "code"
   },
   "source": "data = pd.read_csv(\"/work/sy09/data/penguins_for_machine_learning.csv\")",
   "outputs": [],
   "execution_count": null
  },
  {
   "cell_type": "code",
   "metadata": {
    "colab": {
     "base_uri": "https://localhost:8080/",
     "height": 195
    },
    "id": "0AQPTnopXpjo",
    "outputId": "3e9fad88-9814-4dc1-fc11-5753d0ac82a4",
    "cell_id": "00002-0bba436c-3e3c-447b-ad09-37d19e1d7030",
    "deepnote_to_be_reexecuted": false,
    "source_hash": "41313cfa",
    "execution_start": 1622210670664,
    "execution_millis": 192,
    "deepnote_cell_type": "code"
   },
   "source": "data.head()",
   "outputs": [
    {
     "output_type": "execute_result",
     "execution_count": 3,
     "data": {
      "application/vnd.deepnote.dataframe.v2+json": {
       "row_count": 5,
       "column_count": 10,
       "columns": [
        {
         "name": "Biscoe",
         "dtype": "float64",
         "stats": {
          "unique_count": 1,
          "nan_count": 0,
          "min": "0.0",
          "max": "0.0",
          "histogram": [
           {
            "bin_start": -0.5,
            "bin_end": -0.4,
            "count": 0
           },
           {
            "bin_start": -0.4,
            "bin_end": -0.3,
            "count": 0
           },
           {
            "bin_start": -0.3,
            "bin_end": -0.19999999999999996,
            "count": 0
           },
           {
            "bin_start": -0.19999999999999996,
            "bin_end": -0.09999999999999998,
            "count": 0
           },
           {
            "bin_start": -0.09999999999999998,
            "bin_end": 0,
            "count": 0
           },
           {
            "bin_start": 0,
            "bin_end": 0.10000000000000009,
            "count": 5
           },
           {
            "bin_start": 0.10000000000000009,
            "bin_end": 0.20000000000000007,
            "count": 0
           },
           {
            "bin_start": 0.20000000000000007,
            "bin_end": 0.30000000000000004,
            "count": 0
           },
           {
            "bin_start": 0.30000000000000004,
            "bin_end": 0.4,
            "count": 0
           },
           {
            "bin_start": 0.4,
            "bin_end": 0.5,
            "count": 0
           }
          ]
         }
        },
        {
         "name": "Dream",
         "dtype": "float64",
         "stats": {
          "unique_count": 1,
          "nan_count": 0,
          "min": "0.0",
          "max": "0.0",
          "histogram": [
           {
            "bin_start": -0.5,
            "bin_end": -0.4,
            "count": 0
           },
           {
            "bin_start": -0.4,
            "bin_end": -0.3,
            "count": 0
           },
           {
            "bin_start": -0.3,
            "bin_end": -0.19999999999999996,
            "count": 0
           },
           {
            "bin_start": -0.19999999999999996,
            "bin_end": -0.09999999999999998,
            "count": 0
           },
           {
            "bin_start": -0.09999999999999998,
            "bin_end": 0,
            "count": 0
           },
           {
            "bin_start": 0,
            "bin_end": 0.10000000000000009,
            "count": 5
           },
           {
            "bin_start": 0.10000000000000009,
            "bin_end": 0.20000000000000007,
            "count": 0
           },
           {
            "bin_start": 0.20000000000000007,
            "bin_end": 0.30000000000000004,
            "count": 0
           },
           {
            "bin_start": 0.30000000000000004,
            "bin_end": 0.4,
            "count": 0
           },
           {
            "bin_start": 0.4,
            "bin_end": 0.5,
            "count": 0
           }
          ]
         }
        },
        {
         "name": "Torgersen",
         "dtype": "float64",
         "stats": {
          "unique_count": 1,
          "nan_count": 0,
          "min": "1.0",
          "max": "1.0",
          "histogram": [
           {
            "bin_start": 0.5,
            "bin_end": 0.6,
            "count": 0
           },
           {
            "bin_start": 0.6,
            "bin_end": 0.7,
            "count": 0
           },
           {
            "bin_start": 0.7,
            "bin_end": 0.8,
            "count": 0
           },
           {
            "bin_start": 0.8,
            "bin_end": 0.9,
            "count": 0
           },
           {
            "bin_start": 0.9,
            "bin_end": 1,
            "count": 0
           },
           {
            "bin_start": 1,
            "bin_end": 1.1,
            "count": 5
           },
           {
            "bin_start": 1.1,
            "bin_end": 1.2000000000000002,
            "count": 0
           },
           {
            "bin_start": 1.2000000000000002,
            "bin_end": 1.3,
            "count": 0
           },
           {
            "bin_start": 1.3,
            "bin_end": 1.4,
            "count": 0
           },
           {
            "bin_start": 1.4,
            "bin_end": 1.5,
            "count": 0
           }
          ]
         }
        },
        {
         "name": "species",
         "dtype": "object",
         "stats": {
          "unique_count": 1,
          "nan_count": 0,
          "categories": [
           {
            "name": "Adelie",
            "count": 5
           }
          ]
         }
        },
        {
         "name": "bill_length",
         "dtype": "float64",
         "stats": {
          "unique_count": 5,
          "nan_count": 0,
          "min": "36.7",
          "max": "40.3",
          "histogram": [
           {
            "bin_start": 36.7,
            "bin_end": 37.06,
            "count": 1
           },
           {
            "bin_start": 37.06,
            "bin_end": 37.42,
            "count": 0
           },
           {
            "bin_start": 37.42,
            "bin_end": 37.78,
            "count": 0
           },
           {
            "bin_start": 37.78,
            "bin_end": 38.14,
            "count": 0
           },
           {
            "bin_start": 38.14,
            "bin_end": 38.5,
            "count": 0
           },
           {
            "bin_start": 38.5,
            "bin_end": 38.86,
            "count": 0
           },
           {
            "bin_start": 38.86,
            "bin_end": 39.22,
            "count": 1
           },
           {
            "bin_start": 39.22,
            "bin_end": 39.58,
            "count": 2
           },
           {
            "bin_start": 39.58,
            "bin_end": 39.94,
            "count": 0
           },
           {
            "bin_start": 39.94,
            "bin_end": 40.3,
            "count": 1
           }
          ]
         }
        },
        {
         "name": "bill_depth",
         "dtype": "float64",
         "stats": {
          "unique_count": 5,
          "nan_count": 0,
          "min": "17.4",
          "max": "20.6",
          "histogram": [
           {
            "bin_start": 17.4,
            "bin_end": 17.72,
            "count": 1
           },
           {
            "bin_start": 17.72,
            "bin_end": 18.04,
            "count": 1
           },
           {
            "bin_start": 18.04,
            "bin_end": 18.36,
            "count": 0
           },
           {
            "bin_start": 18.36,
            "bin_end": 18.68,
            "count": 0
           },
           {
            "bin_start": 18.68,
            "bin_end": 19,
            "count": 1
           },
           {
            "bin_start": 19,
            "bin_end": 19.32,
            "count": 1
           },
           {
            "bin_start": 19.32,
            "bin_end": 19.64,
            "count": 0
           },
           {
            "bin_start": 19.64,
            "bin_end": 19.96,
            "count": 0
           },
           {
            "bin_start": 19.96,
            "bin_end": 20.28,
            "count": 0
           },
           {
            "bin_start": 20.28,
            "bin_end": 20.6,
            "count": 1
           }
          ]
         }
        },
        {
         "name": "flipper_length",
         "dtype": "float64",
         "stats": {
          "unique_count": 5,
          "nan_count": 0,
          "min": "181.0",
          "max": "195.0",
          "histogram": [
           {
            "bin_start": 181,
            "bin_end": 182.4,
            "count": 1
           },
           {
            "bin_start": 182.4,
            "bin_end": 183.8,
            "count": 0
           },
           {
            "bin_start": 183.8,
            "bin_end": 185.2,
            "count": 0
           },
           {
            "bin_start": 185.2,
            "bin_end": 186.6,
            "count": 1
           },
           {
            "bin_start": 186.6,
            "bin_end": 188,
            "count": 0
           },
           {
            "bin_start": 188,
            "bin_end": 189.4,
            "count": 0
           },
           {
            "bin_start": 189.4,
            "bin_end": 190.8,
            "count": 1
           },
           {
            "bin_start": 190.8,
            "bin_end": 192.2,
            "count": 0
           },
           {
            "bin_start": 192.2,
            "bin_end": 193.6,
            "count": 1
           },
           {
            "bin_start": 193.6,
            "bin_end": 195,
            "count": 1
           }
          ]
         }
        },
        {
         "name": "body_mass",
         "dtype": "float64",
         "stats": {
          "unique_count": 5,
          "nan_count": 0,
          "min": "3250.0",
          "max": "3800.0",
          "histogram": [
           {
            "bin_start": 3250,
            "bin_end": 3305,
            "count": 1
           },
           {
            "bin_start": 3305,
            "bin_end": 3360,
            "count": 0
           },
           {
            "bin_start": 3360,
            "bin_end": 3415,
            "count": 0
           },
           {
            "bin_start": 3415,
            "bin_end": 3470,
            "count": 1
           },
           {
            "bin_start": 3470,
            "bin_end": 3525,
            "count": 0
           },
           {
            "bin_start": 3525,
            "bin_end": 3580,
            "count": 0
           },
           {
            "bin_start": 3580,
            "bin_end": 3635,
            "count": 0
           },
           {
            "bin_start": 3635,
            "bin_end": 3690,
            "count": 1
           },
           {
            "bin_start": 3690,
            "bin_end": 3745,
            "count": 0
           },
           {
            "bin_start": 3745,
            "bin_end": 3800,
            "count": 2
           }
          ]
         }
        },
        {
         "name": "del15",
         "dtype": "float64",
         "stats": {
          "unique_count": 5,
          "nan_count": 0,
          "min": "8.368210000000001",
          "max": "8.94956",
          "histogram": [
           {
            "bin_start": 8.368210000000001,
            "bin_end": 8.426345000000001,
            "count": 1
           },
           {
            "bin_start": 8.426345000000001,
            "bin_end": 8.484480000000001,
            "count": 0
           },
           {
            "bin_start": 8.484480000000001,
            "bin_end": 8.542615000000001,
            "count": 0
           },
           {
            "bin_start": 8.542615000000001,
            "bin_end": 8.600750000000001,
            "count": 0
           },
           {
            "bin_start": 8.600750000000001,
            "bin_end": 8.658885000000001,
            "count": 0
           },
           {
            "bin_start": 8.658885000000001,
            "bin_end": 8.71702,
            "count": 1
           },
           {
            "bin_start": 8.71702,
            "bin_end": 8.775155,
            "count": 1
           },
           {
            "bin_start": 8.775155,
            "bin_end": 8.83329,
            "count": 0
           },
           {
            "bin_start": 8.83329,
            "bin_end": 8.891425,
            "count": 1
           },
           {
            "bin_start": 8.891425,
            "bin_end": 8.94956,
            "count": 1
           }
          ]
         }
        },
        {
         "name": "del13",
         "dtype": "float64",
         "stats": {
          "unique_count": 5,
          "nan_count": 0,
          "min": "-25.804193758865253",
          "max": "-24.69454",
          "histogram": [
           {
            "bin_start": -25.804193758865253,
            "bin_end": -25.693228382978727,
            "count": 1
           },
           {
            "bin_start": -25.693228382978727,
            "bin_end": -25.5822630070922,
            "count": 0
           },
           {
            "bin_start": -25.5822630070922,
            "bin_end": -25.471297631205676,
            "count": 0
           },
           {
            "bin_start": -25.471297631205676,
            "bin_end": -25.36033225531915,
            "count": 0
           },
           {
            "bin_start": -25.36033225531915,
            "bin_end": -25.24936687943263,
            "count": 3
           },
           {
            "bin_start": -25.24936687943263,
            "bin_end": -25.138401503546103,
            "count": 0
           },
           {
            "bin_start": -25.138401503546103,
            "bin_end": -25.027436127659577,
            "count": 0
           },
           {
            "bin_start": -25.027436127659577,
            "bin_end": -24.91647075177305,
            "count": 0
           },
           {
            "bin_start": -24.91647075177305,
            "bin_end": -24.805505375886526,
            "count": 0
           },
           {
            "bin_start": -24.805505375886526,
            "bin_end": -24.69454,
            "count": 1
           }
          ]
         }
        },
        {
         "name": "_deepnote_index_column",
         "dtype": "int64"
        }
       ],
       "rows_top": [
        {
         "Biscoe": 0,
         "Dream": 0,
         "Torgersen": 1,
         "species": "Adelie",
         "bill_length": 39.1,
         "bill_depth": 18.7,
         "flipper_length": 181,
         "body_mass": 3750,
         "del15": 8.859732765957444,
         "del13": -25.804193758865253,
         "_deepnote_index_column": 0
        },
        {
         "Biscoe": 0,
         "Dream": 0,
         "Torgersen": 1,
         "species": "Adelie",
         "bill_length": 39.5,
         "bill_depth": 17.4,
         "flipper_length": 186,
         "body_mass": 3800,
         "del15": 8.94956,
         "del13": -24.69454,
         "_deepnote_index_column": 1
        },
        {
         "Biscoe": 0,
         "Dream": 0,
         "Torgersen": 1,
         "species": "Adelie",
         "bill_length": 40.3,
         "bill_depth": 18,
         "flipper_length": 195,
         "body_mass": 3250,
         "del15": 8.368210000000001,
         "del13": -25.33302,
         "_deepnote_index_column": 2
        },
        {
         "Biscoe": 0,
         "Dream": 0,
         "Torgersen": 1,
         "species": "Adelie",
         "bill_length": 36.7,
         "bill_depth": 19.3,
         "flipper_length": 193,
         "body_mass": 3450,
         "del15": 8.76651,
         "del13": -25.32426,
         "_deepnote_index_column": 3
        },
        {
         "Biscoe": 0,
         "Dream": 0,
         "Torgersen": 1,
         "species": "Adelie",
         "bill_length": 39.3,
         "bill_depth": 20.6,
         "flipper_length": 190,
         "body_mass": 3650,
         "del15": 8.66496,
         "del13": -25.29805,
         "_deepnote_index_column": 4
        }
       ],
       "rows_bottom": null
      },
      "text/plain": "   Biscoe  Dream  Torgersen species  bill_length  bill_depth  flipper_length  \\\n0     0.0    0.0        1.0  Adelie         39.1        18.7           181.0   \n1     0.0    0.0        1.0  Adelie         39.5        17.4           186.0   \n2     0.0    0.0        1.0  Adelie         40.3        18.0           195.0   \n3     0.0    0.0        1.0  Adelie         36.7        19.3           193.0   \n4     0.0    0.0        1.0  Adelie         39.3        20.6           190.0   \n\n   body_mass     del15      del13  \n0     3750.0  8.859733 -25.804194  \n1     3800.0  8.949560 -24.694540  \n2     3250.0  8.368210 -25.333020  \n3     3450.0  8.766510 -25.324260  \n4     3650.0  8.664960 -25.298050  ",
      "text/html": "<div>\n<style scoped>\n    .dataframe tbody tr th:only-of-type {\n        vertical-align: middle;\n    }\n\n    .dataframe tbody tr th {\n        vertical-align: top;\n    }\n\n    .dataframe thead th {\n        text-align: right;\n    }\n</style>\n<table border=\"1\" class=\"dataframe\">\n  <thead>\n    <tr style=\"text-align: right;\">\n      <th></th>\n      <th>Biscoe</th>\n      <th>Dream</th>\n      <th>Torgersen</th>\n      <th>species</th>\n      <th>bill_length</th>\n      <th>bill_depth</th>\n      <th>flipper_length</th>\n      <th>body_mass</th>\n      <th>del15</th>\n      <th>del13</th>\n    </tr>\n  </thead>\n  <tbody>\n    <tr>\n      <th>0</th>\n      <td>0.0</td>\n      <td>0.0</td>\n      <td>1.0</td>\n      <td>Adelie</td>\n      <td>39.1</td>\n      <td>18.7</td>\n      <td>181.0</td>\n      <td>3750.0</td>\n      <td>8.859733</td>\n      <td>-25.804194</td>\n    </tr>\n    <tr>\n      <th>1</th>\n      <td>0.0</td>\n      <td>0.0</td>\n      <td>1.0</td>\n      <td>Adelie</td>\n      <td>39.5</td>\n      <td>17.4</td>\n      <td>186.0</td>\n      <td>3800.0</td>\n      <td>8.949560</td>\n      <td>-24.694540</td>\n    </tr>\n    <tr>\n      <th>2</th>\n      <td>0.0</td>\n      <td>0.0</td>\n      <td>1.0</td>\n      <td>Adelie</td>\n      <td>40.3</td>\n      <td>18.0</td>\n      <td>195.0</td>\n      <td>3250.0</td>\n      <td>8.368210</td>\n      <td>-25.333020</td>\n    </tr>\n    <tr>\n      <th>3</th>\n      <td>0.0</td>\n      <td>0.0</td>\n      <td>1.0</td>\n      <td>Adelie</td>\n      <td>36.7</td>\n      <td>19.3</td>\n      <td>193.0</td>\n      <td>3450.0</td>\n      <td>8.766510</td>\n      <td>-25.324260</td>\n    </tr>\n    <tr>\n      <th>4</th>\n      <td>0.0</td>\n      <td>0.0</td>\n      <td>1.0</td>\n      <td>Adelie</td>\n      <td>39.3</td>\n      <td>20.6</td>\n      <td>190.0</td>\n      <td>3650.0</td>\n      <td>8.664960</td>\n      <td>-25.298050</td>\n    </tr>\n  </tbody>\n</table>\n</div>"
     },
     "metadata": {}
    }
   ],
   "execution_count": null
  },
  {
   "cell_type": "code",
   "metadata": {
    "colab": {
     "base_uri": "https://localhost:8080/"
    },
    "id": "w02riPk7btxo",
    "outputId": "7092432c-1669-4256-a43f-215467a61cfd",
    "cell_id": "00004-672b6f71-0cdf-4fa7-967e-198d64a07682",
    "deepnote_to_be_reexecuted": false,
    "source_hash": "68544173",
    "execution_start": 1622210670788,
    "execution_millis": 68,
    "deepnote_cell_type": "code"
   },
   "source": "# Gaussian NB\n\nx = data.drop('species', axis=1)\ny = data['species']\n\nx_train, x_test, y_train, y_test = train_test_split(x, y, test_size = 0.33)\n\nmodel_Gaussian = GaussianNB()\n# training\nmodel_Gaussian.fit(x_train, y_train)\n# prediction\nprediction = model_Gaussian.predict(x_test)\n# model accuracy\nprecision = accuracy_score(y_test, prediction)*100\nprint(precision)",
   "outputs": [
    {
     "name": "stdout",
     "text": "96.46017699115043\n",
     "output_type": "stream"
    }
   ],
   "execution_count": null
  },
  {
   "cell_type": "code",
   "metadata": {
    "colab": {
     "base_uri": "https://localhost:8080/"
    },
    "id": "EASyODCdcFZW",
    "outputId": "b8f1f846-1b0a-4251-e3ab-e4c96b3f067d",
    "cell_id": "00005-52b9b095-c304-4e2e-9d4d-05e22d9f8a10",
    "deepnote_to_be_reexecuted": false,
    "source_hash": "569e3710",
    "execution_start": 1622210670792,
    "execution_millis": 74,
    "deepnote_cell_type": "code"
   },
   "source": "# Bernoulli NB\n\nx = data.drop('species', axis=1)\ny = data['species']\n\nx_train, x_test, y_train, y_test = train_test_split(x, y, test_size = 0.33)\nmodel_Bernoulli = BernoulliNB()\n# training\nmodel_Bernoulli.fit(x_train, y_train)\n# prediction\nprediction = model_Bernoulli.predict(x_test)\n# model accuracy\nprecision = accuracy_score(y_test, prediction)*100\nprint(precision)",
   "outputs": [
    {
     "name": "stdout",
     "text": "75.22123893805309\n",
     "output_type": "stream"
    }
   ],
   "execution_count": null
  },
  {
   "cell_type": "code",
   "metadata": {
    "id": "a1geqCqC-re2",
    "cell_id": "00006-38e20f2a-0724-4805-ba71-8adb1836af13",
    "deepnote_to_be_reexecuted": false,
    "source_hash": "89c5e441",
    "execution_start": 1622210670821,
    "execution_millis": 207,
    "deepnote_cell_type": "code"
   },
   "source": "from sklearn.tree import DecisionTreeClassifier\nfrom sklearn.ensemble import RandomForestClassifier",
   "outputs": [],
   "execution_count": null
  },
  {
   "cell_type": "code",
   "metadata": {
    "colab": {
     "base_uri": "https://localhost:8080/"
    },
    "id": "p9rWLcoJ-9_j",
    "outputId": "36843177-580f-4248-a37a-1bf4ace88317",
    "cell_id": "00007-a5e9ae86-0275-4e64-80c3-e62193692311",
    "deepnote_to_be_reexecuted": false,
    "source_hash": "efc00e84",
    "execution_start": 1622210671043,
    "execution_millis": 15,
    "deepnote_cell_type": "code"
   },
   "source": "clf = DecisionTreeClassifier()\n\nx = data.drop('species', axis=1)\ny = data['species']\n\nx_train, x_test, y_train, y_test = train_test_split(x, y, test_size = 0.33)\n# Train Decision Tree Classifer\nclf = clf.fit(x_train,y_train)\n\n#Predict the response for test dataset\ny_pred = clf.predict(x_test)\n\nprint(\"Accuracy:\", accuracy_score(y_test, y_pred))\n# Same accuracy as Gaussian Naive Bayes",
   "outputs": [
    {
     "name": "stdout",
     "text": "Accuracy: 0.9646017699115044\n",
     "output_type": "stream"
    }
   ],
   "execution_count": null
  },
  {
   "cell_type": "code",
   "metadata": {
    "colab": {
     "base_uri": "https://localhost:8080/"
    },
    "id": "pvuAypm6Dk0S",
    "outputId": "f68a051e-2e21-4ff0-9c04-48317965441d",
    "cell_id": "00008-73a68f58-a10b-41b0-8003-fb605a0b1d05",
    "deepnote_to_be_reexecuted": false,
    "source_hash": "97c9ba9c",
    "execution_start": 1622210671081,
    "execution_millis": 302,
    "deepnote_cell_type": "code"
   },
   "source": "clf = RandomForestClassifier(max_depth=2, random_state=0)\n\nx = data.drop('species', axis=1)\ny = data['species']\n\nx_train, x_test, y_train, y_test = train_test_split(x, y, test_size = 0.33)\n# Train Decision Tree Classifer\nclf = clf.fit(x_train,y_train)\n\n#Predict the response for test dataset\ny_pred = clf.predict(x_test)\n\nprint(\"Accuracy:\", accuracy_score(y_test, y_pred))",
   "outputs": [
    {
     "name": "stdout",
     "text": "Accuracy: 0.9911504424778761\n",
     "output_type": "stream"
    }
   ],
   "execution_count": null
  },
  {
   "cell_type": "markdown",
   "source": "<a style='text-decoration:none;line-height:16px;display:flex;color:#5B5B62;padding:10px;justify-content:end;' href='https://deepnote.com?utm_source=created-in-deepnote-cell&projectId=1dd35576-464a-4d46-a0e6-752fc35b7463' target=\"_blank\">\n<img alt='Created in deepnote.com' style='display:inline;max-height:16px;margin:0px;margin-right:7.5px;' src='data:image/svg+xml;base64,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' > </img>\nCreated in <span style='font-weight:600;margin-left:4px;'>Deepnote</span></a>",
   "metadata": {
    "tags": [],
    "created_in_deepnote_cell": true,
    "deepnote_cell_type": "markdown"
   }
  }
 ],
 "nbformat": 4,
 "nbformat_minor": 0,
 "metadata": {
  "colab": {
   "name": "Bayes + Decision Trees.ipynb",
   "provenance": [],
   "collapsed_sections": []
  },
  "kernelspec": {
   "name": "python3",
   "display_name": "Python 3"
  },
  "language_info": {
   "name": "python"
  },
  "deepnote_notebook_id": "ea7277cd-0162-4197-a80c-3829d01a1d49",
  "deepnote": {},
  "deepnote_execution_queue": []
 }
}