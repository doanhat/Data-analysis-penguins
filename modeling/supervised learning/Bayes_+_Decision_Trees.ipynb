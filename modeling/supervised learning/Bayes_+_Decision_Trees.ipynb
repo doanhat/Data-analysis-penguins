{
 "cells": [
  {
   "cell_type": "code",
   "execution_count": null,
   "metadata": {
    "cell_id": "00000-f19d0691-fe6f-430c-acfa-24d5c38cd42d",
    "deepnote_cell_type": "code",
    "deepnote_to_be_reexecuted": false,
    "execution_millis": 2583,
    "execution_start": 1622810809077,
    "id": "EfH_dlc8Wwst",
    "source_hash": "6d4c68f8"
   },
   "outputs": [],
   "source": [
    "import numpy as np\n",
    "# ^^^ pyforest auto-imports - don't write above this line\n",
    "import pandas as pd\n",
    "import numpy as np\n",
    "\n",
    "from sklearn.model_selection import train_test_split\n",
    "from sklearn.naive_bayes import GaussianNB, BernoulliNB, MultinomialNB, ComplementNB\n",
    "from sklearn.metrics import accuracy_score, confusion_matrix, classification_report"
   ]
  },
  {
   "cell_type": "code",
   "execution_count": null,
   "metadata": {
    "cell_id": "00001-136ec17b-8e0f-4902-9393-a3878bc0041b",
    "deepnote_cell_type": "code",
    "deepnote_to_be_reexecuted": false,
    "execution_millis": 47,
    "execution_start": 1622810811663,
    "id": "fmn-V1fgXYqZ",
    "source_hash": "43d4df6c"
   },
   "outputs": [],
   "source": [
    "data = pd.read_csv(\"/work/sy09/data/penguins_for_machine_learning.csv\")"
   ]
  },
  {
   "cell_type": "code",
   "execution_count": null,
   "metadata": {
    "cell_id": "00002-0bba436c-3e3c-447b-ad09-37d19e1d7030",
    "colab": {
     "base_uri": "https://localhost:8080/",
     "height": 195
    },
    "deepnote_cell_type": "code",
    "deepnote_to_be_reexecuted": false,
    "execution_millis": 194,
    "execution_start": 1622810811715,
    "id": "0AQPTnopXpjo",
    "outputId": "3e9fad88-9814-4dc1-fc11-5753d0ac82a4",
    "source_hash": "41313cfa"
   },
   "outputs": [
    {
     "data": {
      "application/vnd.deepnote.dataframe.v2+json": {
       "column_count": 10,
       "columns": [
        {
         "dtype": "float64",
         "name": "Biscoe",
         "stats": {
          "histogram": [
           {
            "bin_end": -0.4,
            "bin_start": -0.5,
            "count": 0
           },
           {
            "bin_end": -0.3,
            "bin_start": -0.4,
            "count": 0
           },
           {
            "bin_end": -0.19999999999999996,
            "bin_start": -0.3,
            "count": 0
           },
           {
            "bin_end": -0.09999999999999998,
            "bin_start": -0.19999999999999996,
            "count": 0
           },
           {
            "bin_end": 0,
            "bin_start": -0.09999999999999998,
            "count": 0
           },
           {
            "bin_end": 0.10000000000000009,
            "bin_start": 0,
            "count": 5
           },
           {
            "bin_end": 0.20000000000000007,
            "bin_start": 0.10000000000000009,
            "count": 0
           },
           {
            "bin_end": 0.30000000000000004,
            "bin_start": 0.20000000000000007,
            "count": 0
           },
           {
            "bin_end": 0.4,
            "bin_start": 0.30000000000000004,
            "count": 0
           },
           {
            "bin_end": 0.5,
            "bin_start": 0.4,
            "count": 0
           }
          ],
          "max": "0.0",
          "min": "0.0",
          "nan_count": 0,
          "unique_count": 1
         }
        },
        {
         "dtype": "float64",
         "name": "Dream",
         "stats": {
          "histogram": [
           {
            "bin_end": -0.4,
            "bin_start": -0.5,
            "count": 0
           },
           {
            "bin_end": -0.3,
            "bin_start": -0.4,
            "count": 0
           },
           {
            "bin_end": -0.19999999999999996,
            "bin_start": -0.3,
            "count": 0
           },
           {
            "bin_end": -0.09999999999999998,
            "bin_start": -0.19999999999999996,
            "count": 0
           },
           {
            "bin_end": 0,
            "bin_start": -0.09999999999999998,
            "count": 0
           },
           {
            "bin_end": 0.10000000000000009,
            "bin_start": 0,
            "count": 5
           },
           {
            "bin_end": 0.20000000000000007,
            "bin_start": 0.10000000000000009,
            "count": 0
           },
           {
            "bin_end": 0.30000000000000004,
            "bin_start": 0.20000000000000007,
            "count": 0
           },
           {
            "bin_end": 0.4,
            "bin_start": 0.30000000000000004,
            "count": 0
           },
           {
            "bin_end": 0.5,
            "bin_start": 0.4,
            "count": 0
           }
          ],
          "max": "0.0",
          "min": "0.0",
          "nan_count": 0,
          "unique_count": 1
         }
        },
        {
         "dtype": "float64",
         "name": "Torgersen",
         "stats": {
          "histogram": [
           {
            "bin_end": 0.6,
            "bin_start": 0.5,
            "count": 0
           },
           {
            "bin_end": 0.7,
            "bin_start": 0.6,
            "count": 0
           },
           {
            "bin_end": 0.8,
            "bin_start": 0.7,
            "count": 0
           },
           {
            "bin_end": 0.9,
            "bin_start": 0.8,
            "count": 0
           },
           {
            "bin_end": 1,
            "bin_start": 0.9,
            "count": 0
           },
           {
            "bin_end": 1.1,
            "bin_start": 1,
            "count": 5
           },
           {
            "bin_end": 1.2000000000000002,
            "bin_start": 1.1,
            "count": 0
           },
           {
            "bin_end": 1.3,
            "bin_start": 1.2000000000000002,
            "count": 0
           },
           {
            "bin_end": 1.4,
            "bin_start": 1.3,
            "count": 0
           },
           {
            "bin_end": 1.5,
            "bin_start": 1.4,
            "count": 0
           }
          ],
          "max": "1.0",
          "min": "1.0",
          "nan_count": 0,
          "unique_count": 1
         }
        },
        {
         "dtype": "object",
         "name": "species",
         "stats": {
          "categories": [
           {
            "count": 5,
            "name": "Adelie"
           }
          ],
          "nan_count": 0,
          "unique_count": 1
         }
        },
        {
         "dtype": "float64",
         "name": "bill_length",
         "stats": {
          "histogram": [
           {
            "bin_end": 37.06,
            "bin_start": 36.7,
            "count": 1
           },
           {
            "bin_end": 37.42,
            "bin_start": 37.06,
            "count": 0
           },
           {
            "bin_end": 37.78,
            "bin_start": 37.42,
            "count": 0
           },
           {
            "bin_end": 38.14,
            "bin_start": 37.78,
            "count": 0
           },
           {
            "bin_end": 38.5,
            "bin_start": 38.14,
            "count": 0
           },
           {
            "bin_end": 38.86,
            "bin_start": 38.5,
            "count": 0
           },
           {
            "bin_end": 39.22,
            "bin_start": 38.86,
            "count": 1
           },
           {
            "bin_end": 39.58,
            "bin_start": 39.22,
            "count": 2
           },
           {
            "bin_end": 39.94,
            "bin_start": 39.58,
            "count": 0
           },
           {
            "bin_end": 40.3,
            "bin_start": 39.94,
            "count": 1
           }
          ],
          "max": "40.3",
          "min": "36.7",
          "nan_count": 0,
          "unique_count": 5
         }
        },
        {
         "dtype": "float64",
         "name": "bill_depth",
         "stats": {
          "histogram": [
           {
            "bin_end": 17.72,
            "bin_start": 17.4,
            "count": 1
           },
           {
            "bin_end": 18.04,
            "bin_start": 17.72,
            "count": 1
           },
           {
            "bin_end": 18.36,
            "bin_start": 18.04,
            "count": 0
           },
           {
            "bin_end": 18.68,
            "bin_start": 18.36,
            "count": 0
           },
           {
            "bin_end": 19,
            "bin_start": 18.68,
            "count": 1
           },
           {
            "bin_end": 19.32,
            "bin_start": 19,
            "count": 1
           },
           {
            "bin_end": 19.64,
            "bin_start": 19.32,
            "count": 0
           },
           {
            "bin_end": 19.96,
            "bin_start": 19.64,
            "count": 0
           },
           {
            "bin_end": 20.28,
            "bin_start": 19.96,
            "count": 0
           },
           {
            "bin_end": 20.6,
            "bin_start": 20.28,
            "count": 1
           }
          ],
          "max": "20.6",
          "min": "17.4",
          "nan_count": 0,
          "unique_count": 5
         }
        },
        {
         "dtype": "float64",
         "name": "flipper_length",
         "stats": {
          "histogram": [
           {
            "bin_end": 182.4,
            "bin_start": 181,
            "count": 1
           },
           {
            "bin_end": 183.8,
            "bin_start": 182.4,
            "count": 0
           },
           {
            "bin_end": 185.2,
            "bin_start": 183.8,
            "count": 0
           },
           {
            "bin_end": 186.6,
            "bin_start": 185.2,
            "count": 1
           },
           {
            "bin_end": 188,
            "bin_start": 186.6,
            "count": 0
           },
           {
            "bin_end": 189.4,
            "bin_start": 188,
            "count": 0
           },
           {
            "bin_end": 190.8,
            "bin_start": 189.4,
            "count": 1
           },
           {
            "bin_end": 192.2,
            "bin_start": 190.8,
            "count": 0
           },
           {
            "bin_end": 193.6,
            "bin_start": 192.2,
            "count": 1
           },
           {
            "bin_end": 195,
            "bin_start": 193.6,
            "count": 1
           }
          ],
          "max": "195.0",
          "min": "181.0",
          "nan_count": 0,
          "unique_count": 5
         }
        },
        {
         "dtype": "float64",
         "name": "body_mass",
         "stats": {
          "histogram": [
           {
            "bin_end": 3305,
            "bin_start": 3250,
            "count": 1
           },
           {
            "bin_end": 3360,
            "bin_start": 3305,
            "count": 0
           },
           {
            "bin_end": 3415,
            "bin_start": 3360,
            "count": 0
           },
           {
            "bin_end": 3470,
            "bin_start": 3415,
            "count": 1
           },
           {
            "bin_end": 3525,
            "bin_start": 3470,
            "count": 0
           },
           {
            "bin_end": 3580,
            "bin_start": 3525,
            "count": 0
           },
           {
            "bin_end": 3635,
            "bin_start": 3580,
            "count": 0
           },
           {
            "bin_end": 3690,
            "bin_start": 3635,
            "count": 1
           },
           {
            "bin_end": 3745,
            "bin_start": 3690,
            "count": 0
           },
           {
            "bin_end": 3800,
            "bin_start": 3745,
            "count": 2
           }
          ],
          "max": "3800.0",
          "min": "3250.0",
          "nan_count": 0,
          "unique_count": 5
         }
        },
        {
         "dtype": "float64",
         "name": "del15",
         "stats": {
          "histogram": [
           {
            "bin_end": 8.426345000000001,
            "bin_start": 8.368210000000001,
            "count": 1
           },
           {
            "bin_end": 8.484480000000001,
            "bin_start": 8.426345000000001,
            "count": 0
           },
           {
            "bin_end": 8.542615000000001,
            "bin_start": 8.484480000000001,
            "count": 0
           },
           {
            "bin_end": 8.600750000000001,
            "bin_start": 8.542615000000001,
            "count": 0
           },
           {
            "bin_end": 8.658885000000001,
            "bin_start": 8.600750000000001,
            "count": 0
           },
           {
            "bin_end": 8.71702,
            "bin_start": 8.658885000000001,
            "count": 1
           },
           {
            "bin_end": 8.775155,
            "bin_start": 8.71702,
            "count": 1
           },
           {
            "bin_end": 8.83329,
            "bin_start": 8.775155,
            "count": 0
           },
           {
            "bin_end": 8.891425,
            "bin_start": 8.83329,
            "count": 1
           },
           {
            "bin_end": 8.94956,
            "bin_start": 8.891425,
            "count": 1
           }
          ],
          "max": "8.94956",
          "min": "8.368210000000001",
          "nan_count": 0,
          "unique_count": 5
         }
        },
        {
         "dtype": "float64",
         "name": "del13",
         "stats": {
          "histogram": [
           {
            "bin_end": -25.693228382978727,
            "bin_start": -25.804193758865253,
            "count": 1
           },
           {
            "bin_end": -25.5822630070922,
            "bin_start": -25.693228382978727,
            "count": 0
           },
           {
            "bin_end": -25.471297631205676,
            "bin_start": -25.5822630070922,
            "count": 0
           },
           {
            "bin_end": -25.36033225531915,
            "bin_start": -25.471297631205676,
            "count": 0
           },
           {
            "bin_end": -25.24936687943263,
            "bin_start": -25.36033225531915,
            "count": 3
           },
           {
            "bin_end": -25.138401503546103,
            "bin_start": -25.24936687943263,
            "count": 0
           },
           {
            "bin_end": -25.027436127659577,
            "bin_start": -25.138401503546103,
            "count": 0
           },
           {
            "bin_end": -24.91647075177305,
            "bin_start": -25.027436127659577,
            "count": 0
           },
           {
            "bin_end": -24.805505375886526,
            "bin_start": -24.91647075177305,
            "count": 0
           },
           {
            "bin_end": -24.69454,
            "bin_start": -24.805505375886526,
            "count": 1
           }
          ],
          "max": "-24.69454",
          "min": "-25.804193758865253",
          "nan_count": 0,
          "unique_count": 5
         }
        },
        {
         "dtype": "int64",
         "name": "_deepnote_index_column"
        }
       ],
       "row_count": 5,
       "rows_bottom": null,
       "rows_top": [
        {
         "Biscoe": 0,
         "Dream": 0,
         "Torgersen": 1,
         "_deepnote_index_column": 0,
         "bill_depth": 18.7,
         "bill_length": 39.1,
         "body_mass": 3750,
         "del13": -25.804193758865253,
         "del15": 8.859732765957444,
         "flipper_length": 181,
         "species": "Adelie"
        },
        {
         "Biscoe": 0,
         "Dream": 0,
         "Torgersen": 1,
         "_deepnote_index_column": 1,
         "bill_depth": 17.4,
         "bill_length": 39.5,
         "body_mass": 3800,
         "del13": -24.69454,
         "del15": 8.94956,
         "flipper_length": 186,
         "species": "Adelie"
        },
        {
         "Biscoe": 0,
         "Dream": 0,
         "Torgersen": 1,
         "_deepnote_index_column": 2,
         "bill_depth": 18,
         "bill_length": 40.3,
         "body_mass": 3250,
         "del13": -25.33302,
         "del15": 8.368210000000001,
         "flipper_length": 195,
         "species": "Adelie"
        },
        {
         "Biscoe": 0,
         "Dream": 0,
         "Torgersen": 1,
         "_deepnote_index_column": 3,
         "bill_depth": 19.3,
         "bill_length": 36.7,
         "body_mass": 3450,
         "del13": -25.32426,
         "del15": 8.76651,
         "flipper_length": 193,
         "species": "Adelie"
        },
        {
         "Biscoe": 0,
         "Dream": 0,
         "Torgersen": 1,
         "_deepnote_index_column": 4,
         "bill_depth": 20.6,
         "bill_length": 39.3,
         "body_mass": 3650,
         "del13": -25.29805,
         "del15": 8.66496,
         "flipper_length": 190,
         "species": "Adelie"
        }
       ]
      },
      "text/html": [
       "<div>\n",
       "<style scoped>\n",
       "    .dataframe tbody tr th:only-of-type {\n",
       "        vertical-align: middle;\n",
       "    }\n",
       "\n",
       "    .dataframe tbody tr th {\n",
       "        vertical-align: top;\n",
       "    }\n",
       "\n",
       "    .dataframe thead th {\n",
       "        text-align: right;\n",
       "    }\n",
       "</style>\n",
       "<table border=\"1\" class=\"dataframe\">\n",
       "  <thead>\n",
       "    <tr style=\"text-align: right;\">\n",
       "      <th></th>\n",
       "      <th>Biscoe</th>\n",
       "      <th>Dream</th>\n",
       "      <th>Torgersen</th>\n",
       "      <th>species</th>\n",
       "      <th>bill_length</th>\n",
       "      <th>bill_depth</th>\n",
       "      <th>flipper_length</th>\n",
       "      <th>body_mass</th>\n",
       "      <th>del15</th>\n",
       "      <th>del13</th>\n",
       "    </tr>\n",
       "  </thead>\n",
       "  <tbody>\n",
       "    <tr>\n",
       "      <th>0</th>\n",
       "      <td>0.0</td>\n",
       "      <td>0.0</td>\n",
       "      <td>1.0</td>\n",
       "      <td>Adelie</td>\n",
       "      <td>39.1</td>\n",
       "      <td>18.7</td>\n",
       "      <td>181.0</td>\n",
       "      <td>3750.0</td>\n",
       "      <td>8.859733</td>\n",
       "      <td>-25.804194</td>\n",
       "    </tr>\n",
       "    <tr>\n",
       "      <th>1</th>\n",
       "      <td>0.0</td>\n",
       "      <td>0.0</td>\n",
       "      <td>1.0</td>\n",
       "      <td>Adelie</td>\n",
       "      <td>39.5</td>\n",
       "      <td>17.4</td>\n",
       "      <td>186.0</td>\n",
       "      <td>3800.0</td>\n",
       "      <td>8.949560</td>\n",
       "      <td>-24.694540</td>\n",
       "    </tr>\n",
       "    <tr>\n",
       "      <th>2</th>\n",
       "      <td>0.0</td>\n",
       "      <td>0.0</td>\n",
       "      <td>1.0</td>\n",
       "      <td>Adelie</td>\n",
       "      <td>40.3</td>\n",
       "      <td>18.0</td>\n",
       "      <td>195.0</td>\n",
       "      <td>3250.0</td>\n",
       "      <td>8.368210</td>\n",
       "      <td>-25.333020</td>\n",
       "    </tr>\n",
       "    <tr>\n",
       "      <th>3</th>\n",
       "      <td>0.0</td>\n",
       "      <td>0.0</td>\n",
       "      <td>1.0</td>\n",
       "      <td>Adelie</td>\n",
       "      <td>36.7</td>\n",
       "      <td>19.3</td>\n",
       "      <td>193.0</td>\n",
       "      <td>3450.0</td>\n",
       "      <td>8.766510</td>\n",
       "      <td>-25.324260</td>\n",
       "    </tr>\n",
       "    <tr>\n",
       "      <th>4</th>\n",
       "      <td>0.0</td>\n",
       "      <td>0.0</td>\n",
       "      <td>1.0</td>\n",
       "      <td>Adelie</td>\n",
       "      <td>39.3</td>\n",
       "      <td>20.6</td>\n",
       "      <td>190.0</td>\n",
       "      <td>3650.0</td>\n",
       "      <td>8.664960</td>\n",
       "      <td>-25.298050</td>\n",
       "    </tr>\n",
       "  </tbody>\n",
       "</table>\n",
       "</div>"
      ],
      "text/plain": [
       "   Biscoe  Dream  Torgersen species  bill_length  bill_depth  flipper_length  \\\n",
       "0     0.0    0.0        1.0  Adelie         39.1        18.7           181.0   \n",
       "1     0.0    0.0        1.0  Adelie         39.5        17.4           186.0   \n",
       "2     0.0    0.0        1.0  Adelie         40.3        18.0           195.0   \n",
       "3     0.0    0.0        1.0  Adelie         36.7        19.3           193.0   \n",
       "4     0.0    0.0        1.0  Adelie         39.3        20.6           190.0   \n",
       "\n",
       "   body_mass     del15      del13  \n",
       "0     3750.0  8.859733 -25.804194  \n",
       "1     3800.0  8.949560 -24.694540  \n",
       "2     3250.0  8.368210 -25.333020  \n",
       "3     3450.0  8.766510 -25.324260  \n",
       "4     3650.0  8.664960 -25.298050  "
      ]
     },
     "execution_count": 3,
     "metadata": {},
     "output_type": "execute_result"
    }
   ],
   "source": [
    "data.head()"
   ]
  },
  {
   "cell_type": "code",
   "execution_count": null,
   "metadata": {
    "cell_id": "00004-672b6f71-0cdf-4fa7-967e-198d64a07682",
    "colab": {
     "base_uri": "https://localhost:8080/"
    },
    "deepnote_cell_type": "code",
    "deepnote_to_be_reexecuted": false,
    "execution_millis": 38,
    "execution_start": 1622810811926,
    "id": "w02riPk7btxo",
    "outputId": "7092432c-1669-4256-a43f-215467a61cfd",
    "source_hash": "bbfcf571"
   },
   "outputs": [
    {
     "name": "stdout",
     "output_type": "stream",
     "text": [
      "96.46017699115043\n",
      "[[41  0  0]\n",
      " [ 4 27  0]\n",
      " [ 0  0 41]]\n",
      "              precision    recall  f1-score   support\n",
      "\n",
      "      Adelie      1.000     0.911     0.953        45\n",
      "   Chinstrap      0.871     1.000     0.931        27\n",
      "      Gentoo      1.000     1.000     1.000        41\n",
      "\n",
      "    accuracy                          0.965       113\n",
      "   macro avg      0.957     0.970     0.962       113\n",
      "weighted avg      0.969     0.965     0.965       113\n",
      "\n"
     ]
    }
   ],
   "source": [
    "# Gaussian NB\n",
    "\n",
    "x = data.drop('species', axis=1)\n",
    "y = data['species']\n",
    "\n",
    "x_train, x_test, y_train, y_test = train_test_split(x, y, test_size = 0.33)\n",
    "\n",
    "model_Gaussian = GaussianNB()\n",
    "# training\n",
    "model_Gaussian.fit(x_train, y_train)\n",
    "# prediction\n",
    "prediction = model_Gaussian.predict(x_test)\n",
    "# model accuracy\n",
    "precision = accuracy_score(y_test, prediction)*100\n",
    "print(precision)\n",
    "\n",
    "print(confusion_matrix(prediction, y_test))\n",
    "print(classification_report(y_test, prediction, digits=3))"
   ]
  },
  {
   "cell_type": "code",
   "execution_count": null,
   "metadata": {
    "cell_id": "00005-52b9b095-c304-4e2e-9d4d-05e22d9f8a10",
    "colab": {
     "base_uri": "https://localhost:8080/"
    },
    "deepnote_cell_type": "code",
    "deepnote_to_be_reexecuted": false,
    "execution_millis": 50,
    "execution_start": 1622810811965,
    "id": "EASyODCdcFZW",
    "outputId": "b8f1f846-1b0a-4251-e3ab-e4c96b3f067d",
    "source_hash": "569e3710"
   },
   "outputs": [
    {
     "name": "stdout",
     "output_type": "stream",
     "text": [
      "73.45132743362832\n"
     ]
    }
   ],
   "source": [
    "# Bernoulli NB\n",
    "\n",
    "x = data.drop('species', axis=1)\n",
    "y = data['species']\n",
    "\n",
    "x_train, x_test, y_train, y_test = train_test_split(x, y, test_size = 0.33)\n",
    "model_Bernoulli = BernoulliNB()\n",
    "# training\n",
    "model_Bernoulli.fit(x_train, y_train)\n",
    "# prediction\n",
    "prediction = model_Bernoulli.predict(x_test)\n",
    "# model accuracy\n",
    "precision = accuracy_score(y_test, prediction)*100\n",
    "print(precision)"
   ]
  },
  {
   "cell_type": "code",
   "execution_count": null,
   "metadata": {
    "cell_id": "00006-38e20f2a-0724-4805-ba71-8adb1836af13",
    "deepnote_cell_type": "code",
    "deepnote_to_be_reexecuted": false,
    "execution_millis": 462,
    "execution_start": 1622810812033,
    "id": "a1geqCqC-re2",
    "source_hash": "89c5e441"
   },
   "outputs": [],
   "source": [
    "from sklearn.tree import DecisionTreeClassifier\n",
    "from sklearn.ensemble import RandomForestClassifier"
   ]
  },
  {
   "cell_type": "code",
   "execution_count": null,
   "metadata": {
    "cell_id": "00007-a5e9ae86-0275-4e64-80c3-e62193692311",
    "colab": {
     "base_uri": "https://localhost:8080/"
    },
    "deepnote_cell_type": "code",
    "deepnote_to_be_reexecuted": false,
    "execution_millis": 6643,
    "execution_start": 1622810812504,
    "id": "p9rWLcoJ-9_j",
    "outputId": "36843177-580f-4248-a37a-1bf4ace88317",
    "source_hash": "15c23b2b"
   },
   "outputs": [
    {
     "name": "stdout",
     "output_type": "stream",
     "text": [
      "Accuracy: 0.9557522123893806\n",
      "[[53  2  1]\n",
      " [ 1 26  0]\n",
      " [ 1  0 29]]\n",
      "              precision    recall  f1-score   support\n",
      "\n",
      "      Adelie      0.946     0.964     0.955        55\n",
      "   Chinstrap      0.963     0.929     0.945        28\n",
      "      Gentoo      0.967     0.967     0.967        30\n",
      "\n",
      "    accuracy                          0.956       113\n",
      "   macro avg      0.959     0.953     0.956       113\n",
      "weighted avg      0.956     0.956     0.956       113\n",
      "\n"
     ]
    },
    {
     "data": {
      "image/png": "[encoded data removed]",
      "text/plain": [
       "<Figure size 1200x1200 with 1 Axes>"
      ]
     },
     "metadata": {
      "image/png": {
       "height": 966,
       "width": 990
      },
      "needs_background": "light"
     },
     "output_type": "display_data"
    }
   ],
   "source": [
    "from matplotlib import pyplot as plt\n",
    "from sklearn import tree\n",
    "\n",
    "fn=['Biscoe','Dream','Torgersen','bill_length', 'bill_depth', 'flipper_length', 'body_mass', 'del15', 'del13']\n",
    "cn=['Adelie', 'Chinstrap', 'Gentoo']\n",
    "\n",
    "clf = DecisionTreeClassifier()\n",
    "\n",
    "x = data.drop('species', axis=1)\n",
    "y = data['species']\n",
    "\n",
    "x_train, x_test, y_train, y_test = train_test_split(x, y, test_size = 0.33)\n",
    "# Train Decision Tree Classifer\n",
    "clf = clf.fit(x_train,y_train)\n",
    "\n",
    "#Predict the response for test dataset\n",
    "y_pred = clf.predict(x_test)\n",
    "\n",
    "fig, axes = plt.subplots(nrows = 1,ncols = 1,figsize = (4,4), dpi=300)\n",
    "tree.plot_tree(clf,\n",
    "               feature_names = fn, \n",
    "               class_names=cn,\n",
    "               filled = True);\n",
    "\n",
    "print(\"Accuracy:\", accuracy_score(y_test, y_pred))\n",
    "\n",
    "print(confusion_matrix(y_pred, y_test))\n",
    "print(classification_report(y_test, y_pred, digits=3))"
   ]
  },
  {
   "cell_type": "code",
   "execution_count": null,
   "metadata": {
    "cell_id": "00008-73a68f58-a10b-41b0-8003-fb605a0b1d05",
    "colab": {
     "base_uri": "https://localhost:8080/"
    },
    "deepnote_cell_type": "code",
    "deepnote_to_be_reexecuted": false,
    "execution_millis": 358,
    "execution_start": 1622810819160,
    "id": "pvuAypm6Dk0S",
    "outputId": "f68a051e-2e21-4ff0-9c04-48317965441d",
    "source_hash": "85574d18"
   },
   "outputs": [
    {
     "name": "stdout",
     "output_type": "stream",
     "text": [
      "Accuracy: 0.9734513274336283\n",
      "[[41  1  0]\n",
      " [ 1 21  0]\n",
      " [ 1  0 48]]\n",
      "              precision    recall  f1-score   support\n",
      "\n",
      "      Adelie      0.976     0.953     0.965        43\n",
      "   Chinstrap      0.955     0.955     0.955        22\n",
      "      Gentoo      0.980     1.000     0.990        48\n",
      "\n",
      "    accuracy                          0.973       113\n",
      "   macro avg      0.970     0.969     0.970       113\n",
      "weighted avg      0.973     0.973     0.973       113\n",
      "\n"
     ]
    }
   ],
   "source": [
    "clf = RandomForestClassifier(max_depth=2, random_state=0)\n",
    "\n",
    "x = data.drop('species', axis=1)\n",
    "y = data['species']\n",
    "\n",
    "x_train, x_test, y_train, y_test = train_test_split(x, y, test_size = 0.33)\n",
    "# Train Decision Tree Classifer\n",
    "clf = clf.fit(x_train,y_train)\n",
    "\n",
    "#Predict the response for test dataset\n",
    "y_pred = clf.predict(x_test)\n",
    "\n",
    "print(\"Accuracy:\", accuracy_score(y_test, y_pred))\n",
    "\n",
    "print(confusion_matrix(y_pred, y_test))\n",
    "print(classification_report(y_test, y_pred, digits=3))"
   ]
  },
  {
   "cell_type": "code",
   "execution_count": null,
   "metadata": {
    "cell_id": "00009-3305578e-3eda-4cd4-854f-7d2fdc060477",
    "deepnote_cell_type": "code",
    "deepnote_to_be_reexecuted": false,
    "execution_millis": 3420,
    "execution_start": 1622810819514,
    "source_hash": "78e6121a",
    "tags": []
   },
   "outputs": [
    {
     "data": {
      "application/vnd.deepnote.dataframe.v2+json": {
       "column_count": 2,
       "columns": [
        {
         "dtype": "float64",
         "name": "accuracy",
         "stats": {
          "histogram": [
           {
            "bin_end": 0.8714285714285714,
            "bin_start": 0.8571428571428571,
            "count": 5
           },
           {
            "bin_end": 0.8857142857142857,
            "bin_start": 0.8714285714285714,
            "count": 0
           },
           {
            "bin_end": 0.8999999999999999,
            "bin_start": 0.8857142857142857,
            "count": 0
           },
           {
            "bin_end": 0.9142857142857143,
            "bin_start": 0.8999999999999999,
            "count": 0
           },
           {
            "bin_end": 0.9285714285714286,
            "bin_start": 0.9142857142857143,
            "count": 0
           },
           {
            "bin_end": 0.9428571428571428,
            "bin_start": 0.9285714285714286,
            "count": 0
           },
           {
            "bin_end": 0.9571428571428571,
            "bin_start": 0.9428571428571428,
            "count": 0
           },
           {
            "bin_end": 0.9714285714285714,
            "bin_start": 0.9571428571428571,
            "count": 0
           },
           {
            "bin_end": 0.9857142857142858,
            "bin_start": 0.9714285714285714,
            "count": 0
           },
           {
            "bin_end": 1,
            "bin_start": 0.9857142857142858,
            "count": 45
           }
          ],
          "max": "1.0",
          "min": "0.8571428571428571",
          "nan_count": 0,
          "unique_count": 2
         }
        },
        {
         "dtype": "object",
         "name": "model",
         "stats": {
          "categories": [
           {
            "count": 50,
            "name": "logistic"
           }
          ],
          "nan_count": 0,
          "unique_count": 1
         }
        },
        {
         "dtype": "int64",
         "name": "_deepnote_index_column"
        }
       ],
       "row_count": 50,
       "rows_bottom": null,
       "rows_top": [
        {
         "_deepnote_index_column": 0,
         "accuracy": 1,
         "model": "logistic"
        },
        {
         "_deepnote_index_column": 1,
         "accuracy": 0.8571428571428571,
         "model": "logistic"
        },
        {
         "_deepnote_index_column": 2,
         "accuracy": 1,
         "model": "logistic"
        },
        {
         "_deepnote_index_column": 3,
         "accuracy": 1,
         "model": "logistic"
        },
        {
         "_deepnote_index_column": 4,
         "accuracy": 1,
         "model": "logistic"
        },
        {
         "_deepnote_index_column": 5,
         "accuracy": 1,
         "model": "logistic"
        },
        {
         "_deepnote_index_column": 6,
         "accuracy": 1,
         "model": "logistic"
        },
        {
         "_deepnote_index_column": 7,
         "accuracy": 1,
         "model": "logistic"
        },
        {
         "_deepnote_index_column": 8,
         "accuracy": 1,
         "model": "logistic"
        },
        {
         "_deepnote_index_column": 9,
         "accuracy": 1,
         "model": "logistic"
        },
        {
         "_deepnote_index_column": 10,
         "accuracy": 0.8571428571428571,
         "model": "logistic"
        },
        {
         "_deepnote_index_column": 11,
         "accuracy": 1,
         "model": "logistic"
        },
        {
         "_deepnote_index_column": 12,
         "accuracy": 1,
         "model": "logistic"
        },
        {
         "_deepnote_index_column": 13,
         "accuracy": 1,
         "model": "logistic"
        },
        {
         "_deepnote_index_column": 14,
         "accuracy": 1,
         "model": "logistic"
        },
        {
         "_deepnote_index_column": 15,
         "accuracy": 1,
         "model": "logistic"
        },
        {
         "_deepnote_index_column": 16,
         "accuracy": 1,
         "model": "logistic"
        },
        {
         "_deepnote_index_column": 17,
         "accuracy": 1,
         "model": "logistic"
        },
        {
         "_deepnote_index_column": 18,
         "accuracy": 1,
         "model": "logistic"
        },
        {
         "_deepnote_index_column": 19,
         "accuracy": 0.8571428571428571,
         "model": "logistic"
        },
        {
         "_deepnote_index_column": 20,
         "accuracy": 1,
         "model": "logistic"
        },
        {
         "_deepnote_index_column": 21,
         "accuracy": 1,
         "model": "logistic"
        },
        {
         "_deepnote_index_column": 22,
         "accuracy": 1,
         "model": "logistic"
        },
        {
         "_deepnote_index_column": 23,
         "accuracy": 1,
         "model": "logistic"
        },
        {
         "_deepnote_index_column": 24,
         "accuracy": 1,
         "model": "logistic"
        },
        {
         "_deepnote_index_column": 25,
         "accuracy": 1,
         "model": "logistic"
        },
        {
         "_deepnote_index_column": 26,
         "accuracy": 1,
         "model": "logistic"
        },
        {
         "_deepnote_index_column": 27,
         "accuracy": 1,
         "model": "logistic"
        },
        {
         "_deepnote_index_column": 28,
         "accuracy": 1,
         "model": "logistic"
        },
        {
         "_deepnote_index_column": 29,
         "accuracy": 1,
         "model": "logistic"
        },
        {
         "_deepnote_index_column": 30,
         "accuracy": 1,
         "model": "logistic"
        },
        {
         "_deepnote_index_column": 31,
         "accuracy": 1,
         "model": "logistic"
        },
        {
         "_deepnote_index_column": 32,
         "accuracy": 1,
         "model": "logistic"
        },
        {
         "_deepnote_index_column": 33,
         "accuracy": 1,
         "model": "logistic"
        },
        {
         "_deepnote_index_column": 34,
         "accuracy": 1,
         "model": "logistic"
        },
        {
         "_deepnote_index_column": 35,
         "accuracy": 1,
         "model": "logistic"
        },
        {
         "_deepnote_index_column": 36,
         "accuracy": 0.8571428571428571,
         "model": "logistic"
        },
        {
         "_deepnote_index_column": 37,
         "accuracy": 0.8571428571428571,
         "model": "logistic"
        },
        {
         "_deepnote_index_column": 38,
         "accuracy": 1,
         "model": "logistic"
        },
        {
         "_deepnote_index_column": 39,
         "accuracy": 1,
         "model": "logistic"
        },
        {
         "_deepnote_index_column": 40,
         "accuracy": 1,
         "model": "logistic"
        },
        {
         "_deepnote_index_column": 41,
         "accuracy": 1,
         "model": "logistic"
        },
        {
         "_deepnote_index_column": 42,
         "accuracy": 1,
         "model": "logistic"
        },
        {
         "_deepnote_index_column": 43,
         "accuracy": 1,
         "model": "logistic"
        },
        {
         "_deepnote_index_column": 44,
         "accuracy": 1,
         "model": "logistic"
        },
        {
         "_deepnote_index_column": 45,
         "accuracy": 1,
         "model": "logistic"
        },
        {
         "_deepnote_index_column": 46,
         "accuracy": 1,
         "model": "logistic"
        },
        {
         "_deepnote_index_column": 47,
         "accuracy": 1,
         "model": "logistic"
        },
        {
         "_deepnote_index_column": 48,
         "accuracy": 1,
         "model": "logistic"
        },
        {
         "_deepnote_index_column": 49,
         "accuracy": 1,
         "model": "logistic"
        }
       ]
      },
      "text/html": [
       "<div>\n",
       "<style scoped>\n",
       "    .dataframe tbody tr th:only-of-type {\n",
       "        vertical-align: middle;\n",
       "    }\n",
       "\n",
       "    .dataframe tbody tr th {\n",
       "        vertical-align: top;\n",
       "    }\n",
       "\n",
       "    .dataframe thead th {\n",
       "        text-align: right;\n",
       "    }\n",
       "</style>\n",
       "<table border=\"1\" class=\"dataframe\">\n",
       "  <thead>\n",
       "    <tr style=\"text-align: right;\">\n",
       "      <th></th>\n",
       "      <th>accuracy</th>\n",
       "      <th>model</th>\n",
       "    </tr>\n",
       "  </thead>\n",
       "  <tbody>\n",
       "    <tr>\n",
       "      <th>0</th>\n",
       "      <td>1.000000</td>\n",
       "      <td>logistic</td>\n",
       "    </tr>\n",
       "    <tr>\n",
       "      <th>1</th>\n",
       "      <td>0.857143</td>\n",
       "      <td>logistic</td>\n",
       "    </tr>\n",
       "    <tr>\n",
       "      <th>2</th>\n",
       "      <td>1.000000</td>\n",
       "      <td>logistic</td>\n",
       "    </tr>\n",
       "    <tr>\n",
       "      <th>3</th>\n",
       "      <td>1.000000</td>\n",
       "      <td>logistic</td>\n",
       "    </tr>\n",
       "    <tr>\n",
       "      <th>4</th>\n",
       "      <td>1.000000</td>\n",
       "      <td>logistic</td>\n",
       "    </tr>\n",
       "    <tr>\n",
       "      <th>5</th>\n",
       "      <td>1.000000</td>\n",
       "      <td>logistic</td>\n",
       "    </tr>\n",
       "    <tr>\n",
       "      <th>6</th>\n",
       "      <td>1.000000</td>\n",
       "      <td>logistic</td>\n",
       "    </tr>\n",
       "    <tr>\n",
       "      <th>7</th>\n",
       "      <td>1.000000</td>\n",
       "      <td>logistic</td>\n",
       "    </tr>\n",
       "    <tr>\n",
       "      <th>8</th>\n",
       "      <td>1.000000</td>\n",
       "      <td>logistic</td>\n",
       "    </tr>\n",
       "    <tr>\n",
       "      <th>9</th>\n",
       "      <td>1.000000</td>\n",
       "      <td>logistic</td>\n",
       "    </tr>\n",
       "    <tr>\n",
       "      <th>10</th>\n",
       "      <td>0.857143</td>\n",
       "      <td>logistic</td>\n",
       "    </tr>\n",
       "    <tr>\n",
       "      <th>11</th>\n",
       "      <td>1.000000</td>\n",
       "      <td>logistic</td>\n",
       "    </tr>\n",
       "    <tr>\n",
       "      <th>12</th>\n",
       "      <td>1.000000</td>\n",
       "      <td>logistic</td>\n",
       "    </tr>\n",
       "    <tr>\n",
       "      <th>13</th>\n",
       "      <td>1.000000</td>\n",
       "      <td>logistic</td>\n",
       "    </tr>\n",
       "    <tr>\n",
       "      <th>14</th>\n",
       "      <td>1.000000</td>\n",
       "      <td>logistic</td>\n",
       "    </tr>\n",
       "    <tr>\n",
       "      <th>15</th>\n",
       "      <td>1.000000</td>\n",
       "      <td>logistic</td>\n",
       "    </tr>\n",
       "    <tr>\n",
       "      <th>16</th>\n",
       "      <td>1.000000</td>\n",
       "      <td>logistic</td>\n",
       "    </tr>\n",
       "    <tr>\n",
       "      <th>17</th>\n",
       "      <td>1.000000</td>\n",
       "      <td>logistic</td>\n",
       "    </tr>\n",
       "    <tr>\n",
       "      <th>18</th>\n",
       "      <td>1.000000</td>\n",
       "      <td>logistic</td>\n",
       "    </tr>\n",
       "    <tr>\n",
       "      <th>19</th>\n",
       "      <td>0.857143</td>\n",
       "      <td>logistic</td>\n",
       "    </tr>\n",
       "    <tr>\n",
       "      <th>20</th>\n",
       "      <td>1.000000</td>\n",
       "      <td>logistic</td>\n",
       "    </tr>\n",
       "    <tr>\n",
       "      <th>21</th>\n",
       "      <td>1.000000</td>\n",
       "      <td>logistic</td>\n",
       "    </tr>\n",
       "    <tr>\n",
       "      <th>22</th>\n",
       "      <td>1.000000</td>\n",
       "      <td>logistic</td>\n",
       "    </tr>\n",
       "    <tr>\n",
       "      <th>23</th>\n",
       "      <td>1.000000</td>\n",
       "      <td>logistic</td>\n",
       "    </tr>\n",
       "    <tr>\n",
       "      <th>24</th>\n",
       "      <td>1.000000</td>\n",
       "      <td>logistic</td>\n",
       "    </tr>\n",
       "    <tr>\n",
       "      <th>25</th>\n",
       "      <td>1.000000</td>\n",
       "      <td>logistic</td>\n",
       "    </tr>\n",
       "    <tr>\n",
       "      <th>26</th>\n",
       "      <td>1.000000</td>\n",
       "      <td>logistic</td>\n",
       "    </tr>\n",
       "    <tr>\n",
       "      <th>27</th>\n",
       "      <td>1.000000</td>\n",
       "      <td>logistic</td>\n",
       "    </tr>\n",
       "    <tr>\n",
       "      <th>28</th>\n",
       "      <td>1.000000</td>\n",
       "      <td>logistic</td>\n",
       "    </tr>\n",
       "    <tr>\n",
       "      <th>29</th>\n",
       "      <td>1.000000</td>\n",
       "      <td>logistic</td>\n",
       "    </tr>\n",
       "    <tr>\n",
       "      <th>30</th>\n",
       "      <td>1.000000</td>\n",
       "      <td>logistic</td>\n",
       "    </tr>\n",
       "    <tr>\n",
       "      <th>31</th>\n",
       "      <td>1.000000</td>\n",
       "      <td>logistic</td>\n",
       "    </tr>\n",
       "    <tr>\n",
       "      <th>32</th>\n",
       "      <td>1.000000</td>\n",
       "      <td>logistic</td>\n",
       "    </tr>\n",
       "    <tr>\n",
       "      <th>33</th>\n",
       "      <td>1.000000</td>\n",
       "      <td>logistic</td>\n",
       "    </tr>\n",
       "    <tr>\n",
       "      <th>34</th>\n",
       "      <td>1.000000</td>\n",
       "      <td>logistic</td>\n",
       "    </tr>\n",
       "    <tr>\n",
       "      <th>35</th>\n",
       "      <td>1.000000</td>\n",
       "      <td>logistic</td>\n",
       "    </tr>\n",
       "    <tr>\n",
       "      <th>36</th>\n",
       "      <td>0.857143</td>\n",
       "      <td>logistic</td>\n",
       "    </tr>\n",
       "    <tr>\n",
       "      <th>37</th>\n",
       "      <td>0.857143</td>\n",
       "      <td>logistic</td>\n",
       "    </tr>\n",
       "    <tr>\n",
       "      <th>38</th>\n",
       "      <td>1.000000</td>\n",
       "      <td>logistic</td>\n",
       "    </tr>\n",
       "    <tr>\n",
       "      <th>39</th>\n",
       "      <td>1.000000</td>\n",
       "      <td>logistic</td>\n",
       "    </tr>\n",
       "    <tr>\n",
       "      <th>40</th>\n",
       "      <td>1.000000</td>\n",
       "      <td>logistic</td>\n",
       "    </tr>\n",
       "    <tr>\n",
       "      <th>41</th>\n",
       "      <td>1.000000</td>\n",
       "      <td>logistic</td>\n",
       "    </tr>\n",
       "    <tr>\n",
       "      <th>42</th>\n",
       "      <td>1.000000</td>\n",
       "      <td>logistic</td>\n",
       "    </tr>\n",
       "    <tr>\n",
       "      <th>43</th>\n",
       "      <td>1.000000</td>\n",
       "      <td>logistic</td>\n",
       "    </tr>\n",
       "    <tr>\n",
       "      <th>44</th>\n",
       "      <td>1.000000</td>\n",
       "      <td>logistic</td>\n",
       "    </tr>\n",
       "    <tr>\n",
       "      <th>45</th>\n",
       "      <td>1.000000</td>\n",
       "      <td>logistic</td>\n",
       "    </tr>\n",
       "    <tr>\n",
       "      <th>46</th>\n",
       "      <td>1.000000</td>\n",
       "      <td>logistic</td>\n",
       "    </tr>\n",
       "    <tr>\n",
       "      <th>47</th>\n",
       "      <td>1.000000</td>\n",
       "      <td>logistic</td>\n",
       "    </tr>\n",
       "    <tr>\n",
       "      <th>48</th>\n",
       "      <td>1.000000</td>\n",
       "      <td>logistic</td>\n",
       "    </tr>\n",
       "    <tr>\n",
       "      <th>49</th>\n",
       "      <td>1.000000</td>\n",
       "      <td>logistic</td>\n",
       "    </tr>\n",
       "  </tbody>\n",
       "</table>\n",
       "</div>"
      ],
      "text/plain": [
       "    accuracy     model\n",
       "0   1.000000  logistic\n",
       "1   0.857143  logistic\n",
       "2   1.000000  logistic\n",
       "3   1.000000  logistic\n",
       "4   1.000000  logistic\n",
       "5   1.000000  logistic\n",
       "6   1.000000  logistic\n",
       "7   1.000000  logistic\n",
       "8   1.000000  logistic\n",
       "9   1.000000  logistic\n",
       "10  0.857143  logistic\n",
       "11  1.000000  logistic\n",
       "12  1.000000  logistic\n",
       "13  1.000000  logistic\n",
       "14  1.000000  logistic\n",
       "15  1.000000  logistic\n",
       "16  1.000000  logistic\n",
       "17  1.000000  logistic\n",
       "18  1.000000  logistic\n",
       "19  0.857143  logistic\n",
       "20  1.000000  logistic\n",
       "21  1.000000  logistic\n",
       "22  1.000000  logistic\n",
       "23  1.000000  logistic\n",
       "24  1.000000  logistic\n",
       "25  1.000000  logistic\n",
       "26  1.000000  logistic\n",
       "27  1.000000  logistic\n",
       "28  1.000000  logistic\n",
       "29  1.000000  logistic\n",
       "30  1.000000  logistic\n",
       "31  1.000000  logistic\n",
       "32  1.000000  logistic\n",
       "33  1.000000  logistic\n",
       "34  1.000000  logistic\n",
       "35  1.000000  logistic\n",
       "36  0.857143  logistic\n",
       "37  0.857143  logistic\n",
       "38  1.000000  logistic\n",
       "39  1.000000  logistic\n",
       "40  1.000000  logistic\n",
       "41  1.000000  logistic\n",
       "42  1.000000  logistic\n",
       "43  1.000000  logistic\n",
       "44  1.000000  logistic\n",
       "45  1.000000  logistic\n",
       "46  1.000000  logistic\n",
       "47  1.000000  logistic\n",
       "48  1.000000  logistic\n",
       "49  1.000000  logistic"
      ]
     },
     "execution_count": 9,
     "metadata": {},
     "output_type": "execute_result"
    }
   ],
   "source": [
    "from sklearn.model_selection import StratifiedKFold\n",
    "\n",
    "from sklearn.model_selection import cross_val_score\n",
    "from sklearn.model_selection import GridSearchCV\n",
    "\n",
    "from sklearn.linear_model import LogisticRegression\n",
    "\n",
    "X = data.drop('species', axis=1).to_numpy()\n",
    "y = data['species'].to_numpy()\n",
    "\n",
    "# X = data.loc[:, [\"X1\", \"X2\"]].to_numpy()\n",
    "# Y = data.loc[:, 'z'].to_numpy()\n",
    "\n",
    "cv_outer = StratifiedKFold(n_splits=50, random_state=1729, shuffle=True)\n",
    "\n",
    "# NESTED CROSS VALIDATION \n",
    "err_cv_nested = pd.DataFrame()\n",
    "# (1) outer cross validation \n",
    "for idx_train, idx_test in cv_outer.split(X, y):\n",
    "  X_outer_train, y_outer_train = X[idx_train], y[idx_train]\n",
    "  X_outer_test, y_outer_test = X[idx_test], y[idx_test]\n",
    "\n",
    "  # (2.2) Logistic regression (modèle avec de paramètres)\n",
    "  logistic_model = LogisticRegression(penalty='none', max_iter=10000)\n",
    "  logistic_model.fit(X_outer_train, y_outer_train)\n",
    "\n",
    "  # (1.1) Computing real accuracy \n",
    "  y_pred_logistic = logistic_model.predict(X_outer_test)\n",
    "  # accuracy \n",
    "  acc_logistic = accuracy_score(y_pred_logistic, y_outer_test)\n",
    "  err_cv_nested = err_cv_nested.append({\"model\": \"logistic\", \"accuracy\": acc_logistic},ignore_index=True)\n",
    "\n",
    "err_cv_nested"
   ]
  },
  {
   "cell_type": "code",
   "execution_count": null,
   "metadata": {
    "cell_id": "00009-69fa6741-136e-4071-83bb-b12e833f7583",
    "deepnote_cell_type": "code",
    "deepnote_to_be_reexecuted": false,
    "execution_millis": 68254,
    "execution_start": 1622810822932,
    "source_hash": "526b78b1",
    "tags": []
   },
   "outputs": [
    {
     "name": "stdout",
     "output_type": "stream",
     "text": [
      "5\n",
      "15\n"
     ]
    },
    {
     "ename": "KeyboardInterrupt",
     "evalue": "",
     "output_type": "error",
     "traceback": [
      "\u001b[0;31m---------------------------------------------------------------------------\u001b[0m",
      "\u001b[0;31mKeyboardInterrupt\u001b[0m                         Traceback (most recent call last)",
      "\u001b[0;32m<ipython-input-10-b44a42059b00>\u001b[0m in \u001b[0;36m<module>\u001b[0;34m\u001b[0m\n\u001b[1;32m     20\u001b[0m   \u001b[0mrf_model\u001b[0m \u001b[0;34m=\u001b[0m \u001b[0mRandomForestClassifier\u001b[0m\u001b[0;34m(\u001b[0m\u001b[0mmax_depth\u001b[0m\u001b[0;34m=\u001b[0m\u001b[0;36m2\u001b[0m\u001b[0;34m)\u001b[0m\u001b[0;34m\u001b[0m\u001b[0;34m\u001b[0m\u001b[0m\n\u001b[1;32m     21\u001b[0m   \u001b[0msearch_rf\u001b[0m \u001b[0;34m=\u001b[0m \u001b[0mGridSearchCV\u001b[0m\u001b[0;34m(\u001b[0m\u001b[0mclf\u001b[0m\u001b[0;34m,\u001b[0m \u001b[0mparam_grid\u001b[0m\u001b[0;34m,\u001b[0m \u001b[0mscoring\u001b[0m\u001b[0;34m=\u001b[0m\u001b[0;34m\"accuracy\"\u001b[0m\u001b[0;34m,\u001b[0m \u001b[0mcv\u001b[0m\u001b[0;34m=\u001b[0m\u001b[0;36m10\u001b[0m\u001b[0;34m)\u001b[0m\u001b[0;34m\u001b[0m\u001b[0;34m\u001b[0m\u001b[0m\n\u001b[0;32m---> 22\u001b[0;31m   \u001b[0msearch_rf\u001b[0m\u001b[0;34m.\u001b[0m\u001b[0mfit\u001b[0m\u001b[0;34m(\u001b[0m\u001b[0mX_outer_train\u001b[0m\u001b[0;34m,\u001b[0m \u001b[0my_outer_train\u001b[0m\u001b[0;34m)\u001b[0m\u001b[0;34m\u001b[0m\u001b[0;34m\u001b[0m\u001b[0m\n\u001b[0m\u001b[1;32m     23\u001b[0m   \u001b[0;31m# training the knn model utilisant optimal K\u001b[0m\u001b[0;34m\u001b[0m\u001b[0;34m\u001b[0m\u001b[0;34m\u001b[0m\u001b[0m\n\u001b[1;32m     24\u001b[0m   \u001b[0mrf_cv_model\u001b[0m \u001b[0;34m=\u001b[0m \u001b[0mRandomForestClassifier\u001b[0m\u001b[0;34m(\u001b[0m\u001b[0mmax_depth\u001b[0m\u001b[0;34m=\u001b[0m\u001b[0msearch_rf\u001b[0m\u001b[0;34m.\u001b[0m\u001b[0mbest_params_\u001b[0m\u001b[0;34m[\u001b[0m\u001b[0;34m\"max_depth\"\u001b[0m\u001b[0;34m]\u001b[0m\u001b[0;34m)\u001b[0m\u001b[0;34m\u001b[0m\u001b[0;34m\u001b[0m\u001b[0m\n",
      "\u001b[0;32m/shared-libs/python3.7/py/lib/python3.7/site-packages/sklearn/utils/validation.py\u001b[0m in \u001b[0;36minner_f\u001b[0;34m(*args, **kwargs)\u001b[0m\n\u001b[1;32m     61\u001b[0m             \u001b[0mextra_args\u001b[0m \u001b[0;34m=\u001b[0m \u001b[0mlen\u001b[0m\u001b[0;34m(\u001b[0m\u001b[0margs\u001b[0m\u001b[0;34m)\u001b[0m \u001b[0;34m-\u001b[0m \u001b[0mlen\u001b[0m\u001b[0;34m(\u001b[0m\u001b[0mall_args\u001b[0m\u001b[0;34m)\u001b[0m\u001b[0;34m\u001b[0m\u001b[0;34m\u001b[0m\u001b[0m\n\u001b[1;32m     62\u001b[0m             \u001b[0;32mif\u001b[0m \u001b[0mextra_args\u001b[0m \u001b[0;34m<=\u001b[0m \u001b[0;36m0\u001b[0m\u001b[0;34m:\u001b[0m\u001b[0;34m\u001b[0m\u001b[0;34m\u001b[0m\u001b[0m\n\u001b[0;32m---> 63\u001b[0;31m                 \u001b[0;32mreturn\u001b[0m \u001b[0mf\u001b[0m\u001b[0;34m(\u001b[0m\u001b[0;34m*\u001b[0m\u001b[0margs\u001b[0m\u001b[0;34m,\u001b[0m \u001b[0;34m**\u001b[0m\u001b[0mkwargs\u001b[0m\u001b[0;34m)\u001b[0m\u001b[0;34m\u001b[0m\u001b[0;34m\u001b[0m\u001b[0m\n\u001b[0m\u001b[1;32m     64\u001b[0m \u001b[0;34m\u001b[0m\u001b[0m\n\u001b[1;32m     65\u001b[0m             \u001b[0;31m# extra_args > 0\u001b[0m\u001b[0;34m\u001b[0m\u001b[0;34m\u001b[0m\u001b[0;34m\u001b[0m\u001b[0m\n",
      "\u001b[0;32m/shared-libs/python3.7/py/lib/python3.7/site-packages/sklearn/model_selection/_search.py\u001b[0m in \u001b[0;36mfit\u001b[0;34m(self, X, y, groups, **fit_params)\u001b[0m\n\u001b[1;32m    839\u001b[0m                 \u001b[0;32mreturn\u001b[0m \u001b[0mresults\u001b[0m\u001b[0;34m\u001b[0m\u001b[0;34m\u001b[0m\u001b[0m\n\u001b[1;32m    840\u001b[0m \u001b[0;34m\u001b[0m\u001b[0m\n\u001b[0;32m--> 841\u001b[0;31m             \u001b[0mself\u001b[0m\u001b[0;34m.\u001b[0m\u001b[0m_run_search\u001b[0m\u001b[0;34m(\u001b[0m\u001b[0mevaluate_candidates\u001b[0m\u001b[0;34m)\u001b[0m\u001b[0;34m\u001b[0m\u001b[0;34m\u001b[0m\u001b[0m\n\u001b[0m\u001b[1;32m    842\u001b[0m \u001b[0;34m\u001b[0m\u001b[0m\n\u001b[1;32m    843\u001b[0m             \u001b[0;31m# multimetric is determined here because in the case of a callable\u001b[0m\u001b[0;34m\u001b[0m\u001b[0;34m\u001b[0m\u001b[0;34m\u001b[0m\u001b[0m\n",
      "\u001b[0;32m/shared-libs/python3.7/py/lib/python3.7/site-packages/sklearn/model_selection/_search.py\u001b[0m in \u001b[0;36m_run_search\u001b[0;34m(self, evaluate_candidates)\u001b[0m\n\u001b[1;32m   1294\u001b[0m     \u001b[0;32mdef\u001b[0m \u001b[0m_run_search\u001b[0m\u001b[0;34m(\u001b[0m\u001b[0mself\u001b[0m\u001b[0;34m,\u001b[0m \u001b[0mevaluate_candidates\u001b[0m\u001b[0;34m)\u001b[0m\u001b[0;34m:\u001b[0m\u001b[0;34m\u001b[0m\u001b[0;34m\u001b[0m\u001b[0m\n\u001b[1;32m   1295\u001b[0m         \u001b[0;34m\"\"\"Search all candidates in param_grid\"\"\"\u001b[0m\u001b[0;34m\u001b[0m\u001b[0;34m\u001b[0m\u001b[0m\n\u001b[0;32m-> 1296\u001b[0;31m         \u001b[0mevaluate_candidates\u001b[0m\u001b[0;34m(\u001b[0m\u001b[0mParameterGrid\u001b[0m\u001b[0;34m(\u001b[0m\u001b[0mself\u001b[0m\u001b[0;34m.\u001b[0m\u001b[0mparam_grid\u001b[0m\u001b[0;34m)\u001b[0m\u001b[0;34m)\u001b[0m\u001b[0;34m\u001b[0m\u001b[0;34m\u001b[0m\u001b[0m\n\u001b[0m\u001b[1;32m   1297\u001b[0m \u001b[0;34m\u001b[0m\u001b[0m\n\u001b[1;32m   1298\u001b[0m \u001b[0;34m\u001b[0m\u001b[0m\n",
      "\u001b[0;32m/shared-libs/python3.7/py/lib/python3.7/site-packages/sklearn/model_selection/_search.py\u001b[0m in \u001b[0;36mevaluate_candidates\u001b[0;34m(candidate_params, cv, more_results)\u001b[0m\n\u001b[1;32m    807\u001b[0m                                    (split_idx, (train, test)) in product(\n\u001b[1;32m    808\u001b[0m                                    \u001b[0menumerate\u001b[0m\u001b[0;34m(\u001b[0m\u001b[0mcandidate_params\u001b[0m\u001b[0;34m)\u001b[0m\u001b[0;34m,\u001b[0m\u001b[0;34m\u001b[0m\u001b[0;34m\u001b[0m\u001b[0m\n\u001b[0;32m--> 809\u001b[0;31m                                    enumerate(cv.split(X, y, groups))))\n\u001b[0m\u001b[1;32m    810\u001b[0m \u001b[0;34m\u001b[0m\u001b[0m\n\u001b[1;32m    811\u001b[0m                 \u001b[0;32mif\u001b[0m \u001b[0mlen\u001b[0m\u001b[0;34m(\u001b[0m\u001b[0mout\u001b[0m\u001b[0;34m)\u001b[0m \u001b[0;34m<\u001b[0m \u001b[0;36m1\u001b[0m\u001b[0;34m:\u001b[0m\u001b[0;34m\u001b[0m\u001b[0;34m\u001b[0m\u001b[0m\n",
      "\u001b[0;32m/shared-libs/python3.7/py/lib/python3.7/site-packages/joblib/parallel.py\u001b[0m in \u001b[0;36m__call__\u001b[0;34m(self, iterable)\u001b[0m\n\u001b[1;32m   1042\u001b[0m                 \u001b[0mself\u001b[0m\u001b[0;34m.\u001b[0m\u001b[0m_iterating\u001b[0m \u001b[0;34m=\u001b[0m \u001b[0mself\u001b[0m\u001b[0;34m.\u001b[0m\u001b[0m_original_iterator\u001b[0m \u001b[0;32mis\u001b[0m \u001b[0;32mnot\u001b[0m \u001b[0;32mNone\u001b[0m\u001b[0;34m\u001b[0m\u001b[0;34m\u001b[0m\u001b[0m\n\u001b[1;32m   1043\u001b[0m \u001b[0;34m\u001b[0m\u001b[0m\n\u001b[0;32m-> 1044\u001b[0;31m             \u001b[0;32mwhile\u001b[0m \u001b[0mself\u001b[0m\u001b[0;34m.\u001b[0m\u001b[0mdispatch_one_batch\u001b[0m\u001b[0;34m(\u001b[0m\u001b[0miterator\u001b[0m\u001b[0;34m)\u001b[0m\u001b[0;34m:\u001b[0m\u001b[0;34m\u001b[0m\u001b[0;34m\u001b[0m\u001b[0m\n\u001b[0m\u001b[1;32m   1045\u001b[0m                 \u001b[0;32mpass\u001b[0m\u001b[0;34m\u001b[0m\u001b[0;34m\u001b[0m\u001b[0m\n\u001b[1;32m   1046\u001b[0m \u001b[0;34m\u001b[0m\u001b[0m\n",
      "\u001b[0;32m/shared-libs/python3.7/py/lib/python3.7/site-packages/joblib/parallel.py\u001b[0m in \u001b[0;36mdispatch_one_batch\u001b[0;34m(self, iterator)\u001b[0m\n\u001b[1;32m    857\u001b[0m                 \u001b[0;32mreturn\u001b[0m \u001b[0;32mFalse\u001b[0m\u001b[0;34m\u001b[0m\u001b[0;34m\u001b[0m\u001b[0m\n\u001b[1;32m    858\u001b[0m             \u001b[0;32melse\u001b[0m\u001b[0;34m:\u001b[0m\u001b[0;34m\u001b[0m\u001b[0;34m\u001b[0m\u001b[0m\n\u001b[0;32m--> 859\u001b[0;31m                 \u001b[0mself\u001b[0m\u001b[0;34m.\u001b[0m\u001b[0m_dispatch\u001b[0m\u001b[0;34m(\u001b[0m\u001b[0mtasks\u001b[0m\u001b[0;34m)\u001b[0m\u001b[0;34m\u001b[0m\u001b[0;34m\u001b[0m\u001b[0m\n\u001b[0m\u001b[1;32m    860\u001b[0m                 \u001b[0;32mreturn\u001b[0m \u001b[0;32mTrue\u001b[0m\u001b[0;34m\u001b[0m\u001b[0;34m\u001b[0m\u001b[0m\n\u001b[1;32m    861\u001b[0m \u001b[0;34m\u001b[0m\u001b[0m\n",
      "\u001b[0;32m/shared-libs/python3.7/py/lib/python3.7/site-packages/joblib/parallel.py\u001b[0m in \u001b[0;36m_dispatch\u001b[0;34m(self, batch)\u001b[0m\n\u001b[1;32m    775\u001b[0m         \u001b[0;32mwith\u001b[0m \u001b[0mself\u001b[0m\u001b[0;34m.\u001b[0m\u001b[0m_lock\u001b[0m\u001b[0;34m:\u001b[0m\u001b[0;34m\u001b[0m\u001b[0;34m\u001b[0m\u001b[0m\n\u001b[1;32m    776\u001b[0m             \u001b[0mjob_idx\u001b[0m \u001b[0;34m=\u001b[0m \u001b[0mlen\u001b[0m\u001b[0;34m(\u001b[0m\u001b[0mself\u001b[0m\u001b[0;34m.\u001b[0m\u001b[0m_jobs\u001b[0m\u001b[0;34m)\u001b[0m\u001b[0;34m\u001b[0m\u001b[0;34m\u001b[0m\u001b[0m\n\u001b[0;32m--> 777\u001b[0;31m             \u001b[0mjob\u001b[0m \u001b[0;34m=\u001b[0m \u001b[0mself\u001b[0m\u001b[0;34m.\u001b[0m\u001b[0m_backend\u001b[0m\u001b[0;34m.\u001b[0m\u001b[0mapply_async\u001b[0m\u001b[0;34m(\u001b[0m\u001b[0mbatch\u001b[0m\u001b[0;34m,\u001b[0m \u001b[0mcallback\u001b[0m\u001b[0;34m=\u001b[0m\u001b[0mcb\u001b[0m\u001b[0;34m)\u001b[0m\u001b[0;34m\u001b[0m\u001b[0;34m\u001b[0m\u001b[0m\n\u001b[0m\u001b[1;32m    778\u001b[0m             \u001b[0;31m# A job can complete so quickly than its callback is\u001b[0m\u001b[0;34m\u001b[0m\u001b[0;34m\u001b[0m\u001b[0;34m\u001b[0m\u001b[0m\n\u001b[1;32m    779\u001b[0m             \u001b[0;31m# called before we get here, causing self._jobs to\u001b[0m\u001b[0;34m\u001b[0m\u001b[0;34m\u001b[0m\u001b[0;34m\u001b[0m\u001b[0m\n",
      "\u001b[0;32m/shared-libs/python3.7/py/lib/python3.7/site-packages/joblib/_parallel_backends.py\u001b[0m in \u001b[0;36mapply_async\u001b[0;34m(self, func, callback)\u001b[0m\n\u001b[1;32m    206\u001b[0m     \u001b[0;32mdef\u001b[0m \u001b[0mapply_async\u001b[0m\u001b[0;34m(\u001b[0m\u001b[0mself\u001b[0m\u001b[0;34m,\u001b[0m \u001b[0mfunc\u001b[0m\u001b[0;34m,\u001b[0m \u001b[0mcallback\u001b[0m\u001b[0;34m=\u001b[0m\u001b[0;32mNone\u001b[0m\u001b[0;34m)\u001b[0m\u001b[0;34m:\u001b[0m\u001b[0;34m\u001b[0m\u001b[0;34m\u001b[0m\u001b[0m\n\u001b[1;32m    207\u001b[0m         \u001b[0;34m\"\"\"Schedule a func to be run\"\"\"\u001b[0m\u001b[0;34m\u001b[0m\u001b[0;34m\u001b[0m\u001b[0m\n\u001b[0;32m--> 208\u001b[0;31m         \u001b[0mresult\u001b[0m \u001b[0;34m=\u001b[0m \u001b[0mImmediateResult\u001b[0m\u001b[0;34m(\u001b[0m\u001b[0mfunc\u001b[0m\u001b[0;34m)\u001b[0m\u001b[0;34m\u001b[0m\u001b[0;34m\u001b[0m\u001b[0m\n\u001b[0m\u001b[1;32m    209\u001b[0m         \u001b[0;32mif\u001b[0m \u001b[0mcallback\u001b[0m\u001b[0;34m:\u001b[0m\u001b[0;34m\u001b[0m\u001b[0;34m\u001b[0m\u001b[0m\n\u001b[1;32m    210\u001b[0m             \u001b[0mcallback\u001b[0m\u001b[0;34m(\u001b[0m\u001b[0mresult\u001b[0m\u001b[0;34m)\u001b[0m\u001b[0;34m\u001b[0m\u001b[0;34m\u001b[0m\u001b[0m\n",
      "\u001b[0;32m/shared-libs/python3.7/py/lib/python3.7/site-packages/joblib/_parallel_backends.py\u001b[0m in \u001b[0;36m__init__\u001b[0;34m(self, batch)\u001b[0m\n\u001b[1;32m    570\u001b[0m         \u001b[0;31m# Don't delay the application, to avoid keeping the input\u001b[0m\u001b[0;34m\u001b[0m\u001b[0;34m\u001b[0m\u001b[0;34m\u001b[0m\u001b[0m\n\u001b[1;32m    571\u001b[0m         \u001b[0;31m# arguments in memory\u001b[0m\u001b[0;34m\u001b[0m\u001b[0;34m\u001b[0m\u001b[0;34m\u001b[0m\u001b[0m\n\u001b[0;32m--> 572\u001b[0;31m         \u001b[0mself\u001b[0m\u001b[0;34m.\u001b[0m\u001b[0mresults\u001b[0m \u001b[0;34m=\u001b[0m \u001b[0mbatch\u001b[0m\u001b[0;34m(\u001b[0m\u001b[0;34m)\u001b[0m\u001b[0;34m\u001b[0m\u001b[0;34m\u001b[0m\u001b[0m\n\u001b[0m\u001b[1;32m    573\u001b[0m \u001b[0;34m\u001b[0m\u001b[0m\n\u001b[1;32m    574\u001b[0m     \u001b[0;32mdef\u001b[0m \u001b[0mget\u001b[0m\u001b[0;34m(\u001b[0m\u001b[0mself\u001b[0m\u001b[0;34m)\u001b[0m\u001b[0;34m:\u001b[0m\u001b[0;34m\u001b[0m\u001b[0;34m\u001b[0m\u001b[0m\n",
      "\u001b[0;32m/shared-libs/python3.7/py/lib/python3.7/site-packages/joblib/parallel.py\u001b[0m in \u001b[0;36m__call__\u001b[0;34m(self)\u001b[0m\n\u001b[1;32m    261\u001b[0m         \u001b[0;32mwith\u001b[0m \u001b[0mparallel_backend\u001b[0m\u001b[0;34m(\u001b[0m\u001b[0mself\u001b[0m\u001b[0;34m.\u001b[0m\u001b[0m_backend\u001b[0m\u001b[0;34m,\u001b[0m \u001b[0mn_jobs\u001b[0m\u001b[0;34m=\u001b[0m\u001b[0mself\u001b[0m\u001b[0;34m.\u001b[0m\u001b[0m_n_jobs\u001b[0m\u001b[0;34m)\u001b[0m\u001b[0;34m:\u001b[0m\u001b[0;34m\u001b[0m\u001b[0;34m\u001b[0m\u001b[0m\n\u001b[1;32m    262\u001b[0m             return [func(*args, **kwargs)\n\u001b[0;32m--> 263\u001b[0;31m                     for func, args, kwargs in self.items]\n\u001b[0m\u001b[1;32m    264\u001b[0m \u001b[0;34m\u001b[0m\u001b[0m\n\u001b[1;32m    265\u001b[0m     \u001b[0;32mdef\u001b[0m \u001b[0m__reduce__\u001b[0m\u001b[0;34m(\u001b[0m\u001b[0mself\u001b[0m\u001b[0;34m)\u001b[0m\u001b[0;34m:\u001b[0m\u001b[0;34m\u001b[0m\u001b[0;34m\u001b[0m\u001b[0m\n",
      "\u001b[0;32m/shared-libs/python3.7/py/lib/python3.7/site-packages/joblib/parallel.py\u001b[0m in \u001b[0;36m<listcomp>\u001b[0;34m(.0)\u001b[0m\n\u001b[1;32m    261\u001b[0m         \u001b[0;32mwith\u001b[0m \u001b[0mparallel_backend\u001b[0m\u001b[0;34m(\u001b[0m\u001b[0mself\u001b[0m\u001b[0;34m.\u001b[0m\u001b[0m_backend\u001b[0m\u001b[0;34m,\u001b[0m \u001b[0mn_jobs\u001b[0m\u001b[0;34m=\u001b[0m\u001b[0mself\u001b[0m\u001b[0;34m.\u001b[0m\u001b[0m_n_jobs\u001b[0m\u001b[0;34m)\u001b[0m\u001b[0;34m:\u001b[0m\u001b[0;34m\u001b[0m\u001b[0;34m\u001b[0m\u001b[0m\n\u001b[1;32m    262\u001b[0m             return [func(*args, **kwargs)\n\u001b[0;32m--> 263\u001b[0;31m                     for func, args, kwargs in self.items]\n\u001b[0m\u001b[1;32m    264\u001b[0m \u001b[0;34m\u001b[0m\u001b[0m\n\u001b[1;32m    265\u001b[0m     \u001b[0;32mdef\u001b[0m \u001b[0m__reduce__\u001b[0m\u001b[0;34m(\u001b[0m\u001b[0mself\u001b[0m\u001b[0;34m)\u001b[0m\u001b[0;34m:\u001b[0m\u001b[0;34m\u001b[0m\u001b[0;34m\u001b[0m\u001b[0m\n",
      "\u001b[0;32m/shared-libs/python3.7/py/lib/python3.7/site-packages/sklearn/utils/fixes.py\u001b[0m in \u001b[0;36m__call__\u001b[0;34m(self, *args, **kwargs)\u001b[0m\n\u001b[1;32m    220\u001b[0m     \u001b[0;32mdef\u001b[0m \u001b[0m__call__\u001b[0m\u001b[0;34m(\u001b[0m\u001b[0mself\u001b[0m\u001b[0;34m,\u001b[0m \u001b[0;34m*\u001b[0m\u001b[0margs\u001b[0m\u001b[0;34m,\u001b[0m \u001b[0;34m**\u001b[0m\u001b[0mkwargs\u001b[0m\u001b[0;34m)\u001b[0m\u001b[0;34m:\u001b[0m\u001b[0;34m\u001b[0m\u001b[0;34m\u001b[0m\u001b[0m\n\u001b[1;32m    221\u001b[0m         \u001b[0;32mwith\u001b[0m \u001b[0mconfig_context\u001b[0m\u001b[0;34m(\u001b[0m\u001b[0;34m**\u001b[0m\u001b[0mself\u001b[0m\u001b[0;34m.\u001b[0m\u001b[0mconfig\u001b[0m\u001b[0;34m)\u001b[0m\u001b[0;34m:\u001b[0m\u001b[0;34m\u001b[0m\u001b[0;34m\u001b[0m\u001b[0m\n\u001b[0;32m--> 222\u001b[0;31m             \u001b[0;32mreturn\u001b[0m \u001b[0mself\u001b[0m\u001b[0;34m.\u001b[0m\u001b[0mfunction\u001b[0m\u001b[0;34m(\u001b[0m\u001b[0;34m*\u001b[0m\u001b[0margs\u001b[0m\u001b[0;34m,\u001b[0m \u001b[0;34m**\u001b[0m\u001b[0mkwargs\u001b[0m\u001b[0;34m)\u001b[0m\u001b[0;34m\u001b[0m\u001b[0;34m\u001b[0m\u001b[0m\n\u001b[0m",
      "\u001b[0;32m/shared-libs/python3.7/py/lib/python3.7/site-packages/sklearn/model_selection/_validation.py\u001b[0m in \u001b[0;36m_fit_and_score\u001b[0;34m(estimator, X, y, scorer, train, test, verbose, parameters, fit_params, return_train_score, return_parameters, return_n_test_samples, return_times, return_estimator, split_progress, candidate_progress, error_score)\u001b[0m\n\u001b[1;32m    596\u001b[0m             \u001b[0mestimator\u001b[0m\u001b[0;34m.\u001b[0m\u001b[0mfit\u001b[0m\u001b[0;34m(\u001b[0m\u001b[0mX_train\u001b[0m\u001b[0;34m,\u001b[0m \u001b[0;34m**\u001b[0m\u001b[0mfit_params\u001b[0m\u001b[0;34m)\u001b[0m\u001b[0;34m\u001b[0m\u001b[0;34m\u001b[0m\u001b[0m\n\u001b[1;32m    597\u001b[0m         \u001b[0;32melse\u001b[0m\u001b[0;34m:\u001b[0m\u001b[0;34m\u001b[0m\u001b[0;34m\u001b[0m\u001b[0m\n\u001b[0;32m--> 598\u001b[0;31m             \u001b[0mestimator\u001b[0m\u001b[0;34m.\u001b[0m\u001b[0mfit\u001b[0m\u001b[0;34m(\u001b[0m\u001b[0mX_train\u001b[0m\u001b[0;34m,\u001b[0m \u001b[0my_train\u001b[0m\u001b[0;34m,\u001b[0m \u001b[0;34m**\u001b[0m\u001b[0mfit_params\u001b[0m\u001b[0;34m)\u001b[0m\u001b[0;34m\u001b[0m\u001b[0;34m\u001b[0m\u001b[0m\n\u001b[0m\u001b[1;32m    599\u001b[0m \u001b[0;34m\u001b[0m\u001b[0m\n\u001b[1;32m    600\u001b[0m     \u001b[0;32mexcept\u001b[0m \u001b[0mException\u001b[0m \u001b[0;32mas\u001b[0m \u001b[0me\u001b[0m\u001b[0;34m:\u001b[0m\u001b[0;34m\u001b[0m\u001b[0;34m\u001b[0m\u001b[0m\n",
      "\u001b[0;32m/shared-libs/python3.7/py/lib/python3.7/site-packages/sklearn/ensemble/_forest.py\u001b[0m in \u001b[0;36mfit\u001b[0;34m(self, X, y, sample_weight)\u001b[0m\n\u001b[1;32m    391\u001b[0m                     \u001b[0mverbose\u001b[0m\u001b[0;34m=\u001b[0m\u001b[0mself\u001b[0m\u001b[0;34m.\u001b[0m\u001b[0mverbose\u001b[0m\u001b[0;34m,\u001b[0m \u001b[0mclass_weight\u001b[0m\u001b[0;34m=\u001b[0m\u001b[0mself\u001b[0m\u001b[0;34m.\u001b[0m\u001b[0mclass_weight\u001b[0m\u001b[0;34m,\u001b[0m\u001b[0;34m\u001b[0m\u001b[0;34m\u001b[0m\u001b[0m\n\u001b[1;32m    392\u001b[0m                     n_samples_bootstrap=n_samples_bootstrap)\n\u001b[0;32m--> 393\u001b[0;31m                 for i, t in enumerate(trees))\n\u001b[0m\u001b[1;32m    394\u001b[0m \u001b[0;34m\u001b[0m\u001b[0m\n\u001b[1;32m    395\u001b[0m             \u001b[0;31m# Collect newly grown trees\u001b[0m\u001b[0;34m\u001b[0m\u001b[0;34m\u001b[0m\u001b[0;34m\u001b[0m\u001b[0m\n",
      "\u001b[0;32m/shared-libs/python3.7/py/lib/python3.7/site-packages/joblib/parallel.py\u001b[0m in \u001b[0;36m__call__\u001b[0;34m(self, iterable)\u001b[0m\n\u001b[1;32m   1042\u001b[0m                 \u001b[0mself\u001b[0m\u001b[0;34m.\u001b[0m\u001b[0m_iterating\u001b[0m \u001b[0;34m=\u001b[0m \u001b[0mself\u001b[0m\u001b[0;34m.\u001b[0m\u001b[0m_original_iterator\u001b[0m \u001b[0;32mis\u001b[0m \u001b[0;32mnot\u001b[0m \u001b[0;32mNone\u001b[0m\u001b[0;34m\u001b[0m\u001b[0;34m\u001b[0m\u001b[0m\n\u001b[1;32m   1043\u001b[0m \u001b[0;34m\u001b[0m\u001b[0m\n\u001b[0;32m-> 1044\u001b[0;31m             \u001b[0;32mwhile\u001b[0m \u001b[0mself\u001b[0m\u001b[0;34m.\u001b[0m\u001b[0mdispatch_one_batch\u001b[0m\u001b[0;34m(\u001b[0m\u001b[0miterator\u001b[0m\u001b[0;34m)\u001b[0m\u001b[0;34m:\u001b[0m\u001b[0;34m\u001b[0m\u001b[0;34m\u001b[0m\u001b[0m\n\u001b[0m\u001b[1;32m   1045\u001b[0m                 \u001b[0;32mpass\u001b[0m\u001b[0;34m\u001b[0m\u001b[0;34m\u001b[0m\u001b[0m\n\u001b[1;32m   1046\u001b[0m \u001b[0;34m\u001b[0m\u001b[0m\n",
      "\u001b[0;32m/shared-libs/python3.7/py/lib/python3.7/site-packages/joblib/parallel.py\u001b[0m in \u001b[0;36mdispatch_one_batch\u001b[0;34m(self, iterator)\u001b[0m\n\u001b[1;32m    857\u001b[0m                 \u001b[0;32mreturn\u001b[0m \u001b[0;32mFalse\u001b[0m\u001b[0;34m\u001b[0m\u001b[0;34m\u001b[0m\u001b[0m\n\u001b[1;32m    858\u001b[0m             \u001b[0;32melse\u001b[0m\u001b[0;34m:\u001b[0m\u001b[0;34m\u001b[0m\u001b[0;34m\u001b[0m\u001b[0m\n\u001b[0;32m--> 859\u001b[0;31m                 \u001b[0mself\u001b[0m\u001b[0;34m.\u001b[0m\u001b[0m_dispatch\u001b[0m\u001b[0;34m(\u001b[0m\u001b[0mtasks\u001b[0m\u001b[0;34m)\u001b[0m\u001b[0;34m\u001b[0m\u001b[0;34m\u001b[0m\u001b[0m\n\u001b[0m\u001b[1;32m    860\u001b[0m                 \u001b[0;32mreturn\u001b[0m \u001b[0;32mTrue\u001b[0m\u001b[0;34m\u001b[0m\u001b[0;34m\u001b[0m\u001b[0m\n\u001b[1;32m    861\u001b[0m \u001b[0;34m\u001b[0m\u001b[0m\n",
      "\u001b[0;32m/shared-libs/python3.7/py/lib/python3.7/site-packages/joblib/parallel.py\u001b[0m in \u001b[0;36m_dispatch\u001b[0;34m(self, batch)\u001b[0m\n\u001b[1;32m    775\u001b[0m         \u001b[0;32mwith\u001b[0m \u001b[0mself\u001b[0m\u001b[0;34m.\u001b[0m\u001b[0m_lock\u001b[0m\u001b[0;34m:\u001b[0m\u001b[0;34m\u001b[0m\u001b[0;34m\u001b[0m\u001b[0m\n\u001b[1;32m    776\u001b[0m             \u001b[0mjob_idx\u001b[0m \u001b[0;34m=\u001b[0m \u001b[0mlen\u001b[0m\u001b[0;34m(\u001b[0m\u001b[0mself\u001b[0m\u001b[0;34m.\u001b[0m\u001b[0m_jobs\u001b[0m\u001b[0;34m)\u001b[0m\u001b[0;34m\u001b[0m\u001b[0;34m\u001b[0m\u001b[0m\n\u001b[0;32m--> 777\u001b[0;31m             \u001b[0mjob\u001b[0m \u001b[0;34m=\u001b[0m \u001b[0mself\u001b[0m\u001b[0;34m.\u001b[0m\u001b[0m_backend\u001b[0m\u001b[0;34m.\u001b[0m\u001b[0mapply_async\u001b[0m\u001b[0;34m(\u001b[0m\u001b[0mbatch\u001b[0m\u001b[0;34m,\u001b[0m \u001b[0mcallback\u001b[0m\u001b[0;34m=\u001b[0m\u001b[0mcb\u001b[0m\u001b[0;34m)\u001b[0m\u001b[0;34m\u001b[0m\u001b[0;34m\u001b[0m\u001b[0m\n\u001b[0m\u001b[1;32m    778\u001b[0m             \u001b[0;31m# A job can complete so quickly than its callback is\u001b[0m\u001b[0;34m\u001b[0m\u001b[0;34m\u001b[0m\u001b[0;34m\u001b[0m\u001b[0m\n\u001b[1;32m    779\u001b[0m             \u001b[0;31m# called before we get here, causing self._jobs to\u001b[0m\u001b[0;34m\u001b[0m\u001b[0;34m\u001b[0m\u001b[0;34m\u001b[0m\u001b[0m\n",
      "\u001b[0;32m/shared-libs/python3.7/py/lib/python3.7/site-packages/joblib/_parallel_backends.py\u001b[0m in \u001b[0;36mapply_async\u001b[0;34m(self, func, callback)\u001b[0m\n\u001b[1;32m    206\u001b[0m     \u001b[0;32mdef\u001b[0m \u001b[0mapply_async\u001b[0m\u001b[0;34m(\u001b[0m\u001b[0mself\u001b[0m\u001b[0;34m,\u001b[0m \u001b[0mfunc\u001b[0m\u001b[0;34m,\u001b[0m \u001b[0mcallback\u001b[0m\u001b[0;34m=\u001b[0m\u001b[0;32mNone\u001b[0m\u001b[0;34m)\u001b[0m\u001b[0;34m:\u001b[0m\u001b[0;34m\u001b[0m\u001b[0;34m\u001b[0m\u001b[0m\n\u001b[1;32m    207\u001b[0m         \u001b[0;34m\"\"\"Schedule a func to be run\"\"\"\u001b[0m\u001b[0;34m\u001b[0m\u001b[0;34m\u001b[0m\u001b[0m\n\u001b[0;32m--> 208\u001b[0;31m         \u001b[0mresult\u001b[0m \u001b[0;34m=\u001b[0m \u001b[0mImmediateResult\u001b[0m\u001b[0;34m(\u001b[0m\u001b[0mfunc\u001b[0m\u001b[0;34m)\u001b[0m\u001b[0;34m\u001b[0m\u001b[0;34m\u001b[0m\u001b[0m\n\u001b[0m\u001b[1;32m    209\u001b[0m         \u001b[0;32mif\u001b[0m \u001b[0mcallback\u001b[0m\u001b[0;34m:\u001b[0m\u001b[0;34m\u001b[0m\u001b[0;34m\u001b[0m\u001b[0m\n\u001b[1;32m    210\u001b[0m             \u001b[0mcallback\u001b[0m\u001b[0;34m(\u001b[0m\u001b[0mresult\u001b[0m\u001b[0;34m)\u001b[0m\u001b[0;34m\u001b[0m\u001b[0;34m\u001b[0m\u001b[0m\n",
      "\u001b[0;32m/shared-libs/python3.7/py/lib/python3.7/site-packages/joblib/_parallel_backends.py\u001b[0m in \u001b[0;36m__init__\u001b[0;34m(self, batch)\u001b[0m\n\u001b[1;32m    570\u001b[0m         \u001b[0;31m# Don't delay the application, to avoid keeping the input\u001b[0m\u001b[0;34m\u001b[0m\u001b[0;34m\u001b[0m\u001b[0;34m\u001b[0m\u001b[0m\n\u001b[1;32m    571\u001b[0m         \u001b[0;31m# arguments in memory\u001b[0m\u001b[0;34m\u001b[0m\u001b[0;34m\u001b[0m\u001b[0;34m\u001b[0m\u001b[0m\n\u001b[0;32m--> 572\u001b[0;31m         \u001b[0mself\u001b[0m\u001b[0;34m.\u001b[0m\u001b[0mresults\u001b[0m \u001b[0;34m=\u001b[0m \u001b[0mbatch\u001b[0m\u001b[0;34m(\u001b[0m\u001b[0;34m)\u001b[0m\u001b[0;34m\u001b[0m\u001b[0;34m\u001b[0m\u001b[0m\n\u001b[0m\u001b[1;32m    573\u001b[0m \u001b[0;34m\u001b[0m\u001b[0m\n\u001b[1;32m    574\u001b[0m     \u001b[0;32mdef\u001b[0m \u001b[0mget\u001b[0m\u001b[0;34m(\u001b[0m\u001b[0mself\u001b[0m\u001b[0;34m)\u001b[0m\u001b[0;34m:\u001b[0m\u001b[0;34m\u001b[0m\u001b[0;34m\u001b[0m\u001b[0m\n",
      "\u001b[0;32m/shared-libs/python3.7/py/lib/python3.7/site-packages/joblib/parallel.py\u001b[0m in \u001b[0;36m__call__\u001b[0;34m(self)\u001b[0m\n\u001b[1;32m    261\u001b[0m         \u001b[0;32mwith\u001b[0m \u001b[0mparallel_backend\u001b[0m\u001b[0;34m(\u001b[0m\u001b[0mself\u001b[0m\u001b[0;34m.\u001b[0m\u001b[0m_backend\u001b[0m\u001b[0;34m,\u001b[0m \u001b[0mn_jobs\u001b[0m\u001b[0;34m=\u001b[0m\u001b[0mself\u001b[0m\u001b[0;34m.\u001b[0m\u001b[0m_n_jobs\u001b[0m\u001b[0;34m)\u001b[0m\u001b[0;34m:\u001b[0m\u001b[0;34m\u001b[0m\u001b[0;34m\u001b[0m\u001b[0m\n\u001b[1;32m    262\u001b[0m             return [func(*args, **kwargs)\n\u001b[0;32m--> 263\u001b[0;31m                     for func, args, kwargs in self.items]\n\u001b[0m\u001b[1;32m    264\u001b[0m \u001b[0;34m\u001b[0m\u001b[0m\n\u001b[1;32m    265\u001b[0m     \u001b[0;32mdef\u001b[0m \u001b[0m__reduce__\u001b[0m\u001b[0;34m(\u001b[0m\u001b[0mself\u001b[0m\u001b[0;34m)\u001b[0m\u001b[0;34m:\u001b[0m\u001b[0;34m\u001b[0m\u001b[0;34m\u001b[0m\u001b[0m\n",
      "\u001b[0;32m/shared-libs/python3.7/py/lib/python3.7/site-packages/joblib/parallel.py\u001b[0m in \u001b[0;36m<listcomp>\u001b[0;34m(.0)\u001b[0m\n\u001b[1;32m    261\u001b[0m         \u001b[0;32mwith\u001b[0m \u001b[0mparallel_backend\u001b[0m\u001b[0;34m(\u001b[0m\u001b[0mself\u001b[0m\u001b[0;34m.\u001b[0m\u001b[0m_backend\u001b[0m\u001b[0;34m,\u001b[0m \u001b[0mn_jobs\u001b[0m\u001b[0;34m=\u001b[0m\u001b[0mself\u001b[0m\u001b[0;34m.\u001b[0m\u001b[0m_n_jobs\u001b[0m\u001b[0;34m)\u001b[0m\u001b[0;34m:\u001b[0m\u001b[0;34m\u001b[0m\u001b[0;34m\u001b[0m\u001b[0m\n\u001b[1;32m    262\u001b[0m             return [func(*args, **kwargs)\n\u001b[0;32m--> 263\u001b[0;31m                     for func, args, kwargs in self.items]\n\u001b[0m\u001b[1;32m    264\u001b[0m \u001b[0;34m\u001b[0m\u001b[0m\n\u001b[1;32m    265\u001b[0m     \u001b[0;32mdef\u001b[0m \u001b[0m__reduce__\u001b[0m\u001b[0;34m(\u001b[0m\u001b[0mself\u001b[0m\u001b[0;34m)\u001b[0m\u001b[0;34m:\u001b[0m\u001b[0;34m\u001b[0m\u001b[0;34m\u001b[0m\u001b[0m\n",
      "\u001b[0;32m/shared-libs/python3.7/py/lib/python3.7/site-packages/sklearn/utils/fixes.py\u001b[0m in \u001b[0;36m__call__\u001b[0;34m(self, *args, **kwargs)\u001b[0m\n\u001b[1;32m    220\u001b[0m     \u001b[0;32mdef\u001b[0m \u001b[0m__call__\u001b[0m\u001b[0;34m(\u001b[0m\u001b[0mself\u001b[0m\u001b[0;34m,\u001b[0m \u001b[0;34m*\u001b[0m\u001b[0margs\u001b[0m\u001b[0;34m,\u001b[0m \u001b[0;34m**\u001b[0m\u001b[0mkwargs\u001b[0m\u001b[0;34m)\u001b[0m\u001b[0;34m:\u001b[0m\u001b[0;34m\u001b[0m\u001b[0;34m\u001b[0m\u001b[0m\n\u001b[1;32m    221\u001b[0m         \u001b[0;32mwith\u001b[0m \u001b[0mconfig_context\u001b[0m\u001b[0;34m(\u001b[0m\u001b[0;34m**\u001b[0m\u001b[0mself\u001b[0m\u001b[0;34m.\u001b[0m\u001b[0mconfig\u001b[0m\u001b[0;34m)\u001b[0m\u001b[0;34m:\u001b[0m\u001b[0;34m\u001b[0m\u001b[0;34m\u001b[0m\u001b[0m\n\u001b[0;32m--> 222\u001b[0;31m             \u001b[0;32mreturn\u001b[0m \u001b[0mself\u001b[0m\u001b[0;34m.\u001b[0m\u001b[0mfunction\u001b[0m\u001b[0;34m(\u001b[0m\u001b[0;34m*\u001b[0m\u001b[0margs\u001b[0m\u001b[0;34m,\u001b[0m \u001b[0;34m**\u001b[0m\u001b[0mkwargs\u001b[0m\u001b[0;34m)\u001b[0m\u001b[0;34m\u001b[0m\u001b[0;34m\u001b[0m\u001b[0m\n\u001b[0m",
      "\u001b[0;32m/shared-libs/python3.7/py/lib/python3.7/site-packages/sklearn/ensemble/_forest.py\u001b[0m in \u001b[0;36m_parallel_build_trees\u001b[0;34m(tree, forest, X, y, sample_weight, tree_idx, n_trees, verbose, class_weight, n_samples_bootstrap)\u001b[0m\n\u001b[1;32m    167\u001b[0m                                                         indices=indices)\n\u001b[1;32m    168\u001b[0m \u001b[0;34m\u001b[0m\u001b[0m\n\u001b[0;32m--> 169\u001b[0;31m         \u001b[0mtree\u001b[0m\u001b[0;34m.\u001b[0m\u001b[0mfit\u001b[0m\u001b[0;34m(\u001b[0m\u001b[0mX\u001b[0m\u001b[0;34m,\u001b[0m \u001b[0my\u001b[0m\u001b[0;34m,\u001b[0m \u001b[0msample_weight\u001b[0m\u001b[0;34m=\u001b[0m\u001b[0mcurr_sample_weight\u001b[0m\u001b[0;34m,\u001b[0m \u001b[0mcheck_input\u001b[0m\u001b[0;34m=\u001b[0m\u001b[0;32mFalse\u001b[0m\u001b[0;34m)\u001b[0m\u001b[0;34m\u001b[0m\u001b[0;34m\u001b[0m\u001b[0m\n\u001b[0m\u001b[1;32m    170\u001b[0m     \u001b[0;32melse\u001b[0m\u001b[0;34m:\u001b[0m\u001b[0;34m\u001b[0m\u001b[0;34m\u001b[0m\u001b[0m\n\u001b[1;32m    171\u001b[0m         \u001b[0mtree\u001b[0m\u001b[0;34m.\u001b[0m\u001b[0mfit\u001b[0m\u001b[0;34m(\u001b[0m\u001b[0mX\u001b[0m\u001b[0;34m,\u001b[0m \u001b[0my\u001b[0m\u001b[0;34m,\u001b[0m \u001b[0msample_weight\u001b[0m\u001b[0;34m=\u001b[0m\u001b[0msample_weight\u001b[0m\u001b[0;34m,\u001b[0m \u001b[0mcheck_input\u001b[0m\u001b[0;34m=\u001b[0m\u001b[0;32mFalse\u001b[0m\u001b[0;34m)\u001b[0m\u001b[0;34m\u001b[0m\u001b[0;34m\u001b[0m\u001b[0m\n",
      "\u001b[0;32m/shared-libs/python3.7/py/lib/python3.7/site-packages/sklearn/tree/_classes.py\u001b[0m in \u001b[0;36mfit\u001b[0;34m(self, X, y, sample_weight, check_input, X_idx_sorted)\u001b[0m\n\u001b[1;32m    905\u001b[0m             \u001b[0msample_weight\u001b[0m\u001b[0;34m=\u001b[0m\u001b[0msample_weight\u001b[0m\u001b[0;34m,\u001b[0m\u001b[0;34m\u001b[0m\u001b[0;34m\u001b[0m\u001b[0m\n\u001b[1;32m    906\u001b[0m             \u001b[0mcheck_input\u001b[0m\u001b[0;34m=\u001b[0m\u001b[0mcheck_input\u001b[0m\u001b[0;34m,\u001b[0m\u001b[0;34m\u001b[0m\u001b[0;34m\u001b[0m\u001b[0m\n\u001b[0;32m--> 907\u001b[0;31m             X_idx_sorted=X_idx_sorted)\n\u001b[0m\u001b[1;32m    908\u001b[0m         \u001b[0;32mreturn\u001b[0m \u001b[0mself\u001b[0m\u001b[0;34m\u001b[0m\u001b[0;34m\u001b[0m\u001b[0m\n\u001b[1;32m    909\u001b[0m \u001b[0;34m\u001b[0m\u001b[0m\n",
      "\u001b[0;32m/shared-libs/python3.7/py/lib/python3.7/site-packages/sklearn/tree/_classes.py\u001b[0m in \u001b[0;36mfit\u001b[0;34m(self, X, y, sample_weight, check_input, X_idx_sorted)\u001b[0m\n\u001b[1;32m    392\u001b[0m                                            min_impurity_split)\n\u001b[1;32m    393\u001b[0m \u001b[0;34m\u001b[0m\u001b[0m\n\u001b[0;32m--> 394\u001b[0;31m         \u001b[0mbuilder\u001b[0m\u001b[0;34m.\u001b[0m\u001b[0mbuild\u001b[0m\u001b[0;34m(\u001b[0m\u001b[0mself\u001b[0m\u001b[0;34m.\u001b[0m\u001b[0mtree_\u001b[0m\u001b[0;34m,\u001b[0m \u001b[0mX\u001b[0m\u001b[0;34m,\u001b[0m \u001b[0my\u001b[0m\u001b[0;34m,\u001b[0m \u001b[0msample_weight\u001b[0m\u001b[0;34m)\u001b[0m\u001b[0;34m\u001b[0m\u001b[0;34m\u001b[0m\u001b[0m\n\u001b[0m\u001b[1;32m    395\u001b[0m \u001b[0;34m\u001b[0m\u001b[0m\n\u001b[1;32m    396\u001b[0m         \u001b[0;32mif\u001b[0m \u001b[0mself\u001b[0m\u001b[0;34m.\u001b[0m\u001b[0mn_outputs_\u001b[0m \u001b[0;34m==\u001b[0m \u001b[0;36m1\u001b[0m \u001b[0;32mand\u001b[0m \u001b[0mis_classifier\u001b[0m\u001b[0;34m(\u001b[0m\u001b[0mself\u001b[0m\u001b[0;34m)\u001b[0m\u001b[0;34m:\u001b[0m\u001b[0;34m\u001b[0m\u001b[0;34m\u001b[0m\u001b[0m\n",
      "\u001b[0;31mKeyboardInterrupt\u001b[0m: "
     ]
    }
   ],
   "source": [
    "# RANDOM FORESTS: Nested cross validation on max_depth varying vs max_depth=2\n",
    "\n",
    "X = data.drop('species', axis=1).to_numpy()\n",
    "y = data['species'].to_numpy()\n",
    "\n",
    "cv_outer = StratifiedKFold(n_splits=10, shuffle=True)\n",
    "\n",
    "# NESTED CROSS VALIDATION \n",
    "err_cv_nested = pd.DataFrame()\n",
    "# (1) outer cross validation \n",
    "for idx_train, idx_test in cv_outer.split(X, y):\n",
    "  X_outer_train, y_outer_train = X[idx_train], y[idx_train]\n",
    "  X_outer_test, y_outer_test = X[idx_test], y[idx_test]\n",
    "\n",
    "  # (2) inner cross validation\n",
    "  # (2.1) Random Forest  (modèle avec hyper-paramètres)\n",
    "  max_depth_list = np.arange(5, 50, 5)\n",
    "  param_grid = {\"max_depth\": max_depth_list}\n",
    "  clf = RandomForestClassifier()\n",
    "  rf_model = RandomForestClassifier(max_depth=2)\n",
    "  search_rf = GridSearchCV(clf, param_grid, scoring=\"accuracy\", cv=10)\n",
    "  search_rf.fit(X_outer_train, y_outer_train)\n",
    "  # training the knn model utilisant optimal K\n",
    "  rf_cv_model = RandomForestClassifier(max_depth=search_rf.best_params_[\"max_depth\"])\n",
    "  rf_cv_model.fit(X_outer_train, y_outer_train)\n",
    "  rf_model.fit(X_outer_train, y_outer_train)\n",
    "\n",
    "  print(search_rf.best_params_[\"max_depth\"])\n",
    "\n",
    "  # (1.1) Computing real accuracy \n",
    "  y_pred_rf_cv = rf_cv_model.predict(X_outer_test)\n",
    "  y_pred_rf = rf_model.predict(X_outer_test)\n",
    "  # accuracy \n",
    "  acc_rf_cv = accuracy_score(y_pred_rf_cv, y_outer_test)\n",
    "  acc_rf = accuracy_score(y_pred_rf, y_outer_test)\n",
    "  err_cv_nested = err_cv_nested.append({\"model\": \"rf_cv\", \"accuracy\": acc_rf_cv},ignore_index=True)\n",
    "  err_cv_nested = err_cv_nested.append({\"model\": \"rf\", \"accuracy\": acc_rf},ignore_index=True)\n",
    "\n",
    "err_cv_nested\n",
    "\n",
    "# Une majorité de 100% de prédiction malgré la CV sur max_depth et le partitionnement aléatoire : max_depth pas important? trop peu de données pour éviter l'overfitting?"
   ]
  },
  {
   "cell_type": "code",
   "execution_count": null,
   "metadata": {
    "cell_id": "00010-e309df15-e095-4f73-9d87-98f00e408986",
    "deepnote_cell_type": "code",
    "deepnote_to_be_reexecuted": false,
    "execution_millis": 108149,
    "execution_start": 1622811733486,
    "source_hash": "9d9f481",
    "tags": []
   },
   "outputs": [
    {
     "name": "stdout",
     "output_type": "stream",
     "text": [
      "100\n",
      "100\n",
      "100\n",
      "150\n",
      "150\n",
      "100\n",
      "100\n",
      "100\n",
      "100\n",
      "150\n"
     ]
    },
    {
     "data": {
      "application/vnd.deepnote.dataframe.v2+json": {
       "column_count": 2,
       "columns": [
        {
         "dtype": "float64",
         "name": "accuracy",
         "stats": {
          "histogram": [
           {
            "bin_end": 0.9735294117647059,
            "bin_start": 0.9705882352941176,
            "count": 6
           },
           {
            "bin_end": 0.9764705882352941,
            "bin_start": 0.9735294117647059,
            "count": 0
           },
           {
            "bin_end": 0.9794117647058823,
            "bin_start": 0.9764705882352941,
            "count": 0
           },
           {
            "bin_end": 0.9823529411764705,
            "bin_start": 0.9794117647058823,
            "count": 0
           },
           {
            "bin_end": 0.9852941176470589,
            "bin_start": 0.9823529411764705,
            "count": 0
           },
           {
            "bin_end": 0.9882352941176471,
            "bin_start": 0.9852941176470589,
            "count": 0
           },
           {
            "bin_end": 0.9911764705882353,
            "bin_start": 0.9882352941176471,
            "count": 0
           },
           {
            "bin_end": 0.9941176470588236,
            "bin_start": 0.9911764705882353,
            "count": 0
           },
           {
            "bin_end": 0.9970588235294118,
            "bin_start": 0.9941176470588236,
            "count": 0
           },
           {
            "bin_end": 1,
            "bin_start": 0.9970588235294118,
            "count": 14
           }
          ],
          "max": "1.0",
          "min": "0.9705882352941176",
          "nan_count": 0,
          "unique_count": 3
         }
        },
        {
         "dtype": "object",
         "name": "model",
         "stats": {
          "categories": [
           {
            "count": 10,
            "name": "rf_cv"
           },
           {
            "count": 10,
            "name": "rf"
           }
          ],
          "nan_count": 0,
          "unique_count": 2
         }
        },
        {
         "dtype": "int64",
         "name": "_deepnote_index_column"
        }
       ],
       "row_count": 20,
       "rows_bottom": null,
       "rows_top": [
        {
         "_deepnote_index_column": 0,
         "accuracy": 1,
         "model": "rf_cv"
        },
        {
         "_deepnote_index_column": 1,
         "accuracy": 1,
         "model": "rf"
        },
        {
         "_deepnote_index_column": 2,
         "accuracy": 0.9714285714285714,
         "model": "rf_cv"
        },
        {
         "_deepnote_index_column": 3,
         "accuracy": 0.9714285714285714,
         "model": "rf"
        },
        {
         "_deepnote_index_column": 4,
         "accuracy": 1,
         "model": "rf_cv"
        },
        {
         "_deepnote_index_column": 5,
         "accuracy": 1,
         "model": "rf"
        },
        {
         "_deepnote_index_column": 6,
         "accuracy": 1,
         "model": "rf_cv"
        },
        {
         "_deepnote_index_column": 7,
         "accuracy": 1,
         "model": "rf"
        },
        {
         "_deepnote_index_column": 8,
         "accuracy": 1,
         "model": "rf_cv"
        },
        {
         "_deepnote_index_column": 9,
         "accuracy": 1,
         "model": "rf"
        },
        {
         "_deepnote_index_column": 10,
         "accuracy": 1,
         "model": "rf_cv"
        },
        {
         "_deepnote_index_column": 11,
         "accuracy": 1,
         "model": "rf"
        },
        {
         "_deepnote_index_column": 12,
         "accuracy": 0.9705882352941176,
         "model": "rf_cv"
        },
        {
         "_deepnote_index_column": 13,
         "accuracy": 0.9705882352941176,
         "model": "rf"
        },
        {
         "_deepnote_index_column": 14,
         "accuracy": 1,
         "model": "rf_cv"
        },
        {
         "_deepnote_index_column": 15,
         "accuracy": 1,
         "model": "rf"
        },
        {
         "_deepnote_index_column": 16,
         "accuracy": 1,
         "model": "rf_cv"
        },
        {
         "_deepnote_index_column": 17,
         "accuracy": 1,
         "model": "rf"
        },
        {
         "_deepnote_index_column": 18,
         "accuracy": 0.9705882352941176,
         "model": "rf_cv"
        },
        {
         "_deepnote_index_column": 19,
         "accuracy": 0.9705882352941176,
         "model": "rf"
        }
       ]
      },
      "text/html": [
       "<div>\n",
       "<style scoped>\n",
       "    .dataframe tbody tr th:only-of-type {\n",
       "        vertical-align: middle;\n",
       "    }\n",
       "\n",
       "    .dataframe tbody tr th {\n",
       "        vertical-align: top;\n",
       "    }\n",
       "\n",
       "    .dataframe thead th {\n",
       "        text-align: right;\n",
       "    }\n",
       "</style>\n",
       "<table border=\"1\" class=\"dataframe\">\n",
       "  <thead>\n",
       "    <tr style=\"text-align: right;\">\n",
       "      <th></th>\n",
       "      <th>accuracy</th>\n",
       "      <th>model</th>\n",
       "    </tr>\n",
       "  </thead>\n",
       "  <tbody>\n",
       "    <tr>\n",
       "      <th>0</th>\n",
       "      <td>1.000000</td>\n",
       "      <td>rf_cv</td>\n",
       "    </tr>\n",
       "    <tr>\n",
       "      <th>1</th>\n",
       "      <td>1.000000</td>\n",
       "      <td>rf</td>\n",
       "    </tr>\n",
       "    <tr>\n",
       "      <th>2</th>\n",
       "      <td>0.971429</td>\n",
       "      <td>rf_cv</td>\n",
       "    </tr>\n",
       "    <tr>\n",
       "      <th>3</th>\n",
       "      <td>0.971429</td>\n",
       "      <td>rf</td>\n",
       "    </tr>\n",
       "    <tr>\n",
       "      <th>4</th>\n",
       "      <td>1.000000</td>\n",
       "      <td>rf_cv</td>\n",
       "    </tr>\n",
       "    <tr>\n",
       "      <th>5</th>\n",
       "      <td>1.000000</td>\n",
       "      <td>rf</td>\n",
       "    </tr>\n",
       "    <tr>\n",
       "      <th>6</th>\n",
       "      <td>1.000000</td>\n",
       "      <td>rf_cv</td>\n",
       "    </tr>\n",
       "    <tr>\n",
       "      <th>7</th>\n",
       "      <td>1.000000</td>\n",
       "      <td>rf</td>\n",
       "    </tr>\n",
       "    <tr>\n",
       "      <th>8</th>\n",
       "      <td>1.000000</td>\n",
       "      <td>rf_cv</td>\n",
       "    </tr>\n",
       "    <tr>\n",
       "      <th>9</th>\n",
       "      <td>1.000000</td>\n",
       "      <td>rf</td>\n",
       "    </tr>\n",
       "    <tr>\n",
       "      <th>10</th>\n",
       "      <td>1.000000</td>\n",
       "      <td>rf_cv</td>\n",
       "    </tr>\n",
       "    <tr>\n",
       "      <th>11</th>\n",
       "      <td>1.000000</td>\n",
       "      <td>rf</td>\n",
       "    </tr>\n",
       "    <tr>\n",
       "      <th>12</th>\n",
       "      <td>0.970588</td>\n",
       "      <td>rf_cv</td>\n",
       "    </tr>\n",
       "    <tr>\n",
       "      <th>13</th>\n",
       "      <td>0.970588</td>\n",
       "      <td>rf</td>\n",
       "    </tr>\n",
       "    <tr>\n",
       "      <th>14</th>\n",
       "      <td>1.000000</td>\n",
       "      <td>rf_cv</td>\n",
       "    </tr>\n",
       "    <tr>\n",
       "      <th>15</th>\n",
       "      <td>1.000000</td>\n",
       "      <td>rf</td>\n",
       "    </tr>\n",
       "    <tr>\n",
       "      <th>16</th>\n",
       "      <td>1.000000</td>\n",
       "      <td>rf_cv</td>\n",
       "    </tr>\n",
       "    <tr>\n",
       "      <th>17</th>\n",
       "      <td>1.000000</td>\n",
       "      <td>rf</td>\n",
       "    </tr>\n",
       "    <tr>\n",
       "      <th>18</th>\n",
       "      <td>0.970588</td>\n",
       "      <td>rf_cv</td>\n",
       "    </tr>\n",
       "    <tr>\n",
       "      <th>19</th>\n",
       "      <td>0.970588</td>\n",
       "      <td>rf</td>\n",
       "    </tr>\n",
       "  </tbody>\n",
       "</table>\n",
       "</div>"
      ],
      "text/plain": [
       "    accuracy  model\n",
       "0   1.000000  rf_cv\n",
       "1   1.000000     rf\n",
       "2   0.971429  rf_cv\n",
       "3   0.971429     rf\n",
       "4   1.000000  rf_cv\n",
       "5   1.000000     rf\n",
       "6   1.000000  rf_cv\n",
       "7   1.000000     rf\n",
       "8   1.000000  rf_cv\n",
       "9   1.000000     rf\n",
       "10  1.000000  rf_cv\n",
       "11  1.000000     rf\n",
       "12  0.970588  rf_cv\n",
       "13  0.970588     rf\n",
       "14  1.000000  rf_cv\n",
       "15  1.000000     rf\n",
       "16  1.000000  rf_cv\n",
       "17  1.000000     rf\n",
       "18  0.970588  rf_cv\n",
       "19  0.970588     rf"
      ]
     },
     "execution_count": 12,
     "metadata": {},
     "output_type": "execute_result"
    }
   ],
   "source": [
    "# RANDOM FORESTS: Nested cross validation on n_estimators varying vs n_estimators=100\n",
    "\n",
    "X = data.drop('species', axis=1).to_numpy()\n",
    "y = data['species'].to_numpy()\n",
    "\n",
    "cv_outer = StratifiedKFold(n_splits=10, random_state=967, shuffle=True)\n",
    "\n",
    "# NESTED CROSS VALIDATION \n",
    "err_cv_nested = pd.DataFrame()\n",
    "# (1) outer cross validation \n",
    "for idx_train, idx_test in cv_outer.split(X, y):\n",
    "  X_outer_train, y_outer_train = X[idx_train], y[idx_train]\n",
    "  X_outer_test, y_outer_test = X[idx_test], y[idx_test]\n",
    "\n",
    "  # (2) inner cross validation\n",
    "  # (2.1) Random Forest  (modèle avec hyper-paramètres)\n",
    "  n_estimators_list = np.arange(100, 250, 50)\n",
    "  param_grid = {\"n_estimators\": n_estimators_list}\n",
    "  clf = RandomForestClassifier()\n",
    "  rf_model = RandomForestClassifier(n_estimators=100)\n",
    "  search_rf = GridSearchCV(clf, param_grid, scoring=\"accuracy\", cv=10)\n",
    "  search_rf.fit(X_outer_train, y_outer_train)\n",
    "  # training the knn model utilisant optimal K\n",
    "  rf_cv_model = RandomForestClassifier(max_depth=search_rf.best_params_[\"n_estimators\"])\n",
    "  rf_cv_model.fit(X_outer_train, y_outer_train)\n",
    "  rf_model.fit(X_outer_train, y_outer_train)\n",
    "\n",
    "  print(search_rf.best_params_[\"n_estimators\"])\n",
    "\n",
    "  # (1.1) Computing real accuracy \n",
    "  y_pred_rf_cv = rf_cv_model.predict(X_outer_test)\n",
    "  y_pred_rf = rf_model.predict(X_outer_test)\n",
    "  # accuracy \n",
    "  acc_rf_cv = accuracy_score(y_pred_rf_cv, y_outer_test)\n",
    "  acc_rf = accuracy_score(y_pred_rf, y_outer_test)\n",
    "  err_cv_nested = err_cv_nested.append({\"model\": \"rf_cv\", \"accuracy\": acc_rf_cv},ignore_index=True)\n",
    "  err_cv_nested = err_cv_nested.append({\"model\": \"rf\", \"accuracy\": acc_rf},ignore_index=True)\n",
    "\n",
    "err_cv_nested\n",
    "\n",
    "# Une majorité de 100% de prédiction malgré la CV sur n_estimators et le partitionnement aléatoire : au final n_estimators=100 bien souvent le meilleur résultat, trop peu de données pour éviter l'overfitting?"
   ]
  },
  {
   "cell_type": "code",
   "execution_count": null,
   "metadata": {
    "cell_id": "00010-693a97ce-740e-4525-ac7c-415b0fcac25d",
    "deepnote_cell_type": "code",
    "deepnote_to_be_reexecuted": false,
    "execution_millis": 269,
    "execution_start": 1622811988614,
    "source_hash": "f871608a",
    "tags": []
   },
   "outputs": [
    {
     "data": {
      "application/vnd.deepnote.dataframe.v2+json": {
       "column_count": 2,
       "columns": [
        {
         "dtype": "float64",
         "name": "accuracy",
         "stats": {
          "histogram": [
           {
            "bin_end": 0.7428571428571429,
            "bin_start": 0.7142857142857143,
            "count": 1
           },
           {
            "bin_end": 0.7714285714285715,
            "bin_start": 0.7428571428571429,
            "count": 0
           },
           {
            "bin_end": 0.8,
            "bin_start": 0.7714285714285715,
            "count": 0
           },
           {
            "bin_end": 0.8285714285714286,
            "bin_start": 0.8,
            "count": 0
           },
           {
            "bin_end": 0.8571428571428572,
            "bin_start": 0.8285714285714286,
            "count": 9
           },
           {
            "bin_end": 0.8857142857142857,
            "bin_start": 0.8571428571428572,
            "count": 0
           },
           {
            "bin_end": 0.9142857142857143,
            "bin_start": 0.8857142857142857,
            "count": 0
           },
           {
            "bin_end": 0.9428571428571428,
            "bin_start": 0.9142857142857143,
            "count": 0
           },
           {
            "bin_end": 0.9714285714285714,
            "bin_start": 0.9428571428571428,
            "count": 0
           },
           {
            "bin_end": 1,
            "bin_start": 0.9714285714285714,
            "count": 40
           }
          ],
          "max": "1.0",
          "min": "0.7142857142857143",
          "nan_count": 0,
          "unique_count": 4
         }
        },
        {
         "dtype": "object",
         "name": "model",
         "stats": {
          "categories": [
           {
            "count": 50,
            "name": "decision_tree"
           }
          ],
          "nan_count": 0,
          "unique_count": 1
         }
        },
        {
         "dtype": "int64",
         "name": "_deepnote_index_column"
        }
       ],
       "row_count": 50,
       "rows_bottom": null,
       "rows_top": [
        {
         "_deepnote_index_column": 0,
         "accuracy": 1,
         "model": "decision_tree"
        },
        {
         "_deepnote_index_column": 1,
         "accuracy": 1,
         "model": "decision_tree"
        },
        {
         "_deepnote_index_column": 2,
         "accuracy": 1,
         "model": "decision_tree"
        },
        {
         "_deepnote_index_column": 3,
         "accuracy": 1,
         "model": "decision_tree"
        },
        {
         "_deepnote_index_column": 4,
         "accuracy": 1,
         "model": "decision_tree"
        },
        {
         "_deepnote_index_column": 5,
         "accuracy": 0.7142857142857143,
         "model": "decision_tree"
        },
        {
         "_deepnote_index_column": 6,
         "accuracy": 1,
         "model": "decision_tree"
        },
        {
         "_deepnote_index_column": 7,
         "accuracy": 1,
         "model": "decision_tree"
        },
        {
         "_deepnote_index_column": 8,
         "accuracy": 1,
         "model": "decision_tree"
        },
        {
         "_deepnote_index_column": 9,
         "accuracy": 1,
         "model": "decision_tree"
        },
        {
         "_deepnote_index_column": 10,
         "accuracy": 1,
         "model": "decision_tree"
        },
        {
         "_deepnote_index_column": 11,
         "accuracy": 0.8571428571428571,
         "model": "decision_tree"
        },
        {
         "_deepnote_index_column": 12,
         "accuracy": 1,
         "model": "decision_tree"
        },
        {
         "_deepnote_index_column": 13,
         "accuracy": 1,
         "model": "decision_tree"
        },
        {
         "_deepnote_index_column": 14,
         "accuracy": 0.8571428571428571,
         "model": "decision_tree"
        },
        {
         "_deepnote_index_column": 15,
         "accuracy": 1,
         "model": "decision_tree"
        },
        {
         "_deepnote_index_column": 16,
         "accuracy": 1,
         "model": "decision_tree"
        },
        {
         "_deepnote_index_column": 17,
         "accuracy": 1,
         "model": "decision_tree"
        },
        {
         "_deepnote_index_column": 18,
         "accuracy": 0.8571428571428571,
         "model": "decision_tree"
        },
        {
         "_deepnote_index_column": 19,
         "accuracy": 1,
         "model": "decision_tree"
        },
        {
         "_deepnote_index_column": 20,
         "accuracy": 1,
         "model": "decision_tree"
        },
        {
         "_deepnote_index_column": 21,
         "accuracy": 1,
         "model": "decision_tree"
        },
        {
         "_deepnote_index_column": 22,
         "accuracy": 1,
         "model": "decision_tree"
        },
        {
         "_deepnote_index_column": 23,
         "accuracy": 0.8571428571428571,
         "model": "decision_tree"
        },
        {
         "_deepnote_index_column": 24,
         "accuracy": 0.8571428571428571,
         "model": "decision_tree"
        },
        {
         "_deepnote_index_column": 25,
         "accuracy": 1,
         "model": "decision_tree"
        },
        {
         "_deepnote_index_column": 26,
         "accuracy": 1,
         "model": "decision_tree"
        },
        {
         "_deepnote_index_column": 27,
         "accuracy": 1,
         "model": "decision_tree"
        },
        {
         "_deepnote_index_column": 28,
         "accuracy": 1,
         "model": "decision_tree"
        },
        {
         "_deepnote_index_column": 29,
         "accuracy": 1,
         "model": "decision_tree"
        },
        {
         "_deepnote_index_column": 30,
         "accuracy": 1,
         "model": "decision_tree"
        },
        {
         "_deepnote_index_column": 31,
         "accuracy": 1,
         "model": "decision_tree"
        },
        {
         "_deepnote_index_column": 32,
         "accuracy": 1,
         "model": "decision_tree"
        },
        {
         "_deepnote_index_column": 33,
         "accuracy": 0.8571428571428571,
         "model": "decision_tree"
        },
        {
         "_deepnote_index_column": 34,
         "accuracy": 1,
         "model": "decision_tree"
        },
        {
         "_deepnote_index_column": 35,
         "accuracy": 1,
         "model": "decision_tree"
        },
        {
         "_deepnote_index_column": 36,
         "accuracy": 1,
         "model": "decision_tree"
        },
        {
         "_deepnote_index_column": 37,
         "accuracy": 1,
         "model": "decision_tree"
        },
        {
         "_deepnote_index_column": 38,
         "accuracy": 0.8571428571428571,
         "model": "decision_tree"
        },
        {
         "_deepnote_index_column": 39,
         "accuracy": 1,
         "model": "decision_tree"
        },
        {
         "_deepnote_index_column": 40,
         "accuracy": 1,
         "model": "decision_tree"
        },
        {
         "_deepnote_index_column": 41,
         "accuracy": 1,
         "model": "decision_tree"
        },
        {
         "_deepnote_index_column": 42,
         "accuracy": 1,
         "model": "decision_tree"
        },
        {
         "_deepnote_index_column": 43,
         "accuracy": 0.8333333333333334,
         "model": "decision_tree"
        },
        {
         "_deepnote_index_column": 44,
         "accuracy": 1,
         "model": "decision_tree"
        },
        {
         "_deepnote_index_column": 45,
         "accuracy": 1,
         "model": "decision_tree"
        },
        {
         "_deepnote_index_column": 46,
         "accuracy": 0.8333333333333334,
         "model": "decision_tree"
        },
        {
         "_deepnote_index_column": 47,
         "accuracy": 1,
         "model": "decision_tree"
        },
        {
         "_deepnote_index_column": 48,
         "accuracy": 1,
         "model": "decision_tree"
        },
        {
         "_deepnote_index_column": 49,
         "accuracy": 1,
         "model": "decision_tree"
        }
       ]
      },
      "text/html": [
       "<div>\n",
       "<style scoped>\n",
       "    .dataframe tbody tr th:only-of-type {\n",
       "        vertical-align: middle;\n",
       "    }\n",
       "\n",
       "    .dataframe tbody tr th {\n",
       "        vertical-align: top;\n",
       "    }\n",
       "\n",
       "    .dataframe thead th {\n",
       "        text-align: right;\n",
       "    }\n",
       "</style>\n",
       "<table border=\"1\" class=\"dataframe\">\n",
       "  <thead>\n",
       "    <tr style=\"text-align: right;\">\n",
       "      <th></th>\n",
       "      <th>accuracy</th>\n",
       "      <th>model</th>\n",
       "    </tr>\n",
       "  </thead>\n",
       "  <tbody>\n",
       "    <tr>\n",
       "      <th>0</th>\n",
       "      <td>1.000000</td>\n",
       "      <td>decision_tree</td>\n",
       "    </tr>\n",
       "    <tr>\n",
       "      <th>1</th>\n",
       "      <td>1.000000</td>\n",
       "      <td>decision_tree</td>\n",
       "    </tr>\n",
       "    <tr>\n",
       "      <th>2</th>\n",
       "      <td>1.000000</td>\n",
       "      <td>decision_tree</td>\n",
       "    </tr>\n",
       "    <tr>\n",
       "      <th>3</th>\n",
       "      <td>1.000000</td>\n",
       "      <td>decision_tree</td>\n",
       "    </tr>\n",
       "    <tr>\n",
       "      <th>4</th>\n",
       "      <td>1.000000</td>\n",
       "      <td>decision_tree</td>\n",
       "    </tr>\n",
       "    <tr>\n",
       "      <th>5</th>\n",
       "      <td>0.714286</td>\n",
       "      <td>decision_tree</td>\n",
       "    </tr>\n",
       "    <tr>\n",
       "      <th>6</th>\n",
       "      <td>1.000000</td>\n",
       "      <td>decision_tree</td>\n",
       "    </tr>\n",
       "    <tr>\n",
       "      <th>7</th>\n",
       "      <td>1.000000</td>\n",
       "      <td>decision_tree</td>\n",
       "    </tr>\n",
       "    <tr>\n",
       "      <th>8</th>\n",
       "      <td>1.000000</td>\n",
       "      <td>decision_tree</td>\n",
       "    </tr>\n",
       "    <tr>\n",
       "      <th>9</th>\n",
       "      <td>1.000000</td>\n",
       "      <td>decision_tree</td>\n",
       "    </tr>\n",
       "    <tr>\n",
       "      <th>10</th>\n",
       "      <td>1.000000</td>\n",
       "      <td>decision_tree</td>\n",
       "    </tr>\n",
       "    <tr>\n",
       "      <th>11</th>\n",
       "      <td>0.857143</td>\n",
       "      <td>decision_tree</td>\n",
       "    </tr>\n",
       "    <tr>\n",
       "      <th>12</th>\n",
       "      <td>1.000000</td>\n",
       "      <td>decision_tree</td>\n",
       "    </tr>\n",
       "    <tr>\n",
       "      <th>13</th>\n",
       "      <td>1.000000</td>\n",
       "      <td>decision_tree</td>\n",
       "    </tr>\n",
       "    <tr>\n",
       "      <th>14</th>\n",
       "      <td>0.857143</td>\n",
       "      <td>decision_tree</td>\n",
       "    </tr>\n",
       "    <tr>\n",
       "      <th>15</th>\n",
       "      <td>1.000000</td>\n",
       "      <td>decision_tree</td>\n",
       "    </tr>\n",
       "    <tr>\n",
       "      <th>16</th>\n",
       "      <td>1.000000</td>\n",
       "      <td>decision_tree</td>\n",
       "    </tr>\n",
       "    <tr>\n",
       "      <th>17</th>\n",
       "      <td>1.000000</td>\n",
       "      <td>decision_tree</td>\n",
       "    </tr>\n",
       "    <tr>\n",
       "      <th>18</th>\n",
       "      <td>0.857143</td>\n",
       "      <td>decision_tree</td>\n",
       "    </tr>\n",
       "    <tr>\n",
       "      <th>19</th>\n",
       "      <td>1.000000</td>\n",
       "      <td>decision_tree</td>\n",
       "    </tr>\n",
       "    <tr>\n",
       "      <th>20</th>\n",
       "      <td>1.000000</td>\n",
       "      <td>decision_tree</td>\n",
       "    </tr>\n",
       "    <tr>\n",
       "      <th>21</th>\n",
       "      <td>1.000000</td>\n",
       "      <td>decision_tree</td>\n",
       "    </tr>\n",
       "    <tr>\n",
       "      <th>22</th>\n",
       "      <td>1.000000</td>\n",
       "      <td>decision_tree</td>\n",
       "    </tr>\n",
       "    <tr>\n",
       "      <th>23</th>\n",
       "      <td>0.857143</td>\n",
       "      <td>decision_tree</td>\n",
       "    </tr>\n",
       "    <tr>\n",
       "      <th>24</th>\n",
       "      <td>0.857143</td>\n",
       "      <td>decision_tree</td>\n",
       "    </tr>\n",
       "    <tr>\n",
       "      <th>25</th>\n",
       "      <td>1.000000</td>\n",
       "      <td>decision_tree</td>\n",
       "    </tr>\n",
       "    <tr>\n",
       "      <th>26</th>\n",
       "      <td>1.000000</td>\n",
       "      <td>decision_tree</td>\n",
       "    </tr>\n",
       "    <tr>\n",
       "      <th>27</th>\n",
       "      <td>1.000000</td>\n",
       "      <td>decision_tree</td>\n",
       "    </tr>\n",
       "    <tr>\n",
       "      <th>28</th>\n",
       "      <td>1.000000</td>\n",
       "      <td>decision_tree</td>\n",
       "    </tr>\n",
       "    <tr>\n",
       "      <th>29</th>\n",
       "      <td>1.000000</td>\n",
       "      <td>decision_tree</td>\n",
       "    </tr>\n",
       "    <tr>\n",
       "      <th>30</th>\n",
       "      <td>1.000000</td>\n",
       "      <td>decision_tree</td>\n",
       "    </tr>\n",
       "    <tr>\n",
       "      <th>31</th>\n",
       "      <td>1.000000</td>\n",
       "      <td>decision_tree</td>\n",
       "    </tr>\n",
       "    <tr>\n",
       "      <th>32</th>\n",
       "      <td>1.000000</td>\n",
       "      <td>decision_tree</td>\n",
       "    </tr>\n",
       "    <tr>\n",
       "      <th>33</th>\n",
       "      <td>0.857143</td>\n",
       "      <td>decision_tree</td>\n",
       "    </tr>\n",
       "    <tr>\n",
       "      <th>34</th>\n",
       "      <td>1.000000</td>\n",
       "      <td>decision_tree</td>\n",
       "    </tr>\n",
       "    <tr>\n",
       "      <th>35</th>\n",
       "      <td>1.000000</td>\n",
       "      <td>decision_tree</td>\n",
       "    </tr>\n",
       "    <tr>\n",
       "      <th>36</th>\n",
       "      <td>1.000000</td>\n",
       "      <td>decision_tree</td>\n",
       "    </tr>\n",
       "    <tr>\n",
       "      <th>37</th>\n",
       "      <td>1.000000</td>\n",
       "      <td>decision_tree</td>\n",
       "    </tr>\n",
       "    <tr>\n",
       "      <th>38</th>\n",
       "      <td>0.857143</td>\n",
       "      <td>decision_tree</td>\n",
       "    </tr>\n",
       "    <tr>\n",
       "      <th>39</th>\n",
       "      <td>1.000000</td>\n",
       "      <td>decision_tree</td>\n",
       "    </tr>\n",
       "    <tr>\n",
       "      <th>40</th>\n",
       "      <td>1.000000</td>\n",
       "      <td>decision_tree</td>\n",
       "    </tr>\n",
       "    <tr>\n",
       "      <th>41</th>\n",
       "      <td>1.000000</td>\n",
       "      <td>decision_tree</td>\n",
       "    </tr>\n",
       "    <tr>\n",
       "      <th>42</th>\n",
       "      <td>1.000000</td>\n",
       "      <td>decision_tree</td>\n",
       "    </tr>\n",
       "    <tr>\n",
       "      <th>43</th>\n",
       "      <td>0.833333</td>\n",
       "      <td>decision_tree</td>\n",
       "    </tr>\n",
       "    <tr>\n",
       "      <th>44</th>\n",
       "      <td>1.000000</td>\n",
       "      <td>decision_tree</td>\n",
       "    </tr>\n",
       "    <tr>\n",
       "      <th>45</th>\n",
       "      <td>1.000000</td>\n",
       "      <td>decision_tree</td>\n",
       "    </tr>\n",
       "    <tr>\n",
       "      <th>46</th>\n",
       "      <td>0.833333</td>\n",
       "      <td>decision_tree</td>\n",
       "    </tr>\n",
       "    <tr>\n",
       "      <th>47</th>\n",
       "      <td>1.000000</td>\n",
       "      <td>decision_tree</td>\n",
       "    </tr>\n",
       "    <tr>\n",
       "      <th>48</th>\n",
       "      <td>1.000000</td>\n",
       "      <td>decision_tree</td>\n",
       "    </tr>\n",
       "    <tr>\n",
       "      <th>49</th>\n",
       "      <td>1.000000</td>\n",
       "      <td>decision_tree</td>\n",
       "    </tr>\n",
       "  </tbody>\n",
       "</table>\n",
       "</div>"
      ],
      "text/plain": [
       "    accuracy          model\n",
       "0   1.000000  decision_tree\n",
       "1   1.000000  decision_tree\n",
       "2   1.000000  decision_tree\n",
       "3   1.000000  decision_tree\n",
       "4   1.000000  decision_tree\n",
       "5   0.714286  decision_tree\n",
       "6   1.000000  decision_tree\n",
       "7   1.000000  decision_tree\n",
       "8   1.000000  decision_tree\n",
       "9   1.000000  decision_tree\n",
       "10  1.000000  decision_tree\n",
       "11  0.857143  decision_tree\n",
       "12  1.000000  decision_tree\n",
       "13  1.000000  decision_tree\n",
       "14  0.857143  decision_tree\n",
       "15  1.000000  decision_tree\n",
       "16  1.000000  decision_tree\n",
       "17  1.000000  decision_tree\n",
       "18  0.857143  decision_tree\n",
       "19  1.000000  decision_tree\n",
       "20  1.000000  decision_tree\n",
       "21  1.000000  decision_tree\n",
       "22  1.000000  decision_tree\n",
       "23  0.857143  decision_tree\n",
       "24  0.857143  decision_tree\n",
       "25  1.000000  decision_tree\n",
       "26  1.000000  decision_tree\n",
       "27  1.000000  decision_tree\n",
       "28  1.000000  decision_tree\n",
       "29  1.000000  decision_tree\n",
       "30  1.000000  decision_tree\n",
       "31  1.000000  decision_tree\n",
       "32  1.000000  decision_tree\n",
       "33  0.857143  decision_tree\n",
       "34  1.000000  decision_tree\n",
       "35  1.000000  decision_tree\n",
       "36  1.000000  decision_tree\n",
       "37  1.000000  decision_tree\n",
       "38  0.857143  decision_tree\n",
       "39  1.000000  decision_tree\n",
       "40  1.000000  decision_tree\n",
       "41  1.000000  decision_tree\n",
       "42  1.000000  decision_tree\n",
       "43  0.833333  decision_tree\n",
       "44  1.000000  decision_tree\n",
       "45  1.000000  decision_tree\n",
       "46  0.833333  decision_tree\n",
       "47  1.000000  decision_tree\n",
       "48  1.000000  decision_tree\n",
       "49  1.000000  decision_tree"
      ]
     },
     "execution_count": 13,
     "metadata": {},
     "output_type": "execute_result"
    }
   ],
   "source": [
    "X = data.drop('species', axis=1).to_numpy()\n",
    "y = data['species'].to_numpy()\n",
    "\n",
    "cv_outer = StratifiedKFold(n_splits=50, random_state=3569, shuffle=True)\n",
    "\n",
    "# NESTED CROSS VALIDATION \n",
    "err_cv_nested = pd.DataFrame()\n",
    "# (1) outer cross validation \n",
    "for idx_train, idx_test in cv_outer.split(X, y):\n",
    "  X_outer_train, y_outer_train = X[idx_train], y[idx_train]\n",
    "  X_outer_test, y_outer_test = X[idx_test], y[idx_test]\n",
    "\n",
    "  # (2.2) Decision Tree\n",
    "  logistic_model = DecisionTreeClassifier()\n",
    "  logistic_model.fit(X_outer_train, y_outer_train)\n",
    "\n",
    "  # (1.1) Computing real accuracy \n",
    "  y_pred_logistic = logistic_model.predict(X_outer_test)\n",
    "  # accuracy \n",
    "  acc_tree = accuracy_score(y_pred_logistic, y_outer_test)\n",
    "  err_cv_nested = err_cv_nested.append({\"model\": \"decision_tree\", \"accuracy\": acc_tree},ignore_index=True)\n",
    "\n",
    "err_cv_nested"
   ]
  },
  {
   "cell_type": "markdown",
   "metadata": {
    "created_in_deepnote_cell": true,
    "deepnote_cell_type": "markdown",
    "tags": []
   },
   "source": [
    "<a style='text-decoration:none;line-height:16px;display:flex;color:#5B5B62;padding:10px;justify-content:end;' href='https://deepnote.com?utm_source=created-in-deepnote-cell&projectId=1dd35576-464a-4d46-a0e6-752fc35b7463' target=\"_blank\">\n",
    "<img alt='Created in deepnote.com' style='display:inline;max-height:16px;margin:0px;margin-right:7.5px;' src='data:image/svg+xml;base64,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' > </img>\n",
    "Created in <span style='font-weight:600;margin-left:4px;'>Deepnote</span></a>"
   ]
  }
 ],
 "metadata": {
  "colab": {
   "collapsed_sections": [],
   "name": "Bayes + Decision Trees.ipynb",
   "provenance": []
  },
  "deepnote": {},
  "deepnote_execution_queue": [],
  "deepnote_notebook_id": "ea7277cd-0162-4197-a80c-3829d01a1d49",
  "kernelspec": {
   "display_name": "Python 3",
   "language": "python",
   "name": "python3"
  },
  "language_info": {
   "codemirror_mode": {
    "name": "ipython",
    "version": 3
   },
   "file_extension": ".py",
   "mimetype": "text/x-python",
   "name": "python",
   "nbconvert_exporter": "python",
   "pygments_lexer": "ipython3",
   "version": "3.9.5"
  }
 },
 "nbformat": 4,
 "nbformat_minor": 4
}
