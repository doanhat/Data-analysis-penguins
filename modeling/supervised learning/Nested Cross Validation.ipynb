{
 "cells": [
  {
   "cell_type": "markdown",
   "source": "# Nested Crossed Validation / Validation Croisée imbriquée ",
   "metadata": {
    "tags": [],
    "cell_id": "00001-88570c10-7adb-480c-a452-f8a7310575a3",
    "deepnote_cell_type": "text-cell-h1"
   }
  },
  {
   "cell_type": "markdown",
   "source": "## Définition &amp; explications :",
   "metadata": {
    "tags": [],
    "cell_id": "00001-839e9fb6-9785-4bfc-9ce0-170639d4374c",
    "deepnote_cell_type": "text-cell-h2"
   }
  },
  {
   "cell_type": "markdown",
   "source": "La méthode consiste à séparer nos données de manière organisée. On sépare l'ensemble en 10 (N) groupes. On répète 10 (N) itérations dans lesquelles chacun des groupes sera utilisé pour tester les données. Le reste des groupes devient l'ensemble d'apprentissage, qui est divisé lui même en deux : le réel ensemble d'apprentissage, et l'ensemble de validation du modèle. Au sein d'une boucle interne, on va apprendre les modèles (cad apprendre les meilleurs hyper-paramètres le concernant).  En sortie de l'algorithme, on connaitra le meilleur paramètre &amp; le biais réel (sans overfitting) du modèle.",
   "metadata": {
    "tags": [],
    "cell_id": "00002-c46db25f-6f81-4206-a2fe-95c0dab37c49",
    "deepnote_cell_type": "text-cell-p"
   }
  },
  {
   "cell_type": "markdown",
   "source": "But du notebook : montrer l'intérêt de cette pratique quand on a peu d'individus (sur les KNN), puis l'utiliser sur les autres méthodes afin de les comparer.  ",
   "metadata": {
    "tags": [],
    "cell_id": "00001-dc3c9799-d047-4a7a-b356-869f8fb33c8a",
    "deepnote_cell_type": "text-cell-p"
   }
  },
  {
   "cell_type": "markdown",
   "source": "## Exemple des KNN",
   "metadata": {
    "tags": [],
    "cell_id": "00002-df0179c5-d9a4-4461-b799-5dd1540fd2d5",
    "deepnote_cell_type": "text-cell-h2"
   }
  },
  {
   "cell_type": "markdown",
   "source": "Lire le dataset, importer les bibliothèques...",
   "metadata": {
    "tags": [],
    "cell_id": "00005-640fc96b-63bf-48c7-b9fa-dd2c7b7309e6",
    "deepnote_cell_type": "text-cell-p"
   }
  },
  {
   "cell_type": "code",
   "metadata": {
    "tags": [],
    "cell_id": "00006-1a6552a8-46e1-4d05-8c7a-55d8c8af7547",
    "deepnote_to_be_reexecuted": false,
    "source_hash": "373d9cc7",
    "execution_start": 1622951742887,
    "execution_millis": 83,
    "deepnote_cell_type": "code"
   },
   "source": "import pandas as pd\ndata = pd.read_csv('../../data/penguins_for_machine_learning.csv')\ndata.head()",
   "execution_count": 2,
   "outputs": [
    {
     "output_type": "execute_result",
     "execution_count": 2,
     "data": {
      "application/vnd.deepnote.dataframe.v2+json": {
       "row_count": 5,
       "column_count": 10,
       "columns": [
        {
         "name": "Biscoe",
         "dtype": "float64",
         "stats": {
          "unique_count": 1,
          "nan_count": 0,
          "min": "0.0",
          "max": "0.0",
          "histogram": [
           {
            "bin_start": -0.5,
            "bin_end": -0.4,
            "count": 0
           },
           {
            "bin_start": -0.4,
            "bin_end": -0.3,
            "count": 0
           },
           {
            "bin_start": -0.3,
            "bin_end": -0.19999999999999996,
            "count": 0
           },
           {
            "bin_start": -0.19999999999999996,
            "bin_end": -0.09999999999999998,
            "count": 0
           },
           {
            "bin_start": -0.09999999999999998,
            "bin_end": 0,
            "count": 0
           },
           {
            "bin_start": 0,
            "bin_end": 0.10000000000000009,
            "count": 5
           },
           {
            "bin_start": 0.10000000000000009,
            "bin_end": 0.20000000000000007,
            "count": 0
           },
           {
            "bin_start": 0.20000000000000007,
            "bin_end": 0.30000000000000004,
            "count": 0
           },
           {
            "bin_start": 0.30000000000000004,
            "bin_end": 0.4,
            "count": 0
           },
           {
            "bin_start": 0.4,
            "bin_end": 0.5,
            "count": 0
           }
          ]
         }
        },
        {
         "name": "Dream",
         "dtype": "float64",
         "stats": {
          "unique_count": 1,
          "nan_count": 0,
          "min": "0.0",
          "max": "0.0",
          "histogram": [
           {
            "bin_start": -0.5,
            "bin_end": -0.4,
            "count": 0
           },
           {
            "bin_start": -0.4,
            "bin_end": -0.3,
            "count": 0
           },
           {
            "bin_start": -0.3,
            "bin_end": -0.19999999999999996,
            "count": 0
           },
           {
            "bin_start": -0.19999999999999996,
            "bin_end": -0.09999999999999998,
            "count": 0
           },
           {
            "bin_start": -0.09999999999999998,
            "bin_end": 0,
            "count": 0
           },
           {
            "bin_start": 0,
            "bin_end": 0.10000000000000009,
            "count": 5
           },
           {
            "bin_start": 0.10000000000000009,
            "bin_end": 0.20000000000000007,
            "count": 0
           },
           {
            "bin_start": 0.20000000000000007,
            "bin_end": 0.30000000000000004,
            "count": 0
           },
           {
            "bin_start": 0.30000000000000004,
            "bin_end": 0.4,
            "count": 0
           },
           {
            "bin_start": 0.4,
            "bin_end": 0.5,
            "count": 0
           }
          ]
         }
        },
        {
         "name": "Torgersen",
         "dtype": "float64",
         "stats": {
          "unique_count": 1,
          "nan_count": 0,
          "min": "1.0",
          "max": "1.0",
          "histogram": [
           {
            "bin_start": 0.5,
            "bin_end": 0.6,
            "count": 0
           },
           {
            "bin_start": 0.6,
            "bin_end": 0.7,
            "count": 0
           },
           {
            "bin_start": 0.7,
            "bin_end": 0.8,
            "count": 0
           },
           {
            "bin_start": 0.8,
            "bin_end": 0.9,
            "count": 0
           },
           {
            "bin_start": 0.9,
            "bin_end": 1,
            "count": 0
           },
           {
            "bin_start": 1,
            "bin_end": 1.1,
            "count": 5
           },
           {
            "bin_start": 1.1,
            "bin_end": 1.2000000000000002,
            "count": 0
           },
           {
            "bin_start": 1.2000000000000002,
            "bin_end": 1.3,
            "count": 0
           },
           {
            "bin_start": 1.3,
            "bin_end": 1.4,
            "count": 0
           },
           {
            "bin_start": 1.4,
            "bin_end": 1.5,
            "count": 0
           }
          ]
         }
        },
        {
         "name": "species",
         "dtype": "object",
         "stats": {
          "unique_count": 1,
          "nan_count": 0,
          "categories": [
           {
            "name": "Adelie",
            "count": 5
           }
          ]
         }
        },
        {
         "name": "bill_length",
         "dtype": "float64",
         "stats": {
          "unique_count": 5,
          "nan_count": 0,
          "min": "36.7",
          "max": "40.3",
          "histogram": [
           {
            "bin_start": 36.7,
            "bin_end": 37.06,
            "count": 1
           },
           {
            "bin_start": 37.06,
            "bin_end": 37.42,
            "count": 0
           },
           {
            "bin_start": 37.42,
            "bin_end": 37.78,
            "count": 0
           },
           {
            "bin_start": 37.78,
            "bin_end": 38.14,
            "count": 0
           },
           {
            "bin_start": 38.14,
            "bin_end": 38.5,
            "count": 0
           },
           {
            "bin_start": 38.5,
            "bin_end": 38.86,
            "count": 0
           },
           {
            "bin_start": 38.86,
            "bin_end": 39.22,
            "count": 1
           },
           {
            "bin_start": 39.22,
            "bin_end": 39.58,
            "count": 2
           },
           {
            "bin_start": 39.58,
            "bin_end": 39.94,
            "count": 0
           },
           {
            "bin_start": 39.94,
            "bin_end": 40.3,
            "count": 1
           }
          ]
         }
        },
        {
         "name": "bill_depth",
         "dtype": "float64",
         "stats": {
          "unique_count": 5,
          "nan_count": 0,
          "min": "17.4",
          "max": "20.6",
          "histogram": [
           {
            "bin_start": 17.4,
            "bin_end": 17.72,
            "count": 1
           },
           {
            "bin_start": 17.72,
            "bin_end": 18.04,
            "count": 1
           },
           {
            "bin_start": 18.04,
            "bin_end": 18.36,
            "count": 0
           },
           {
            "bin_start": 18.36,
            "bin_end": 18.68,
            "count": 0
           },
           {
            "bin_start": 18.68,
            "bin_end": 19,
            "count": 1
           },
           {
            "bin_start": 19,
            "bin_end": 19.32,
            "count": 1
           },
           {
            "bin_start": 19.32,
            "bin_end": 19.64,
            "count": 0
           },
           {
            "bin_start": 19.64,
            "bin_end": 19.96,
            "count": 0
           },
           {
            "bin_start": 19.96,
            "bin_end": 20.28,
            "count": 0
           },
           {
            "bin_start": 20.28,
            "bin_end": 20.6,
            "count": 1
           }
          ]
         }
        },
        {
         "name": "flipper_length",
         "dtype": "float64",
         "stats": {
          "unique_count": 5,
          "nan_count": 0,
          "min": "181.0",
          "max": "195.0",
          "histogram": [
           {
            "bin_start": 181,
            "bin_end": 182.4,
            "count": 1
           },
           {
            "bin_start": 182.4,
            "bin_end": 183.8,
            "count": 0
           },
           {
            "bin_start": 183.8,
            "bin_end": 185.2,
            "count": 0
           },
           {
            "bin_start": 185.2,
            "bin_end": 186.6,
            "count": 1
           },
           {
            "bin_start": 186.6,
            "bin_end": 188,
            "count": 0
           },
           {
            "bin_start": 188,
            "bin_end": 189.4,
            "count": 0
           },
           {
            "bin_start": 189.4,
            "bin_end": 190.8,
            "count": 1
           },
           {
            "bin_start": 190.8,
            "bin_end": 192.2,
            "count": 0
           },
           {
            "bin_start": 192.2,
            "bin_end": 193.6,
            "count": 1
           },
           {
            "bin_start": 193.6,
            "bin_end": 195,
            "count": 1
           }
          ]
         }
        },
        {
         "name": "body_mass",
         "dtype": "float64",
         "stats": {
          "unique_count": 5,
          "nan_count": 0,
          "min": "3250.0",
          "max": "3800.0",
          "histogram": [
           {
            "bin_start": 3250,
            "bin_end": 3305,
            "count": 1
           },
           {
            "bin_start": 3305,
            "bin_end": 3360,
            "count": 0
           },
           {
            "bin_start": 3360,
            "bin_end": 3415,
            "count": 0
           },
           {
            "bin_start": 3415,
            "bin_end": 3470,
            "count": 1
           },
           {
            "bin_start": 3470,
            "bin_end": 3525,
            "count": 0
           },
           {
            "bin_start": 3525,
            "bin_end": 3580,
            "count": 0
           },
           {
            "bin_start": 3580,
            "bin_end": 3635,
            "count": 0
           },
           {
            "bin_start": 3635,
            "bin_end": 3690,
            "count": 1
           },
           {
            "bin_start": 3690,
            "bin_end": 3745,
            "count": 0
           },
           {
            "bin_start": 3745,
            "bin_end": 3800,
            "count": 2
           }
          ]
         }
        },
        {
         "name": "del15",
         "dtype": "float64",
         "stats": {
          "unique_count": 5,
          "nan_count": 0,
          "min": "8.368210000000001",
          "max": "8.94956",
          "histogram": [
           {
            "bin_start": 8.368210000000001,
            "bin_end": 8.426345000000001,
            "count": 1
           },
           {
            "bin_start": 8.426345000000001,
            "bin_end": 8.484480000000001,
            "count": 0
           },
           {
            "bin_start": 8.484480000000001,
            "bin_end": 8.542615000000001,
            "count": 0
           },
           {
            "bin_start": 8.542615000000001,
            "bin_end": 8.600750000000001,
            "count": 0
           },
           {
            "bin_start": 8.600750000000001,
            "bin_end": 8.658885000000001,
            "count": 0
           },
           {
            "bin_start": 8.658885000000001,
            "bin_end": 8.71702,
            "count": 1
           },
           {
            "bin_start": 8.71702,
            "bin_end": 8.775155,
            "count": 1
           },
           {
            "bin_start": 8.775155,
            "bin_end": 8.83329,
            "count": 0
           },
           {
            "bin_start": 8.83329,
            "bin_end": 8.891425,
            "count": 1
           },
           {
            "bin_start": 8.891425,
            "bin_end": 8.94956,
            "count": 1
           }
          ]
         }
        },
        {
         "name": "del13",
         "dtype": "float64",
         "stats": {
          "unique_count": 5,
          "nan_count": 0,
          "min": "-25.804193758865253",
          "max": "-24.69454",
          "histogram": [
           {
            "bin_start": -25.804193758865253,
            "bin_end": -25.693228382978727,
            "count": 1
           },
           {
            "bin_start": -25.693228382978727,
            "bin_end": -25.5822630070922,
            "count": 0
           },
           {
            "bin_start": -25.5822630070922,
            "bin_end": -25.471297631205676,
            "count": 0
           },
           {
            "bin_start": -25.471297631205676,
            "bin_end": -25.36033225531915,
            "count": 0
           },
           {
            "bin_start": -25.36033225531915,
            "bin_end": -25.24936687943263,
            "count": 3
           },
           {
            "bin_start": -25.24936687943263,
            "bin_end": -25.138401503546103,
            "count": 0
           },
           {
            "bin_start": -25.138401503546103,
            "bin_end": -25.027436127659577,
            "count": 0
           },
           {
            "bin_start": -25.027436127659577,
            "bin_end": -24.91647075177305,
            "count": 0
           },
           {
            "bin_start": -24.91647075177305,
            "bin_end": -24.805505375886526,
            "count": 0
           },
           {
            "bin_start": -24.805505375886526,
            "bin_end": -24.69454,
            "count": 1
           }
          ]
         }
        },
        {
         "name": "_deepnote_index_column",
         "dtype": "int64"
        }
       ],
       "rows_top": [
        {
         "Biscoe": 0,
         "Dream": 0,
         "Torgersen": 1,
         "species": "Adelie",
         "bill_length": 39.1,
         "bill_depth": 18.7,
         "flipper_length": 181,
         "body_mass": 3750,
         "del15": 8.859732765957444,
         "del13": -25.804193758865253,
         "_deepnote_index_column": 0
        },
        {
         "Biscoe": 0,
         "Dream": 0,
         "Torgersen": 1,
         "species": "Adelie",
         "bill_length": 39.5,
         "bill_depth": 17.4,
         "flipper_length": 186,
         "body_mass": 3800,
         "del15": 8.94956,
         "del13": -24.69454,
         "_deepnote_index_column": 1
        },
        {
         "Biscoe": 0,
         "Dream": 0,
         "Torgersen": 1,
         "species": "Adelie",
         "bill_length": 40.3,
         "bill_depth": 18,
         "flipper_length": 195,
         "body_mass": 3250,
         "del15": 8.368210000000001,
         "del13": -25.33302,
         "_deepnote_index_column": 2
        },
        {
         "Biscoe": 0,
         "Dream": 0,
         "Torgersen": 1,
         "species": "Adelie",
         "bill_length": 36.7,
         "bill_depth": 19.3,
         "flipper_length": 193,
         "body_mass": 3450,
         "del15": 8.76651,
         "del13": -25.32426,
         "_deepnote_index_column": 3
        },
        {
         "Biscoe": 0,
         "Dream": 0,
         "Torgersen": 1,
         "species": "Adelie",
         "bill_length": 39.3,
         "bill_depth": 20.6,
         "flipper_length": 190,
         "body_mass": 3650,
         "del15": 8.66496,
         "del13": -25.29805,
         "_deepnote_index_column": 4
        }
       ],
       "rows_bottom": null
      },
      "text/plain": "   Biscoe  Dream  Torgersen species  bill_length  bill_depth  flipper_length  \\\n0     0.0    0.0        1.0  Adelie         39.1        18.7           181.0   \n1     0.0    0.0        1.0  Adelie         39.5        17.4           186.0   \n2     0.0    0.0        1.0  Adelie         40.3        18.0           195.0   \n3     0.0    0.0        1.0  Adelie         36.7        19.3           193.0   \n4     0.0    0.0        1.0  Adelie         39.3        20.6           190.0   \n\n   body_mass     del15      del13  \n0     3750.0  8.859733 -25.804194  \n1     3800.0  8.949560 -24.694540  \n2     3250.0  8.368210 -25.333020  \n3     3450.0  8.766510 -25.324260  \n4     3650.0  8.664960 -25.298050  ",
      "text/html": "<div>\n<style scoped>\n    .dataframe tbody tr th:only-of-type {\n        vertical-align: middle;\n    }\n\n    .dataframe tbody tr th {\n        vertical-align: top;\n    }\n\n    .dataframe thead th {\n        text-align: right;\n    }\n</style>\n<table border=\"1\" class=\"dataframe\">\n  <thead>\n    <tr style=\"text-align: right;\">\n      <th></th>\n      <th>Biscoe</th>\n      <th>Dream</th>\n      <th>Torgersen</th>\n      <th>species</th>\n      <th>bill_length</th>\n      <th>bill_depth</th>\n      <th>flipper_length</th>\n      <th>body_mass</th>\n      <th>del15</th>\n      <th>del13</th>\n    </tr>\n  </thead>\n  <tbody>\n    <tr>\n      <th>0</th>\n      <td>0.0</td>\n      <td>0.0</td>\n      <td>1.0</td>\n      <td>Adelie</td>\n      <td>39.1</td>\n      <td>18.7</td>\n      <td>181.0</td>\n      <td>3750.0</td>\n      <td>8.859733</td>\n      <td>-25.804194</td>\n    </tr>\n    <tr>\n      <th>1</th>\n      <td>0.0</td>\n      <td>0.0</td>\n      <td>1.0</td>\n      <td>Adelie</td>\n      <td>39.5</td>\n      <td>17.4</td>\n      <td>186.0</td>\n      <td>3800.0</td>\n      <td>8.949560</td>\n      <td>-24.694540</td>\n    </tr>\n    <tr>\n      <th>2</th>\n      <td>0.0</td>\n      <td>0.0</td>\n      <td>1.0</td>\n      <td>Adelie</td>\n      <td>40.3</td>\n      <td>18.0</td>\n      <td>195.0</td>\n      <td>3250.0</td>\n      <td>8.368210</td>\n      <td>-25.333020</td>\n    </tr>\n    <tr>\n      <th>3</th>\n      <td>0.0</td>\n      <td>0.0</td>\n      <td>1.0</td>\n      <td>Adelie</td>\n      <td>36.7</td>\n      <td>19.3</td>\n      <td>193.0</td>\n      <td>3450.0</td>\n      <td>8.766510</td>\n      <td>-25.324260</td>\n    </tr>\n    <tr>\n      <th>4</th>\n      <td>0.0</td>\n      <td>0.0</td>\n      <td>1.0</td>\n      <td>Adelie</td>\n      <td>39.3</td>\n      <td>20.6</td>\n      <td>190.0</td>\n      <td>3650.0</td>\n      <td>8.664960</td>\n      <td>-25.298050</td>\n    </tr>\n  </tbody>\n</table>\n</div>"
     },
     "metadata": {}
    }
   ]
  },
  {
   "cell_type": "markdown",
   "source": "Source : https://scikit-learn.org/stable/auto_examples/model_selection/plot_nested_cross_validation_iris.html",
   "metadata": {
    "tags": [],
    "cell_id": "00007-7e147040-7061-4490-8295-40138da1f488",
    "deepnote_cell_type": "text-cell-p"
   }
  },
  {
   "cell_type": "code",
   "metadata": {
    "tags": [],
    "cell_id": "00007-fec40cab-5e1f-47cc-beea-638218fa0783",
    "deepnote_to_be_reexecuted": false,
    "source_hash": "8a1774c8",
    "execution_start": 1622951745569,
    "execution_millis": 27,
    "deepnote_cell_type": "code"
   },
   "source": "from sklearn.model_selection import StratifiedKFold\n\n# classifiers \nfrom sklearn.neighbors import KNeighborsClassifier\n\n#others\nfrom sklearn.model_selection import cross_val_score\nfrom sklearn.model_selection import GridSearchCV\nfrom sklearn.metrics import accuracy_score\n\n#loc the data \nX = data.drop(['species'], axis=1)\ny = data.iloc[:, 3]\ncv_outer = StratifiedKFold(n_splits=10, random_state=1729, shuffle=True)\n\n# empty pd DF to store accuracies\nerr_cv_nested = pd.DataFrame()\n\n# (1) outer cross validation \nfor idx_train, idx_test in cv_outer.split(X, y):\n  X_outer_train, y_outer_train = X[idx_train], y[idx_train]\n  X_outer_test, y_outer_test = X[idx_test], y[idx_test]\n\n  # Setting up the KNNs\n  n_neighbors_list = np.arange(1, 100, 5)\n  param_grid = {\"n_neighbors\": n_neighbors_list}\n  cls = KNeighborsClassifier()\n\n  # (2.2) Nested crossed validation with inner CV\n  search_knn = GridSearchCV(cls, param_grid, scoring=\"accuracy\", cv=10)\n  search_knn.fit(X_outer_train, y_outer_train)\n\n  # training the knn model using the optimal K we just found\n  knn_cv_model = KNeighborsClassifier(n_neighbors=search_knn.best_params_[\"n_neighbors\"])\n  knn_cv_model.fit(X_outer_train, y_outer_train)\n\n  # ---------------------------------------------------------------------------------------------------------------------------------------------------\n\n  # (1.1) Computing real accuracy \n  y_pred_knn = knn_cv_model.predict(X_outer_test)\n\n  # accuracy \n  acc_knn = accuracy_score(y_pred_knn, y_outer_test)\n  err_cv_nested = err_cv_nested.append({\"model\": \"KNN\", \"accuracy\": acc_knn},ignore_index=True)\n\n\nerr_cv_nested",
   "execution_count": 3,
   "outputs": [
    {
     "output_type": "error",
     "ename": "KeyError",
     "evalue": "\"None of [Int64Index([  0,   1,   2,   3,   4,   5,   6,   7,   8,   9,\\n            ...\\n            332, 333, 334, 335, 336, 337, 338, 339, 340, 341],\\n           dtype='int64', length=307)] are in the [columns]\"",
     "traceback": [
      "\u001b[0;31m---------------------------------------------------------------------------\u001b[0m",
      "\u001b[0;31mKeyError\u001b[0m                                  Traceback (most recent call last)",
      "\u001b[0;32m<ipython-input-3-406603474a66>\u001b[0m in \u001b[0;36m<module>\u001b[0;34m\u001b[0m\n\u001b[1;32m     19\u001b[0m \u001b[0;31m# (1) outer cross validation\u001b[0m\u001b[0;34m\u001b[0m\u001b[0;34m\u001b[0m\u001b[0;34m\u001b[0m\u001b[0m\n\u001b[1;32m     20\u001b[0m \u001b[0;32mfor\u001b[0m \u001b[0midx_train\u001b[0m\u001b[0;34m,\u001b[0m \u001b[0midx_test\u001b[0m \u001b[0;32min\u001b[0m \u001b[0mcv_outer\u001b[0m\u001b[0;34m.\u001b[0m\u001b[0msplit\u001b[0m\u001b[0;34m(\u001b[0m\u001b[0mX\u001b[0m\u001b[0;34m,\u001b[0m \u001b[0my\u001b[0m\u001b[0;34m)\u001b[0m\u001b[0;34m:\u001b[0m\u001b[0;34m\u001b[0m\u001b[0;34m\u001b[0m\u001b[0m\n\u001b[0;32m---> 21\u001b[0;31m   \u001b[0mX_outer_train\u001b[0m\u001b[0;34m,\u001b[0m \u001b[0my_outer_train\u001b[0m \u001b[0;34m=\u001b[0m \u001b[0mX\u001b[0m\u001b[0;34m[\u001b[0m\u001b[0midx_train\u001b[0m\u001b[0;34m]\u001b[0m\u001b[0;34m,\u001b[0m \u001b[0my\u001b[0m\u001b[0;34m[\u001b[0m\u001b[0midx_train\u001b[0m\u001b[0;34m]\u001b[0m\u001b[0;34m\u001b[0m\u001b[0;34m\u001b[0m\u001b[0m\n\u001b[0m\u001b[1;32m     22\u001b[0m   \u001b[0mX_outer_test\u001b[0m\u001b[0;34m,\u001b[0m \u001b[0my_outer_test\u001b[0m \u001b[0;34m=\u001b[0m \u001b[0mX\u001b[0m\u001b[0;34m[\u001b[0m\u001b[0midx_test\u001b[0m\u001b[0;34m]\u001b[0m\u001b[0;34m,\u001b[0m \u001b[0my\u001b[0m\u001b[0;34m[\u001b[0m\u001b[0midx_test\u001b[0m\u001b[0;34m]\u001b[0m\u001b[0;34m\u001b[0m\u001b[0;34m\u001b[0m\u001b[0m\n\u001b[1;32m     23\u001b[0m \u001b[0;34m\u001b[0m\u001b[0m\n",
      "\u001b[0;32m/shared-libs/python3.7/py/lib/python3.7/site-packages/pandas/core/frame.py\u001b[0m in \u001b[0;36m__getitem__\u001b[0;34m(self, key)\u001b[0m\n\u001b[1;32m   3028\u001b[0m             \u001b[0;32mif\u001b[0m \u001b[0mis_iterator\u001b[0m\u001b[0;34m(\u001b[0m\u001b[0mkey\u001b[0m\u001b[0;34m)\u001b[0m\u001b[0;34m:\u001b[0m\u001b[0;34m\u001b[0m\u001b[0;34m\u001b[0m\u001b[0m\n\u001b[1;32m   3029\u001b[0m                 \u001b[0mkey\u001b[0m \u001b[0;34m=\u001b[0m \u001b[0mlist\u001b[0m\u001b[0;34m(\u001b[0m\u001b[0mkey\u001b[0m\u001b[0;34m)\u001b[0m\u001b[0;34m\u001b[0m\u001b[0;34m\u001b[0m\u001b[0m\n\u001b[0;32m-> 3030\u001b[0;31m             \u001b[0mindexer\u001b[0m \u001b[0;34m=\u001b[0m \u001b[0mself\u001b[0m\u001b[0;34m.\u001b[0m\u001b[0mloc\u001b[0m\u001b[0;34m.\u001b[0m\u001b[0m_get_listlike_indexer\u001b[0m\u001b[0;34m(\u001b[0m\u001b[0mkey\u001b[0m\u001b[0;34m,\u001b[0m \u001b[0maxis\u001b[0m\u001b[0;34m=\u001b[0m\u001b[0;36m1\u001b[0m\u001b[0;34m,\u001b[0m \u001b[0mraise_missing\u001b[0m\u001b[0;34m=\u001b[0m\u001b[0;32mTrue\u001b[0m\u001b[0;34m)\u001b[0m\u001b[0;34m[\u001b[0m\u001b[0;36m1\u001b[0m\u001b[0;34m]\u001b[0m\u001b[0;34m\u001b[0m\u001b[0;34m\u001b[0m\u001b[0m\n\u001b[0m\u001b[1;32m   3031\u001b[0m \u001b[0;34m\u001b[0m\u001b[0m\n\u001b[1;32m   3032\u001b[0m         \u001b[0;31m# take() does not accept boolean indexers\u001b[0m\u001b[0;34m\u001b[0m\u001b[0;34m\u001b[0m\u001b[0;34m\u001b[0m\u001b[0m\n",
      "\u001b[0;32m/shared-libs/python3.7/py/lib/python3.7/site-packages/pandas/core/indexing.py\u001b[0m in \u001b[0;36m_get_listlike_indexer\u001b[0;34m(self, key, axis, raise_missing)\u001b[0m\n\u001b[1;32m   1264\u001b[0m             \u001b[0mkeyarr\u001b[0m\u001b[0;34m,\u001b[0m \u001b[0mindexer\u001b[0m\u001b[0;34m,\u001b[0m \u001b[0mnew_indexer\u001b[0m \u001b[0;34m=\u001b[0m \u001b[0max\u001b[0m\u001b[0;34m.\u001b[0m\u001b[0m_reindex_non_unique\u001b[0m\u001b[0;34m(\u001b[0m\u001b[0mkeyarr\u001b[0m\u001b[0;34m)\u001b[0m\u001b[0;34m\u001b[0m\u001b[0;34m\u001b[0m\u001b[0m\n\u001b[1;32m   1265\u001b[0m \u001b[0;34m\u001b[0m\u001b[0m\n\u001b[0;32m-> 1266\u001b[0;31m         \u001b[0mself\u001b[0m\u001b[0;34m.\u001b[0m\u001b[0m_validate_read_indexer\u001b[0m\u001b[0;34m(\u001b[0m\u001b[0mkeyarr\u001b[0m\u001b[0;34m,\u001b[0m \u001b[0mindexer\u001b[0m\u001b[0;34m,\u001b[0m \u001b[0maxis\u001b[0m\u001b[0;34m,\u001b[0m \u001b[0mraise_missing\u001b[0m\u001b[0;34m=\u001b[0m\u001b[0mraise_missing\u001b[0m\u001b[0;34m)\u001b[0m\u001b[0;34m\u001b[0m\u001b[0;34m\u001b[0m\u001b[0m\n\u001b[0m\u001b[1;32m   1267\u001b[0m         \u001b[0;32mreturn\u001b[0m \u001b[0mkeyarr\u001b[0m\u001b[0;34m,\u001b[0m \u001b[0mindexer\u001b[0m\u001b[0;34m\u001b[0m\u001b[0;34m\u001b[0m\u001b[0m\n\u001b[1;32m   1268\u001b[0m \u001b[0;34m\u001b[0m\u001b[0m\n",
      "\u001b[0;32m/shared-libs/python3.7/py/lib/python3.7/site-packages/pandas/core/indexing.py\u001b[0m in \u001b[0;36m_validate_read_indexer\u001b[0;34m(self, key, indexer, axis, raise_missing)\u001b[0m\n\u001b[1;32m   1306\u001b[0m             \u001b[0;32mif\u001b[0m \u001b[0mmissing\u001b[0m \u001b[0;34m==\u001b[0m \u001b[0mlen\u001b[0m\u001b[0;34m(\u001b[0m\u001b[0mindexer\u001b[0m\u001b[0;34m)\u001b[0m\u001b[0;34m:\u001b[0m\u001b[0;34m\u001b[0m\u001b[0;34m\u001b[0m\u001b[0m\n\u001b[1;32m   1307\u001b[0m                 \u001b[0maxis_name\u001b[0m \u001b[0;34m=\u001b[0m \u001b[0mself\u001b[0m\u001b[0;34m.\u001b[0m\u001b[0mobj\u001b[0m\u001b[0;34m.\u001b[0m\u001b[0m_get_axis_name\u001b[0m\u001b[0;34m(\u001b[0m\u001b[0maxis\u001b[0m\u001b[0;34m)\u001b[0m\u001b[0;34m\u001b[0m\u001b[0;34m\u001b[0m\u001b[0m\n\u001b[0;32m-> 1308\u001b[0;31m                 \u001b[0;32mraise\u001b[0m \u001b[0mKeyError\u001b[0m\u001b[0;34m(\u001b[0m\u001b[0;34mf\"None of [{key}] are in the [{axis_name}]\"\u001b[0m\u001b[0;34m)\u001b[0m\u001b[0;34m\u001b[0m\u001b[0;34m\u001b[0m\u001b[0m\n\u001b[0m\u001b[1;32m   1309\u001b[0m \u001b[0;34m\u001b[0m\u001b[0m\n\u001b[1;32m   1310\u001b[0m             \u001b[0max\u001b[0m \u001b[0;34m=\u001b[0m \u001b[0mself\u001b[0m\u001b[0;34m.\u001b[0m\u001b[0mobj\u001b[0m\u001b[0;34m.\u001b[0m\u001b[0m_get_axis\u001b[0m\u001b[0;34m(\u001b[0m\u001b[0maxis\u001b[0m\u001b[0;34m)\u001b[0m\u001b[0;34m\u001b[0m\u001b[0;34m\u001b[0m\u001b[0m\n",
      "\u001b[0;31mKeyError\u001b[0m: \"None of [Int64Index([  0,   1,   2,   3,   4,   5,   6,   7,   8,   9,\\n            ...\\n            332, 333, 334, 335, 336, 337, 338, 339, 340, 341],\\n           dtype='int64', length=307)] are in the [columns]\""
     ]
    }
   ]
  },
  {
   "cell_type": "code",
   "metadata": {
    "tags": [],
    "cell_id": "00009-37f595e6-3608-45a1-a257-90b9dd599fda",
    "deepnote_to_be_reexecuted": false,
    "source_hash": "c4c93a0c",
    "execution_start": 1622800946201,
    "execution_millis": 8,
    "deepnote_cell_type": "code"
   },
   "source": "from matplotlib import pyplot as plt\nfrom sklearn.model_selection import GridSearchCV, cross_val_score, KFold\nimport numpy as np\n\n# Number of random trials\nNUM_TRIALS = 30\n\n# Load the dataset\nX = data.drop(['species'], axis=1)\ny = data.iloc[:, 3]\n\n# Set up possible values of parameters to optimize over\nn_neighbors_list = np.arange(1, 100, 5)\nparam_grid = {\"n_neighbors\": n_neighbors_list}\n\n# We will use a Support Vector Classifier with \"rbf\" kernel\ncls = KNeighborsClassifier()\n\n# Arrays to store scores\nnon_nested_scores = np.zeros(NUM_TRIALS)\nnested_scores = np.zeros(NUM_TRIALS)\n\n# Loop for each trial\nfor i in range(NUM_TRIALS):\n\n    # Choose cross-validation techniques for the inner and outer loops,\n    # independently of the dataset.\n    # E.g \"GroupKFold\", \"LeaveOneOut\", \"LeaveOneGroupOut\", etc.\n    inner_cv = KFold(n_splits=4, shuffle=True, random_state=i)\n    outer_cv = KFold(n_splits=4, shuffle=True, random_state=i)\n\n    #1 : Non_nested parameter search and scoring --> directly \n    clf = GridSearchCV(estimator=svm, param_grid=p_grid, cv=inner_cv)\n    clf.fit(X_iris, y_iris)\n    non_nested_scores[i] = clf.best_score_\n\n    # Nested CV with parameter optimization\n    nested_score = cross_val_score(clf, X=X_iris, y=y_iris, cv=outer_cv)\n    nested_scores[i] = nested_score.mean()",
   "execution_count": null,
   "outputs": [
    {
     "name": "stdout",
     "text": "Empty DataFrame\nColumns: []\nIndex: []\n",
     "output_type": "stream"
    }
   ]
  },
  {
   "cell_type": "markdown",
   "source": "<a style='text-decoration:none;line-height:16px;display:flex;color:#5B5B62;padding:10px;justify-content:end;' href='https://deepnote.com?utm_source=created-in-deepnote-cell&projectId=1dd35576-464a-4d46-a0e6-752fc35b7463' target=\"_blank\">\n<img alt='Created in deepnote.com' style='display:inline;max-height:16px;margin:0px;margin-right:7.5px;' src='data:image/svg+xml;base64,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' > </img>\nCreated in <span style='font-weight:600;margin-left:4px;'>Deepnote</span></a>",
   "metadata": {
    "tags": [],
    "created_in_deepnote_cell": true,
    "deepnote_cell_type": "markdown"
   }
  }
 ],
 "nbformat": 4,
 "nbformat_minor": 2,
 "metadata": {
  "orig_nbformat": 2,
  "deepnote": {
   "is_reactive": false
  },
  "deepnote_notebook_id": "a781c775-c7ec-4afa-8fac-41c6b632905c",
  "deepnote_execution_queue": []
 }
}