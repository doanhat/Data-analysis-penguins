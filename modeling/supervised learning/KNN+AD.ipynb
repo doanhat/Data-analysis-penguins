{
 "cells": [
  {
   "cell_type": "code",
   "execution_count": null,
   "id": "b2f8196b",
   "metadata": {
    "cell_id": "00000-952bb82e-0630-4dea-9062-0fe394de4bfa",
    "deepnote_cell_type": "code",
    "deepnote_to_be_reexecuted": false,
    "execution_millis": 178495,
    "execution_start": 1622918278432,
    "source_hash": "b623e53d"
   },
   "outputs": [],
   "source": []
  },
  {
   "cell_type": "code",
   "execution_count": 196,
   "id": "6ccebad8",
   "metadata": {
    "cell_id": "00001-8637e016-e480-416d-a0c4-1a06a9352e2d",
    "deepnote_cell_type": "code",
    "deepnote_to_be_reexecuted": false,
    "execution_millis": 1662,
    "execution_start": 1622918278474,
    "source_hash": "bdbe133b"
   },
   "outputs": [],
   "source": [
    "import pandas as pd\n",
    "import numpy as np\n",
    "import matplotlib.pyplot as plt\n",
    "# ^^^ pyforest auto-imports - don't write above this line\n",
    "data = pd.read_csv('../../data/penguins_cleaned.csv')"
   ]
  },
  {
   "cell_type": "code",
   "execution_count": 197,
   "id": "99264dc6",
   "metadata": {
    "cell_id": "00002-736e9070-b80a-4753-ad09-4fc344a983b2",
    "deepnote_cell_type": "code",
    "deepnote_to_be_reexecuted": false,
    "execution_millis": 2287,
    "execution_start": 1622918280137,
    "source_hash": "a2130383"
   },
   "outputs": [],
   "source": [
    "import sklearn\n",
    "from sklearn.feature_selection import SelectKBest\n",
    "from sklearn.feature_selection import f_classif"
   ]
  },
  {
   "cell_type": "code",
   "execution_count": 198,
   "id": "913a6dae",
   "metadata": {
    "cell_id": "00003-2069deb4-238e-4756-8886-65e0874c6dac",
    "deepnote_cell_type": "code",
    "deepnote_to_be_reexecuted": false,
    "execution_millis": 11,
    "execution_start": 1622918282445,
    "source_hash": "55e10215"
   },
   "outputs": [],
   "source": [
    "from sklearn import preprocessing \n",
    "LE=preprocessing.LabelEncoder()"
   ]
  },
  {
   "cell_type": "code",
   "execution_count": 199,
   "id": "41d41585",
   "metadata": {
    "cell_id": "00004-87d83021-9412-4253-99d0-f597500042bb",
    "deepnote_cell_type": "code",
    "deepnote_to_be_reexecuted": false,
    "execution_millis": 69,
    "execution_start": 1622918282513,
    "source_hash": "b249832e"
   },
   "outputs": [
    {
     "data": {
      "text/html": [
       "<div>\n",
       "<style scoped>\n",
       "    .dataframe tbody tr th:only-of-type {\n",
       "        vertical-align: middle;\n",
       "    }\n",
       "\n",
       "    .dataframe tbody tr th {\n",
       "        vertical-align: top;\n",
       "    }\n",
       "\n",
       "    .dataframe thead th {\n",
       "        text-align: right;\n",
       "    }\n",
       "</style>\n",
       "<table border=\"1\" class=\"dataframe\">\n",
       "  <thead>\n",
       "    <tr style=\"text-align: right;\">\n",
       "      <th></th>\n",
       "      <th>species</th>\n",
       "      <th>island</th>\n",
       "      <th>clutch_completion</th>\n",
       "      <th>date_egg</th>\n",
       "      <th>bill_length</th>\n",
       "      <th>bill_depth</th>\n",
       "      <th>flipper_length</th>\n",
       "      <th>body_mass</th>\n",
       "      <th>sex</th>\n",
       "      <th>del15</th>\n",
       "      <th>del13</th>\n",
       "      <th>species_code</th>\n",
       "    </tr>\n",
       "  </thead>\n",
       "  <tbody>\n",
       "    <tr>\n",
       "      <th>0</th>\n",
       "      <td>Adelie</td>\n",
       "      <td>2</td>\n",
       "      <td>1</td>\n",
       "      <td>2</td>\n",
       "      <td>39.1</td>\n",
       "      <td>18.7</td>\n",
       "      <td>181.0</td>\n",
       "      <td>3750.0</td>\n",
       "      <td>1</td>\n",
       "      <td>8.859733</td>\n",
       "      <td>-25.804194</td>\n",
       "      <td>0</td>\n",
       "    </tr>\n",
       "    <tr>\n",
       "      <th>1</th>\n",
       "      <td>Adelie</td>\n",
       "      <td>2</td>\n",
       "      <td>1</td>\n",
       "      <td>2</td>\n",
       "      <td>39.5</td>\n",
       "      <td>17.4</td>\n",
       "      <td>186.0</td>\n",
       "      <td>3800.0</td>\n",
       "      <td>0</td>\n",
       "      <td>8.949560</td>\n",
       "      <td>-24.694540</td>\n",
       "      <td>0</td>\n",
       "    </tr>\n",
       "    <tr>\n",
       "      <th>2</th>\n",
       "      <td>Adelie</td>\n",
       "      <td>2</td>\n",
       "      <td>1</td>\n",
       "      <td>6</td>\n",
       "      <td>40.3</td>\n",
       "      <td>18.0</td>\n",
       "      <td>195.0</td>\n",
       "      <td>3250.0</td>\n",
       "      <td>0</td>\n",
       "      <td>8.368210</td>\n",
       "      <td>-25.333020</td>\n",
       "      <td>0</td>\n",
       "    </tr>\n",
       "    <tr>\n",
       "      <th>3</th>\n",
       "      <td>Adelie</td>\n",
       "      <td>2</td>\n",
       "      <td>1</td>\n",
       "      <td>6</td>\n",
       "      <td>36.7</td>\n",
       "      <td>19.3</td>\n",
       "      <td>193.0</td>\n",
       "      <td>3450.0</td>\n",
       "      <td>0</td>\n",
       "      <td>8.766510</td>\n",
       "      <td>-25.324260</td>\n",
       "      <td>0</td>\n",
       "    </tr>\n",
       "    <tr>\n",
       "      <th>4</th>\n",
       "      <td>Adelie</td>\n",
       "      <td>2</td>\n",
       "      <td>1</td>\n",
       "      <td>6</td>\n",
       "      <td>39.3</td>\n",
       "      <td>20.6</td>\n",
       "      <td>190.0</td>\n",
       "      <td>3650.0</td>\n",
       "      <td>1</td>\n",
       "      <td>8.664960</td>\n",
       "      <td>-25.298050</td>\n",
       "      <td>0</td>\n",
       "    </tr>\n",
       "  </tbody>\n",
       "</table>\n",
       "</div>"
      ],
      "text/plain": [
       "  species  island  clutch_completion  date_egg  bill_length  bill_depth  \\\n",
       "0  Adelie       2                  1         2         39.1        18.7   \n",
       "1  Adelie       2                  1         2         39.5        17.4   \n",
       "2  Adelie       2                  1         6         40.3        18.0   \n",
       "3  Adelie       2                  1         6         36.7        19.3   \n",
       "4  Adelie       2                  1         6         39.3        20.6   \n",
       "\n",
       "   flipper_length  body_mass  sex     del15      del13  species_code  \n",
       "0           181.0     3750.0    1  8.859733 -25.804194             0  \n",
       "1           186.0     3800.0    0  8.949560 -24.694540             0  \n",
       "2           195.0     3250.0    0  8.368210 -25.333020             0  \n",
       "3           193.0     3450.0    0  8.766510 -25.324260             0  \n",
       "4           190.0     3650.0    1  8.664960 -25.298050             0  "
      ]
     },
     "execution_count": 199,
     "metadata": {},
     "output_type": "execute_result"
    }
   ],
   "source": [
    "lter_encode=data.copy()\n",
    "lter_encode['island']=LE.fit_transform(lter_encode['island'])\n",
    "lter_encode['clutch_completion']=LE.fit_transform(lter_encode['clutch_completion'])\n",
    "lter_encode['sex']=LE.fit_transform(lter_encode['sex'])\n",
    "lter_encode['date_egg']=LE.fit_transform(lter_encode['date_egg'])\n",
    "lter_encode['species_code']=LE.fit_transform(lter_encode['species'])\n",
    "lter_encode.head()"
   ]
  },
  {
   "cell_type": "markdown",
   "id": "cf754d6f",
   "metadata": {
    "cell_id": "00005-553eecae-ee79-41d1-a8ba-4a8dd014ec42",
    "deepnote_cell_type": "markdown"
   },
   "source": [
    "# Sélection des variables"
   ]
  },
  {
   "cell_type": "code",
   "execution_count": 200,
   "id": "34f400ff",
   "metadata": {
    "cell_id": "00006-54f8d0db-91c0-4e05-888f-abfb183cdd45",
    "deepnote_cell_type": "code",
    "deepnote_to_be_reexecuted": false,
    "execution_millis": 3,
    "execution_start": 1622918282614,
    "source_hash": "fbdb0943"
   },
   "outputs": [],
   "source": [
    "bestfeatures = SelectKBest(score_func=f_classif, k='all')"
   ]
  },
  {
   "cell_type": "code",
   "execution_count": 201,
   "id": "ba039291",
   "metadata": {
    "cell_id": "00007-b96c251b-8079-4c86-8bed-f2203ef392ed",
    "deepnote_cell_type": "code",
    "deepnote_to_be_reexecuted": false,
    "execution_millis": 55,
    "execution_start": 1622918282658,
    "source_hash": "83c22b17"
   },
   "outputs": [
    {
     "name": "stdout",
     "output_type": "stream",
     "text": [
      "             Feature       Score\n",
      "5     flipper_length  594.801627\n",
      "3        bill_length  410.600255\n",
      "4         bill_depth  359.789149\n",
      "6          body_mass  343.626275\n",
      "9              del13  234.897119\n",
      "8              del15  229.625963\n",
      "0             island  150.350633\n",
      "1  clutch_completion    5.554315\n",
      "2           date_egg    4.368453\n",
      "7                sex    0.283857\n"
     ]
    }
   ],
   "source": [
    "X=lter_encode.drop(['species','species_code'], axis=1)\n",
    "Y=lter_encode['species']\n",
    "fit = bestfeatures.fit(X,Y)\n",
    "dfscores = pd.DataFrame(fit.scores_)\n",
    "dfcolumns = pd.DataFrame(X.columns)\n",
    "featureScores = pd.concat([dfcolumns,dfscores],axis=1)\n",
    "featureScores.columns = ['Feature','Score'] \n",
    "print(featureScores.nlargest(lter_encode.shape[1],'Score')) "
   ]
  },
  {
   "cell_type": "code",
   "execution_count": 202,
   "id": "9f1ab0b9",
   "metadata": {
    "cell_id": "00008-5677a26c-0189-4b88-bd1c-b75e7eec7bde",
    "deepnote_cell_type": "code",
    "deepnote_to_be_reexecuted": false,
    "execution_millis": 0,
    "execution_start": 1622918282708,
    "source_hash": "41de3e15"
   },
   "outputs": [],
   "source": [
    "data = data.drop(\n",
    "    columns=[\n",
    "        'clutch_completion',\n",
    "        'date_egg',\n",
    "        'sex'\n",
    "    ]\n",
    ")"
   ]
  },
  {
   "cell_type": "markdown",
   "id": "7425041c",
   "metadata": {
    "cell_id": "00009-3143712b-d93a-4060-a335-251bd3ac8ff6",
    "deepnote_cell_type": "markdown"
   },
   "source": [
    "# Préparation des données"
   ]
  },
  {
   "cell_type": "markdown",
   "id": "fa48fc8f",
   "metadata": {
    "cell_id": "00010-dd02dee8-c220-4309-85c6-f12a71d2a471",
    "deepnote_cell_type": "markdown"
   },
   "source": [
    "## OHE"
   ]
  },
  {
   "cell_type": "code",
   "execution_count": 203,
   "id": "6ff8cdd2",
   "metadata": {
    "cell_id": "00011-44df3517-efa9-4756-98ce-b06b0c4aa7e2",
    "deepnote_cell_type": "code",
    "deepnote_to_be_reexecuted": false,
    "execution_millis": 150,
    "execution_start": 1622918282750,
    "source_hash": "f54827a8"
   },
   "outputs": [
    {
     "data": {
      "text/html": [
       "<div>\n",
       "<style scoped>\n",
       "    .dataframe tbody tr th:only-of-type {\n",
       "        vertical-align: middle;\n",
       "    }\n",
       "\n",
       "    .dataframe tbody tr th {\n",
       "        vertical-align: top;\n",
       "    }\n",
       "\n",
       "    .dataframe thead th {\n",
       "        text-align: right;\n",
       "    }\n",
       "</style>\n",
       "<table border=\"1\" class=\"dataframe\">\n",
       "  <thead>\n",
       "    <tr style=\"text-align: right;\">\n",
       "      <th></th>\n",
       "      <th>species</th>\n",
       "      <th>bill_length</th>\n",
       "      <th>bill_depth</th>\n",
       "      <th>flipper_length</th>\n",
       "      <th>body_mass</th>\n",
       "      <th>del15</th>\n",
       "      <th>del13</th>\n",
       "      <th>island_Biscoe</th>\n",
       "      <th>island_Dream</th>\n",
       "      <th>island_Torgersen</th>\n",
       "    </tr>\n",
       "  </thead>\n",
       "  <tbody>\n",
       "    <tr>\n",
       "      <th>0</th>\n",
       "      <td>Adelie</td>\n",
       "      <td>39.1</td>\n",
       "      <td>18.7</td>\n",
       "      <td>181.0</td>\n",
       "      <td>3750.0</td>\n",
       "      <td>8.859733</td>\n",
       "      <td>-25.804194</td>\n",
       "      <td>0</td>\n",
       "      <td>0</td>\n",
       "      <td>1</td>\n",
       "    </tr>\n",
       "    <tr>\n",
       "      <th>1</th>\n",
       "      <td>Adelie</td>\n",
       "      <td>39.5</td>\n",
       "      <td>17.4</td>\n",
       "      <td>186.0</td>\n",
       "      <td>3800.0</td>\n",
       "      <td>8.949560</td>\n",
       "      <td>-24.694540</td>\n",
       "      <td>0</td>\n",
       "      <td>0</td>\n",
       "      <td>1</td>\n",
       "    </tr>\n",
       "    <tr>\n",
       "      <th>2</th>\n",
       "      <td>Adelie</td>\n",
       "      <td>40.3</td>\n",
       "      <td>18.0</td>\n",
       "      <td>195.0</td>\n",
       "      <td>3250.0</td>\n",
       "      <td>8.368210</td>\n",
       "      <td>-25.333020</td>\n",
       "      <td>0</td>\n",
       "      <td>0</td>\n",
       "      <td>1</td>\n",
       "    </tr>\n",
       "    <tr>\n",
       "      <th>3</th>\n",
       "      <td>Adelie</td>\n",
       "      <td>36.7</td>\n",
       "      <td>19.3</td>\n",
       "      <td>193.0</td>\n",
       "      <td>3450.0</td>\n",
       "      <td>8.766510</td>\n",
       "      <td>-25.324260</td>\n",
       "      <td>0</td>\n",
       "      <td>0</td>\n",
       "      <td>1</td>\n",
       "    </tr>\n",
       "    <tr>\n",
       "      <th>4</th>\n",
       "      <td>Adelie</td>\n",
       "      <td>39.3</td>\n",
       "      <td>20.6</td>\n",
       "      <td>190.0</td>\n",
       "      <td>3650.0</td>\n",
       "      <td>8.664960</td>\n",
       "      <td>-25.298050</td>\n",
       "      <td>0</td>\n",
       "      <td>0</td>\n",
       "      <td>1</td>\n",
       "    </tr>\n",
       "    <tr>\n",
       "      <th>...</th>\n",
       "      <td>...</td>\n",
       "      <td>...</td>\n",
       "      <td>...</td>\n",
       "      <td>...</td>\n",
       "      <td>...</td>\n",
       "      <td>...</td>\n",
       "      <td>...</td>\n",
       "      <td>...</td>\n",
       "      <td>...</td>\n",
       "      <td>...</td>\n",
       "    </tr>\n",
       "    <tr>\n",
       "      <th>337</th>\n",
       "      <td>Chinstrap</td>\n",
       "      <td>55.8</td>\n",
       "      <td>19.8</td>\n",
       "      <td>207.0</td>\n",
       "      <td>4000.0</td>\n",
       "      <td>9.704650</td>\n",
       "      <td>-24.534940</td>\n",
       "      <td>0</td>\n",
       "      <td>1</td>\n",
       "      <td>0</td>\n",
       "    </tr>\n",
       "    <tr>\n",
       "      <th>338</th>\n",
       "      <td>Chinstrap</td>\n",
       "      <td>43.5</td>\n",
       "      <td>18.1</td>\n",
       "      <td>202.0</td>\n",
       "      <td>3400.0</td>\n",
       "      <td>9.376080</td>\n",
       "      <td>-24.407530</td>\n",
       "      <td>0</td>\n",
       "      <td>1</td>\n",
       "      <td>0</td>\n",
       "    </tr>\n",
       "    <tr>\n",
       "      <th>339</th>\n",
       "      <td>Chinstrap</td>\n",
       "      <td>49.6</td>\n",
       "      <td>18.2</td>\n",
       "      <td>193.0</td>\n",
       "      <td>3775.0</td>\n",
       "      <td>9.461800</td>\n",
       "      <td>-24.706150</td>\n",
       "      <td>0</td>\n",
       "      <td>1</td>\n",
       "      <td>0</td>\n",
       "    </tr>\n",
       "    <tr>\n",
       "      <th>340</th>\n",
       "      <td>Chinstrap</td>\n",
       "      <td>50.8</td>\n",
       "      <td>19.0</td>\n",
       "      <td>210.0</td>\n",
       "      <td>4100.0</td>\n",
       "      <td>9.980440</td>\n",
       "      <td>-24.687410</td>\n",
       "      <td>0</td>\n",
       "      <td>1</td>\n",
       "      <td>0</td>\n",
       "    </tr>\n",
       "    <tr>\n",
       "      <th>341</th>\n",
       "      <td>Chinstrap</td>\n",
       "      <td>50.2</td>\n",
       "      <td>18.7</td>\n",
       "      <td>198.0</td>\n",
       "      <td>3775.0</td>\n",
       "      <td>9.393050</td>\n",
       "      <td>-24.252550</td>\n",
       "      <td>0</td>\n",
       "      <td>1</td>\n",
       "      <td>0</td>\n",
       "    </tr>\n",
       "  </tbody>\n",
       "</table>\n",
       "<p>342 rows × 10 columns</p>\n",
       "</div>"
      ],
      "text/plain": [
       "       species  bill_length  bill_depth  flipper_length  body_mass     del15  \\\n",
       "0       Adelie         39.1        18.7           181.0     3750.0  8.859733   \n",
       "1       Adelie         39.5        17.4           186.0     3800.0  8.949560   \n",
       "2       Adelie         40.3        18.0           195.0     3250.0  8.368210   \n",
       "3       Adelie         36.7        19.3           193.0     3450.0  8.766510   \n",
       "4       Adelie         39.3        20.6           190.0     3650.0  8.664960   \n",
       "..         ...          ...         ...             ...        ...       ...   \n",
       "337  Chinstrap         55.8        19.8           207.0     4000.0  9.704650   \n",
       "338  Chinstrap         43.5        18.1           202.0     3400.0  9.376080   \n",
       "339  Chinstrap         49.6        18.2           193.0     3775.0  9.461800   \n",
       "340  Chinstrap         50.8        19.0           210.0     4100.0  9.980440   \n",
       "341  Chinstrap         50.2        18.7           198.0     3775.0  9.393050   \n",
       "\n",
       "         del13  island_Biscoe  island_Dream  island_Torgersen  \n",
       "0   -25.804194              0             0                 1  \n",
       "1   -24.694540              0             0                 1  \n",
       "2   -25.333020              0             0                 1  \n",
       "3   -25.324260              0             0                 1  \n",
       "4   -25.298050              0             0                 1  \n",
       "..         ...            ...           ...               ...  \n",
       "337 -24.534940              0             1                 0  \n",
       "338 -24.407530              0             1                 0  \n",
       "339 -24.706150              0             1                 0  \n",
       "340 -24.687410              0             1                 0  \n",
       "341 -24.252550              0             1                 0  \n",
       "\n",
       "[342 rows x 10 columns]"
      ]
     },
     "execution_count": 203,
     "metadata": {},
     "output_type": "execute_result"
    }
   ],
   "source": [
    "data = pd.get_dummies(data,columns=['island'])\n",
    "data"
   ]
  },
  {
   "cell_type": "markdown",
   "id": "5b3f8eaf",
   "metadata": {
    "cell_id": "00012-2821fc79-5c8f-4422-8cae-5089cc736f36",
    "deepnote_cell_type": "markdown"
   },
   "source": [
    "## Standardization"
   ]
  },
  {
   "cell_type": "code",
   "execution_count": 204,
   "id": "c1805922",
   "metadata": {
    "cell_id": "00013-1b12de1b-3f5e-4a52-9f04-0df0d7dbbe85",
    "deepnote_cell_type": "code",
    "deepnote_to_be_reexecuted": false,
    "execution_millis": 180005,
    "execution_start": 1622918282936,
    "source_hash": "866b8212"
   },
   "outputs": [],
   "source": [
    "from sklearn.preprocessing import StandardScaler"
   ]
  },
  {
   "cell_type": "code",
   "execution_count": 205,
   "id": "883bc598",
   "metadata": {
    "cell_id": "00014-07b938dd-25cd-4a42-9c54-b1aec2c30f05",
    "deepnote_cell_type": "code",
    "deepnote_to_be_reexecuted": false,
    "execution_millis": 61,
    "execution_start": 1622918283002,
    "source_hash": "8e1e427f"
   },
   "outputs": [
    {
     "data": {
      "text/html": [
       "<div>\n",
       "<style scoped>\n",
       "    .dataframe tbody tr th:only-of-type {\n",
       "        vertical-align: middle;\n",
       "    }\n",
       "\n",
       "    .dataframe tbody tr th {\n",
       "        vertical-align: top;\n",
       "    }\n",
       "\n",
       "    .dataframe thead th {\n",
       "        text-align: right;\n",
       "    }\n",
       "</style>\n",
       "<table border=\"1\" class=\"dataframe\">\n",
       "  <thead>\n",
       "    <tr style=\"text-align: right;\">\n",
       "      <th></th>\n",
       "      <th>bill_length</th>\n",
       "      <th>bill_depth</th>\n",
       "      <th>flipper_length</th>\n",
       "      <th>body_mass</th>\n",
       "      <th>del15</th>\n",
       "      <th>del13</th>\n",
       "      <th>island_Biscoe</th>\n",
       "      <th>island_Dream</th>\n",
       "      <th>island_Torgersen</th>\n",
       "    </tr>\n",
       "  </thead>\n",
       "  <tbody>\n",
       "    <tr>\n",
       "      <th>0</th>\n",
       "      <td>-0.884499</td>\n",
       "      <td>0.785449</td>\n",
       "      <td>-1.418347</td>\n",
       "      <td>-0.564142</td>\n",
       "      <td>0.225043</td>\n",
       "      <td>-0.144751</td>\n",
       "      <td>0</td>\n",
       "      <td>0</td>\n",
       "      <td>1</td>\n",
       "    </tr>\n",
       "    <tr>\n",
       "      <th>1</th>\n",
       "      <td>-0.811126</td>\n",
       "      <td>0.126188</td>\n",
       "      <td>-1.062250</td>\n",
       "      <td>-0.501703</td>\n",
       "      <td>0.390384</td>\n",
       "      <td>1.276753</td>\n",
       "      <td>0</td>\n",
       "      <td>0</td>\n",
       "      <td>1</td>\n",
       "    </tr>\n",
       "    <tr>\n",
       "      <th>2</th>\n",
       "      <td>-0.664380</td>\n",
       "      <td>0.430462</td>\n",
       "      <td>-0.421277</td>\n",
       "      <td>-1.188532</td>\n",
       "      <td>-0.679681</td>\n",
       "      <td>0.458838</td>\n",
       "      <td>0</td>\n",
       "      <td>0</td>\n",
       "      <td>1</td>\n",
       "    </tr>\n",
       "    <tr>\n",
       "      <th>3</th>\n",
       "      <td>-1.324737</td>\n",
       "      <td>1.089724</td>\n",
       "      <td>-0.563715</td>\n",
       "      <td>-0.938776</td>\n",
       "      <td>0.053452</td>\n",
       "      <td>0.470060</td>\n",
       "      <td>0</td>\n",
       "      <td>0</td>\n",
       "      <td>1</td>\n",
       "    </tr>\n",
       "    <tr>\n",
       "      <th>4</th>\n",
       "      <td>-0.847812</td>\n",
       "      <td>1.748985</td>\n",
       "      <td>-0.777373</td>\n",
       "      <td>-0.689020</td>\n",
       "      <td>-0.133466</td>\n",
       "      <td>0.503636</td>\n",
       "      <td>0</td>\n",
       "      <td>0</td>\n",
       "      <td>1</td>\n",
       "    </tr>\n",
       "    <tr>\n",
       "      <th>...</th>\n",
       "      <td>...</td>\n",
       "      <td>...</td>\n",
       "      <td>...</td>\n",
       "      <td>...</td>\n",
       "      <td>...</td>\n",
       "      <td>...</td>\n",
       "      <td>...</td>\n",
       "      <td>...</td>\n",
       "      <td>...</td>\n",
       "    </tr>\n",
       "    <tr>\n",
       "      <th>337</th>\n",
       "      <td>2.178824</td>\n",
       "      <td>1.343286</td>\n",
       "      <td>0.433355</td>\n",
       "      <td>-0.251947</td>\n",
       "      <td>1.780245</td>\n",
       "      <td>1.481206</td>\n",
       "      <td>0</td>\n",
       "      <td>1</td>\n",
       "      <td>0</td>\n",
       "    </tr>\n",
       "    <tr>\n",
       "      <th>338</th>\n",
       "      <td>-0.077396</td>\n",
       "      <td>0.481175</td>\n",
       "      <td>0.077258</td>\n",
       "      <td>-1.001215</td>\n",
       "      <td>1.175461</td>\n",
       "      <td>1.644423</td>\n",
       "      <td>0</td>\n",
       "      <td>1</td>\n",
       "      <td>0</td>\n",
       "    </tr>\n",
       "    <tr>\n",
       "      <th>339</th>\n",
       "      <td>1.041543</td>\n",
       "      <td>0.531887</td>\n",
       "      <td>-0.563715</td>\n",
       "      <td>-0.532923</td>\n",
       "      <td>1.333241</td>\n",
       "      <td>1.261880</td>\n",
       "      <td>0</td>\n",
       "      <td>1</td>\n",
       "      <td>0</td>\n",
       "    </tr>\n",
       "    <tr>\n",
       "      <th>340</th>\n",
       "      <td>1.261662</td>\n",
       "      <td>0.937586</td>\n",
       "      <td>0.647013</td>\n",
       "      <td>-0.127069</td>\n",
       "      <td>2.287879</td>\n",
       "      <td>1.285887</td>\n",
       "      <td>0</td>\n",
       "      <td>1</td>\n",
       "      <td>0</td>\n",
       "    </tr>\n",
       "    <tr>\n",
       "      <th>341</th>\n",
       "      <td>1.151602</td>\n",
       "      <td>0.785449</td>\n",
       "      <td>-0.207619</td>\n",
       "      <td>-0.532923</td>\n",
       "      <td>1.206696</td>\n",
       "      <td>1.842957</td>\n",
       "      <td>0</td>\n",
       "      <td>1</td>\n",
       "      <td>0</td>\n",
       "    </tr>\n",
       "  </tbody>\n",
       "</table>\n",
       "<p>342 rows × 9 columns</p>\n",
       "</div>"
      ],
      "text/plain": [
       "     bill_length  bill_depth  flipper_length  body_mass     del15     del13  \\\n",
       "0      -0.884499    0.785449       -1.418347  -0.564142  0.225043 -0.144751   \n",
       "1      -0.811126    0.126188       -1.062250  -0.501703  0.390384  1.276753   \n",
       "2      -0.664380    0.430462       -0.421277  -1.188532 -0.679681  0.458838   \n",
       "3      -1.324737    1.089724       -0.563715  -0.938776  0.053452  0.470060   \n",
       "4      -0.847812    1.748985       -0.777373  -0.689020 -0.133466  0.503636   \n",
       "..           ...         ...             ...        ...       ...       ...   \n",
       "337     2.178824    1.343286        0.433355  -0.251947  1.780245  1.481206   \n",
       "338    -0.077396    0.481175        0.077258  -1.001215  1.175461  1.644423   \n",
       "339     1.041543    0.531887       -0.563715  -0.532923  1.333241  1.261880   \n",
       "340     1.261662    0.937586        0.647013  -0.127069  2.287879  1.285887   \n",
       "341     1.151602    0.785449       -0.207619  -0.532923  1.206696  1.842957   \n",
       "\n",
       "     island_Biscoe  island_Dream  island_Torgersen  \n",
       "0                0             0                 1  \n",
       "1                0             0                 1  \n",
       "2                0             0                 1  \n",
       "3                0             0                 1  \n",
       "4                0             0                 1  \n",
       "..             ...           ...               ...  \n",
       "337              0             1                 0  \n",
       "338              0             1                 0  \n",
       "339              0             1                 0  \n",
       "340              0             1                 0  \n",
       "341              0             1                 0  \n",
       "\n",
       "[342 rows x 9 columns]"
      ]
     },
     "execution_count": 205,
     "metadata": {},
     "output_type": "execute_result"
    }
   ],
   "source": [
    "scale=StandardScaler()\n",
    "scale.fit(data.drop(['species','island_Biscoe','island_Dream','island_Torgersen'],axis=1))\n",
    "transformed=scale.transform(data.drop(['species','island_Biscoe','island_Dream','island_Torgersen'],axis=1))\n",
    "X_scaled=pd.DataFrame(transformed,columns=data.columns[1:7])\n",
    "X_scaled[['island_Biscoe','island_Dream','island_Torgersen']]=data[['island_Biscoe','island_Dream','island_Torgersen']]\n",
    "X_scaled"
   ]
  },
  {
   "cell_type": "markdown",
   "id": "b4e3ea87",
   "metadata": {
    "cell_id": "00015-dc277be6-2bc4-472e-b136-a77841ee2453",
    "deepnote_cell_type": "markdown"
   },
   "source": [
    "## Séparation du jeu de données"
   ]
  },
  {
   "cell_type": "code",
   "execution_count": 206,
   "id": "4cde9123",
   "metadata": {
    "cell_id": "00016-d2bcd17e-ce56-4a9f-9273-5bdfff078464",
    "deepnote_cell_type": "code",
    "deepnote_to_be_reexecuted": false,
    "execution_millis": 179977,
    "execution_start": 1622918283073,
    "source_hash": "f7c4ae0d"
   },
   "outputs": [],
   "source": [
    "from sklearn.model_selection import train_test_split\n",
    "X = X_scaled\n",
    "y = data['species']\n",
    "X_train,X_test,y_train,y_test=train_test_split(X_scaled,data['species'],test_size=0.25)"
   ]
  },
  {
   "cell_type": "markdown",
   "id": "345e7336",
   "metadata": {
    "cell_id": "00017-dd38d00a-7c57-4d53-9c4c-ca55d3bd7554",
    "deepnote_cell_type": "markdown"
   },
   "source": [
    "# Application des méthodes"
   ]
  },
  {
   "cell_type": "markdown",
   "id": "cf75c3d3",
   "metadata": {
    "cell_id": "00018-f5aab213-d292-4ad8-94e4-2cd4dd148e2e",
    "deepnote_cell_type": "markdown"
   },
   "source": [
    "## KNN"
   ]
  },
  {
   "cell_type": "code",
   "execution_count": 207,
   "id": "5123f20b",
   "metadata": {
    "cell_id": "00019-a3cb01af-ef56-435e-9fc5-4360e4f11202",
    "deepnote_cell_type": "code",
    "deepnote_to_be_reexecuted": false,
    "execution_millis": 179918,
    "execution_start": 1622918283151,
    "source_hash": "3f66f9dc"
   },
   "outputs": [],
   "source": [
    "from sklearn.neighbors import KNeighborsClassifier\n",
    "from sklearn.model_selection import GridSearchCV\n",
    "from sklearn.metrics import confusion_matrix,accuracy_score,classification_report"
   ]
  },
  {
   "cell_type": "code",
   "execution_count": 208,
   "id": "56adabf0",
   "metadata": {
    "cell_id": "00020-258c6fcd-2110-4f4d-8fc6-202ddf4bf299",
    "deepnote_cell_type": "code",
    "deepnote_to_be_reexecuted": false,
    "execution_millis": 12772,
    "execution_start": 1622918283152,
    "source_hash": "793d2d73"
   },
   "outputs": [
    {
     "name": "stdout",
     "output_type": "stream",
     "text": [
      "{'n_neighbors': 1}\n",
      "1.0\n"
     ]
    }
   ],
   "source": [
    "n_neighbors_list = np.arange(1, 100)\n",
    "# hyper-paramètre\n",
    "param_grid = {\"n_neighbors\": n_neighbors_list}\n",
    "cls = KNeighborsClassifier()\n",
    "search = GridSearchCV(cls, param_grid, cv=10)\n",
    "search.fit(X_train, y_train)\n",
    "print(search.best_params_)\n",
    "print(search.best_score_)"
   ]
  },
  {
   "cell_type": "code",
   "execution_count": 209,
   "id": "93bb039c",
   "metadata": {
    "cell_id": "00021-ab1589e4-688f-49fd-8a20-94a09f348261",
    "deepnote_cell_type": "code",
    "deepnote_to_be_reexecuted": false,
    "execution_millis": 294,
    "execution_start": 1622918295925,
    "source_hash": "1302a53b"
   },
   "outputs": [
    {
     "data": {
      "image/png": "[encoded data removed]",
      "text/plain": [
       "<Figure size 432x288 with 1 Axes>"
      ]
     },
     "metadata": {
      "needs_background": "light"
     },
     "output_type": "display_data"
    }
   ],
   "source": [
    "dfgrid = pd.DataFrame(\n",
    "    dict(n_neighbors = d[\"n_neighbors\"], error=e, std=s)\n",
    "    for d, e, s in zip(\n",
    "        search.cv_results_[\"params\"],\n",
    "        search.cv_results_[\"mean_test_score\"],\n",
    "        search.cv_results_[\"std_test_score\"],\n",
    "    )\n",
    ")\n",
    "plt.errorbar(dfgrid[\"n_neighbors\"], dfgrid[\"error\"], yerr=dfgrid[\"std\"])\n",
    "plt.show()"
   ]
  },
  {
   "cell_type": "code",
   "execution_count": 210,
   "id": "9fdea3ec",
   "metadata": {
    "cell_id": "00022-2987c1d3-8fb5-4ba8-ad05-cce4f9b23b3f",
    "deepnote_cell_type": "code",
    "deepnote_to_be_reexecuted": false,
    "execution_millis": 15,
    "execution_start": 1622918296223,
    "source_hash": "605425de"
   },
   "outputs": [
    {
     "name": "stdout",
     "output_type": "stream",
     "text": [
      "[[38  0  0]\n",
      " [ 0 14  0]\n",
      " [ 0  0 34]]\n",
      "              precision    recall  f1-score   support\n",
      "\n",
      "      Adelie       1.00      1.00      1.00        38\n",
      "   Chinstrap       1.00      1.00      1.00        14\n",
      "      Gentoo       1.00      1.00      1.00        34\n",
      "\n",
      "    accuracy                           1.00        86\n",
      "   macro avg       1.00      1.00      1.00        86\n",
      "weighted avg       1.00      1.00      1.00        86\n",
      "\n"
     ]
    }
   ],
   "source": [
    "knn = KNeighborsClassifier(n_neighbors=2)\n",
    "knn.fit(X,y)\n",
    "preds_knn = knn.predict(X_test)\n",
    "print(confusion_matrix(y_test,preds_knn))\n",
    "print(classification_report(y_test, preds_knn))"
   ]
  },
  {
   "cell_type": "markdown",
   "id": "6c93be28",
   "metadata": {
    "cell_id": "00023-a176d610-9295-43dc-8526-d7db3f33abe9",
    "deepnote_cell_type": "markdown"
   },
   "source": [
    "## Apprentissage avec PCA"
   ]
  },
  {
   "cell_type": "code",
   "execution_count": 211,
   "id": "3142e59c",
   "metadata": {
    "cell_id": "00024-7cb188d9-0cea-4b89-94ba-5ee09b9e7c65",
    "deepnote_cell_type": "code",
    "deepnote_to_be_reexecuted": false,
    "execution_start": 1622918296307,
    "source_hash": "2969eaf1"
   },
   "outputs": [
    {
     "name": "stdout",
     "output_type": "stream",
     "text": [
      "Ratios: [5.40936484e+01 2.29864840e+01 8.27458313e+00 5.56729016e+00\n",
      " 3.08389327e+00 2.32667814e+00 2.20703257e+00 1.46039027e+00\n",
      " 2.12702013e-31]\n"
     ]
    }
   ],
   "source": [
    "from sklearn.decomposition import PCA\n",
    "pca = PCA().fit(X_scaled)\n",
    "print('Ratios:',pca.explained_variance_ratio_*100)#Ratio per component."
   ]
  },
  {
   "cell_type": "code",
   "execution_count": 212,
   "id": "d22c1440",
   "metadata": {
    "cell_id": "00025-3329e096-2e00-4e65-bf44-0c9cace60c7a",
    "deepnote_cell_type": "code",
    "deepnote_to_be_reexecuted": false,
    "execution_millis": 198,
    "execution_start": 1622918296386,
    "source_hash": "968d066f"
   },
   "outputs": [
    {
     "data": {
      "image/png": "[encoded data removed]",
      "text/plain": [
       "<Figure size 432x288 with 1 Axes>"
      ]
     },
     "metadata": {
      "needs_background": "light"
     },
     "output_type": "display_data"
    }
   ],
   "source": [
    "plt.bar(range(len(pca.explained_variance_ratio_)), pca.explained_variance_ratio_, alpha=0.5)\n",
    "plt.step(range(len(pca.explained_variance_ratio_)), np.cumsum(pca.explained_variance_ratio_))\n",
    "plt.ylabel(\"Explained variance ratio\")\n",
    "plt.xlabel(\"Principal components\")\n",
    "plt.show()"
   ]
  },
  {
   "cell_type": "code",
   "execution_count": 213,
   "id": "b4212729",
   "metadata": {
    "cell_id": "00026-7d3bf66c-3404-4580-ae8e-9b90884ad2b2",
    "deepnote_cell_type": "code",
    "deepnote_to_be_reexecuted": false,
    "execution_start": 1622918296651,
    "source_hash": "a88e8542"
   },
   "outputs": [],
   "source": [
    "pca = PCA(n_components=3)\n",
    "X = X_scaled\n",
    "y = data['species']\n",
    "X_train,X_test,y_train,y_test=train_test_split(X_scaled,data['species'],test_size=0.25)\n",
    "X_train_pca = pca.fit_transform(X_train) \n",
    "X_test_pca = pca.transform(X_test) "
   ]
  },
  {
   "cell_type": "markdown",
   "id": "4494d30a",
   "metadata": {
    "cell_id": "00027-31cd0f75-58dd-415c-9178-b247a0e0dabe",
    "deepnote_cell_type": "markdown"
   },
   "source": [
    "### KNN"
   ]
  },
  {
   "cell_type": "code",
   "execution_count": 214,
   "id": "74c76fbd",
   "metadata": {
    "cell_id": "00028-55d47dd1-f0da-4180-8679-61a7bb4ad77f",
    "deepnote_cell_type": "code",
    "deepnote_to_be_reexecuted": false,
    "execution_millis": 6201,
    "execution_start": 1622918296694,
    "source_hash": "c5cfc454"
   },
   "outputs": [
    {
     "name": "stdout",
     "output_type": "stream",
     "text": [
      "{'n_neighbors': 3}\n",
      "0.992153846153846\n"
     ]
    }
   ],
   "source": [
    "n_neighbors_list = np.arange(1, 100)\n",
    "# hyper-paramètre\n",
    "param_grid = {\"n_neighbors\": n_neighbors_list}\n",
    "cls = KNeighborsClassifier()\n",
    "search = GridSearchCV(cls, param_grid, cv=10)\n",
    "search.fit(X_train_pca, y_train)\n",
    "print(search.best_params_)\n",
    "print(search.best_score_)"
   ]
  },
  {
   "cell_type": "code",
   "execution_count": 215,
   "id": "fde22a93",
   "metadata": {
    "cell_id": "00029-8d927867-7775-48a8-8531-5c7e60734bc5",
    "deepnote_cell_type": "code",
    "deepnote_to_be_reexecuted": false,
    "execution_millis": 228,
    "execution_start": 1622918302955,
    "source_hash": "1302a53b"
   },
   "outputs": [
    {
     "data": {
      "image/png": "[encoded data removed]",
      "text/plain": [
       "<Figure size 432x288 with 1 Axes>"
      ]
     },
     "metadata": {
      "needs_background": "light"
     },
     "output_type": "display_data"
    }
   ],
   "source": [
    "dfgrid = pd.DataFrame(\n",
    "    dict(n_neighbors = d[\"n_neighbors\"], error=e, std=s)\n",
    "    for d, e, s in zip(\n",
    "        search.cv_results_[\"params\"],\n",
    "        search.cv_results_[\"mean_test_score\"],\n",
    "        search.cv_results_[\"std_test_score\"],\n",
    "    )\n",
    ")\n",
    "plt.errorbar(dfgrid[\"n_neighbors\"], dfgrid[\"error\"], yerr=dfgrid[\"std\"])\n",
    "plt.show()"
   ]
  },
  {
   "cell_type": "code",
   "execution_count": 216,
   "id": "6c28c51f",
   "metadata": {
    "cell_id": "00030-8d78ce09-053a-4d75-8324-1cba1628133c",
    "deepnote_cell_type": "code",
    "deepnote_to_be_reexecuted": false,
    "execution_start": 1622918303199,
    "source_hash": "72d4c1aa"
   },
   "outputs": [
    {
     "name": "stdout",
     "output_type": "stream",
     "text": [
      "[[36  0  0]\n",
      " [ 0 15  0]\n",
      " [ 0  0 35]]\n",
      "              precision    recall  f1-score   support\n",
      "\n",
      "      Adelie       1.00      1.00      1.00        36\n",
      "   Chinstrap       1.00      1.00      1.00        15\n",
      "      Gentoo       1.00      1.00      1.00        35\n",
      "\n",
      "    accuracy                           1.00        86\n",
      "   macro avg       1.00      1.00      1.00        86\n",
      "weighted avg       1.00      1.00      1.00        86\n",
      "\n"
     ]
    }
   ],
   "source": [
    "knn = KNeighborsClassifier(n_neighbors=6)\n",
    "knn.fit(X_train_pca,y_train)\n",
    "preds_knn = knn.predict(X_test_pca)\n",
    "print(confusion_matrix(y_test,preds_knn))\n",
    "print(classification_report(y_test, preds_knn))"
   ]
  },
  {
   "cell_type": "code",
   "execution_count": 217,
   "id": "bc50bda2",
   "metadata": {
    "cell_id": "00031-a01c2846-7cad-4e5b-b866-c617e56c9b1e",
    "deepnote_cell_type": "code",
    "deepnote_to_be_reexecuted": false,
    "execution_millis": 468,
    "execution_start": 1622918303262,
    "source_hash": "43012727"
   },
   "outputs": [
    {
     "data": {
      "image/png": "[encoded data removed]",
      "text/plain": [
       "<Figure size 504x360 with 1 Axes>"
      ]
     },
     "metadata": {},
     "output_type": "display_data"
    }
   ],
   "source": [
    "X_pca = X_test_pca\n",
    "ex_variance=np.var(X_pca,axis=0)\n",
    "ex_variance_ratio = ex_variance/np.sum(ex_variance)\n",
    "ex_variance_ratio\n",
    "\n",
    "\n",
    "Xax = X_pca[:,0]\n",
    "Yax = X_pca[:,1]\n",
    "Zax = X_pca[:,2]\n",
    "\n",
    "cdict = {'Adelie':'red','Chinstrap':'green','Gentoo':'blue'}\n",
    "marker = {'Adelie':'*','Chinstrap':'x','Gentoo':'+'}\n",
    "alpha = {'0':.3, 1:.5}\n",
    "\n",
    "fig = plt.figure(figsize=(7,5))\n",
    "ax = fig.add_subplot(111, projection='3d')\n",
    "\n",
    "fig.patch.set_facecolor('white')\n",
    "for l in np.unique(preds_knn):\n",
    "    ix=np.where(preds_knn==l)\n",
    "    ax.scatter(Xax[ix], Yax[ix], Zax[ix], s=40,label=l, marker=marker[l])\n",
    "# for loop ends\n",
    "ax.set_xlabel(\"First Principal Component\", fontsize=14)\n",
    "ax.set_ylabel(\"Second Principal Component\", fontsize=14)\n",
    "ax.set_zlabel(\"Third Principal Component\", fontsize=14)\n",
    "\n",
    "ax.legend()\n",
    "plt.show()"
   ]
  },
  {
   "cell_type": "code",
   "execution_count": 218,
   "id": "e93432a5",
   "metadata": {
    "cell_id": "00032-e1059100-10ac-4617-a79f-26606493a2bb",
    "deepnote_cell_type": "code",
    "deepnote_to_be_reexecuted": false,
    "execution_millis": 600,
    "execution_start": 1622918325827,
    "source_hash": "9ddd06ad"
   },
   "outputs": [
    {
     "data": {
      "text/plain": [
       "<AxesSubplot:>"
      ]
     },
     "execution_count": 218,
     "metadata": {},
     "output_type": "execute_result"
    },
    {
     "data": {
      "image/png": "[encoded data removed]",
      "text/plain": [
       "<Figure size 432x288 with 1 Axes>"
      ]
     },
     "metadata": {
      "needs_background": "light"
     },
     "output_type": "display_data"
    }
   ],
   "source": [
    "import seaborn as sns\n",
    "sns.scatterplot(x=X_test_pca[:,0], y=X_test_pca[:,1], hue=preds_knn)"
   ]
  },
  {
   "cell_type": "markdown",
   "id": "e10c1e41",
   "metadata": {
    "cell_id": "00033-4c35ef89-fdfa-4e96-a95c-9ccd8348a60d",
    "deepnote_cell_type": "markdown"
   },
   "source": [
    "## Analyse discriminante"
   ]
  },
  {
   "cell_type": "code",
   "execution_count": 219,
   "id": "d11e7d59",
   "metadata": {
    "cell_id": "00034-70c13fd4-f1bf-4666-8ced-1ba9dcace404",
    "deepnote_cell_type": "code",
    "deepnote_to_be_reexecuted": false,
    "execution_millis": 20,
    "execution_start": 1622918329126,
    "source_hash": "49c128ed"
   },
   "outputs": [],
   "source": [
    "from sklearn.model_selection import cross_val_score\n",
    "from sklearn.discriminant_analysis import LinearDiscriminantAnalysis\n",
    "from sklearn.discriminant_analysis import QuadraticDiscriminantAnalysis\n",
    "from sklearn.naive_bayes import GaussianNB"
   ]
  },
  {
   "cell_type": "code",
   "execution_count": 220,
   "id": "b74e9fa6",
   "metadata": {
    "cell_id": "00035-645355ee-ae00-4b0a-9910-f890847a9bba",
    "deepnote_cell_type": "code",
    "deepnote_to_be_reexecuted": false,
    "execution_millis": 18,
    "execution_start": 1622918329518,
    "source_hash": "89197aa4"
   },
   "outputs": [],
   "source": [
    "def add_decision_boundary(\n",
    "    model, levels=None, resolution=100, ax=None, label=None, color=None, region=True\n",
    "):\n",
    "    \"\"\"Trace une frontière et des régions de décision sur une figure existante.\n",
    "\n",
    "    La fonction requiert un modèle scikit-learn `model` pour prédire\n",
    "    un score ou une classe. La discrétisation utilisée est fixée par\n",
    "    l'argument `resolution`. Une (ou plusieurs frontières) sont\n",
    "    ensuite tracées d'après le paramètre `levels` qui fixe la valeur\n",
    "    des lignes de niveaux recherchées.\n",
    "\n",
    "    \"\"\"\n",
    "\n",
    "    if ax is None:\n",
    "        ax = plt.gca()\n",
    "\n",
    "    # Create grid to evaluate model\n",
    "    xlim = ax.get_xlim()\n",
    "    ylim = ax.get_ylim()\n",
    "    xx = np.linspace(xlim[0], xlim[1], resolution)\n",
    "    yy = np.linspace(ylim[0], ylim[1], resolution)\n",
    "    XX, YY = np.meshgrid(xx, yy)\n",
    "    xy = np.vstack([XX.ravel(), YY.ravel()]).T\n",
    "    Z = model.predict(xy).reshape(XX.shape)\n",
    "\n",
    "    cat2num = {cat: num for num, cat in enumerate(model.classes_)}\n",
    "    num2cat = {num: cat for num, cat in enumerate(model.classes_)}\n",
    "    vcat2num = np.vectorize(lambda x: cat2num[x])\n",
    "    Z_num = vcat2num(Z)\n",
    "\n",
    "    # Add decision boundary to legend\n",
    "    color = \"b\" if color is None else color\n",
    "    sns.lineplot(x=[0], y=[0], label=label, ax=ax, color=color, linestyle=\"dashed\")\n",
    "    mask = np.zeros_like(Z_num, dtype=bool)\n",
    "    for k in range(len(model.classes_) - 1):\n",
    "        mask |= Z_num == k - 1\n",
    "        Z_num_mask = np.ma.array(Z_num, mask=mask)\n",
    "        ax.contour(\n",
    "            XX,\n",
    "            YY,\n",
    "            Z_num_mask,\n",
    "            levels=[k + 0.5],\n",
    "            linestyles=\"dashed\",\n",
    "            corner_mask=True,\n",
    "            colors=[color],\n",
    "            antialiased=True,\n",
    "        )\n",
    "\n",
    "    if region:\n",
    "        # Hack to get colors\n",
    "        # TODO use legend_out = True\n",
    "        slabels = [str(l) for l in model.classes_]\n",
    "        hdls, hlabels = ax.get_legend_handles_labels()\n",
    "        hlabels_hdls = {l: h for l, h in zip(hlabels, hdls)}\n",
    "\n",
    "        color_dict = {}\n",
    "        for label in model.classes_:\n",
    "            if str(label) in hlabels_hdls:\n",
    "                hdl = hlabels_hdls[str(label)]\n",
    "                color = hdl.get_facecolor().ravel()\n",
    "                color_dict[label] = color\n",
    "            else:\n",
    "                raise Exception(\"No corresponding label found for \", label)\n",
    "\n",
    "        colors = [color_dict[num2cat[i]] for i in range(len(model.classes_))]\n",
    "        cmap = mpl.colors.ListedColormap(colors)\n",
    "\n",
    "        ax.imshow(\n",
    "            Z_num,\n",
    "            interpolation=\"nearest\",\n",
    "            extent=ax.get_xlim() + ax.get_ylim(),\n",
    "            aspect=\"auto\",\n",
    "            origin=\"lower\",\n",
    "            cmap=cmap,\n",
    "            alpha=0.2,\n",
    "        )"
   ]
  },
  {
   "cell_type": "code",
   "execution_count": 221,
   "id": "7daa2e18",
   "metadata": {
    "cell_id": "00036-220ba852-eb67-4e61-a2d3-394a14670c62",
    "deepnote_cell_type": "code",
    "deepnote_to_be_reexecuted": false,
    "execution_millis": 3,
    "execution_start": 1622918330712,
    "source_hash": "493f445"
   },
   "outputs": [],
   "source": [
    "colors = sns.color_palette()"
   ]
  },
  {
   "cell_type": "code",
   "execution_count": 222,
   "id": "bdcc72ee",
   "metadata": {
    "cell_id": "00037-f4097ba4-5236-4358-8940-e8defd77eb82",
    "deepnote_cell_type": "code",
    "deepnote_to_be_reexecuted": false,
    "execution_millis": 9,
    "execution_start": 1622918331171,
    "source_hash": "2b7c064b"
   },
   "outputs": [],
   "source": [
    "lda = LinearDiscriminantAnalysis()\n",
    "modelLDA = lda.fit(X_train_pca[:, 0:2], y_train)"
   ]
  },
  {
   "cell_type": "code",
   "execution_count": 223,
   "id": "62943f2c",
   "metadata": {
    "cell_id": "00038-d7ba2206-bc61-4d8f-b5d8-99d9c789f03a",
    "deepnote_cell_type": "code",
    "deepnote_to_be_reexecuted": false,
    "execution_millis": 6,
    "execution_start": 1622918332250,
    "source_hash": "bf1daf05"
   },
   "outputs": [
    {
     "name": "stdout",
     "output_type": "stream",
     "text": [
      "[0.44921875 0.20703125 0.34375   ]\n"
     ]
    }
   ],
   "source": [
    "print(modelLDA.priors_)"
   ]
  },
  {
   "cell_type": "code",
   "execution_count": 224,
   "id": "ca56a858",
   "metadata": {
    "cell_id": "00039-b6df8bf0-22bb-4996-b874-717abc5ebe27",
    "deepnote_cell_type": "code",
    "deepnote_to_be_reexecuted": false,
    "execution_millis": 17,
    "execution_start": 1622918333360,
    "source_hash": "6853e826"
   },
   "outputs": [
    {
     "name": "stdout",
     "output_type": "stream",
     "text": [
      "(array(['Adelie', 'Chinstrap', 'Gentoo'], dtype='<U9'), array([36, 15, 35], dtype=int64))\n"
     ]
    }
   ],
   "source": [
    "predLDA=modelLDA.predict(X_test_pca[:, 0:2])\n",
    "print(np.unique(predLDA, return_counts=True))"
   ]
  },
  {
   "cell_type": "code",
   "execution_count": 225,
   "id": "a28b9205",
   "metadata": {
    "cell_id": "00040-83c9d7e5-5545-4512-b716-abbfeab32171",
    "deepnote_cell_type": "code",
    "deepnote_to_be_reexecuted": false,
    "execution_millis": 21,
    "execution_start": 1622918334356,
    "source_hash": "f006c7d8"
   },
   "outputs": [
    {
     "name": "stdout",
     "output_type": "stream",
     "text": [
      "[[36  0  0]\n",
      " [ 0 15  0]\n",
      " [ 0  0 35]]\n",
      "              precision    recall  f1-score   support\n",
      "\n",
      "      Adelie      1.000     1.000     1.000        36\n",
      "   Chinstrap      1.000     1.000     1.000        15\n",
      "      Gentoo      1.000     1.000     1.000        35\n",
      "\n",
      "    accuracy                          1.000        86\n",
      "   macro avg      1.000     1.000     1.000        86\n",
      "weighted avg      1.000     1.000     1.000        86\n",
      "\n"
     ]
    }
   ],
   "source": [
    "print(confusion_matrix(predLDA, y_test))\n",
    "print(classification_report(y_test, predLDA, digits=3))"
   ]
  },
  {
   "cell_type": "code",
   "execution_count": 226,
   "id": "63abe379",
   "metadata": {
    "cell_id": "00041-6246dfaf-041e-4294-ade6-af768976fbd9",
    "deepnote_cell_type": "code",
    "deepnote_to_be_reexecuted": false,
    "execution_millis": 8,
    "execution_start": 1622918335485,
    "source_hash": "5afcf353"
   },
   "outputs": [],
   "source": [
    "qda = QuadraticDiscriminantAnalysis()\n",
    "modelQDA = qda.fit(X_train_pca[:, 0:2], y_train)"
   ]
  },
  {
   "cell_type": "code",
   "execution_count": 227,
   "id": "294cbfe8",
   "metadata": {
    "cell_id": "00042-b8b24b00-002e-4c1d-8718-c97046745cf9",
    "deepnote_cell_type": "code",
    "deepnote_to_be_reexecuted": false,
    "execution_millis": 22,
    "execution_start": 1622918336274,
    "source_hash": "4e53f5a4"
   },
   "outputs": [
    {
     "name": "stdout",
     "output_type": "stream",
     "text": [
      "[0.44921875 0.20703125 0.34375   ]\n"
     ]
    }
   ],
   "source": [
    "print(modelQDA.priors_)"
   ]
  },
  {
   "cell_type": "code",
   "execution_count": 228,
   "id": "41f0b80b",
   "metadata": {
    "cell_id": "00043-de6c45f4-f066-4a2e-997a-d2a63d18d20e",
    "deepnote_cell_type": "code",
    "deepnote_to_be_reexecuted": false,
    "execution_millis": 3,
    "execution_start": 1622918337190,
    "source_hash": "85b64c87"
   },
   "outputs": [
    {
     "name": "stdout",
     "output_type": "stream",
     "text": [
      "(array(['Adelie', 'Chinstrap', 'Gentoo'], dtype=object), array([37, 14, 35], dtype=int64))\n"
     ]
    }
   ],
   "source": [
    "predQDA=modelQDA.predict(X_test_pca[:, 0:2])\n",
    "print(np.unique(predQDA, return_counts=True))"
   ]
  },
  {
   "cell_type": "code",
   "execution_count": 229,
   "id": "f0abd449",
   "metadata": {
    "cell_id": "00044-c5834e2e-c57e-4384-a404-4dde2992ae3d",
    "deepnote_cell_type": "code",
    "deepnote_to_be_reexecuted": false,
    "execution_millis": 3,
    "execution_start": 1622918338051,
    "source_hash": "fc46516a"
   },
   "outputs": [
    {
     "name": "stdout",
     "output_type": "stream",
     "text": [
      "[[36  1  0]\n",
      " [ 0 14  0]\n",
      " [ 0  0 35]]\n",
      "              precision    recall  f1-score   support\n",
      "\n",
      "      Adelie      0.973     1.000     0.986        36\n",
      "   Chinstrap      1.000     0.933     0.966        15\n",
      "      Gentoo      1.000     1.000     1.000        35\n",
      "\n",
      "    accuracy                          0.988        86\n",
      "   macro avg      0.991     0.978     0.984        86\n",
      "weighted avg      0.989     0.988     0.988        86\n",
      "\n"
     ]
    }
   ],
   "source": [
    "print(confusion_matrix(predQDA, y_test))\n",
    "print(classification_report(y_test, predQDA, digits=3))"
   ]
  },
  {
   "cell_type": "code",
   "execution_count": 230,
   "id": "ad61cdf0",
   "metadata": {
    "cell_id": "00045-ed8fb47f-6c33-45d7-8851-36cc9e16355c",
    "deepnote_cell_type": "code",
    "deepnote_to_be_reexecuted": false,
    "execution_millis": 18,
    "execution_start": 1622918339092,
    "source_hash": "52f8986c"
   },
   "outputs": [],
   "source": [
    "nb = GaussianNB()\n",
    "modelNB = nb.fit(X_train_pca[:, 0:2], y_train)"
   ]
  },
  {
   "cell_type": "code",
   "execution_count": 231,
   "id": "ac60cce3",
   "metadata": {
    "cell_id": "00047-c76d25c4-d86e-4a21-a637-44958996c52b",
    "deepnote_cell_type": "code",
    "deepnote_to_be_reexecuted": false,
    "execution_millis": 0,
    "execution_start": 1622918340962,
    "source_hash": "f0fb8204"
   },
   "outputs": [
    {
     "name": "stdout",
     "output_type": "stream",
     "text": [
      "(array(['Adelie', 'Chinstrap', 'Gentoo'], dtype='<U9'), array([37, 14, 35], dtype=int64))\n"
     ]
    }
   ],
   "source": [
    "predNB=modelNB.predict(X_test_pca[:, 0:2])\n",
    "print(np.unique(predNB, return_counts=True))"
   ]
  },
  {
   "cell_type": "code",
   "execution_count": 232,
   "id": "da436b62",
   "metadata": {
    "cell_id": "00048-282915ea-3512-4cac-9c8f-bfd13043e9d1",
    "deepnote_cell_type": "code",
    "deepnote_to_be_reexecuted": false,
    "execution_millis": 43,
    "execution_start": 1622918341737,
    "source_hash": "b8cf3d57"
   },
   "outputs": [
    {
     "name": "stdout",
     "output_type": "stream",
     "text": [
      "[[36  1  0]\n",
      " [ 0 14  0]\n",
      " [ 0  0 35]]\n",
      "              precision    recall  f1-score   support\n",
      "\n",
      "      Adelie      0.973     1.000     0.986        36\n",
      "   Chinstrap      1.000     0.933     0.966        15\n",
      "      Gentoo      1.000     1.000     1.000        35\n",
      "\n",
      "    accuracy                          0.988        86\n",
      "   macro avg      0.991     0.978     0.984        86\n",
      "weighted avg      0.989     0.988     0.988        86\n",
      "\n"
     ]
    }
   ],
   "source": [
    "print(confusion_matrix(predNB, y_test))\n",
    "print(classification_report(y_test, predNB, digits=3))"
   ]
  },
  {
   "cell_type": "code",
   "execution_count": 233,
   "id": "2c8fcb72",
   "metadata": {
    "cell_id": "00049-9fa6920d-568a-46fd-98b7-5e07f188bdd8",
    "deepnote_cell_type": "code",
    "deepnote_to_be_reexecuted": false,
    "execution_millis": 1875,
    "execution_start": 1622918342393,
    "source_hash": "84c1e1b3"
   },
   "outputs": [
    {
     "data": {
      "image/png": "[encoded data removed]",
      "text/plain": [
       "<Figure size 864x432 with 1 Axes>"
      ]
     },
     "metadata": {
      "needs_background": "light"
     },
     "output_type": "display_data"
    }
   ],
   "source": [
    "colors = sns.color_palette()\n",
    "fig, ax1 = plt.subplots(1, 1, figsize=(12,6))\n",
    "sns.scatterplot(x=X_train_pca[:,0], y=X_train_pca[:,1], hue=y_train,ax=ax1)\n",
    "add_decision_boundary(modelLDA, label=\"LDA\", color=colors.pop(), region=False, \n",
    "                      resolution=1000)\n",
    "add_decision_boundary(modelQDA, label=\"QDA\", color=colors.pop(), region=False,\n",
    "                      resolution=1000)\n",
    "add_decision_boundary(modelNB, label=\"GaussianNB\", color=colors.pop(), region=False)"
   ]
  },
  {
   "cell_type": "code",
   "execution_count": null,
   "id": "1233def3",
   "metadata": {
    "cell_id": "00050-04cc1976-ddb8-4e38-8478-c878dd27a78a",
    "deepnote_cell_type": "code",
    "deepnote_to_be_reexecuted": false,
    "execution_millis": 11,
    "execution_start": 1622918344287,
    "source_hash": "b623e53d"
   },
   "outputs": [],
   "source": []
  },
  {
   "cell_type": "code",
   "execution_count": null,
   "id": "da47c049",
   "metadata": {
    "cell_id": "00051-f3a75c24-1b0d-4afe-8cb1-f3f61c0e0be3",
    "deepnote_cell_type": "code",
    "tags": []
   },
   "outputs": [],
   "source": [
    " \n",
    " "
   ]
  },
  {
   "cell_type": "markdown",
   "id": "776f5cf7",
   "metadata": {
    "created_in_deepnote_cell": true,
    "deepnote_cell_type": "markdown",
    "tags": []
   },
   "source": [
    "<a style='text-decoration:none;line-height:16px;display:flex;color:#5B5B62;padding:10px;justify-content:end;' href='https://deepnote.com?utm_source=created-in-deepnote-cell&projectId=1dd35576-464a-4d46-a0e6-752fc35b7463' target=\"_blank\">\n",
    "<img alt='Created in deepnote.com' style='display:inline;max-height:16px;margin:0px;margin-right:7.5px;' src='data:image/svg+xml;base64,PD94bWwgdmVyc2lvbj0iMS4wIiBlbmNvZGluZz0iVVRGLTgiPz4KPHN2ZyB3aWR0aD0iODBweCIgaGVpZ2h0PSI4MHB4IiB2aWV3Qm94PSIwIDAgODAgODAiIHZlcnNpb249IjEuMSIgeG1sbnM9Imh0dHA6Ly93d3cudzMub3JnLzIwMDAvc3ZnIiB4bWxuczp4bGluaz0iaHR0cDovL3d3dy53My5vcmcvMTk5OS94bGluayI+CiAgICA8IS0tIEdlbmVyYXRvcjogU2tldGNoIDU0LjEgKDc2NDkwKSAtIGh0dHBzOi8vc2tldGNoYXBwLmNvbSAtLT4KICAgIDx0aXRsZT5Hcm91cCAzPC90aXRsZT4KICAgIDxkZXNjPkNyZWF0ZWQgd2l0aCBTa2V0Y2guPC9kZXNjPgogICAgPGcgaWQ9IkxhbmRpbmciIHN0cm9rZT0ibm9uZSIgc3Ryb2tlLXdpZHRoPSIxIiBmaWxsPSJub25lIiBmaWxsLXJ1bGU9ImV2ZW5vZGQiPgogICAgICAgIDxnIGlkPSJBcnRib2FyZCIgdHJhbnNmb3JtPSJ0cmFuc2xhdGUoLTEyMzUuMDAwMDAwLCAtNzkuMDAwMDAwKSI+CiAgICAgICAgICAgIDxnIGlkPSJHcm91cC0zIiB0cmFuc2Zvcm09InRyYW5zbGF0ZSgxMjM1LjAwMDAwMCwgNzkuMDAwMDAwKSI+CiAgICAgICAgICAgICAgICA8cG9seWdvbiBpZD0iUGF0aC0yMCIgZmlsbD0iIzAyNjVCNCIgcG9pbnRzPSIyLjM3NjIzNzYyIDgwIDM4LjA0NzY2NjcgODAgNTcuODIxNzgyMiA3My44MDU3NTkyIDU3LjgyMTc4MjIgMzIuNzU5MjczOSAzOS4xNDAyMjc4IDMxLjY4MzE2ODMiPjwvcG9seWdvbj4KICAgICAgICAgICAgICAgIDxwYXRoIGQ9Ik0zNS4wMDc3MTgsODAgQzQyLjkwNjIwMDcsNzYuNDU0OTM1OCA0Ny41NjQ5MTY3LDcxLjU0MjI2NzEgNDguOTgzODY2LDY1LjI2MTk5MzkgQzUxLjExMjI4OTksNTUuODQxNTg0MiA0MS42NzcxNzk1LDQ5LjIxMjIyODQgMjUuNjIzOTg0Niw0OS4yMTIyMjg0IEMyNS40ODQ5Mjg5LDQ5LjEyNjg0NDggMjkuODI2MTI5Niw0My4yODM4MjQ4IDM4LjY0NzU4NjksMzEuNjgzMTY4MyBMNzIuODcxMjg3MSwzMi41NTQ0MjUgTDY1LjI4MDk3Myw2Ny42NzYzNDIxIEw1MS4xMTIyODk5LDc3LjM3NjE0NCBMMzUuMDA3NzE4LDgwIFoiIGlkPSJQYXRoLTIyIiBmaWxsPSIjMDAyODY4Ij48L3BhdGg+CiAgICAgICAgICAgICAgICA8cGF0aCBkPSJNMCwzNy43MzA0NDA1IEwyNy4xMTQ1MzcsMC4yNTcxMTE0MzYgQzYyLjM3MTUxMjMsLTEuOTkwNzE3MDEgODAsMTAuNTAwMzkyNyA4MCwzNy43MzA0NDA1IEM4MCw2NC45NjA0ODgyIDY0Ljc3NjUwMzgsNzkuMDUwMzQxNCAzNC4zMjk1MTEzLDgwIEM0Ny4wNTUzNDg5LDc3LjU2NzA4MDggNTMuNDE4MjY3Nyw3MC4zMTM2MTAzIDUzLjQxODI2NzcsNTguMjM5NTg4NSBDNTMuNDE4MjY3Nyw0MC4xMjg1NTU3IDM2LjMwMzk1NDQsMzcuNzMwNDQwNSAyNS4yMjc0MTcsMzcuNzMwNDQwNSBDMTcuODQzMDU4NiwzNy43MzA0NDA1IDkuNDMzOTE5NjYsMzcuNzMwNDQwNSAwLDM3LjczMDQ0MDUgWiIgaWQ9IlBhdGgtMTkiIGZpbGw9IiMzNzkzRUYiPjwvcGF0aD4KICAgICAgICAgICAgPC9nPgogICAgICAgIDwvZz4KICAgIDwvZz4KPC9zdmc+' > </img>\n",
    "Created in <span style='font-weight:600;margin-left:4px;'>Deepnote</span></a>"
   ]
  }
 ],
 "metadata": {
  "deepnote": {},
  "deepnote_execution_queue": [],
  "deepnote_notebook_id": "2b00cc50-dbd4-4992-92be-570fc1b0f4d5",
  "kernelspec": {
   "display_name": "venv",
   "language": "python",
   "name": "venv"
  },
  "language_info": {
   "codemirror_mode": {
    "name": "ipython",
    "version": 3
   },
   "file_extension": ".py",
   "mimetype": "text/x-python",
   "name": "python",
   "nbconvert_exporter": "python",
   "pygments_lexer": "ipython3",
   "version": "3.9.5"
  }
 },
 "nbformat": 4,
 "nbformat_minor": 5
}
