{
 "cells": [
  {
   "cell_type": "code",
   "execution_count": 1,
   "id": "efce0d3b-06c1-44f5-abd8-734ef068fb8c",
   "metadata": {},
   "outputs": [],
   "source": [
    "import pandas as pd\n",
    "# ^^^ pyforest auto-imports - don't write above this line\n",
    "data = pd.read_csv('../../data/penguins_cleaned.csv')"
   ]
  },
  {
   "cell_type": "code",
   "execution_count": 2,
   "id": "e2c56154-e9f2-4b9d-be07-ebebba393897",
   "metadata": {},
   "outputs": [],
   "source": [
    "import sklearn\n",
    "from sklearn.feature_selection import SelectKBest\n",
    "from sklearn.feature_selection import f_classif"
   ]
  },
  {
   "cell_type": "code",
   "execution_count": 3,
   "id": "60e077a3-1a3d-41b8-8cbd-44dcf1ec0e82",
   "metadata": {},
   "outputs": [],
   "source": [
    "from sklearn import preprocessing \n",
    "LE=preprocessing.LabelEncoder()"
   ]
  },
  {
   "cell_type": "code",
   "execution_count": 4,
   "id": "4521f8d1-6c8f-4e26-94ed-91479adb1f95",
   "metadata": {},
   "outputs": [
    {
     "data": {
      "text/html": [
       "<div>\n",
       "<style scoped>\n",
       "    .dataframe tbody tr th:only-of-type {\n",
       "        vertical-align: middle;\n",
       "    }\n",
       "\n",
       "    .dataframe tbody tr th {\n",
       "        vertical-align: top;\n",
       "    }\n",
       "\n",
       "    .dataframe thead th {\n",
       "        text-align: right;\n",
       "    }\n",
       "</style>\n",
       "<table border=\"1\" class=\"dataframe\">\n",
       "  <thead>\n",
       "    <tr style=\"text-align: right;\">\n",
       "      <th></th>\n",
       "      <th>species</th>\n",
       "      <th>island</th>\n",
       "      <th>clutch_completion</th>\n",
       "      <th>date_egg</th>\n",
       "      <th>bill_length</th>\n",
       "      <th>bill_depth</th>\n",
       "      <th>flipper_length</th>\n",
       "      <th>body_mass</th>\n",
       "      <th>sex</th>\n",
       "      <th>del15</th>\n",
       "      <th>del13</th>\n",
       "      <th>species_code</th>\n",
       "    </tr>\n",
       "  </thead>\n",
       "  <tbody>\n",
       "    <tr>\n",
       "      <th>0</th>\n",
       "      <td>Adelie</td>\n",
       "      <td>2</td>\n",
       "      <td>1</td>\n",
       "      <td>2</td>\n",
       "      <td>39.1</td>\n",
       "      <td>18.7</td>\n",
       "      <td>181.0</td>\n",
       "      <td>3750.0</td>\n",
       "      <td>1</td>\n",
       "      <td>8.859733</td>\n",
       "      <td>-25.804194</td>\n",
       "      <td>0</td>\n",
       "    </tr>\n",
       "    <tr>\n",
       "      <th>1</th>\n",
       "      <td>Adelie</td>\n",
       "      <td>2</td>\n",
       "      <td>1</td>\n",
       "      <td>2</td>\n",
       "      <td>39.5</td>\n",
       "      <td>17.4</td>\n",
       "      <td>186.0</td>\n",
       "      <td>3800.0</td>\n",
       "      <td>0</td>\n",
       "      <td>8.949560</td>\n",
       "      <td>-24.694540</td>\n",
       "      <td>0</td>\n",
       "    </tr>\n",
       "    <tr>\n",
       "      <th>2</th>\n",
       "      <td>Adelie</td>\n",
       "      <td>2</td>\n",
       "      <td>1</td>\n",
       "      <td>6</td>\n",
       "      <td>40.3</td>\n",
       "      <td>18.0</td>\n",
       "      <td>195.0</td>\n",
       "      <td>3250.0</td>\n",
       "      <td>0</td>\n",
       "      <td>8.368210</td>\n",
       "      <td>-25.333020</td>\n",
       "      <td>0</td>\n",
       "    </tr>\n",
       "    <tr>\n",
       "      <th>3</th>\n",
       "      <td>Adelie</td>\n",
       "      <td>2</td>\n",
       "      <td>1</td>\n",
       "      <td>6</td>\n",
       "      <td>36.7</td>\n",
       "      <td>19.3</td>\n",
       "      <td>193.0</td>\n",
       "      <td>3450.0</td>\n",
       "      <td>0</td>\n",
       "      <td>8.766510</td>\n",
       "      <td>-25.324260</td>\n",
       "      <td>0</td>\n",
       "    </tr>\n",
       "    <tr>\n",
       "      <th>4</th>\n",
       "      <td>Adelie</td>\n",
       "      <td>2</td>\n",
       "      <td>1</td>\n",
       "      <td>6</td>\n",
       "      <td>39.3</td>\n",
       "      <td>20.6</td>\n",
       "      <td>190.0</td>\n",
       "      <td>3650.0</td>\n",
       "      <td>1</td>\n",
       "      <td>8.664960</td>\n",
       "      <td>-25.298050</td>\n",
       "      <td>0</td>\n",
       "    </tr>\n",
       "  </tbody>\n",
       "</table>\n",
       "</div>"
      ],
      "text/plain": [
       "  species  island  clutch_completion  date_egg  bill_length  bill_depth  \\\n",
       "0  Adelie       2                  1         2         39.1        18.7   \n",
       "1  Adelie       2                  1         2         39.5        17.4   \n",
       "2  Adelie       2                  1         6         40.3        18.0   \n",
       "3  Adelie       2                  1         6         36.7        19.3   \n",
       "4  Adelie       2                  1         6         39.3        20.6   \n",
       "\n",
       "   flipper_length  body_mass  sex     del15      del13  species_code  \n",
       "0           181.0     3750.0    1  8.859733 -25.804194             0  \n",
       "1           186.0     3800.0    0  8.949560 -24.694540             0  \n",
       "2           195.0     3250.0    0  8.368210 -25.333020             0  \n",
       "3           193.0     3450.0    0  8.766510 -25.324260             0  \n",
       "4           190.0     3650.0    1  8.664960 -25.298050             0  "
      ]
     },
     "execution_count": 4,
     "metadata": {},
     "output_type": "execute_result"
    }
   ],
   "source": [
    "lter_encode=data.copy()\n",
    "lter_encode['island']=LE.fit_transform(lter_encode['island'])\n",
    "lter_encode['clutch_completion']=LE.fit_transform(lter_encode['clutch_completion'])\n",
    "lter_encode['sex']=LE.fit_transform(lter_encode['sex'])\n",
    "lter_encode['date_egg']=LE.fit_transform(lter_encode['date_egg'])\n",
    "lter_encode['species_code']=LE.fit_transform(lter_encode['species'])\n",
    "lter_encode.head()"
   ]
  },
  {
   "cell_type": "markdown",
   "id": "322067c4-7035-4cf4-8675-e702ddf37830",
   "metadata": {},
   "source": [
    "# Sélection des variables"
   ]
  },
  {
   "cell_type": "code",
   "execution_count": 5,
   "id": "42d2391d-cb8e-49db-99c0-658165477a63",
   "metadata": {},
   "outputs": [],
   "source": [
    "bestfeatures = SelectKBest(score_func=f_classif, k='all')"
   ]
  },
  {
   "cell_type": "code",
   "execution_count": 6,
   "id": "a642e73a-2638-45e0-a2d9-bb9ecff5d567",
   "metadata": {},
   "outputs": [
    {
     "name": "stdout",
     "output_type": "stream",
     "text": [
      "             Feature       Score\n",
      "5     flipper_length  594.801627\n",
      "3        bill_length  410.600255\n",
      "4         bill_depth  359.789149\n",
      "6          body_mass  343.626275\n",
      "9              del13  234.897119\n",
      "8              del15  229.625963\n",
      "0             island  150.350633\n",
      "1  clutch_completion    5.554315\n",
      "2           date_egg    4.368453\n",
      "7                sex    0.283857\n"
     ]
    }
   ],
   "source": [
    "X=lter_encode.drop(['species','species_code'], axis=1)\n",
    "Y=lter_encode['species']\n",
    "fit = bestfeatures.fit(X,Y)\n",
    "dfscores = pd.DataFrame(fit.scores_)\n",
    "dfcolumns = pd.DataFrame(X.columns)\n",
    "featureScores = pd.concat([dfcolumns,dfscores],axis=1)\n",
    "featureScores.columns = ['Feature','Score'] \n",
    "print(featureScores.nlargest(lter_encode.shape[1],'Score')) "
   ]
  },
  {
   "cell_type": "code",
   "execution_count": 7,
   "id": "87eb6903-af14-4f0e-ac39-2035540704f2",
   "metadata": {},
   "outputs": [],
   "source": [
    "data = data.drop(\n",
    "    columns=[\n",
    "        'clutch_completion',\n",
    "        'date_egg',\n",
    "        'sex'\n",
    "    ]\n",
    ")"
   ]
  },
  {
   "cell_type": "markdown",
   "id": "1119ae52-925d-4c5e-99b1-61f5229b2aae",
   "metadata": {},
   "source": [
    "# Préparation des données"
   ]
  },
  {
   "cell_type": "markdown",
   "id": "9f3602d1-a279-4434-8c35-06ca3c4f9daa",
   "metadata": {},
   "source": [
    "## OHE"
   ]
  },
  {
   "cell_type": "code",
   "execution_count": 8,
   "id": "b9982faf-29a5-4d6c-834f-d59da9eee796",
   "metadata": {},
   "outputs": [
    {
     "data": {
      "text/html": [
       "<div>\n",
       "<style scoped>\n",
       "    .dataframe tbody tr th:only-of-type {\n",
       "        vertical-align: middle;\n",
       "    }\n",
       "\n",
       "    .dataframe tbody tr th {\n",
       "        vertical-align: top;\n",
       "    }\n",
       "\n",
       "    .dataframe thead th {\n",
       "        text-align: right;\n",
       "    }\n",
       "</style>\n",
       "<table border=\"1\" class=\"dataframe\">\n",
       "  <thead>\n",
       "    <tr style=\"text-align: right;\">\n",
       "      <th></th>\n",
       "      <th>species</th>\n",
       "      <th>bill_length</th>\n",
       "      <th>bill_depth</th>\n",
       "      <th>flipper_length</th>\n",
       "      <th>body_mass</th>\n",
       "      <th>del15</th>\n",
       "      <th>del13</th>\n",
       "      <th>island_Biscoe</th>\n",
       "      <th>island_Dream</th>\n",
       "      <th>island_Torgersen</th>\n",
       "    </tr>\n",
       "  </thead>\n",
       "  <tbody>\n",
       "    <tr>\n",
       "      <th>0</th>\n",
       "      <td>Adelie</td>\n",
       "      <td>39.1</td>\n",
       "      <td>18.7</td>\n",
       "      <td>181.0</td>\n",
       "      <td>3750.0</td>\n",
       "      <td>8.859733</td>\n",
       "      <td>-25.804194</td>\n",
       "      <td>0</td>\n",
       "      <td>0</td>\n",
       "      <td>1</td>\n",
       "    </tr>\n",
       "    <tr>\n",
       "      <th>1</th>\n",
       "      <td>Adelie</td>\n",
       "      <td>39.5</td>\n",
       "      <td>17.4</td>\n",
       "      <td>186.0</td>\n",
       "      <td>3800.0</td>\n",
       "      <td>8.949560</td>\n",
       "      <td>-24.694540</td>\n",
       "      <td>0</td>\n",
       "      <td>0</td>\n",
       "      <td>1</td>\n",
       "    </tr>\n",
       "    <tr>\n",
       "      <th>2</th>\n",
       "      <td>Adelie</td>\n",
       "      <td>40.3</td>\n",
       "      <td>18.0</td>\n",
       "      <td>195.0</td>\n",
       "      <td>3250.0</td>\n",
       "      <td>8.368210</td>\n",
       "      <td>-25.333020</td>\n",
       "      <td>0</td>\n",
       "      <td>0</td>\n",
       "      <td>1</td>\n",
       "    </tr>\n",
       "    <tr>\n",
       "      <th>3</th>\n",
       "      <td>Adelie</td>\n",
       "      <td>36.7</td>\n",
       "      <td>19.3</td>\n",
       "      <td>193.0</td>\n",
       "      <td>3450.0</td>\n",
       "      <td>8.766510</td>\n",
       "      <td>-25.324260</td>\n",
       "      <td>0</td>\n",
       "      <td>0</td>\n",
       "      <td>1</td>\n",
       "    </tr>\n",
       "    <tr>\n",
       "      <th>4</th>\n",
       "      <td>Adelie</td>\n",
       "      <td>39.3</td>\n",
       "      <td>20.6</td>\n",
       "      <td>190.0</td>\n",
       "      <td>3650.0</td>\n",
       "      <td>8.664960</td>\n",
       "      <td>-25.298050</td>\n",
       "      <td>0</td>\n",
       "      <td>0</td>\n",
       "      <td>1</td>\n",
       "    </tr>\n",
       "    <tr>\n",
       "      <th>...</th>\n",
       "      <td>...</td>\n",
       "      <td>...</td>\n",
       "      <td>...</td>\n",
       "      <td>...</td>\n",
       "      <td>...</td>\n",
       "      <td>...</td>\n",
       "      <td>...</td>\n",
       "      <td>...</td>\n",
       "      <td>...</td>\n",
       "      <td>...</td>\n",
       "    </tr>\n",
       "    <tr>\n",
       "      <th>337</th>\n",
       "      <td>Chinstrap</td>\n",
       "      <td>55.8</td>\n",
       "      <td>19.8</td>\n",
       "      <td>207.0</td>\n",
       "      <td>4000.0</td>\n",
       "      <td>9.704650</td>\n",
       "      <td>-24.534940</td>\n",
       "      <td>0</td>\n",
       "      <td>1</td>\n",
       "      <td>0</td>\n",
       "    </tr>\n",
       "    <tr>\n",
       "      <th>338</th>\n",
       "      <td>Chinstrap</td>\n",
       "      <td>43.5</td>\n",
       "      <td>18.1</td>\n",
       "      <td>202.0</td>\n",
       "      <td>3400.0</td>\n",
       "      <td>9.376080</td>\n",
       "      <td>-24.407530</td>\n",
       "      <td>0</td>\n",
       "      <td>1</td>\n",
       "      <td>0</td>\n",
       "    </tr>\n",
       "    <tr>\n",
       "      <th>339</th>\n",
       "      <td>Chinstrap</td>\n",
       "      <td>49.6</td>\n",
       "      <td>18.2</td>\n",
       "      <td>193.0</td>\n",
       "      <td>3775.0</td>\n",
       "      <td>9.461800</td>\n",
       "      <td>-24.706150</td>\n",
       "      <td>0</td>\n",
       "      <td>1</td>\n",
       "      <td>0</td>\n",
       "    </tr>\n",
       "    <tr>\n",
       "      <th>340</th>\n",
       "      <td>Chinstrap</td>\n",
       "      <td>50.8</td>\n",
       "      <td>19.0</td>\n",
       "      <td>210.0</td>\n",
       "      <td>4100.0</td>\n",
       "      <td>9.980440</td>\n",
       "      <td>-24.687410</td>\n",
       "      <td>0</td>\n",
       "      <td>1</td>\n",
       "      <td>0</td>\n",
       "    </tr>\n",
       "    <tr>\n",
       "      <th>341</th>\n",
       "      <td>Chinstrap</td>\n",
       "      <td>50.2</td>\n",
       "      <td>18.7</td>\n",
       "      <td>198.0</td>\n",
       "      <td>3775.0</td>\n",
       "      <td>9.393050</td>\n",
       "      <td>-24.252550</td>\n",
       "      <td>0</td>\n",
       "      <td>1</td>\n",
       "      <td>0</td>\n",
       "    </tr>\n",
       "  </tbody>\n",
       "</table>\n",
       "<p>342 rows × 10 columns</p>\n",
       "</div>"
      ],
      "text/plain": [
       "       species  bill_length  bill_depth  flipper_length  body_mass     del15  \\\n",
       "0       Adelie         39.1        18.7           181.0     3750.0  8.859733   \n",
       "1       Adelie         39.5        17.4           186.0     3800.0  8.949560   \n",
       "2       Adelie         40.3        18.0           195.0     3250.0  8.368210   \n",
       "3       Adelie         36.7        19.3           193.0     3450.0  8.766510   \n",
       "4       Adelie         39.3        20.6           190.0     3650.0  8.664960   \n",
       "..         ...          ...         ...             ...        ...       ...   \n",
       "337  Chinstrap         55.8        19.8           207.0     4000.0  9.704650   \n",
       "338  Chinstrap         43.5        18.1           202.0     3400.0  9.376080   \n",
       "339  Chinstrap         49.6        18.2           193.0     3775.0  9.461800   \n",
       "340  Chinstrap         50.8        19.0           210.0     4100.0  9.980440   \n",
       "341  Chinstrap         50.2        18.7           198.0     3775.0  9.393050   \n",
       "\n",
       "         del13  island_Biscoe  island_Dream  island_Torgersen  \n",
       "0   -25.804194              0             0                 1  \n",
       "1   -24.694540              0             0                 1  \n",
       "2   -25.333020              0             0                 1  \n",
       "3   -25.324260              0             0                 1  \n",
       "4   -25.298050              0             0                 1  \n",
       "..         ...            ...           ...               ...  \n",
       "337 -24.534940              0             1                 0  \n",
       "338 -24.407530              0             1                 0  \n",
       "339 -24.706150              0             1                 0  \n",
       "340 -24.687410              0             1                 0  \n",
       "341 -24.252550              0             1                 0  \n",
       "\n",
       "[342 rows x 10 columns]"
      ]
     },
     "execution_count": 8,
     "metadata": {},
     "output_type": "execute_result"
    }
   ],
   "source": [
    "data = pd.get_dummies(data,columns=['island'])\n",
    "data"
   ]
  },
  {
   "cell_type": "markdown",
   "id": "4c6d210e-835d-495d-b427-5aff8e7b81e4",
   "metadata": {},
   "source": [
    "## Standardization"
   ]
  },
  {
   "cell_type": "code",
   "execution_count": 9,
   "id": "8b7a2b53-bec0-4017-aca4-6935f6590988",
   "metadata": {},
   "outputs": [],
   "source": [
    "from sklearn.preprocessing import StandardScaler"
   ]
  },
  {
   "cell_type": "code",
   "execution_count": 10,
   "id": "32d32363-94c1-4910-b3c1-48f5e5af82b9",
   "metadata": {},
   "outputs": [
    {
     "data": {
      "text/html": [
       "<div>\n",
       "<style scoped>\n",
       "    .dataframe tbody tr th:only-of-type {\n",
       "        vertical-align: middle;\n",
       "    }\n",
       "\n",
       "    .dataframe tbody tr th {\n",
       "        vertical-align: top;\n",
       "    }\n",
       "\n",
       "    .dataframe thead th {\n",
       "        text-align: right;\n",
       "    }\n",
       "</style>\n",
       "<table border=\"1\" class=\"dataframe\">\n",
       "  <thead>\n",
       "    <tr style=\"text-align: right;\">\n",
       "      <th></th>\n",
       "      <th>bill_length</th>\n",
       "      <th>bill_depth</th>\n",
       "      <th>flipper_length</th>\n",
       "      <th>body_mass</th>\n",
       "      <th>del15</th>\n",
       "      <th>del13</th>\n",
       "      <th>island_Biscoe</th>\n",
       "      <th>island_Dream</th>\n",
       "      <th>island_Torgersen</th>\n",
       "    </tr>\n",
       "  </thead>\n",
       "  <tbody>\n",
       "    <tr>\n",
       "      <th>0</th>\n",
       "      <td>-0.884499</td>\n",
       "      <td>0.785449</td>\n",
       "      <td>-1.418347</td>\n",
       "      <td>-0.564142</td>\n",
       "      <td>0.225043</td>\n",
       "      <td>-0.144751</td>\n",
       "      <td>0</td>\n",
       "      <td>0</td>\n",
       "      <td>1</td>\n",
       "    </tr>\n",
       "    <tr>\n",
       "      <th>1</th>\n",
       "      <td>-0.811126</td>\n",
       "      <td>0.126188</td>\n",
       "      <td>-1.062250</td>\n",
       "      <td>-0.501703</td>\n",
       "      <td>0.390384</td>\n",
       "      <td>1.276753</td>\n",
       "      <td>0</td>\n",
       "      <td>0</td>\n",
       "      <td>1</td>\n",
       "    </tr>\n",
       "    <tr>\n",
       "      <th>2</th>\n",
       "      <td>-0.664380</td>\n",
       "      <td>0.430462</td>\n",
       "      <td>-0.421277</td>\n",
       "      <td>-1.188532</td>\n",
       "      <td>-0.679681</td>\n",
       "      <td>0.458838</td>\n",
       "      <td>0</td>\n",
       "      <td>0</td>\n",
       "      <td>1</td>\n",
       "    </tr>\n",
       "    <tr>\n",
       "      <th>3</th>\n",
       "      <td>-1.324737</td>\n",
       "      <td>1.089724</td>\n",
       "      <td>-0.563715</td>\n",
       "      <td>-0.938776</td>\n",
       "      <td>0.053452</td>\n",
       "      <td>0.470060</td>\n",
       "      <td>0</td>\n",
       "      <td>0</td>\n",
       "      <td>1</td>\n",
       "    </tr>\n",
       "    <tr>\n",
       "      <th>4</th>\n",
       "      <td>-0.847812</td>\n",
       "      <td>1.748985</td>\n",
       "      <td>-0.777373</td>\n",
       "      <td>-0.689020</td>\n",
       "      <td>-0.133466</td>\n",
       "      <td>0.503636</td>\n",
       "      <td>0</td>\n",
       "      <td>0</td>\n",
       "      <td>1</td>\n",
       "    </tr>\n",
       "    <tr>\n",
       "      <th>...</th>\n",
       "      <td>...</td>\n",
       "      <td>...</td>\n",
       "      <td>...</td>\n",
       "      <td>...</td>\n",
       "      <td>...</td>\n",
       "      <td>...</td>\n",
       "      <td>...</td>\n",
       "      <td>...</td>\n",
       "      <td>...</td>\n",
       "    </tr>\n",
       "    <tr>\n",
       "      <th>337</th>\n",
       "      <td>2.178824</td>\n",
       "      <td>1.343286</td>\n",
       "      <td>0.433355</td>\n",
       "      <td>-0.251947</td>\n",
       "      <td>1.780245</td>\n",
       "      <td>1.481206</td>\n",
       "      <td>0</td>\n",
       "      <td>1</td>\n",
       "      <td>0</td>\n",
       "    </tr>\n",
       "    <tr>\n",
       "      <th>338</th>\n",
       "      <td>-0.077396</td>\n",
       "      <td>0.481175</td>\n",
       "      <td>0.077258</td>\n",
       "      <td>-1.001215</td>\n",
       "      <td>1.175461</td>\n",
       "      <td>1.644423</td>\n",
       "      <td>0</td>\n",
       "      <td>1</td>\n",
       "      <td>0</td>\n",
       "    </tr>\n",
       "    <tr>\n",
       "      <th>339</th>\n",
       "      <td>1.041543</td>\n",
       "      <td>0.531887</td>\n",
       "      <td>-0.563715</td>\n",
       "      <td>-0.532923</td>\n",
       "      <td>1.333241</td>\n",
       "      <td>1.261880</td>\n",
       "      <td>0</td>\n",
       "      <td>1</td>\n",
       "      <td>0</td>\n",
       "    </tr>\n",
       "    <tr>\n",
       "      <th>340</th>\n",
       "      <td>1.261662</td>\n",
       "      <td>0.937586</td>\n",
       "      <td>0.647013</td>\n",
       "      <td>-0.127069</td>\n",
       "      <td>2.287879</td>\n",
       "      <td>1.285887</td>\n",
       "      <td>0</td>\n",
       "      <td>1</td>\n",
       "      <td>0</td>\n",
       "    </tr>\n",
       "    <tr>\n",
       "      <th>341</th>\n",
       "      <td>1.151602</td>\n",
       "      <td>0.785449</td>\n",
       "      <td>-0.207619</td>\n",
       "      <td>-0.532923</td>\n",
       "      <td>1.206696</td>\n",
       "      <td>1.842957</td>\n",
       "      <td>0</td>\n",
       "      <td>1</td>\n",
       "      <td>0</td>\n",
       "    </tr>\n",
       "  </tbody>\n",
       "</table>\n",
       "<p>342 rows × 9 columns</p>\n",
       "</div>"
      ],
      "text/plain": [
       "     bill_length  bill_depth  flipper_length  body_mass     del15     del13  \\\n",
       "0      -0.884499    0.785449       -1.418347  -0.564142  0.225043 -0.144751   \n",
       "1      -0.811126    0.126188       -1.062250  -0.501703  0.390384  1.276753   \n",
       "2      -0.664380    0.430462       -0.421277  -1.188532 -0.679681  0.458838   \n",
       "3      -1.324737    1.089724       -0.563715  -0.938776  0.053452  0.470060   \n",
       "4      -0.847812    1.748985       -0.777373  -0.689020 -0.133466  0.503636   \n",
       "..           ...         ...             ...        ...       ...       ...   \n",
       "337     2.178824    1.343286        0.433355  -0.251947  1.780245  1.481206   \n",
       "338    -0.077396    0.481175        0.077258  -1.001215  1.175461  1.644423   \n",
       "339     1.041543    0.531887       -0.563715  -0.532923  1.333241  1.261880   \n",
       "340     1.261662    0.937586        0.647013  -0.127069  2.287879  1.285887   \n",
       "341     1.151602    0.785449       -0.207619  -0.532923  1.206696  1.842957   \n",
       "\n",
       "     island_Biscoe  island_Dream  island_Torgersen  \n",
       "0                0             0                 1  \n",
       "1                0             0                 1  \n",
       "2                0             0                 1  \n",
       "3                0             0                 1  \n",
       "4                0             0                 1  \n",
       "..             ...           ...               ...  \n",
       "337              0             1                 0  \n",
       "338              0             1                 0  \n",
       "339              0             1                 0  \n",
       "340              0             1                 0  \n",
       "341              0             1                 0  \n",
       "\n",
       "[342 rows x 9 columns]"
      ]
     },
     "execution_count": 10,
     "metadata": {},
     "output_type": "execute_result"
    }
   ],
   "source": [
    "scale=StandardScaler()\n",
    "scale.fit(data.drop(['species','island_Biscoe','island_Dream','island_Torgersen'],axis=1))\n",
    "transformed=scale.transform(data.drop(['species','island_Biscoe','island_Dream','island_Torgersen'],axis=1))\n",
    "X_scaled=pd.DataFrame(transformed,columns=data.columns[1:7])\n",
    "X_scaled[['island_Biscoe','island_Dream','island_Torgersen']]=data[['island_Biscoe','island_Dream','island_Torgersen']]\n",
    "X_scaled"
   ]
  },
  {
   "cell_type": "markdown",
   "id": "bbebcf2b-1908-48e6-8d0a-c22e82e53e7a",
   "metadata": {},
   "source": [
    "## Séparation du jeu de données"
   ]
  },
  {
   "cell_type": "code",
   "execution_count": 11,
   "id": "1f6b8ea8-9d1f-4315-bd05-0212b5827068",
   "metadata": {},
   "outputs": [],
   "source": [
    "from sklearn.model_selection import train_test_split\n",
    "X = X_scaled\n",
    "y = data['species']\n",
    "X_train,X_test,y_train,y_test=train_test_split(X_scaled,data['species'],test_size=0.25)"
   ]
  },
  {
   "cell_type": "markdown",
   "id": "808cd891-1ac0-48ff-a1da-ed7b555e2fbd",
   "metadata": {},
   "source": [
    "# Application des méthodes"
   ]
  },
  {
   "cell_type": "markdown",
   "id": "3d5ec34e-1517-4fca-8e29-c3ebe508bc88",
   "metadata": {},
   "source": [
    "## KNN"
   ]
  },
  {
   "cell_type": "code",
   "execution_count": 12,
   "id": "bf39c7c9-3051-4faa-a0ad-d83dd2391869",
   "metadata": {},
   "outputs": [],
   "source": [
    "from sklearn.neighbors import KNeighborsClassifier\n",
    "from sklearn.model_selection import GridSearchCV\n",
    "from sklearn.metrics import confusion_matrix,accuracy_score,classification_report"
   ]
  },
  {
   "cell_type": "code",
   "execution_count": 13,
   "id": "0ce36c7f-3302-48ed-b007-4958a56547d2",
   "metadata": {},
   "outputs": [
    {
     "data": {
      "application/javascript": [
       "\n",
       "        if (window._pyforest_update_imports_cell) { window._pyforest_update_imports_cell('import numpy as np'); }\n",
       "    "
      ],
      "text/plain": [
       "<IPython.core.display.Javascript object>"
      ]
     },
     "metadata": {},
     "output_type": "display_data"
    },
    {
     "name": "stdout",
     "output_type": "stream",
     "text": [
      "{'n_neighbors': 2}\n",
      "1.0\n"
     ]
    }
   ],
   "source": [
    "n_neighbors_list = np.arange(1, 100)\n",
    "# hyper-paramètre\n",
    "param_grid = {\"n_neighbors\": n_neighbors_list}\n",
    "cls = KNeighborsClassifier()\n",
    "search = GridSearchCV(cls, param_grid, cv=10)\n",
    "search.fit(X_train, y_train)\n",
    "print(search.best_params_)\n",
    "print(search.best_score_)"
   ]
  },
  {
   "cell_type": "code",
   "execution_count": 14,
   "id": "1489c168-0a7e-4b4d-81b0-e8924be7861f",
   "metadata": {},
   "outputs": [
    {
     "data": {
      "application/javascript": [
       "\n",
       "        if (window._pyforest_update_imports_cell) { window._pyforest_update_imports_cell('import numpy as np\\nimport matplotlib.pyplot as plt'); }\n",
       "    "
      ],
      "text/plain": [
       "<IPython.core.display.Javascript object>"
      ]
     },
     "metadata": {},
     "output_type": "display_data"
    },
    {
     "data": {
      "application/javascript": [
       "\n",
       "        if (window._pyforest_update_imports_cell) { window._pyforest_update_imports_cell('import numpy as np\\nimport matplotlib.pyplot as plt'); }\n",
       "    "
      ],
      "text/plain": [
       "<IPython.core.display.Javascript object>"
      ]
     },
     "metadata": {},
     "output_type": "display_data"
    },
    {
     "data": {
      "image/png": "[encoded data removed]",
      "text/plain": [
       "<Figure size 432x288 with 1 Axes>"
      ]
     },
     "metadata": {
      "needs_background": "light"
     },
     "output_type": "display_data"
    }
   ],
   "source": [
    "dfgrid = pd.DataFrame(\n",
    "    dict(n_neighbors = d[\"n_neighbors\"], error=e, std=s)\n",
    "    for d, e, s in zip(\n",
    "        search.cv_results_[\"params\"],\n",
    "        search.cv_results_[\"mean_test_score\"],\n",
    "        search.cv_results_[\"std_test_score\"],\n",
    "    )\n",
    ")\n",
    "plt.errorbar(dfgrid[\"n_neighbors\"], dfgrid[\"error\"], yerr=dfgrid[\"std\"])\n",
    "plt.show()"
   ]
  },
  {
   "cell_type": "code",
   "execution_count": 15,
   "id": "44e1d794-8bec-4ed1-8d68-d66fe348278e",
   "metadata": {},
   "outputs": [
    {
     "name": "stdout",
     "output_type": "stream",
     "text": [
      "[[29  0  0]\n",
      " [ 0 15  0]\n",
      " [ 0  0 42]]\n",
      "              precision    recall  f1-score   support\n",
      "\n",
      "      Adelie       1.00      1.00      1.00        29\n",
      "   Chinstrap       1.00      1.00      1.00        15\n",
      "      Gentoo       1.00      1.00      1.00        42\n",
      "\n",
      "    accuracy                           1.00        86\n",
      "   macro avg       1.00      1.00      1.00        86\n",
      "weighted avg       1.00      1.00      1.00        86\n",
      "\n"
     ]
    }
   ],
   "source": [
    "knn = KNeighborsClassifier(n_neighbors=2)\n",
    "knn.fit(X,y)\n",
    "preds_knn = knn.predict(X_test)\n",
    "print(confusion_matrix(y_test,preds_knn))\n",
    "print(classification_report(y_test, preds_knn))"
   ]
  },
  {
   "cell_type": "markdown",
   "id": "08470a2c-39e9-4137-932a-daa5e3f239fc",
   "metadata": {},
   "source": [
    "## Apprentissage avec PCA"
   ]
  },
  {
   "cell_type": "code",
   "execution_count": 16,
   "id": "91a0d4dd-ab16-4ae0-b1d4-423808ef6db0",
   "metadata": {},
   "outputs": [
    {
     "name": "stdout",
     "output_type": "stream",
     "text": [
      "Ratios: [5.40936484e+01 2.29864840e+01 8.27458313e+00 5.56729016e+00\n",
      " 3.08389327e+00 2.32667814e+00 2.20703257e+00 1.46039027e+00\n",
      " 2.12702013e-31]\n"
     ]
    }
   ],
   "source": [
    "from sklearn.decomposition import PCA\n",
    "pca = PCA().fit(X_scaled)\n",
    "print('Ratios:',pca.explained_variance_ratio_*100)#Ratio per component."
   ]
  },
  {
   "cell_type": "code",
   "execution_count": 17,
   "id": "a730a3b1-2557-435a-9d60-6e8cc3306019",
   "metadata": {},
   "outputs": [
    {
     "data": {
      "application/javascript": [
       "\n",
       "        if (window._pyforest_update_imports_cell) { window._pyforest_update_imports_cell('import numpy as np\\nimport matplotlib.pyplot as plt'); }\n",
       "    "
      ],
      "text/plain": [
       "<IPython.core.display.Javascript object>"
      ]
     },
     "metadata": {},
     "output_type": "display_data"
    },
    {
     "data": {
      "application/javascript": [
       "\n",
       "        if (window._pyforest_update_imports_cell) { window._pyforest_update_imports_cell('import numpy as np\\nimport matplotlib.pyplot as plt'); }\n",
       "    "
      ],
      "text/plain": [
       "<IPython.core.display.Javascript object>"
      ]
     },
     "metadata": {},
     "output_type": "display_data"
    },
    {
     "data": {
      "application/javascript": [
       "\n",
       "        if (window._pyforest_update_imports_cell) { window._pyforest_update_imports_cell('import numpy as np\\nimport matplotlib.pyplot as plt'); }\n",
       "    "
      ],
      "text/plain": [
       "<IPython.core.display.Javascript object>"
      ]
     },
     "metadata": {},
     "output_type": "display_data"
    },
    {
     "data": {
      "application/javascript": [
       "\n",
       "        if (window._pyforest_update_imports_cell) { window._pyforest_update_imports_cell('import numpy as np\\nimport matplotlib.pyplot as plt'); }\n",
       "    "
      ],
      "text/plain": [
       "<IPython.core.display.Javascript object>"
      ]
     },
     "metadata": {},
     "output_type": "display_data"
    },
    {
     "data": {
      "application/javascript": [
       "\n",
       "        if (window._pyforest_update_imports_cell) { window._pyforest_update_imports_cell('import numpy as np\\nimport matplotlib.pyplot as plt'); }\n",
       "    "
      ],
      "text/plain": [
       "<IPython.core.display.Javascript object>"
      ]
     },
     "metadata": {},
     "output_type": "display_data"
    },
    {
     "data": {
      "application/javascript": [
       "\n",
       "        if (window._pyforest_update_imports_cell) { window._pyforest_update_imports_cell('import numpy as np\\nimport matplotlib.pyplot as plt'); }\n",
       "    "
      ],
      "text/plain": [
       "<IPython.core.display.Javascript object>"
      ]
     },
     "metadata": {},
     "output_type": "display_data"
    },
    {
     "data": {
      "image/png": "[encoded data removed]",
      "text/plain": [
       "<Figure size 432x288 with 1 Axes>"
      ]
     },
     "metadata": {
      "needs_background": "light"
     },
     "output_type": "display_data"
    }
   ],
   "source": [
    "plt.bar(range(len(pca.explained_variance_ratio_)), pca.explained_variance_ratio_, alpha=0.5)\n",
    "plt.step(range(len(pca.explained_variance_ratio_)), np.cumsum(pca.explained_variance_ratio_))\n",
    "plt.ylabel(\"Explained variance ratio\")\n",
    "plt.xlabel(\"Principal components\")\n",
    "plt.show()"
   ]
  },
  {
   "cell_type": "code",
   "execution_count": 18,
   "id": "1c04911c-b38d-4298-9ade-255be40a849e",
   "metadata": {},
   "outputs": [],
   "source": [
    "pca = PCA(n_components=3)\n",
    "X = X_scaled\n",
    "y = data['species']\n",
    "X_train,X_test,y_train,y_test=train_test_split(X_scaled,data['species'],test_size=0.25)\n",
    "X_train_pca = pca.fit_transform(X_train) \n",
    "X_test_pca = pca.transform(X_test) "
   ]
  },
  {
   "cell_type": "markdown",
   "id": "c4e13b52-ac49-48df-b757-d546898eae72",
   "metadata": {},
   "source": [
    "### KNN"
   ]
  },
  {
   "cell_type": "code",
   "execution_count": 19,
   "id": "7cbd40b0-89c2-4bb6-bc42-a0fca9857514",
   "metadata": {},
   "outputs": [
    {
     "data": {
      "application/javascript": [
       "\n",
       "        if (window._pyforest_update_imports_cell) { window._pyforest_update_imports_cell('import numpy as np\\nimport matplotlib.pyplot as plt'); }\n",
       "    "
      ],
      "text/plain": [
       "<IPython.core.display.Javascript object>"
      ]
     },
     "metadata": {},
     "output_type": "display_data"
    },
    {
     "name": "stdout",
     "output_type": "stream",
     "text": [
      "{'n_neighbors': 1}\n",
      "0.9923076923076923\n"
     ]
    }
   ],
   "source": [
    "n_neighbors_list = np.arange(1, 100)\n",
    "# hyper-paramètre\n",
    "param_grid = {\"n_neighbors\": n_neighbors_list}\n",
    "cls = KNeighborsClassifier()\n",
    "search = GridSearchCV(cls, param_grid, cv=10)\n",
    "search.fit(X_train_pca, y_train)\n",
    "print(search.best_params_)\n",
    "print(search.best_score_)"
   ]
  },
  {
   "cell_type": "code",
   "execution_count": 20,
   "id": "3fe0122f-026c-4c5f-a28c-37031705938d",
   "metadata": {},
   "outputs": [
    {
     "data": {
      "application/javascript": [
       "\n",
       "        if (window._pyforest_update_imports_cell) { window._pyforest_update_imports_cell('import numpy as np\\nimport matplotlib.pyplot as plt'); }\n",
       "    "
      ],
      "text/plain": [
       "<IPython.core.display.Javascript object>"
      ]
     },
     "metadata": {},
     "output_type": "display_data"
    },
    {
     "data": {
      "application/javascript": [
       "\n",
       "        if (window._pyforest_update_imports_cell) { window._pyforest_update_imports_cell('import numpy as np\\nimport matplotlib.pyplot as plt'); }\n",
       "    "
      ],
      "text/plain": [
       "<IPython.core.display.Javascript object>"
      ]
     },
     "metadata": {},
     "output_type": "display_data"
    },
    {
     "data": {
      "image/png": "[encoded data removed]",
      "text/plain": [
       "<Figure size 432x288 with 1 Axes>"
      ]
     },
     "metadata": {
      "needs_background": "light"
     },
     "output_type": "display_data"
    }
   ],
   "source": [
    "dfgrid = pd.DataFrame(\n",
    "    dict(n_neighbors = d[\"n_neighbors\"], error=e, std=s)\n",
    "    for d, e, s in zip(\n",
    "        search.cv_results_[\"params\"],\n",
    "        search.cv_results_[\"mean_test_score\"],\n",
    "        search.cv_results_[\"std_test_score\"],\n",
    "    )\n",
    ")\n",
    "plt.errorbar(dfgrid[\"n_neighbors\"], dfgrid[\"error\"], yerr=dfgrid[\"std\"])\n",
    "plt.show()"
   ]
  },
  {
   "cell_type": "code",
   "execution_count": 21,
   "id": "346ecfb5-dd00-4748-8b7b-746312b9c434",
   "metadata": {},
   "outputs": [
    {
     "name": "stdout",
     "output_type": "stream",
     "text": [
      "[[40  0  0]\n",
      " [ 0 20  0]\n",
      " [ 0  0 26]]\n",
      "              precision    recall  f1-score   support\n",
      "\n",
      "      Adelie       1.00      1.00      1.00        40\n",
      "   Chinstrap       1.00      1.00      1.00        20\n",
      "      Gentoo       1.00      1.00      1.00        26\n",
      "\n",
      "    accuracy                           1.00        86\n",
      "   macro avg       1.00      1.00      1.00        86\n",
      "weighted avg       1.00      1.00      1.00        86\n",
      "\n"
     ]
    }
   ],
   "source": [
    "knn = KNeighborsClassifier(n_neighbors=6)\n",
    "knn.fit(X_train_pca,y_train)\n",
    "preds_knn = knn.predict(X_test_pca)\n",
    "print(confusion_matrix(y_test,preds_knn))\n",
    "print(classification_report(y_test, preds_knn))"
   ]
  },
  {
   "cell_type": "code",
   "execution_count": 39,
   "id": "4b8ba36d-35f6-4f8b-a08a-27d9d0d895fd",
   "metadata": {},
   "outputs": [
    {
     "data": {
      "application/javascript": [
       "\n",
       "        if (window._pyforest_update_imports_cell) { window._pyforest_update_imports_cell('import seaborn as sns\\nimport numpy as np\\nimport matplotlib.pyplot as plt'); }\n",
       "    "
      ],
      "text/plain": [
       "<IPython.core.display.Javascript object>"
      ]
     },
     "metadata": {},
     "output_type": "display_data"
    },
    {
     "data": {
      "application/javascript": [
       "\n",
       "        if (window._pyforest_update_imports_cell) { window._pyforest_update_imports_cell('import seaborn as sns\\nimport numpy as np\\nimport matplotlib.pyplot as plt'); }\n",
       "    "
      ],
      "text/plain": [
       "<IPython.core.display.Javascript object>"
      ]
     },
     "metadata": {},
     "output_type": "display_data"
    },
    {
     "data": {
      "application/javascript": [
       "\n",
       "        if (window._pyforest_update_imports_cell) { window._pyforest_update_imports_cell('import seaborn as sns\\nimport numpy as np\\nimport matplotlib.pyplot as plt'); }\n",
       "    "
      ],
      "text/plain": [
       "<IPython.core.display.Javascript object>"
      ]
     },
     "metadata": {},
     "output_type": "display_data"
    },
    {
     "data": {
      "application/javascript": [
       "\n",
       "        if (window._pyforest_update_imports_cell) { window._pyforest_update_imports_cell('import seaborn as sns\\nimport numpy as np\\nimport matplotlib.pyplot as plt'); }\n",
       "    "
      ],
      "text/plain": [
       "<IPython.core.display.Javascript object>"
      ]
     },
     "metadata": {},
     "output_type": "display_data"
    },
    {
     "data": {
      "application/javascript": [
       "\n",
       "        if (window._pyforest_update_imports_cell) { window._pyforest_update_imports_cell('import seaborn as sns\\nimport numpy as np\\nimport matplotlib.pyplot as plt'); }\n",
       "    "
      ],
      "text/plain": [
       "<IPython.core.display.Javascript object>"
      ]
     },
     "metadata": {},
     "output_type": "display_data"
    },
    {
     "data": {
      "application/javascript": [
       "\n",
       "        if (window._pyforest_update_imports_cell) { window._pyforest_update_imports_cell('import seaborn as sns\\nimport numpy as np\\nimport matplotlib.pyplot as plt'); }\n",
       "    "
      ],
      "text/plain": [
       "<IPython.core.display.Javascript object>"
      ]
     },
     "metadata": {},
     "output_type": "display_data"
    },
    {
     "data": {
      "application/javascript": [
       "\n",
       "        if (window._pyforest_update_imports_cell) { window._pyforest_update_imports_cell('import seaborn as sns\\nimport numpy as np\\nimport matplotlib.pyplot as plt'); }\n",
       "    "
      ],
      "text/plain": [
       "<IPython.core.display.Javascript object>"
      ]
     },
     "metadata": {},
     "output_type": "display_data"
    },
    {
     "data": {
      "application/javascript": [
       "\n",
       "        if (window._pyforest_update_imports_cell) { window._pyforest_update_imports_cell('import seaborn as sns\\nimport numpy as np\\nimport matplotlib.pyplot as plt'); }\n",
       "    "
      ],
      "text/plain": [
       "<IPython.core.display.Javascript object>"
      ]
     },
     "metadata": {},
     "output_type": "display_data"
    },
    {
     "data": {
      "image/png": "[encoded data removed]",
      "text/plain": [
       "<Figure size 504x360 with 1 Axes>"
      ]
     },
     "metadata": {},
     "output_type": "display_data"
    }
   ],
   "source": [
    "X_pca = X_test_pca\n",
    "ex_variance=np.var(X_pca,axis=0)\n",
    "ex_variance_ratio = ex_variance/np.sum(ex_variance)\n",
    "ex_variance_ratio\n",
    "\n",
    "\n",
    "Xax = X_pca[:,0]\n",
    "Yax = X_pca[:,1]\n",
    "Zax = X_pca[:,2]\n",
    "\n",
    "cdict = {'Adelie':'red','Chinstrap':'green','Gentoo':'blue'}\n",
    "marker = {'Adelie':'*','Chinstrap':'x','Gentoo':'+'}\n",
    "alpha = {'0':.3, 1:.5}\n",
    "\n",
    "fig = plt.figure(figsize=(7,5))\n",
    "ax = fig.add_subplot(111, projection='3d')\n",
    "\n",
    "fig.patch.set_facecolor('white')\n",
    "for l in np.unique(preds_knn):\n",
    "    ix=np.where(preds_knn==l)\n",
    "    ax.scatter(Xax[ix], Yax[ix], Zax[ix], s=40,label=l, marker=marker[l])\n",
    "# for loop ends\n",
    "ax.set_xlabel(\"First Principal Component\", fontsize=14)\n",
    "ax.set_ylabel(\"Second Principal Component\", fontsize=14)\n",
    "ax.set_zlabel(\"Third Principal Component\", fontsize=14)\n",
    "\n",
    "ax.legend()\n",
    "plt.show()"
   ]
  },
  {
   "cell_type": "code",
   "execution_count": 38,
   "id": "22c932ed-643a-4609-a243-92f98024030c",
   "metadata": {},
   "outputs": [
    {
     "data": {
      "application/javascript": [
       "\n",
       "        if (window._pyforest_update_imports_cell) { window._pyforest_update_imports_cell('import seaborn as sns\\nimport numpy as np\\nimport matplotlib.pyplot as plt'); }\n",
       "    "
      ],
      "text/plain": [
       "<IPython.core.display.Javascript object>"
      ]
     },
     "metadata": {},
     "output_type": "display_data"
    },
    {
     "data": {
      "text/plain": [
       "<AxesSubplot:>"
      ]
     },
     "execution_count": 38,
     "metadata": {},
     "output_type": "execute_result"
    },
    {
     "data": {
      "image/png": "[encoded data removed]",
      "text/plain": [
       "<Figure size 432x288 with 1 Axes>"
      ]
     },
     "metadata": {
      "needs_background": "light"
     },
     "output_type": "display_data"
    }
   ],
   "source": [
    "sns.scatterplot(x=X_test_pca[:,0], y=X_test_pca[:,1], hue=preds_knn)"
   ]
  },
  {
   "cell_type": "markdown",
   "id": "b144ea85-6dd7-4695-b4ba-11578e0cc804",
   "metadata": {},
   "source": [
    "## Analyse discriminante"
   ]
  },
  {
   "cell_type": "code",
   "execution_count": 24,
   "id": "153a4a24-b6e1-4c41-8a13-56c854d4ba92",
   "metadata": {},
   "outputs": [],
   "source": [
    "from sklearn.model_selection import cross_val_score\n",
    "from sklearn.discriminant_analysis import LinearDiscriminantAnalysis\n",
    "from sklearn.discriminant_analysis import QuadraticDiscriminantAnalysis\n",
    "from sklearn.naive_bayes import GaussianNB"
   ]
  },
  {
   "cell_type": "code",
   "execution_count": 195,
   "id": "53e36dd3-ca4a-471e-878d-45db65008ac5",
   "metadata": {},
   "outputs": [],
   "source": [
    "def add_decision_boundary(\n",
    "    model, levels=None, resolution=100, ax=None, label=None, color=None, region=True\n",
    "):\n",
    "    \"\"\"Trace une frontière et des régions de décision sur une figure existante.\n",
    "\n",
    "    La fonction requiert un modèle scikit-learn `model` pour prédire\n",
    "    un score ou une classe. La discrétisation utilisée est fixée par\n",
    "    l'argument `resolution`. Une (ou plusieurs frontières) sont\n",
    "    ensuite tracées d'après le paramètre `levels` qui fixe la valeur\n",
    "    des lignes de niveaux recherchées.\n",
    "\n",
    "    \"\"\"\n",
    "\n",
    "    if ax is None:\n",
    "        ax = plt.gca()\n",
    "\n",
    "    # Create grid to evaluate model\n",
    "    xlim = ax.get_xlim()\n",
    "    ylim = ax.get_ylim()\n",
    "    xx = np.linspace(xlim[0], xlim[1], resolution)\n",
    "    yy = np.linspace(ylim[0], ylim[1], resolution)\n",
    "    XX, YY = np.meshgrid(xx, yy)\n",
    "    xy = np.vstack([XX.ravel(), YY.ravel()]).T\n",
    "    Z = model.predict(xy).reshape(XX.shape)\n",
    "\n",
    "    cat2num = {cat: num for num, cat in enumerate(model.classes_)}\n",
    "    num2cat = {num: cat for num, cat in enumerate(model.classes_)}\n",
    "    vcat2num = np.vectorize(lambda x: cat2num[x])\n",
    "    Z_num = vcat2num(Z)\n",
    "\n",
    "    # Add decision boundary to legend\n",
    "    color = \"b\" if color is None else color\n",
    "    sns.lineplot(x=[0], y=[0], label=label, ax=ax, color=color, linestyle=\"dashed\")\n",
    "    mask = np.zeros_like(Z_num, dtype=bool)\n",
    "    for k in range(len(model.classes_) - 1):\n",
    "        mask |= Z_num == k - 1\n",
    "        Z_num_mask = np.ma.array(Z_num, mask=mask)\n",
    "        ax.contour(\n",
    "            XX,\n",
    "            YY,\n",
    "            Z_num_mask,\n",
    "            levels=[k + 0.5],\n",
    "            linestyles=\"dashed\",\n",
    "            corner_mask=True,\n",
    "            colors=[color],\n",
    "            antialiased=True,\n",
    "        )\n",
    "\n",
    "    if region:\n",
    "        # Hack to get colors\n",
    "        # TODO use legend_out = True\n",
    "        slabels = [str(l) for l in model.classes_]\n",
    "        hdls, hlabels = ax.get_legend_handles_labels()\n",
    "        hlabels_hdls = {l: h for l, h in zip(hlabels, hdls)}\n",
    "\n",
    "        color_dict = {}\n",
    "        for label in model.classes_:\n",
    "            if str(label) in hlabels_hdls:\n",
    "                hdl = hlabels_hdls[str(label)]\n",
    "                color = hdl.get_facecolor().ravel()\n",
    "                color_dict[label] = color\n",
    "            else:\n",
    "                raise Exception(\"No corresponding label found for \", label)\n",
    "\n",
    "        colors = [color_dict[num2cat[i]] for i in range(len(model.classes_))]\n",
    "        cmap = mpl.colors.ListedColormap(colors)\n",
    "\n",
    "        ax.imshow(\n",
    "            Z_num,\n",
    "            interpolation=\"nearest\",\n",
    "            extent=ax.get_xlim() + ax.get_ylim(),\n",
    "            aspect=\"auto\",\n",
    "            origin=\"lower\",\n",
    "            cmap=cmap,\n",
    "            alpha=0.2,\n",
    "        )"
   ]
  },
  {
   "cell_type": "code",
   "execution_count": 150,
   "id": "f6baf865-dcae-4be0-8274-f814add140cc",
   "metadata": {},
   "outputs": [
    {
     "data": {
      "application/javascript": [
       "\n",
       "        if (window._pyforest_update_imports_cell) { window._pyforest_update_imports_cell('import seaborn as sns\\nimport numpy as np\\nimport matplotlib.pyplot as plt'); }\n",
       "    "
      ],
      "text/plain": [
       "<IPython.core.display.Javascript object>"
      ]
     },
     "metadata": {},
     "output_type": "display_data"
    }
   ],
   "source": [
    "colors = sns.color_palette()"
   ]
  },
  {
   "cell_type": "code",
   "execution_count": 161,
   "id": "9d5479e0-e0f2-45e3-a22d-d0b997c0041f",
   "metadata": {},
   "outputs": [],
   "source": [
    "lda = LinearDiscriminantAnalysis()\n",
    "modelLDA = lda.fit(X_train_pca[:, 0:2], y_train)"
   ]
  },
  {
   "cell_type": "code",
   "execution_count": 162,
   "id": "1c018764-dda8-40aa-99bf-b0abc99323ac",
   "metadata": {},
   "outputs": [
    {
     "name": "stdout",
     "output_type": "stream",
     "text": [
      "[0.43359375 0.1875     0.37890625]\n"
     ]
    }
   ],
   "source": [
    "print(modelLDA.priors_)"
   ]
  },
  {
   "cell_type": "code",
   "execution_count": 163,
   "id": "50f5ee8a-1cd2-4d3d-b267-0cc5cdd437e9",
   "metadata": {},
   "outputs": [
    {
     "name": "stdout",
     "output_type": "stream",
     "text": [
      "(array(['Adelie', 'Chinstrap', 'Gentoo'], dtype='<U9'), array([40, 20, 26], dtype=int64))\n"
     ]
    }
   ],
   "source": [
    "predLDA=modelLDA.predict(X_test_pca[:, 0:2])\n",
    "print(np.unique(predLDA, return_counts=True))"
   ]
  },
  {
   "cell_type": "code",
   "execution_count": 164,
   "id": "07004402-b80e-4572-8032-cce6503bfab8",
   "metadata": {},
   "outputs": [
    {
     "name": "stdout",
     "output_type": "stream",
     "text": [
      "[[40  0  0]\n",
      " [ 0 20  0]\n",
      " [ 0  0 26]]\n",
      "              precision    recall  f1-score   support\n",
      "\n",
      "      Adelie      1.000     1.000     1.000        40\n",
      "   Chinstrap      1.000     1.000     1.000        20\n",
      "      Gentoo      1.000     1.000     1.000        26\n",
      "\n",
      "    accuracy                          1.000        86\n",
      "   macro avg      1.000     1.000     1.000        86\n",
      "weighted avg      1.000     1.000     1.000        86\n",
      "\n"
     ]
    }
   ],
   "source": [
    "print(confusion_matrix(predLDA, y_test))\n",
    "print(classification_report(y_test, predLDA, digits=3))"
   ]
  },
  {
   "cell_type": "code",
   "execution_count": 165,
   "id": "ab638f7a-ce1a-43f8-83ab-781eeef798a0",
   "metadata": {},
   "outputs": [],
   "source": [
    "qda = QuadraticDiscriminantAnalysis()\n",
    "modelQDA = qda.fit(X_train_pca[:, 0:2], y_train)"
   ]
  },
  {
   "cell_type": "code",
   "execution_count": 166,
   "id": "cd68b7df-7e39-4737-b414-fe19baf41efa",
   "metadata": {},
   "outputs": [
    {
     "name": "stdout",
     "output_type": "stream",
     "text": [
      "[0.43359375 0.1875     0.37890625]\n"
     ]
    }
   ],
   "source": [
    "print(modelQDA.priors_)"
   ]
  },
  {
   "cell_type": "code",
   "execution_count": 167,
   "id": "ad52bae5-3f2d-4449-b943-6769b2a3c6a8",
   "metadata": {},
   "outputs": [
    {
     "name": "stdout",
     "output_type": "stream",
     "text": [
      "(array(['Adelie', 'Chinstrap', 'Gentoo'], dtype=object), array([41, 19, 26], dtype=int64))\n"
     ]
    }
   ],
   "source": [
    "predQDA=modelQDA.predict(X_test_pca[:, 0:2])\n",
    "print(np.unique(predQDA, return_counts=True))"
   ]
  },
  {
   "cell_type": "code",
   "execution_count": 168,
   "id": "8c9bd2b6-4dc9-47f6-972e-ab8b19d63db0",
   "metadata": {},
   "outputs": [
    {
     "name": "stdout",
     "output_type": "stream",
     "text": [
      "[[40  1  0]\n",
      " [ 0 19  0]\n",
      " [ 0  0 26]]\n",
      "              precision    recall  f1-score   support\n",
      "\n",
      "      Adelie      0.976     1.000     0.988        40\n",
      "   Chinstrap      1.000     0.950     0.974        20\n",
      "      Gentoo      1.000     1.000     1.000        26\n",
      "\n",
      "    accuracy                          0.988        86\n",
      "   macro avg      0.992     0.983     0.987        86\n",
      "weighted avg      0.989     0.988     0.988        86\n",
      "\n"
     ]
    }
   ],
   "source": [
    "print(confusion_matrix(predQDA, y_test))\n",
    "print(classification_report(y_test, predQDA, digits=3))"
   ]
  },
  {
   "cell_type": "code",
   "execution_count": 169,
   "id": "b64c84a6-a677-4dcf-80a0-441671546d24",
   "metadata": {},
   "outputs": [],
   "source": [
    "nb = GaussianNB()\n",
    "modelNB = qda.fit(X_train_pca[:, 0:2], y_train)"
   ]
  },
  {
   "cell_type": "code",
   "execution_count": 170,
   "id": "ab98c0d9-4cc4-43d1-a0c1-0737fddae2b6",
   "metadata": {},
   "outputs": [
    {
     "name": "stdout",
     "output_type": "stream",
     "text": [
      "[0.43359375 0.1875     0.37890625]\n"
     ]
    }
   ],
   "source": [
    "print(modelNB.priors_)"
   ]
  },
  {
   "cell_type": "code",
   "execution_count": 171,
   "id": "e160d600-9d82-46d1-b2de-dd72fe86c8fd",
   "metadata": {},
   "outputs": [
    {
     "name": "stdout",
     "output_type": "stream",
     "text": [
      "(array(['Adelie', 'Chinstrap', 'Gentoo'], dtype=object), array([41, 19, 26], dtype=int64))\n"
     ]
    }
   ],
   "source": [
    "predNB=modelNB.predict(X_test_pca[:, 0:2])\n",
    "print(np.unique(predNB, return_counts=True))"
   ]
  },
  {
   "cell_type": "code",
   "execution_count": 172,
   "id": "2d1a7467-18a8-4813-b02e-72984d5662c7",
   "metadata": {},
   "outputs": [
    {
     "name": "stdout",
     "output_type": "stream",
     "text": [
      "[[40  1  0]\n",
      " [ 0 19  0]\n",
      " [ 0  0 26]]\n",
      "              precision    recall  f1-score   support\n",
      "\n",
      "      Adelie      0.976     1.000     0.988        40\n",
      "   Chinstrap      1.000     0.950     0.974        20\n",
      "      Gentoo      1.000     1.000     1.000        26\n",
      "\n",
      "    accuracy                          0.988        86\n",
      "   macro avg      0.992     0.983     0.987        86\n",
      "weighted avg      0.989     0.988     0.988        86\n",
      "\n"
     ]
    }
   ],
   "source": [
    "print(confusion_matrix(predNB, y_test))\n",
    "print(classification_report(y_test, predNB, digits=3))"
   ]
  },
  {
   "cell_type": "markdown",
   "id": "def75484-0337-4c4c-af4a-b5f2fd040a40",
   "metadata": {},
   "source": [
    "### SVM"
   ]
  },
  {
   "cell_type": "code",
   "execution_count": 200,
   "id": "fb6be74f-f594-493b-b7f5-b52f480aba09",
   "metadata": {},
   "outputs": [],
   "source": [
    "from sklearn import svm\n",
    "svm_cls = svm.SVC(kernel='linear')\n",
    "modelSVM = svm_cls.fit(X_train_pca[:, 0:2], y_train)"
   ]
  },
  {
   "cell_type": "code",
   "execution_count": 202,
   "id": "859102e6-c523-45de-903c-75fb803c7cee",
   "metadata": {},
   "outputs": [
    {
     "name": "stdout",
     "output_type": "stream",
     "text": [
      "(array(['Adelie', 'Chinstrap', 'Gentoo'], dtype=object), array([39, 21, 26], dtype=int64))\n"
     ]
    }
   ],
   "source": [
    "predSVM = modelSVM.predict(X_test_pca[:, 0:2])\n",
    "print(np.unique(predSVM, return_counts=True))"
   ]
  },
  {
   "cell_type": "code",
   "execution_count": 203,
   "id": "a09a5a89-fac2-4f5d-a088-668f8988f988",
   "metadata": {},
   "outputs": [
    {
     "name": "stdout",
     "output_type": "stream",
     "text": [
      "[[39  0  0]\n",
      " [ 1 20  0]\n",
      " [ 0  0 26]]\n",
      "              precision    recall  f1-score   support\n",
      "\n",
      "      Adelie      1.000     0.975     0.987        40\n",
      "   Chinstrap      0.952     1.000     0.976        20\n",
      "      Gentoo      1.000     1.000     1.000        26\n",
      "\n",
      "    accuracy                          0.988        86\n",
      "   macro avg      0.984     0.992     0.988        86\n",
      "weighted avg      0.989     0.988     0.988        86\n",
      "\n"
     ]
    }
   ],
   "source": [
    "print(confusion_matrix(predSVM, y_test))\n",
    "print(classification_report(y_test, predSVM, digits=3))"
   ]
  },
  {
   "cell_type": "code",
   "execution_count": null,
   "id": "30cb9ad3-f5a6-4408-88de-5e83d3d54ffc",
   "metadata": {},
   "outputs": [],
   "source": []
  },
  {
   "cell_type": "code",
   "execution_count": 204,
   "id": "50dfb2f0-f5a8-4acb-92d5-f0b16802e791",
   "metadata": {},
   "outputs": [
    {
     "data": {
      "application/javascript": [
       "\n",
       "        if (window._pyforest_update_imports_cell) { window._pyforest_update_imports_cell('import seaborn as sns\\nfrom sklearn import svm\\nimport numpy as np\\nimport matplotlib.pyplot as plt'); }\n",
       "    "
      ],
      "text/plain": [
       "<IPython.core.display.Javascript object>"
      ]
     },
     "metadata": {},
     "output_type": "display_data"
    },
    {
     "data": {
      "application/javascript": [
       "\n",
       "        if (window._pyforest_update_imports_cell) { window._pyforest_update_imports_cell('import seaborn as sns\\nfrom sklearn import svm\\nimport numpy as np\\nimport matplotlib.pyplot as plt'); }\n",
       "    "
      ],
      "text/plain": [
       "<IPython.core.display.Javascript object>"
      ]
     },
     "metadata": {},
     "output_type": "display_data"
    },
    {
     "data": {
      "application/javascript": [
       "\n",
       "        if (window._pyforest_update_imports_cell) { window._pyforest_update_imports_cell('import seaborn as sns\\nfrom sklearn import svm\\nimport numpy as np\\nimport matplotlib.pyplot as plt'); }\n",
       "    "
      ],
      "text/plain": [
       "<IPython.core.display.Javascript object>"
      ]
     },
     "metadata": {},
     "output_type": "display_data"
    },
    {
     "data": {
      "application/javascript": [
       "\n",
       "        if (window._pyforest_update_imports_cell) { window._pyforest_update_imports_cell('import seaborn as sns\\nfrom sklearn import svm\\nimport numpy as np\\nimport matplotlib.pyplot as plt'); }\n",
       "    "
      ],
      "text/plain": [
       "<IPython.core.display.Javascript object>"
      ]
     },
     "metadata": {},
     "output_type": "display_data"
    },
    {
     "data": {
      "application/javascript": [
       "\n",
       "        if (window._pyforest_update_imports_cell) { window._pyforest_update_imports_cell('import seaborn as sns\\nfrom sklearn import svm\\nimport numpy as np\\nimport matplotlib.pyplot as plt'); }\n",
       "    "
      ],
      "text/plain": [
       "<IPython.core.display.Javascript object>"
      ]
     },
     "metadata": {},
     "output_type": "display_data"
    },
    {
     "data": {
      "application/javascript": [
       "\n",
       "        if (window._pyforest_update_imports_cell) { window._pyforest_update_imports_cell('import seaborn as sns\\nfrom sklearn import svm\\nimport numpy as np\\nimport matplotlib.pyplot as plt'); }\n",
       "    "
      ],
      "text/plain": [
       "<IPython.core.display.Javascript object>"
      ]
     },
     "metadata": {},
     "output_type": "display_data"
    },
    {
     "data": {
      "application/javascript": [
       "\n",
       "        if (window._pyforest_update_imports_cell) { window._pyforest_update_imports_cell('import seaborn as sns\\nfrom sklearn import svm\\nimport numpy as np\\nimport matplotlib.pyplot as plt'); }\n",
       "    "
      ],
      "text/plain": [
       "<IPython.core.display.Javascript object>"
      ]
     },
     "metadata": {},
     "output_type": "display_data"
    },
    {
     "data": {
      "application/javascript": [
       "\n",
       "        if (window._pyforest_update_imports_cell) { window._pyforest_update_imports_cell('import seaborn as sns\\nfrom sklearn import svm\\nimport numpy as np\\nimport matplotlib.pyplot as plt'); }\n",
       "    "
      ],
      "text/plain": [
       "<IPython.core.display.Javascript object>"
      ]
     },
     "metadata": {},
     "output_type": "display_data"
    },
    {
     "data": {
      "application/javascript": [
       "\n",
       "        if (window._pyforest_update_imports_cell) { window._pyforest_update_imports_cell('import seaborn as sns\\nfrom sklearn import svm\\nimport numpy as np\\nimport matplotlib.pyplot as plt'); }\n",
       "    "
      ],
      "text/plain": [
       "<IPython.core.display.Javascript object>"
      ]
     },
     "metadata": {},
     "output_type": "display_data"
    },
    {
     "data": {
      "application/javascript": [
       "\n",
       "        if (window._pyforest_update_imports_cell) { window._pyforest_update_imports_cell('import seaborn as sns\\nfrom sklearn import svm\\nimport numpy as np\\nimport matplotlib.pyplot as plt'); }\n",
       "    "
      ],
      "text/plain": [
       "<IPython.core.display.Javascript object>"
      ]
     },
     "metadata": {},
     "output_type": "display_data"
    },
    {
     "data": {
      "application/javascript": [
       "\n",
       "        if (window._pyforest_update_imports_cell) { window._pyforest_update_imports_cell('import seaborn as sns\\nfrom sklearn import svm\\nimport numpy as np\\nimport matplotlib.pyplot as plt'); }\n",
       "    "
      ],
      "text/plain": [
       "<IPython.core.display.Javascript object>"
      ]
     },
     "metadata": {},
     "output_type": "display_data"
    },
    {
     "data": {
      "image/png": "[encoded data removed]",
      "text/plain": [
       "<Figure size 864x432 with 1 Axes>"
      ]
     },
     "metadata": {
      "needs_background": "light"
     },
     "output_type": "display_data"
    }
   ],
   "source": [
    "colors = sns.color_palette()\n",
    "fig, ax1 = plt.subplots(1, 1, figsize=(12,6))\n",
    "sns.scatterplot(x=X_train_pca[:,0], y=X_train_pca[:,1], hue=y_train,ax=ax1)\n",
    "add_decision_boundary(modelLDA, label=\"LDA\", color=colors.pop(), region=False, \n",
    "                      resolution=1000)\n",
    "add_decision_boundary(modelQDA, label=\"QDA\", color=colors.pop(), region=False,\n",
    "                      resolution=1000)\n",
    "add_decision_boundary(modelNB, label=\"GaussianNB\", color=colors.pop(), region=False)\n",
    "add_decision_boundary(modelSVM, label=\"SVM\", color=colors.pop(), region=False)"
   ]
  },
  {
   "cell_type": "code",
   "execution_count": null,
   "id": "d35aa874-4d45-4f12-8b0b-90a7d31f379c",
   "metadata": {},
   "outputs": [],
   "source": []
  }
 ],
 "metadata": {
  "kernelspec": {
   "display_name": "venv",
   "language": "python",
   "name": "venv"
  },
  "language_info": {
   "codemirror_mode": {
    "name": "ipython",
    "version": 3
   },
   "file_extension": ".py",
   "mimetype": "text/x-python",
   "name": "python",
   "nbconvert_exporter": "python",
   "pygments_lexer": "ipython3",
   "version": "3.9.5"
  },
  "toc-autonumbering": false,
  "toc-showmarkdowntxt": false,
  "toc-showtags": false
 },
 "nbformat": 4,
 "nbformat_minor": 5
}
