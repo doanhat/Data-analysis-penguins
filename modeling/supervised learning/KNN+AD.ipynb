{
 "cells": [
  {
   "cell_type": "code",
   "execution_count": null,
   "id": "34b83772-10ee-463e-ac45-80f9f2213a1e",
   "metadata": {},
   "outputs": [],
   "source": []
  },
  {
   "cell_type": "code",
   "execution_count": 1,
   "id": "fa617fb9-af2f-4983-aa7d-1187ac4ac710",
   "metadata": {},
   "outputs": [],
   "source": [
    "import pandas as pd\n",
    "# ^^^ pyforest auto-imports - don't write above this line\n",
    "data = pd.read_csv('../../data/penguins_cleaned.csv')"
   ]
  },
  {
   "cell_type": "code",
   "execution_count": 2,
   "id": "30b4466b-00d6-4c9b-ad3e-d532352dabc1",
   "metadata": {},
   "outputs": [],
   "source": [
    "import sklearn\n",
    "from sklearn.feature_selection import SelectKBest\n",
    "from sklearn.feature_selection import f_classif"
   ]
  },
  {
   "cell_type": "code",
   "execution_count": 3,
   "id": "c55d6a7f-e421-4f5b-a35c-321c4cab58d5",
   "metadata": {},
   "outputs": [],
   "source": [
    "from sklearn import preprocessing \n",
    "LE=preprocessing.LabelEncoder()"
   ]
  },
  {
   "cell_type": "code",
   "execution_count": 4,
   "id": "de686b68-04f0-46cf-80b8-bec7526561d9",
   "metadata": {},
   "outputs": [
    {
     "data": {
      "text/html": [
       "<div>\n",
       "<style scoped>\n",
       "    .dataframe tbody tr th:only-of-type {\n",
       "        vertical-align: middle;\n",
       "    }\n",
       "\n",
       "    .dataframe tbody tr th {\n",
       "        vertical-align: top;\n",
       "    }\n",
       "\n",
       "    .dataframe thead th {\n",
       "        text-align: right;\n",
       "    }\n",
       "</style>\n",
       "<table border=\"1\" class=\"dataframe\">\n",
       "  <thead>\n",
       "    <tr style=\"text-align: right;\">\n",
       "      <th></th>\n",
       "      <th>species</th>\n",
       "      <th>island</th>\n",
       "      <th>clutch_completion</th>\n",
       "      <th>date_egg</th>\n",
       "      <th>bill_length</th>\n",
       "      <th>bill_depth</th>\n",
       "      <th>flipper_length</th>\n",
       "      <th>body_mass</th>\n",
       "      <th>sex</th>\n",
       "      <th>del15</th>\n",
       "      <th>del13</th>\n",
       "      <th>species_code</th>\n",
       "    </tr>\n",
       "  </thead>\n",
       "  <tbody>\n",
       "    <tr>\n",
       "      <th>0</th>\n",
       "      <td>Adelie</td>\n",
       "      <td>2</td>\n",
       "      <td>1</td>\n",
       "      <td>2</td>\n",
       "      <td>39.1</td>\n",
       "      <td>18.7</td>\n",
       "      <td>181.0</td>\n",
       "      <td>3750.0</td>\n",
       "      <td>1</td>\n",
       "      <td>8.859733</td>\n",
       "      <td>-25.804194</td>\n",
       "      <td>0</td>\n",
       "    </tr>\n",
       "    <tr>\n",
       "      <th>1</th>\n",
       "      <td>Adelie</td>\n",
       "      <td>2</td>\n",
       "      <td>1</td>\n",
       "      <td>2</td>\n",
       "      <td>39.5</td>\n",
       "      <td>17.4</td>\n",
       "      <td>186.0</td>\n",
       "      <td>3800.0</td>\n",
       "      <td>0</td>\n",
       "      <td>8.949560</td>\n",
       "      <td>-24.694540</td>\n",
       "      <td>0</td>\n",
       "    </tr>\n",
       "    <tr>\n",
       "      <th>2</th>\n",
       "      <td>Adelie</td>\n",
       "      <td>2</td>\n",
       "      <td>1</td>\n",
       "      <td>6</td>\n",
       "      <td>40.3</td>\n",
       "      <td>18.0</td>\n",
       "      <td>195.0</td>\n",
       "      <td>3250.0</td>\n",
       "      <td>0</td>\n",
       "      <td>8.368210</td>\n",
       "      <td>-25.333020</td>\n",
       "      <td>0</td>\n",
       "    </tr>\n",
       "    <tr>\n",
       "      <th>3</th>\n",
       "      <td>Adelie</td>\n",
       "      <td>2</td>\n",
       "      <td>1</td>\n",
       "      <td>6</td>\n",
       "      <td>36.7</td>\n",
       "      <td>19.3</td>\n",
       "      <td>193.0</td>\n",
       "      <td>3450.0</td>\n",
       "      <td>0</td>\n",
       "      <td>8.766510</td>\n",
       "      <td>-25.324260</td>\n",
       "      <td>0</td>\n",
       "    </tr>\n",
       "    <tr>\n",
       "      <th>4</th>\n",
       "      <td>Adelie</td>\n",
       "      <td>2</td>\n",
       "      <td>1</td>\n",
       "      <td>6</td>\n",
       "      <td>39.3</td>\n",
       "      <td>20.6</td>\n",
       "      <td>190.0</td>\n",
       "      <td>3650.0</td>\n",
       "      <td>1</td>\n",
       "      <td>8.664960</td>\n",
       "      <td>-25.298050</td>\n",
       "      <td>0</td>\n",
       "    </tr>\n",
       "  </tbody>\n",
       "</table>\n",
       "</div>"
      ],
      "text/plain": [
       "  species  island  clutch_completion  date_egg  bill_length  bill_depth  \\\n",
       "0  Adelie       2                  1         2         39.1        18.7   \n",
       "1  Adelie       2                  1         2         39.5        17.4   \n",
       "2  Adelie       2                  1         6         40.3        18.0   \n",
       "3  Adelie       2                  1         6         36.7        19.3   \n",
       "4  Adelie       2                  1         6         39.3        20.6   \n",
       "\n",
       "   flipper_length  body_mass  sex     del15      del13  species_code  \n",
       "0           181.0     3750.0    1  8.859733 -25.804194             0  \n",
       "1           186.0     3800.0    0  8.949560 -24.694540             0  \n",
       "2           195.0     3250.0    0  8.368210 -25.333020             0  \n",
       "3           193.0     3450.0    0  8.766510 -25.324260             0  \n",
       "4           190.0     3650.0    1  8.664960 -25.298050             0  "
      ]
     },
     "execution_count": 4,
     "metadata": {},
     "output_type": "execute_result"
    }
   ],
   "source": [
    "lter_encode=data.copy()\n",
    "lter_encode['island']=LE.fit_transform(lter_encode['island'])\n",
    "lter_encode['clutch_completion']=LE.fit_transform(lter_encode['clutch_completion'])\n",
    "lter_encode['sex']=LE.fit_transform(lter_encode['sex'])\n",
    "lter_encode['date_egg']=LE.fit_transform(lter_encode['date_egg'])\n",
    "lter_encode['species_code']=LE.fit_transform(lter_encode['species'])\n",
    "lter_encode.head()"
   ]
  },
  {
   "cell_type": "markdown",
   "id": "3247e00a-a851-424c-a346-3d37149d017e",
   "metadata": {},
   "source": [
    "# Sélection des variables"
   ]
  },
  {
   "cell_type": "code",
   "execution_count": 5,
   "id": "8f93b642-030e-4111-89e1-de807872b513",
   "metadata": {},
   "outputs": [],
   "source": [
    "bestfeatures = SelectKBest(score_func=f_classif, k='all')"
   ]
  },
  {
   "cell_type": "code",
   "execution_count": 6,
   "id": "6306287a-747a-423c-a5b2-43736aed2f9d",
   "metadata": {},
   "outputs": [
    {
     "name": "stdout",
     "output_type": "stream",
     "text": [
      "             Feature       Score\n",
      "5     flipper_length  594.801627\n",
      "3        bill_length  410.600255\n",
      "4         bill_depth  359.789149\n",
      "6          body_mass  343.626275\n",
      "9              del13  234.897119\n",
      "8              del15  229.625963\n",
      "0             island  150.350633\n",
      "1  clutch_completion    5.554315\n",
      "2           date_egg    4.368453\n",
      "7                sex    0.283857\n"
     ]
    }
   ],
   "source": [
    "X=lter_encode.drop(['species','species_code'], axis=1)\n",
    "Y=lter_encode['species']\n",
    "fit = bestfeatures.fit(X,Y)\n",
    "dfscores = pd.DataFrame(fit.scores_)\n",
    "dfcolumns = pd.DataFrame(X.columns)\n",
    "featureScores = pd.concat([dfcolumns,dfscores],axis=1)\n",
    "featureScores.columns = ['Feature','Score'] \n",
    "print(featureScores.nlargest(lter_encode.shape[1],'Score')) "
   ]
  },
  {
   "cell_type": "code",
   "execution_count": 7,
   "id": "760c3a10-d9ab-4f2a-9d47-8e6e1fc2d8ec",
   "metadata": {},
   "outputs": [],
   "source": [
    "data = data.drop(\n",
    "    columns=[\n",
    "        'clutch_completion',\n",
    "        'date_egg',\n",
    "        'sex'\n",
    "    ]\n",
    ")"
   ]
  },
  {
   "cell_type": "markdown",
   "id": "651b4b18-e4cb-419e-9b6f-8b89a766ce5c",
   "metadata": {},
   "source": [
    "# Préparation des données"
   ]
  },
  {
   "cell_type": "markdown",
   "id": "802675b7-5e97-4727-bd9b-be30f8f757da",
   "metadata": {},
   "source": [
    "## OHE"
   ]
  },
  {
   "cell_type": "code",
   "execution_count": 8,
   "id": "e326f4f6-192b-409e-8a65-64e6567d13d3",
   "metadata": {},
   "outputs": [
    {
     "data": {
      "text/html": [
       "<div>\n",
       "<style scoped>\n",
       "    .dataframe tbody tr th:only-of-type {\n",
       "        vertical-align: middle;\n",
       "    }\n",
       "\n",
       "    .dataframe tbody tr th {\n",
       "        vertical-align: top;\n",
       "    }\n",
       "\n",
       "    .dataframe thead th {\n",
       "        text-align: right;\n",
       "    }\n",
       "</style>\n",
       "<table border=\"1\" class=\"dataframe\">\n",
       "  <thead>\n",
       "    <tr style=\"text-align: right;\">\n",
       "      <th></th>\n",
       "      <th>species</th>\n",
       "      <th>bill_length</th>\n",
       "      <th>bill_depth</th>\n",
       "      <th>flipper_length</th>\n",
       "      <th>body_mass</th>\n",
       "      <th>del15</th>\n",
       "      <th>del13</th>\n",
       "      <th>island_Biscoe</th>\n",
       "      <th>island_Dream</th>\n",
       "      <th>island_Torgersen</th>\n",
       "    </tr>\n",
       "  </thead>\n",
       "  <tbody>\n",
       "    <tr>\n",
       "      <th>0</th>\n",
       "      <td>Adelie</td>\n",
       "      <td>39.1</td>\n",
       "      <td>18.7</td>\n",
       "      <td>181.0</td>\n",
       "      <td>3750.0</td>\n",
       "      <td>8.859733</td>\n",
       "      <td>-25.804194</td>\n",
       "      <td>0</td>\n",
       "      <td>0</td>\n",
       "      <td>1</td>\n",
       "    </tr>\n",
       "    <tr>\n",
       "      <th>1</th>\n",
       "      <td>Adelie</td>\n",
       "      <td>39.5</td>\n",
       "      <td>17.4</td>\n",
       "      <td>186.0</td>\n",
       "      <td>3800.0</td>\n",
       "      <td>8.949560</td>\n",
       "      <td>-24.694540</td>\n",
       "      <td>0</td>\n",
       "      <td>0</td>\n",
       "      <td>1</td>\n",
       "    </tr>\n",
       "    <tr>\n",
       "      <th>2</th>\n",
       "      <td>Adelie</td>\n",
       "      <td>40.3</td>\n",
       "      <td>18.0</td>\n",
       "      <td>195.0</td>\n",
       "      <td>3250.0</td>\n",
       "      <td>8.368210</td>\n",
       "      <td>-25.333020</td>\n",
       "      <td>0</td>\n",
       "      <td>0</td>\n",
       "      <td>1</td>\n",
       "    </tr>\n",
       "    <tr>\n",
       "      <th>3</th>\n",
       "      <td>Adelie</td>\n",
       "      <td>36.7</td>\n",
       "      <td>19.3</td>\n",
       "      <td>193.0</td>\n",
       "      <td>3450.0</td>\n",
       "      <td>8.766510</td>\n",
       "      <td>-25.324260</td>\n",
       "      <td>0</td>\n",
       "      <td>0</td>\n",
       "      <td>1</td>\n",
       "    </tr>\n",
       "    <tr>\n",
       "      <th>4</th>\n",
       "      <td>Adelie</td>\n",
       "      <td>39.3</td>\n",
       "      <td>20.6</td>\n",
       "      <td>190.0</td>\n",
       "      <td>3650.0</td>\n",
       "      <td>8.664960</td>\n",
       "      <td>-25.298050</td>\n",
       "      <td>0</td>\n",
       "      <td>0</td>\n",
       "      <td>1</td>\n",
       "    </tr>\n",
       "    <tr>\n",
       "      <th>...</th>\n",
       "      <td>...</td>\n",
       "      <td>...</td>\n",
       "      <td>...</td>\n",
       "      <td>...</td>\n",
       "      <td>...</td>\n",
       "      <td>...</td>\n",
       "      <td>...</td>\n",
       "      <td>...</td>\n",
       "      <td>...</td>\n",
       "      <td>...</td>\n",
       "    </tr>\n",
       "    <tr>\n",
       "      <th>337</th>\n",
       "      <td>Chinstrap</td>\n",
       "      <td>55.8</td>\n",
       "      <td>19.8</td>\n",
       "      <td>207.0</td>\n",
       "      <td>4000.0</td>\n",
       "      <td>9.704650</td>\n",
       "      <td>-24.534940</td>\n",
       "      <td>0</td>\n",
       "      <td>1</td>\n",
       "      <td>0</td>\n",
       "    </tr>\n",
       "    <tr>\n",
       "      <th>338</th>\n",
       "      <td>Chinstrap</td>\n",
       "      <td>43.5</td>\n",
       "      <td>18.1</td>\n",
       "      <td>202.0</td>\n",
       "      <td>3400.0</td>\n",
       "      <td>9.376080</td>\n",
       "      <td>-24.407530</td>\n",
       "      <td>0</td>\n",
       "      <td>1</td>\n",
       "      <td>0</td>\n",
       "    </tr>\n",
       "    <tr>\n",
       "      <th>339</th>\n",
       "      <td>Chinstrap</td>\n",
       "      <td>49.6</td>\n",
       "      <td>18.2</td>\n",
       "      <td>193.0</td>\n",
       "      <td>3775.0</td>\n",
       "      <td>9.461800</td>\n",
       "      <td>-24.706150</td>\n",
       "      <td>0</td>\n",
       "      <td>1</td>\n",
       "      <td>0</td>\n",
       "    </tr>\n",
       "    <tr>\n",
       "      <th>340</th>\n",
       "      <td>Chinstrap</td>\n",
       "      <td>50.8</td>\n",
       "      <td>19.0</td>\n",
       "      <td>210.0</td>\n",
       "      <td>4100.0</td>\n",
       "      <td>9.980440</td>\n",
       "      <td>-24.687410</td>\n",
       "      <td>0</td>\n",
       "      <td>1</td>\n",
       "      <td>0</td>\n",
       "    </tr>\n",
       "    <tr>\n",
       "      <th>341</th>\n",
       "      <td>Chinstrap</td>\n",
       "      <td>50.2</td>\n",
       "      <td>18.7</td>\n",
       "      <td>198.0</td>\n",
       "      <td>3775.0</td>\n",
       "      <td>9.393050</td>\n",
       "      <td>-24.252550</td>\n",
       "      <td>0</td>\n",
       "      <td>1</td>\n",
       "      <td>0</td>\n",
       "    </tr>\n",
       "  </tbody>\n",
       "</table>\n",
       "<p>342 rows × 10 columns</p>\n",
       "</div>"
      ],
      "text/plain": [
       "       species  bill_length  bill_depth  flipper_length  body_mass     del15  \\\n",
       "0       Adelie         39.1        18.7           181.0     3750.0  8.859733   \n",
       "1       Adelie         39.5        17.4           186.0     3800.0  8.949560   \n",
       "2       Adelie         40.3        18.0           195.0     3250.0  8.368210   \n",
       "3       Adelie         36.7        19.3           193.0     3450.0  8.766510   \n",
       "4       Adelie         39.3        20.6           190.0     3650.0  8.664960   \n",
       "..         ...          ...         ...             ...        ...       ...   \n",
       "337  Chinstrap         55.8        19.8           207.0     4000.0  9.704650   \n",
       "338  Chinstrap         43.5        18.1           202.0     3400.0  9.376080   \n",
       "339  Chinstrap         49.6        18.2           193.0     3775.0  9.461800   \n",
       "340  Chinstrap         50.8        19.0           210.0     4100.0  9.980440   \n",
       "341  Chinstrap         50.2        18.7           198.0     3775.0  9.393050   \n",
       "\n",
       "         del13  island_Biscoe  island_Dream  island_Torgersen  \n",
       "0   -25.804194              0             0                 1  \n",
       "1   -24.694540              0             0                 1  \n",
       "2   -25.333020              0             0                 1  \n",
       "3   -25.324260              0             0                 1  \n",
       "4   -25.298050              0             0                 1  \n",
       "..         ...            ...           ...               ...  \n",
       "337 -24.534940              0             1                 0  \n",
       "338 -24.407530              0             1                 0  \n",
       "339 -24.706150              0             1                 0  \n",
       "340 -24.687410              0             1                 0  \n",
       "341 -24.252550              0             1                 0  \n",
       "\n",
       "[342 rows x 10 columns]"
      ]
     },
     "execution_count": 8,
     "metadata": {},
     "output_type": "execute_result"
    }
   ],
   "source": [
    "data = pd.get_dummies(data,columns=['island'])\n",
    "data"
   ]
  },
  {
   "cell_type": "markdown",
   "id": "5ce60464-a742-4b1b-8775-1f2a830f63d5",
   "metadata": {},
   "source": [
    "## Standardization"
   ]
  },
  {
   "cell_type": "code",
   "execution_count": 9,
   "id": "c0a26be4-91e3-4ff6-bd1c-171bac4b1f0e",
   "metadata": {},
   "outputs": [],
   "source": [
    "from sklearn.preprocessing import StandardScaler"
   ]
  },
  {
   "cell_type": "code",
   "execution_count": 10,
   "id": "1e0ad1e0-881a-46be-bf71-8e72fe87a867",
   "metadata": {},
   "outputs": [
    {
     "data": {
      "text/html": [
       "<div>\n",
       "<style scoped>\n",
       "    .dataframe tbody tr th:only-of-type {\n",
       "        vertical-align: middle;\n",
       "    }\n",
       "\n",
       "    .dataframe tbody tr th {\n",
       "        vertical-align: top;\n",
       "    }\n",
       "\n",
       "    .dataframe thead th {\n",
       "        text-align: right;\n",
       "    }\n",
       "</style>\n",
       "<table border=\"1\" class=\"dataframe\">\n",
       "  <thead>\n",
       "    <tr style=\"text-align: right;\">\n",
       "      <th></th>\n",
       "      <th>bill_length</th>\n",
       "      <th>bill_depth</th>\n",
       "      <th>flipper_length</th>\n",
       "      <th>body_mass</th>\n",
       "      <th>del15</th>\n",
       "      <th>del13</th>\n",
       "      <th>island_Biscoe</th>\n",
       "      <th>island_Dream</th>\n",
       "      <th>island_Torgersen</th>\n",
       "    </tr>\n",
       "  </thead>\n",
       "  <tbody>\n",
       "    <tr>\n",
       "      <th>0</th>\n",
       "      <td>-0.884499</td>\n",
       "      <td>0.785449</td>\n",
       "      <td>-1.418347</td>\n",
       "      <td>-0.564142</td>\n",
       "      <td>0.225043</td>\n",
       "      <td>-0.144751</td>\n",
       "      <td>0</td>\n",
       "      <td>0</td>\n",
       "      <td>1</td>\n",
       "    </tr>\n",
       "    <tr>\n",
       "      <th>1</th>\n",
       "      <td>-0.811126</td>\n",
       "      <td>0.126188</td>\n",
       "      <td>-1.062250</td>\n",
       "      <td>-0.501703</td>\n",
       "      <td>0.390384</td>\n",
       "      <td>1.276753</td>\n",
       "      <td>0</td>\n",
       "      <td>0</td>\n",
       "      <td>1</td>\n",
       "    </tr>\n",
       "    <tr>\n",
       "      <th>2</th>\n",
       "      <td>-0.664380</td>\n",
       "      <td>0.430462</td>\n",
       "      <td>-0.421277</td>\n",
       "      <td>-1.188532</td>\n",
       "      <td>-0.679681</td>\n",
       "      <td>0.458838</td>\n",
       "      <td>0</td>\n",
       "      <td>0</td>\n",
       "      <td>1</td>\n",
       "    </tr>\n",
       "    <tr>\n",
       "      <th>3</th>\n",
       "      <td>-1.324737</td>\n",
       "      <td>1.089724</td>\n",
       "      <td>-0.563715</td>\n",
       "      <td>-0.938776</td>\n",
       "      <td>0.053452</td>\n",
       "      <td>0.470060</td>\n",
       "      <td>0</td>\n",
       "      <td>0</td>\n",
       "      <td>1</td>\n",
       "    </tr>\n",
       "    <tr>\n",
       "      <th>4</th>\n",
       "      <td>-0.847812</td>\n",
       "      <td>1.748985</td>\n",
       "      <td>-0.777373</td>\n",
       "      <td>-0.689020</td>\n",
       "      <td>-0.133466</td>\n",
       "      <td>0.503636</td>\n",
       "      <td>0</td>\n",
       "      <td>0</td>\n",
       "      <td>1</td>\n",
       "    </tr>\n",
       "    <tr>\n",
       "      <th>...</th>\n",
       "      <td>...</td>\n",
       "      <td>...</td>\n",
       "      <td>...</td>\n",
       "      <td>...</td>\n",
       "      <td>...</td>\n",
       "      <td>...</td>\n",
       "      <td>...</td>\n",
       "      <td>...</td>\n",
       "      <td>...</td>\n",
       "    </tr>\n",
       "    <tr>\n",
       "      <th>337</th>\n",
       "      <td>2.178824</td>\n",
       "      <td>1.343286</td>\n",
       "      <td>0.433355</td>\n",
       "      <td>-0.251947</td>\n",
       "      <td>1.780245</td>\n",
       "      <td>1.481206</td>\n",
       "      <td>0</td>\n",
       "      <td>1</td>\n",
       "      <td>0</td>\n",
       "    </tr>\n",
       "    <tr>\n",
       "      <th>338</th>\n",
       "      <td>-0.077396</td>\n",
       "      <td>0.481175</td>\n",
       "      <td>0.077258</td>\n",
       "      <td>-1.001215</td>\n",
       "      <td>1.175461</td>\n",
       "      <td>1.644423</td>\n",
       "      <td>0</td>\n",
       "      <td>1</td>\n",
       "      <td>0</td>\n",
       "    </tr>\n",
       "    <tr>\n",
       "      <th>339</th>\n",
       "      <td>1.041543</td>\n",
       "      <td>0.531887</td>\n",
       "      <td>-0.563715</td>\n",
       "      <td>-0.532923</td>\n",
       "      <td>1.333241</td>\n",
       "      <td>1.261880</td>\n",
       "      <td>0</td>\n",
       "      <td>1</td>\n",
       "      <td>0</td>\n",
       "    </tr>\n",
       "    <tr>\n",
       "      <th>340</th>\n",
       "      <td>1.261662</td>\n",
       "      <td>0.937586</td>\n",
       "      <td>0.647013</td>\n",
       "      <td>-0.127069</td>\n",
       "      <td>2.287879</td>\n",
       "      <td>1.285887</td>\n",
       "      <td>0</td>\n",
       "      <td>1</td>\n",
       "      <td>0</td>\n",
       "    </tr>\n",
       "    <tr>\n",
       "      <th>341</th>\n",
       "      <td>1.151602</td>\n",
       "      <td>0.785449</td>\n",
       "      <td>-0.207619</td>\n",
       "      <td>-0.532923</td>\n",
       "      <td>1.206696</td>\n",
       "      <td>1.842957</td>\n",
       "      <td>0</td>\n",
       "      <td>1</td>\n",
       "      <td>0</td>\n",
       "    </tr>\n",
       "  </tbody>\n",
       "</table>\n",
       "<p>342 rows × 9 columns</p>\n",
       "</div>"
      ],
      "text/plain": [
       "     bill_length  bill_depth  flipper_length  body_mass     del15     del13  \\\n",
       "0      -0.884499    0.785449       -1.418347  -0.564142  0.225043 -0.144751   \n",
       "1      -0.811126    0.126188       -1.062250  -0.501703  0.390384  1.276753   \n",
       "2      -0.664380    0.430462       -0.421277  -1.188532 -0.679681  0.458838   \n",
       "3      -1.324737    1.089724       -0.563715  -0.938776  0.053452  0.470060   \n",
       "4      -0.847812    1.748985       -0.777373  -0.689020 -0.133466  0.503636   \n",
       "..           ...         ...             ...        ...       ...       ...   \n",
       "337     2.178824    1.343286        0.433355  -0.251947  1.780245  1.481206   \n",
       "338    -0.077396    0.481175        0.077258  -1.001215  1.175461  1.644423   \n",
       "339     1.041543    0.531887       -0.563715  -0.532923  1.333241  1.261880   \n",
       "340     1.261662    0.937586        0.647013  -0.127069  2.287879  1.285887   \n",
       "341     1.151602    0.785449       -0.207619  -0.532923  1.206696  1.842957   \n",
       "\n",
       "     island_Biscoe  island_Dream  island_Torgersen  \n",
       "0                0             0                 1  \n",
       "1                0             0                 1  \n",
       "2                0             0                 1  \n",
       "3                0             0                 1  \n",
       "4                0             0                 1  \n",
       "..             ...           ...               ...  \n",
       "337              0             1                 0  \n",
       "338              0             1                 0  \n",
       "339              0             1                 0  \n",
       "340              0             1                 0  \n",
       "341              0             1                 0  \n",
       "\n",
       "[342 rows x 9 columns]"
      ]
     },
     "execution_count": 10,
     "metadata": {},
     "output_type": "execute_result"
    }
   ],
   "source": [
    "scale=StandardScaler()\n",
    "scale.fit(data.drop(['species','island_Biscoe','island_Dream','island_Torgersen'],axis=1))\n",
    "transformed=scale.transform(data.drop(['species','island_Biscoe','island_Dream','island_Torgersen'],axis=1))\n",
    "X_scaled=pd.DataFrame(transformed,columns=data.columns[1:7])\n",
    "X_scaled[['island_Biscoe','island_Dream','island_Torgersen']]=data[['island_Biscoe','island_Dream','island_Torgersen']]\n",
    "X_scaled"
   ]
  },
  {
   "cell_type": "markdown",
   "id": "fc33bfa0-8668-4a79-a8cb-3c32da8905a2",
   "metadata": {},
   "source": [
    "## Séparation du jeu de données"
   ]
  },
  {
   "cell_type": "code",
   "execution_count": 11,
   "id": "e43dfddf-4494-465f-b16a-d7826f4cf5cd",
   "metadata": {},
   "outputs": [],
   "source": [
    "from sklearn.model_selection import train_test_split\n",
    "X = X_scaled\n",
    "y = data['species']\n",
    "X_train,X_test,y_train,y_test=train_test_split(X_scaled,data['species'],test_size=0.25)"
   ]
  },
  {
   "cell_type": "markdown",
   "id": "2c69ab61-6272-4116-b839-9a31d867e006",
   "metadata": {},
   "source": [
    "# Application des méthodes"
   ]
  },
  {
   "cell_type": "markdown",
   "id": "fc1aa0c9-2528-45af-ab07-2c41d63c7e52",
   "metadata": {},
   "source": [
    "## KNN"
   ]
  },
  {
   "cell_type": "code",
   "execution_count": 12,
   "id": "f22258af-f665-4431-96aa-39634e7a8ed0",
   "metadata": {},
   "outputs": [],
   "source": [
    "from sklearn.neighbors import KNeighborsClassifier\n",
    "from sklearn.model_selection import GridSearchCV\n",
    "from sklearn.metrics import confusion_matrix,accuracy_score,classification_report"
   ]
  },
  {
   "cell_type": "code",
   "execution_count": 13,
   "id": "26f06453-6e50-4927-87b9-78d8eb83c61e",
   "metadata": {},
   "outputs": [
    {
     "data": {
      "application/javascript": [
       "\n",
       "        if (window._pyforest_update_imports_cell) { window._pyforest_update_imports_cell('import numpy as np'); }\n",
       "    "
      ],
      "text/plain": [
       "<IPython.core.display.Javascript object>"
      ]
     },
     "metadata": {},
     "output_type": "display_data"
    },
    {
     "name": "stdout",
     "output_type": "stream",
     "text": [
      "{'n_neighbors': 1}\n",
      "0.9961538461538462\n"
     ]
    }
   ],
   "source": [
    "n_neighbors_list = np.arange(1, 100)\n",
    "# hyper-paramètre\n",
    "param_grid = {\"n_neighbors\": n_neighbors_list}\n",
    "cls = KNeighborsClassifier()\n",
    "search = GridSearchCV(cls, param_grid, cv=10)\n",
    "search.fit(X_train, y_train)\n",
    "print(search.best_params_)\n",
    "print(search.best_score_)"
   ]
  },
  {
   "cell_type": "code",
   "execution_count": 14,
   "id": "5ded413f-f0a7-472b-9a85-ae4824e7935f",
   "metadata": {},
   "outputs": [
    {
     "data": {
      "application/javascript": [
       "\n",
       "        if (window._pyforest_update_imports_cell) { window._pyforest_update_imports_cell('import matplotlib.pyplot as plt\\nimport numpy as np'); }\n",
       "    "
      ],
      "text/plain": [
       "<IPython.core.display.Javascript object>"
      ]
     },
     "metadata": {},
     "output_type": "display_data"
    },
    {
     "data": {
      "application/javascript": [
       "\n",
       "        if (window._pyforest_update_imports_cell) { window._pyforest_update_imports_cell('import matplotlib.pyplot as plt\\nimport numpy as np'); }\n",
       "    "
      ],
      "text/plain": [
       "<IPython.core.display.Javascript object>"
      ]
     },
     "metadata": {},
     "output_type": "display_data"
    },
    {
     "data": {
      "image/png": "[encoded data removed]",
      "text/plain": [
       "<Figure size 432x288 with 1 Axes>"
      ]
     },
     "metadata": {
      "needs_background": "light"
     },
     "output_type": "display_data"
    }
   ],
   "source": [
    "dfgrid = pd.DataFrame(\n",
    "    dict(n_neighbors = d[\"n_neighbors\"], error=e, std=s)\n",
    "    for d, e, s in zip(\n",
    "        search.cv_results_[\"params\"],\n",
    "        search.cv_results_[\"mean_test_score\"],\n",
    "        search.cv_results_[\"std_test_score\"],\n",
    "    )\n",
    ")\n",
    "plt.errorbar(dfgrid[\"n_neighbors\"], dfgrid[\"error\"], yerr=dfgrid[\"std\"])\n",
    "plt.show()"
   ]
  },
  {
   "cell_type": "code",
   "execution_count": 15,
   "id": "8beb56d0-f5fb-4b65-ac2c-398ee3d16068",
   "metadata": {},
   "outputs": [
    {
     "name": "stdout",
     "output_type": "stream",
     "text": [
      "[[37  0  0]\n",
      " [ 0 17  0]\n",
      " [ 0  0 32]]\n",
      "              precision    recall  f1-score   support\n",
      "\n",
      "      Adelie       1.00      1.00      1.00        37\n",
      "   Chinstrap       1.00      1.00      1.00        17\n",
      "      Gentoo       1.00      1.00      1.00        32\n",
      "\n",
      "    accuracy                           1.00        86\n",
      "   macro avg       1.00      1.00      1.00        86\n",
      "weighted avg       1.00      1.00      1.00        86\n",
      "\n"
     ]
    }
   ],
   "source": [
    "knn = KNeighborsClassifier(n_neighbors=2)\n",
    "knn.fit(X,y)\n",
    "preds_knn = knn.predict(X_test)\n",
    "print(confusion_matrix(y_test,preds_knn))\n",
    "print(classification_report(y_test, preds_knn))"
   ]
  },
  {
   "cell_type": "markdown",
   "id": "64b730b5-fb18-4a18-8487-363b3534c775",
   "metadata": {},
   "source": [
    "## Apprentissage avec PCA"
   ]
  },
  {
   "cell_type": "code",
   "execution_count": 16,
   "id": "042b42b5-5d9d-4087-9b07-69d4ad676c1a",
   "metadata": {},
   "outputs": [
    {
     "name": "stdout",
     "output_type": "stream",
     "text": [
      "Ratios: [5.40936484e+01 2.29864840e+01 8.27458313e+00 5.56729016e+00\n",
      " 3.08389327e+00 2.32667814e+00 2.20703257e+00 1.46039027e+00\n",
      " 2.12702013e-31]\n"
     ]
    }
   ],
   "source": [
    "from sklearn.decomposition import PCA\n",
    "pca = PCA().fit(X_scaled)\n",
    "print('Ratios:',pca.explained_variance_ratio_*100)#Ratio per component."
   ]
  },
  {
   "cell_type": "code",
   "execution_count": 17,
   "id": "52c0b371-f344-4cff-881d-024f360e23b3",
   "metadata": {},
   "outputs": [
    {
     "data": {
      "application/javascript": [
       "\n",
       "        if (window._pyforest_update_imports_cell) { window._pyforest_update_imports_cell('import matplotlib.pyplot as plt\\nimport numpy as np'); }\n",
       "    "
      ],
      "text/plain": [
       "<IPython.core.display.Javascript object>"
      ]
     },
     "metadata": {},
     "output_type": "display_data"
    },
    {
     "data": {
      "application/javascript": [
       "\n",
       "        if (window._pyforest_update_imports_cell) { window._pyforest_update_imports_cell('import matplotlib.pyplot as plt\\nimport numpy as np'); }\n",
       "    "
      ],
      "text/plain": [
       "<IPython.core.display.Javascript object>"
      ]
     },
     "metadata": {},
     "output_type": "display_data"
    },
    {
     "data": {
      "application/javascript": [
       "\n",
       "        if (window._pyforest_update_imports_cell) { window._pyforest_update_imports_cell('import matplotlib.pyplot as plt\\nimport numpy as np'); }\n",
       "    "
      ],
      "text/plain": [
       "<IPython.core.display.Javascript object>"
      ]
     },
     "metadata": {},
     "output_type": "display_data"
    },
    {
     "data": {
      "application/javascript": [
       "\n",
       "        if (window._pyforest_update_imports_cell) { window._pyforest_update_imports_cell('import matplotlib.pyplot as plt\\nimport numpy as np'); }\n",
       "    "
      ],
      "text/plain": [
       "<IPython.core.display.Javascript object>"
      ]
     },
     "metadata": {},
     "output_type": "display_data"
    },
    {
     "data": {
      "application/javascript": [
       "\n",
       "        if (window._pyforest_update_imports_cell) { window._pyforest_update_imports_cell('import matplotlib.pyplot as plt\\nimport numpy as np'); }\n",
       "    "
      ],
      "text/plain": [
       "<IPython.core.display.Javascript object>"
      ]
     },
     "metadata": {},
     "output_type": "display_data"
    },
    {
     "data": {
      "application/javascript": [
       "\n",
       "        if (window._pyforest_update_imports_cell) { window._pyforest_update_imports_cell('import matplotlib.pyplot as plt\\nimport numpy as np'); }\n",
       "    "
      ],
      "text/plain": [
       "<IPython.core.display.Javascript object>"
      ]
     },
     "metadata": {},
     "output_type": "display_data"
    },
    {
     "data": {
      "image/png": "[encoded data removed]",
      "text/plain": [
       "<Figure size 432x288 with 1 Axes>"
      ]
     },
     "metadata": {
      "needs_background": "light"
     },
     "output_type": "display_data"
    }
   ],
   "source": [
    "plt.bar(range(len(pca.explained_variance_ratio_)), pca.explained_variance_ratio_, alpha=0.5)\n",
    "plt.step(range(len(pca.explained_variance_ratio_)), np.cumsum(pca.explained_variance_ratio_))\n",
    "plt.ylabel(\"Explained variance ratio\")\n",
    "plt.xlabel(\"Principal components\")\n",
    "plt.show()"
   ]
  },
  {
   "cell_type": "code",
   "execution_count": 18,
   "id": "020f6280-f05f-4b6a-b2e0-c073fa936501",
   "metadata": {},
   "outputs": [],
   "source": [
    "pca = PCA(n_components=3)\n",
    "X = X_scaled\n",
    "y = data['species']\n",
    "X_train,X_test,y_train,y_test=train_test_split(X_scaled,data['species'],test_size=0.25)\n",
    "X_train_pca = pca.fit_transform(X_train) \n",
    "X_test_pca = pca.transform(X_test) "
   ]
  },
  {
   "cell_type": "markdown",
   "id": "dcc757b2-e8b0-4309-aba9-17a97dd75600",
   "metadata": {},
   "source": [
    "### KNN"
   ]
  },
  {
   "cell_type": "code",
   "execution_count": 19,
   "id": "d253a8b2-d831-4112-ab2b-0dc24cadae75",
   "metadata": {},
   "outputs": [
    {
     "data": {
      "application/javascript": [
       "\n",
       "        if (window._pyforest_update_imports_cell) { window._pyforest_update_imports_cell('import matplotlib.pyplot as plt\\nimport numpy as np'); }\n",
       "    "
      ],
      "text/plain": [
       "<IPython.core.display.Javascript object>"
      ]
     },
     "metadata": {},
     "output_type": "display_data"
    },
    {
     "name": "stdout",
     "output_type": "stream",
     "text": [
      "{'n_neighbors': 6}\n",
      "0.9923076923076923\n"
     ]
    }
   ],
   "source": [
    "n_neighbors_list = np.arange(1, 100)\n",
    "# hyper-paramètre\n",
    "param_grid = {\"n_neighbors\": n_neighbors_list}\n",
    "cls = KNeighborsClassifier()\n",
    "search = GridSearchCV(cls, param_grid, cv=10)\n",
    "search.fit(X_train_pca, y_train)\n",
    "print(search.best_params_)\n",
    "print(search.best_score_)"
   ]
  },
  {
   "cell_type": "code",
   "execution_count": 20,
   "id": "8072d246-2951-4c48-9c4f-0cf02e69c36b",
   "metadata": {},
   "outputs": [
    {
     "data": {
      "application/javascript": [
       "\n",
       "        if (window._pyforest_update_imports_cell) { window._pyforest_update_imports_cell('import matplotlib.pyplot as plt\\nimport numpy as np'); }\n",
       "    "
      ],
      "text/plain": [
       "<IPython.core.display.Javascript object>"
      ]
     },
     "metadata": {},
     "output_type": "display_data"
    },
    {
     "data": {
      "application/javascript": [
       "\n",
       "        if (window._pyforest_update_imports_cell) { window._pyforest_update_imports_cell('import matplotlib.pyplot as plt\\nimport numpy as np'); }\n",
       "    "
      ],
      "text/plain": [
       "<IPython.core.display.Javascript object>"
      ]
     },
     "metadata": {},
     "output_type": "display_data"
    },
    {
     "data": {
      "image/png": "[encoded data removed]",
      "text/plain": [
       "<Figure size 432x288 with 1 Axes>"
      ]
     },
     "metadata": {
      "needs_background": "light"
     },
     "output_type": "display_data"
    }
   ],
   "source": [
    "dfgrid = pd.DataFrame(\n",
    "    dict(n_neighbors = d[\"n_neighbors\"], error=e, std=s)\n",
    "    for d, e, s in zip(\n",
    "        search.cv_results_[\"params\"],\n",
    "        search.cv_results_[\"mean_test_score\"],\n",
    "        search.cv_results_[\"std_test_score\"],\n",
    "    )\n",
    ")\n",
    "plt.errorbar(dfgrid[\"n_neighbors\"], dfgrid[\"error\"], yerr=dfgrid[\"std\"])\n",
    "plt.show()"
   ]
  },
  {
   "cell_type": "code",
   "execution_count": 21,
   "id": "2a5d2173-01ff-4f24-917f-dc2b201112db",
   "metadata": {},
   "outputs": [
    {
     "name": "stdout",
     "output_type": "stream",
     "text": [
      "[[44  0  0]\n",
      " [ 0 14  0]\n",
      " [ 0  0 28]]\n",
      "              precision    recall  f1-score   support\n",
      "\n",
      "      Adelie       1.00      1.00      1.00        44\n",
      "   Chinstrap       1.00      1.00      1.00        14\n",
      "      Gentoo       1.00      1.00      1.00        28\n",
      "\n",
      "    accuracy                           1.00        86\n",
      "   macro avg       1.00      1.00      1.00        86\n",
      "weighted avg       1.00      1.00      1.00        86\n",
      "\n"
     ]
    }
   ],
   "source": [
    "knn = KNeighborsClassifier(n_neighbors=6)\n",
    "knn.fit(X_train_pca,y_train)\n",
    "preds_knn = knn.predict(X_test_pca)\n",
    "print(confusion_matrix(y_test,preds_knn))\n",
    "print(classification_report(y_test, preds_knn))"
   ]
  },
  {
   "cell_type": "code",
   "execution_count": 22,
   "id": "65f28441-5ef1-4a70-b07c-cf0c7a9cae76",
   "metadata": {},
   "outputs": [
    {
     "data": {
      "application/javascript": [
       "\n",
       "        if (window._pyforest_update_imports_cell) { window._pyforest_update_imports_cell('import matplotlib.pyplot as plt\\nimport numpy as np'); }\n",
       "    "
      ],
      "text/plain": [
       "<IPython.core.display.Javascript object>"
      ]
     },
     "metadata": {},
     "output_type": "display_data"
    },
    {
     "data": {
      "application/javascript": [
       "\n",
       "        if (window._pyforest_update_imports_cell) { window._pyforest_update_imports_cell('import matplotlib.pyplot as plt\\nimport numpy as np'); }\n",
       "    "
      ],
      "text/plain": [
       "<IPython.core.display.Javascript object>"
      ]
     },
     "metadata": {},
     "output_type": "display_data"
    },
    {
     "data": {
      "application/javascript": [
       "\n",
       "        if (window._pyforest_update_imports_cell) { window._pyforest_update_imports_cell('import matplotlib.pyplot as plt\\nimport numpy as np'); }\n",
       "    "
      ],
      "text/plain": [
       "<IPython.core.display.Javascript object>"
      ]
     },
     "metadata": {},
     "output_type": "display_data"
    },
    {
     "data": {
      "application/javascript": [
       "\n",
       "        if (window._pyforest_update_imports_cell) { window._pyforest_update_imports_cell('import matplotlib.pyplot as plt\\nimport numpy as np'); }\n",
       "    "
      ],
      "text/plain": [
       "<IPython.core.display.Javascript object>"
      ]
     },
     "metadata": {},
     "output_type": "display_data"
    },
    {
     "data": {
      "application/javascript": [
       "\n",
       "        if (window._pyforest_update_imports_cell) { window._pyforest_update_imports_cell('import matplotlib.pyplot as plt\\nimport numpy as np'); }\n",
       "    "
      ],
      "text/plain": [
       "<IPython.core.display.Javascript object>"
      ]
     },
     "metadata": {},
     "output_type": "display_data"
    },
    {
     "data": {
      "application/javascript": [
       "\n",
       "        if (window._pyforest_update_imports_cell) { window._pyforest_update_imports_cell('import matplotlib.pyplot as plt\\nimport numpy as np'); }\n",
       "    "
      ],
      "text/plain": [
       "<IPython.core.display.Javascript object>"
      ]
     },
     "metadata": {},
     "output_type": "display_data"
    },
    {
     "data": {
      "application/javascript": [
       "\n",
       "        if (window._pyforest_update_imports_cell) { window._pyforest_update_imports_cell('import matplotlib.pyplot as plt\\nimport numpy as np'); }\n",
       "    "
      ],
      "text/plain": [
       "<IPython.core.display.Javascript object>"
      ]
     },
     "metadata": {},
     "output_type": "display_data"
    },
    {
     "data": {
      "application/javascript": [
       "\n",
       "        if (window._pyforest_update_imports_cell) { window._pyforest_update_imports_cell('import matplotlib.pyplot as plt\\nimport numpy as np'); }\n",
       "    "
      ],
      "text/plain": [
       "<IPython.core.display.Javascript object>"
      ]
     },
     "metadata": {},
     "output_type": "display_data"
    },
    {
     "data": {
      "image/png": "[encoded data removed]",
      "text/plain": [
       "<Figure size 504x360 with 1 Axes>"
      ]
     },
     "metadata": {},
     "output_type": "display_data"
    }
   ],
   "source": [
    "X_pca = X_test_pca\n",
    "ex_variance=np.var(X_pca,axis=0)\n",
    "ex_variance_ratio = ex_variance/np.sum(ex_variance)\n",
    "ex_variance_ratio\n",
    "\n",
    "\n",
    "Xax = X_pca[:,0]\n",
    "Yax = X_pca[:,1]\n",
    "Zax = X_pca[:,2]\n",
    "\n",
    "cdict = {'Adelie':'red','Chinstrap':'green','Gentoo':'blue'}\n",
    "marker = {'Adelie':'*','Chinstrap':'x','Gentoo':'+'}\n",
    "alpha = {'0':.3, 1:.5}\n",
    "\n",
    "fig = plt.figure(figsize=(7,5))\n",
    "ax = fig.add_subplot(111, projection='3d')\n",
    "\n",
    "fig.patch.set_facecolor('white')\n",
    "for l in np.unique(preds_knn):\n",
    "    ix=np.where(preds_knn==l)\n",
    "    ax.scatter(Xax[ix], Yax[ix], Zax[ix], s=40,label=l, marker=marker[l])\n",
    "# for loop ends\n",
    "ax.set_xlabel(\"First Principal Component\", fontsize=14)\n",
    "ax.set_ylabel(\"Second Principal Component\", fontsize=14)\n",
    "ax.set_zlabel(\"Third Principal Component\", fontsize=14)\n",
    "\n",
    "ax.legend()\n",
    "plt.show()"
   ]
  },
  {
   "cell_type": "code",
   "execution_count": 23,
   "id": "16cea8a5-bcfd-44f3-baab-b221b30d6107",
   "metadata": {},
   "outputs": [
    {
     "data": {
      "application/javascript": [
       "\n",
       "        if (window._pyforest_update_imports_cell) { window._pyforest_update_imports_cell('import seaborn as sns\\nimport matplotlib.pyplot as plt\\nimport numpy as np'); }\n",
       "    "
      ],
      "text/plain": [
       "<IPython.core.display.Javascript object>"
      ]
     },
     "metadata": {},
     "output_type": "display_data"
    },
    {
     "data": {
      "text/plain": [
       "<AxesSubplot:>"
      ]
     },
     "execution_count": 23,
     "metadata": {},
     "output_type": "execute_result"
    },
    {
     "data": {
      "image/png": "[encoded data removed]",
      "text/plain": [
       "<Figure size 432x288 with 1 Axes>"
      ]
     },
     "metadata": {
      "needs_background": "light"
     },
     "output_type": "display_data"
    }
   ],
   "source": [
    "sns.scatterplot(x=X_test_pca[:,0], y=X_test_pca[:,1], hue=preds_knn)"
   ]
  },
  {
   "cell_type": "markdown",
   "id": "3b3cce4a-2de2-46ed-ac9d-804f909e578f",
   "metadata": {},
   "source": [
    "## Analyse discriminante"
   ]
  },
  {
   "cell_type": "code",
   "execution_count": 24,
   "id": "687b95ca-7d80-448e-b53d-ec89487c6122",
   "metadata": {},
   "outputs": [],
   "source": [
    "from sklearn.model_selection import cross_val_score\n",
    "from sklearn.discriminant_analysis import LinearDiscriminantAnalysis\n",
    "from sklearn.discriminant_analysis import QuadraticDiscriminantAnalysis\n",
    "from sklearn.naive_bayes import GaussianNB"
   ]
  },
  {
   "cell_type": "code",
   "execution_count": 25,
   "id": "bf1ac7b0-f826-42f9-a088-23ad0804bbe7",
   "metadata": {},
   "outputs": [],
   "source": [
    "def add_decision_boundary(\n",
    "    model, levels=None, resolution=100, ax=None, label=None, color=None, region=True\n",
    "):\n",
    "    \"\"\"Trace une frontière et des régions de décision sur une figure existante.\n",
    "\n",
    "    La fonction requiert un modèle scikit-learn `model` pour prédire\n",
    "    un score ou une classe. La discrétisation utilisée est fixée par\n",
    "    l'argument `resolution`. Une (ou plusieurs frontières) sont\n",
    "    ensuite tracées d'après le paramètre `levels` qui fixe la valeur\n",
    "    des lignes de niveaux recherchées.\n",
    "\n",
    "    \"\"\"\n",
    "\n",
    "    if ax is None:\n",
    "        ax = plt.gca()\n",
    "\n",
    "    # Create grid to evaluate model\n",
    "    xlim = ax.get_xlim()\n",
    "    ylim = ax.get_ylim()\n",
    "    xx = np.linspace(xlim[0], xlim[1], resolution)\n",
    "    yy = np.linspace(ylim[0], ylim[1], resolution)\n",
    "    XX, YY = np.meshgrid(xx, yy)\n",
    "    xy = np.vstack([XX.ravel(), YY.ravel()]).T\n",
    "    Z = model.predict(xy).reshape(XX.shape)\n",
    "\n",
    "    cat2num = {cat: num for num, cat in enumerate(model.classes_)}\n",
    "    num2cat = {num: cat for num, cat in enumerate(model.classes_)}\n",
    "    vcat2num = np.vectorize(lambda x: cat2num[x])\n",
    "    Z_num = vcat2num(Z)\n",
    "\n",
    "    # Add decision boundary to legend\n",
    "    color = \"b\" if color is None else color\n",
    "    sns.lineplot(x=[0], y=[0], label=label, ax=ax, color=color, linestyle=\"dashed\")\n",
    "    mask = np.zeros_like(Z_num, dtype=bool)\n",
    "    for k in range(len(model.classes_) - 1):\n",
    "        mask |= Z_num == k - 1\n",
    "        Z_num_mask = np.ma.array(Z_num, mask=mask)\n",
    "        ax.contour(\n",
    "            XX,\n",
    "            YY,\n",
    "            Z_num_mask,\n",
    "            levels=[k + 0.5],\n",
    "            linestyles=\"dashed\",\n",
    "            corner_mask=True,\n",
    "            colors=[color],\n",
    "            antialiased=True,\n",
    "        )\n",
    "\n",
    "    if region:\n",
    "        # Hack to get colors\n",
    "        # TODO use legend_out = True\n",
    "        slabels = [str(l) for l in model.classes_]\n",
    "        hdls, hlabels = ax.get_legend_handles_labels()\n",
    "        hlabels_hdls = {l: h for l, h in zip(hlabels, hdls)}\n",
    "\n",
    "        color_dict = {}\n",
    "        for label in model.classes_:\n",
    "            if str(label) in hlabels_hdls:\n",
    "                hdl = hlabels_hdls[str(label)]\n",
    "                color = hdl.get_facecolor().ravel()\n",
    "                color_dict[label] = color\n",
    "            else:\n",
    "                raise Exception(\"No corresponding label found for \", label)\n",
    "\n",
    "        colors = [color_dict[num2cat[i]] for i in range(len(model.classes_))]\n",
    "        cmap = mpl.colors.ListedColormap(colors)\n",
    "\n",
    "        ax.imshow(\n",
    "            Z_num,\n",
    "            interpolation=\"nearest\",\n",
    "            extent=ax.get_xlim() + ax.get_ylim(),\n",
    "            aspect=\"auto\",\n",
    "            origin=\"lower\",\n",
    "            cmap=cmap,\n",
    "            alpha=0.2,\n",
    "        )"
   ]
  },
  {
   "cell_type": "code",
   "execution_count": 26,
   "id": "7b28c70d-5cbc-46e9-9112-3985cc54496a",
   "metadata": {},
   "outputs": [
    {
     "data": {
      "application/javascript": [
       "\n",
       "        if (window._pyforest_update_imports_cell) { window._pyforest_update_imports_cell('import seaborn as sns\\nimport matplotlib.pyplot as plt\\nimport numpy as np'); }\n",
       "    "
      ],
      "text/plain": [
       "<IPython.core.display.Javascript object>"
      ]
     },
     "metadata": {},
     "output_type": "display_data"
    }
   ],
   "source": [
    "colors = sns.color_palette()"
   ]
  },
  {
   "cell_type": "code",
   "execution_count": 27,
   "id": "bfa89f36-c661-4ea0-9774-b7a4645f50ee",
   "metadata": {},
   "outputs": [],
   "source": [
    "lda = LinearDiscriminantAnalysis()\n",
    "modelLDA = lda.fit(X_train_pca[:, 0:2], y_train)"
   ]
  },
  {
   "cell_type": "code",
   "execution_count": 28,
   "id": "525796d0-aed0-42c2-85c9-fef12fb6d7af",
   "metadata": {},
   "outputs": [
    {
     "name": "stdout",
     "output_type": "stream",
     "text": [
      "[0.41796875 0.2109375  0.37109375]\n"
     ]
    }
   ],
   "source": [
    "print(modelLDA.priors_)"
   ]
  },
  {
   "cell_type": "code",
   "execution_count": 29,
   "id": "e615f105-feab-44bf-94bc-2f76b1f5b3ee",
   "metadata": {},
   "outputs": [
    {
     "data": {
      "application/javascript": [
       "\n",
       "        if (window._pyforest_update_imports_cell) { window._pyforest_update_imports_cell('import seaborn as sns\\nimport matplotlib.pyplot as plt\\nimport numpy as np'); }\n",
       "    "
      ],
      "text/plain": [
       "<IPython.core.display.Javascript object>"
      ]
     },
     "metadata": {},
     "output_type": "display_data"
    },
    {
     "name": "stdout",
     "output_type": "stream",
     "text": [
      "(array(['Adelie', 'Chinstrap', 'Gentoo'], dtype='<U9'), array([43, 15, 28], dtype=int64))\n"
     ]
    }
   ],
   "source": [
    "predLDA=modelLDA.predict(X_test_pca[:, 0:2])\n",
    "print(np.unique(predLDA, return_counts=True))"
   ]
  },
  {
   "cell_type": "code",
   "execution_count": 30,
   "id": "9d373290-29e3-4641-89ab-a7b132d2bc72",
   "metadata": {},
   "outputs": [
    {
     "name": "stdout",
     "output_type": "stream",
     "text": [
      "[[42  1  0]\n",
      " [ 2 13  0]\n",
      " [ 0  0 28]]\n",
      "              precision    recall  f1-score   support\n",
      "\n",
      "      Adelie      0.977     0.955     0.966        44\n",
      "   Chinstrap      0.867     0.929     0.897        14\n",
      "      Gentoo      1.000     1.000     1.000        28\n",
      "\n",
      "    accuracy                          0.965        86\n",
      "   macro avg      0.948     0.961     0.954        86\n",
      "weighted avg      0.966     0.965     0.966        86\n",
      "\n"
     ]
    }
   ],
   "source": [
    "print(confusion_matrix(predLDA, y_test))\n",
    "print(classification_report(y_test, predLDA, digits=3))"
   ]
  },
  {
   "cell_type": "code",
   "execution_count": 31,
   "id": "0e647bff-9709-460a-9491-bbed5ab7ec98",
   "metadata": {},
   "outputs": [],
   "source": [
    "qda = QuadraticDiscriminantAnalysis()\n",
    "modelQDA = qda.fit(X_train_pca[:, 0:2], y_train)"
   ]
  },
  {
   "cell_type": "code",
   "execution_count": 32,
   "id": "df27c3d7-78e6-43a2-ae60-0c690061d0a2",
   "metadata": {},
   "outputs": [
    {
     "name": "stdout",
     "output_type": "stream",
     "text": [
      "[0.41796875 0.2109375  0.37109375]\n"
     ]
    }
   ],
   "source": [
    "print(modelQDA.priors_)"
   ]
  },
  {
   "cell_type": "code",
   "execution_count": 33,
   "id": "9738e506-d47b-4afb-a7cf-84b086b33a0b",
   "metadata": {},
   "outputs": [
    {
     "data": {
      "application/javascript": [
       "\n",
       "        if (window._pyforest_update_imports_cell) { window._pyforest_update_imports_cell('import seaborn as sns\\nimport matplotlib.pyplot as plt\\nimport numpy as np'); }\n",
       "    "
      ],
      "text/plain": [
       "<IPython.core.display.Javascript object>"
      ]
     },
     "metadata": {},
     "output_type": "display_data"
    },
    {
     "name": "stdout",
     "output_type": "stream",
     "text": [
      "(array(['Adelie', 'Chinstrap', 'Gentoo'], dtype=object), array([43, 15, 28], dtype=int64))\n"
     ]
    }
   ],
   "source": [
    "predQDA=modelQDA.predict(X_test_pca[:, 0:2])\n",
    "print(np.unique(predQDA, return_counts=True))"
   ]
  },
  {
   "cell_type": "code",
   "execution_count": 34,
   "id": "9fc2a4b0-99e2-466d-8daa-2bb21b7b797b",
   "metadata": {},
   "outputs": [
    {
     "name": "stdout",
     "output_type": "stream",
     "text": [
      "[[42  1  0]\n",
      " [ 2 13  0]\n",
      " [ 0  0 28]]\n",
      "              precision    recall  f1-score   support\n",
      "\n",
      "      Adelie      0.977     0.955     0.966        44\n",
      "   Chinstrap      0.867     0.929     0.897        14\n",
      "      Gentoo      1.000     1.000     1.000        28\n",
      "\n",
      "    accuracy                          0.965        86\n",
      "   macro avg      0.948     0.961     0.954        86\n",
      "weighted avg      0.966     0.965     0.966        86\n",
      "\n"
     ]
    }
   ],
   "source": [
    "print(confusion_matrix(predQDA, y_test))\n",
    "print(classification_report(y_test, predQDA, digits=3))"
   ]
  },
  {
   "cell_type": "code",
   "execution_count": 35,
   "id": "dec1afb8-1b3c-44f7-8c0e-51586326e787",
   "metadata": {},
   "outputs": [],
   "source": [
    "nb = GaussianNB()\n",
    "modelNB = qda.fit(X_train_pca[:, 0:2], y_train)"
   ]
  },
  {
   "cell_type": "code",
   "execution_count": 36,
   "id": "f00f6138-3468-41b1-9508-1a8ddebae67c",
   "metadata": {},
   "outputs": [
    {
     "name": "stdout",
     "output_type": "stream",
     "text": [
      "[0.41796875 0.2109375  0.37109375]\n"
     ]
    }
   ],
   "source": [
    "print(modelNB.priors_)"
   ]
  },
  {
   "cell_type": "code",
   "execution_count": 37,
   "id": "8a92c76a-3e77-457b-9f09-0a1c51ed87aa",
   "metadata": {},
   "outputs": [
    {
     "data": {
      "application/javascript": [
       "\n",
       "        if (window._pyforest_update_imports_cell) { window._pyforest_update_imports_cell('import seaborn as sns\\nimport matplotlib.pyplot as plt\\nimport numpy as np'); }\n",
       "    "
      ],
      "text/plain": [
       "<IPython.core.display.Javascript object>"
      ]
     },
     "metadata": {},
     "output_type": "display_data"
    },
    {
     "name": "stdout",
     "output_type": "stream",
     "text": [
      "(array(['Adelie', 'Chinstrap', 'Gentoo'], dtype=object), array([43, 15, 28], dtype=int64))\n"
     ]
    }
   ],
   "source": [
    "predNB=modelNB.predict(X_test_pca[:, 0:2])\n",
    "print(np.unique(predNB, return_counts=True))"
   ]
  },
  {
   "cell_type": "code",
   "execution_count": 38,
   "id": "358bd258-5b54-46d0-a2a2-a0d1ab35a913",
   "metadata": {},
   "outputs": [
    {
     "name": "stdout",
     "output_type": "stream",
     "text": [
      "[[42  1  0]\n",
      " [ 2 13  0]\n",
      " [ 0  0 28]]\n",
      "              precision    recall  f1-score   support\n",
      "\n",
      "      Adelie      0.977     0.955     0.966        44\n",
      "   Chinstrap      0.867     0.929     0.897        14\n",
      "      Gentoo      1.000     1.000     1.000        28\n",
      "\n",
      "    accuracy                          0.965        86\n",
      "   macro avg      0.948     0.961     0.954        86\n",
      "weighted avg      0.966     0.965     0.966        86\n",
      "\n"
     ]
    }
   ],
   "source": [
    "print(confusion_matrix(predNB, y_test))\n",
    "print(classification_report(y_test, predNB, digits=3))"
   ]
  },
  {
   "cell_type": "code",
   "execution_count": 42,
   "id": "f05b4362-8e96-444a-83ba-403847fbab65",
   "metadata": {},
   "outputs": [
    {
     "data": {
      "application/javascript": [
       "\n",
       "        if (window._pyforest_update_imports_cell) { window._pyforest_update_imports_cell('import seaborn as sns\\nimport matplotlib.pyplot as plt\\nimport numpy as np'); }\n",
       "    "
      ],
      "text/plain": [
       "<IPython.core.display.Javascript object>"
      ]
     },
     "metadata": {},
     "output_type": "display_data"
    },
    {
     "data": {
      "application/javascript": [
       "\n",
       "        if (window._pyforest_update_imports_cell) { window._pyforest_update_imports_cell('import seaborn as sns\\nimport matplotlib.pyplot as plt\\nimport numpy as np'); }\n",
       "    "
      ],
      "text/plain": [
       "<IPython.core.display.Javascript object>"
      ]
     },
     "metadata": {},
     "output_type": "display_data"
    },
    {
     "data": {
      "application/javascript": [
       "\n",
       "        if (window._pyforest_update_imports_cell) { window._pyforest_update_imports_cell('import seaborn as sns\\nimport matplotlib.pyplot as plt\\nimport numpy as np'); }\n",
       "    "
      ],
      "text/plain": [
       "<IPython.core.display.Javascript object>"
      ]
     },
     "metadata": {},
     "output_type": "display_data"
    },
    {
     "data": {
      "application/javascript": [
       "\n",
       "        if (window._pyforest_update_imports_cell) { window._pyforest_update_imports_cell('import seaborn as sns\\nimport matplotlib.pyplot as plt\\nimport numpy as np'); }\n",
       "    "
      ],
      "text/plain": [
       "<IPython.core.display.Javascript object>"
      ]
     },
     "metadata": {},
     "output_type": "display_data"
    },
    {
     "data": {
      "application/javascript": [
       "\n",
       "        if (window._pyforest_update_imports_cell) { window._pyforest_update_imports_cell('import seaborn as sns\\nimport matplotlib.pyplot as plt\\nimport numpy as np'); }\n",
       "    "
      ],
      "text/plain": [
       "<IPython.core.display.Javascript object>"
      ]
     },
     "metadata": {},
     "output_type": "display_data"
    },
    {
     "data": {
      "application/javascript": [
       "\n",
       "        if (window._pyforest_update_imports_cell) { window._pyforest_update_imports_cell('import seaborn as sns\\nimport matplotlib.pyplot as plt\\nimport numpy as np'); }\n",
       "    "
      ],
      "text/plain": [
       "<IPython.core.display.Javascript object>"
      ]
     },
     "metadata": {},
     "output_type": "display_data"
    },
    {
     "data": {
      "application/javascript": [
       "\n",
       "        if (window._pyforest_update_imports_cell) { window._pyforest_update_imports_cell('import seaborn as sns\\nimport matplotlib.pyplot as plt\\nimport numpy as np'); }\n",
       "    "
      ],
      "text/plain": [
       "<IPython.core.display.Javascript object>"
      ]
     },
     "metadata": {},
     "output_type": "display_data"
    },
    {
     "data": {
      "application/javascript": [
       "\n",
       "        if (window._pyforest_update_imports_cell) { window._pyforest_update_imports_cell('import seaborn as sns\\nimport matplotlib.pyplot as plt\\nimport numpy as np'); }\n",
       "    "
      ],
      "text/plain": [
       "<IPython.core.display.Javascript object>"
      ]
     },
     "metadata": {},
     "output_type": "display_data"
    },
    {
     "data": {
      "application/javascript": [
       "\n",
       "        if (window._pyforest_update_imports_cell) { window._pyforest_update_imports_cell('import seaborn as sns\\nimport matplotlib.pyplot as plt\\nimport numpy as np'); }\n",
       "    "
      ],
      "text/plain": [
       "<IPython.core.display.Javascript object>"
      ]
     },
     "metadata": {},
     "output_type": "display_data"
    },
    {
     "data": {
      "application/javascript": [
       "\n",
       "        if (window._pyforest_update_imports_cell) { window._pyforest_update_imports_cell('import seaborn as sns\\nimport matplotlib.pyplot as plt\\nimport numpy as np'); }\n",
       "    "
      ],
      "text/plain": [
       "<IPython.core.display.Javascript object>"
      ]
     },
     "metadata": {},
     "output_type": "display_data"
    },
    {
     "data": {
      "application/javascript": [
       "\n",
       "        if (window._pyforest_update_imports_cell) { window._pyforest_update_imports_cell('import seaborn as sns\\nimport matplotlib.pyplot as plt\\nimport numpy as np'); }\n",
       "    "
      ],
      "text/plain": [
       "<IPython.core.display.Javascript object>"
      ]
     },
     "metadata": {},
     "output_type": "display_data"
    },
    {
     "data": {
      "application/javascript": [
       "\n",
       "        if (window._pyforest_update_imports_cell) { window._pyforest_update_imports_cell('import seaborn as sns\\nimport matplotlib.pyplot as plt\\nimport numpy as np'); }\n",
       "    "
      ],
      "text/plain": [
       "<IPython.core.display.Javascript object>"
      ]
     },
     "metadata": {},
     "output_type": "display_data"
    },
    {
     "data": {
      "application/javascript": [
       "\n",
       "        if (window._pyforest_update_imports_cell) { window._pyforest_update_imports_cell('import seaborn as sns\\nimport matplotlib.pyplot as plt\\nimport numpy as np'); }\n",
       "    "
      ],
      "text/plain": [
       "<IPython.core.display.Javascript object>"
      ]
     },
     "metadata": {},
     "output_type": "display_data"
    },
    {
     "data": {
      "application/javascript": [
       "\n",
       "        if (window._pyforest_update_imports_cell) { window._pyforest_update_imports_cell('import seaborn as sns\\nimport matplotlib.pyplot as plt\\nimport numpy as np'); }\n",
       "    "
      ],
      "text/plain": [
       "<IPython.core.display.Javascript object>"
      ]
     },
     "metadata": {},
     "output_type": "display_data"
    },
    {
     "data": {
      "application/javascript": [
       "\n",
       "        if (window._pyforest_update_imports_cell) { window._pyforest_update_imports_cell('import seaborn as sns\\nimport matplotlib.pyplot as plt\\nimport numpy as np'); }\n",
       "    "
      ],
      "text/plain": [
       "<IPython.core.display.Javascript object>"
      ]
     },
     "metadata": {},
     "output_type": "display_data"
    },
    {
     "data": {
      "application/javascript": [
       "\n",
       "        if (window._pyforest_update_imports_cell) { window._pyforest_update_imports_cell('import seaborn as sns\\nimport matplotlib.pyplot as plt\\nimport numpy as np'); }\n",
       "    "
      ],
      "text/plain": [
       "<IPython.core.display.Javascript object>"
      ]
     },
     "metadata": {},
     "output_type": "display_data"
    },
    {
     "data": {
      "application/javascript": [
       "\n",
       "        if (window._pyforest_update_imports_cell) { window._pyforest_update_imports_cell('import seaborn as sns\\nimport matplotlib.pyplot as plt\\nimport numpy as np'); }\n",
       "    "
      ],
      "text/plain": [
       "<IPython.core.display.Javascript object>"
      ]
     },
     "metadata": {},
     "output_type": "display_data"
    },
    {
     "data": {
      "application/javascript": [
       "\n",
       "        if (window._pyforest_update_imports_cell) { window._pyforest_update_imports_cell('import seaborn as sns\\nimport matplotlib.pyplot as plt\\nimport numpy as np'); }\n",
       "    "
      ],
      "text/plain": [
       "<IPython.core.display.Javascript object>"
      ]
     },
     "metadata": {},
     "output_type": "display_data"
    },
    {
     "data": {
      "application/javascript": [
       "\n",
       "        if (window._pyforest_update_imports_cell) { window._pyforest_update_imports_cell('import seaborn as sns\\nimport matplotlib.pyplot as plt\\nimport numpy as np'); }\n",
       "    "
      ],
      "text/plain": [
       "<IPython.core.display.Javascript object>"
      ]
     },
     "metadata": {},
     "output_type": "display_data"
    },
    {
     "data": {
      "application/javascript": [
       "\n",
       "        if (window._pyforest_update_imports_cell) { window._pyforest_update_imports_cell('import seaborn as sns\\nimport matplotlib.pyplot as plt\\nimport numpy as np'); }\n",
       "    "
      ],
      "text/plain": [
       "<IPython.core.display.Javascript object>"
      ]
     },
     "metadata": {},
     "output_type": "display_data"
    },
    {
     "data": {
      "application/javascript": [
       "\n",
       "        if (window._pyforest_update_imports_cell) { window._pyforest_update_imports_cell('import seaborn as sns\\nimport matplotlib.pyplot as plt\\nimport numpy as np'); }\n",
       "    "
      ],
      "text/plain": [
       "<IPython.core.display.Javascript object>"
      ]
     },
     "metadata": {},
     "output_type": "display_data"
    },
    {
     "data": {
      "application/javascript": [
       "\n",
       "        if (window._pyforest_update_imports_cell) { window._pyforest_update_imports_cell('import seaborn as sns\\nimport matplotlib.pyplot as plt\\nimport numpy as np'); }\n",
       "    "
      ],
      "text/plain": [
       "<IPython.core.display.Javascript object>"
      ]
     },
     "metadata": {},
     "output_type": "display_data"
    },
    {
     "data": {
      "application/javascript": [
       "\n",
       "        if (window._pyforest_update_imports_cell) { window._pyforest_update_imports_cell('import seaborn as sns\\nimport matplotlib.pyplot as plt\\nimport numpy as np'); }\n",
       "    "
      ],
      "text/plain": [
       "<IPython.core.display.Javascript object>"
      ]
     },
     "metadata": {},
     "output_type": "display_data"
    },
    {
     "data": {
      "application/javascript": [
       "\n",
       "        if (window._pyforest_update_imports_cell) { window._pyforest_update_imports_cell('import seaborn as sns\\nimport matplotlib.pyplot as plt\\nimport numpy as np'); }\n",
       "    "
      ],
      "text/plain": [
       "<IPython.core.display.Javascript object>"
      ]
     },
     "metadata": {},
     "output_type": "display_data"
    },
    {
     "data": {
      "application/javascript": [
       "\n",
       "        if (window._pyforest_update_imports_cell) { window._pyforest_update_imports_cell('import seaborn as sns\\nimport matplotlib.pyplot as plt\\nimport numpy as np'); }\n",
       "    "
      ],
      "text/plain": [
       "<IPython.core.display.Javascript object>"
      ]
     },
     "metadata": {},
     "output_type": "display_data"
    },
    {
     "data": {
      "application/javascript": [
       "\n",
       "        if (window._pyforest_update_imports_cell) { window._pyforest_update_imports_cell('import seaborn as sns\\nimport matplotlib.pyplot as plt\\nimport numpy as np'); }\n",
       "    "
      ],
      "text/plain": [
       "<IPython.core.display.Javascript object>"
      ]
     },
     "metadata": {},
     "output_type": "display_data"
    },
    {
     "data": {
      "application/javascript": [
       "\n",
       "        if (window._pyforest_update_imports_cell) { window._pyforest_update_imports_cell('import seaborn as sns\\nimport matplotlib.pyplot as plt\\nimport numpy as np'); }\n",
       "    "
      ],
      "text/plain": [
       "<IPython.core.display.Javascript object>"
      ]
     },
     "metadata": {},
     "output_type": "display_data"
    },
    {
     "data": {
      "application/javascript": [
       "\n",
       "        if (window._pyforest_update_imports_cell) { window._pyforest_update_imports_cell('import seaborn as sns\\nimport matplotlib.pyplot as plt\\nimport numpy as np'); }\n",
       "    "
      ],
      "text/plain": [
       "<IPython.core.display.Javascript object>"
      ]
     },
     "metadata": {},
     "output_type": "display_data"
    },
    {
     "data": {
      "application/javascript": [
       "\n",
       "        if (window._pyforest_update_imports_cell) { window._pyforest_update_imports_cell('import seaborn as sns\\nimport matplotlib.pyplot as plt\\nimport numpy as np'); }\n",
       "    "
      ],
      "text/plain": [
       "<IPython.core.display.Javascript object>"
      ]
     },
     "metadata": {},
     "output_type": "display_data"
    },
    {
     "data": {
      "application/javascript": [
       "\n",
       "        if (window._pyforest_update_imports_cell) { window._pyforest_update_imports_cell('import seaborn as sns\\nimport matplotlib.pyplot as plt\\nimport numpy as np'); }\n",
       "    "
      ],
      "text/plain": [
       "<IPython.core.display.Javascript object>"
      ]
     },
     "metadata": {},
     "output_type": "display_data"
    },
    {
     "data": {
      "application/javascript": [
       "\n",
       "        if (window._pyforest_update_imports_cell) { window._pyforest_update_imports_cell('import seaborn as sns\\nimport matplotlib.pyplot as plt\\nimport numpy as np'); }\n",
       "    "
      ],
      "text/plain": [
       "<IPython.core.display.Javascript object>"
      ]
     },
     "metadata": {},
     "output_type": "display_data"
    },
    {
     "data": {
      "application/javascript": [
       "\n",
       "        if (window._pyforest_update_imports_cell) { window._pyforest_update_imports_cell('import seaborn as sns\\nimport matplotlib.pyplot as plt\\nimport numpy as np'); }\n",
       "    "
      ],
      "text/plain": [
       "<IPython.core.display.Javascript object>"
      ]
     },
     "metadata": {},
     "output_type": "display_data"
    },
    {
     "data": {
      "application/javascript": [
       "\n",
       "        if (window._pyforest_update_imports_cell) { window._pyforest_update_imports_cell('import seaborn as sns\\nimport matplotlib.pyplot as plt\\nimport numpy as np'); }\n",
       "    "
      ],
      "text/plain": [
       "<IPython.core.display.Javascript object>"
      ]
     },
     "metadata": {},
     "output_type": "display_data"
    },
    {
     "data": {
      "image/png": "[encoded data removed]",
      "text/plain": [
       "<Figure size 864x432 with 1 Axes>"
      ]
     },
     "metadata": {
      "needs_background": "light"
     },
     "output_type": "display_data"
    }
   ],
   "source": [
    "colors = sns.color_palette()\n",
    "fig, ax1 = plt.subplots(1, 1, figsize=(12,6))\n",
    "sns.scatterplot(x=X_train_pca[:,0], y=X_train_pca[:,1], hue=y_train,ax=ax1)\n",
    "add_decision_boundary(modelLDA, label=\"LDA\", color=colors.pop(), region=False, \n",
    "                      resolution=1000)\n",
    "add_decision_boundary(modelQDA, label=\"QDA\", color=colors.pop(), region=False,\n",
    "                      resolution=1000)\n",
    "add_decision_boundary(modelNB, label=\"GaussianNB\", color=colors.pop(), region=False)"
   ]
  },
  {
   "cell_type": "code",
   "execution_count": null,
   "id": "036ce600-82ae-4beb-a060-5174afac7104",
   "metadata": {},
   "outputs": [],
   "source": []
  }
 ],
 "metadata": {
  "kernelspec": {
   "display_name": "venv",
   "language": "python",
   "name": "venv"
  },
  "language_info": {
   "codemirror_mode": {
    "name": "ipython",
    "version": 3
   },
   "file_extension": ".py",
   "mimetype": "text/x-python",
   "name": "python",
   "nbconvert_exporter": "python",
   "pygments_lexer": "ipython3",
   "version": "3.9.5"
  }
 },
 "nbformat": 4,
 "nbformat_minor": 5
}
