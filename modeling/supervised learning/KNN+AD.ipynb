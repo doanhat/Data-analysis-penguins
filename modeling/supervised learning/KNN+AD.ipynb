{
 "cells": [
  {
   "cell_type": "code",
   "metadata": {
    "cell_id": "00000-952bb82e-0630-4dea-9062-0fe394de4bfa",
    "deepnote_to_be_reexecuted": false,
    "source_hash": "b623e53d",
    "execution_start": 1622918278432,
    "execution_millis": 178495,
    "deepnote_cell_type": "code"
   },
   "source": "",
   "execution_count": 0,
   "outputs": []
  },
  {
   "cell_type": "code",
   "metadata": {
    "cell_id": "00001-8637e016-e480-416d-a0c4-1a06a9352e2d",
    "deepnote_to_be_reexecuted": false,
    "source_hash": "bdbe133b",
    "execution_start": 1622918278474,
    "execution_millis": 1662,
    "deepnote_cell_type": "code"
   },
   "source": "import pandas as pd\nimport numpy as np\nimport matplotlib.pyplot as plt\n# ^^^ pyforest auto-imports - don't write above this line\ndata = pd.read_csv('../../data/penguins_cleaned.csv')",
   "execution_count": null,
   "outputs": []
  },
  {
   "cell_type": "code",
   "metadata": {
    "cell_id": "00002-736e9070-b80a-4753-ad09-4fc344a983b2",
    "deepnote_to_be_reexecuted": false,
    "source_hash": "a2130383",
    "execution_start": 1622918280137,
    "execution_millis": 2287,
    "deepnote_cell_type": "code"
   },
   "source": "import sklearn\nfrom sklearn.feature_selection import SelectKBest\nfrom sklearn.feature_selection import f_classif",
   "execution_count": null,
   "outputs": []
  },
  {
   "cell_type": "code",
   "metadata": {
    "cell_id": "00003-2069deb4-238e-4756-8886-65e0874c6dac",
    "deepnote_to_be_reexecuted": false,
    "source_hash": "55e10215",
    "execution_start": 1622918282445,
    "execution_millis": 11,
    "deepnote_cell_type": "code"
   },
   "source": "from sklearn import preprocessing \nLE=preprocessing.LabelEncoder()",
   "execution_count": null,
   "outputs": []
  },
  {
   "cell_type": "code",
   "metadata": {
    "cell_id": "00004-87d83021-9412-4253-99d0-f597500042bb",
    "deepnote_to_be_reexecuted": false,
    "source_hash": "b249832e",
    "execution_start": 1622918282513,
    "execution_millis": 69,
    "deepnote_cell_type": "code"
   },
   "source": "lter_encode=data.copy()\nlter_encode['island']=LE.fit_transform(lter_encode['island'])\nlter_encode['clutch_completion']=LE.fit_transform(lter_encode['clutch_completion'])\nlter_encode['sex']=LE.fit_transform(lter_encode['sex'])\nlter_encode['date_egg']=LE.fit_transform(lter_encode['date_egg'])\nlter_encode['species_code']=LE.fit_transform(lter_encode['species'])\nlter_encode.head()",
   "execution_count": null,
   "outputs": [
    {
     "output_type": "execute_result",
     "execution_count": 4,
     "data": {
      "application/vnd.deepnote.dataframe.v2+json": {
       "row_count": 5,
       "column_count": 12,
       "columns": [
        {
         "name": "species",
         "dtype": "object",
         "stats": {
          "unique_count": 1,
          "nan_count": 0,
          "categories": [
           {
            "name": "Adelie",
            "count": 5
           }
          ]
         }
        },
        {
         "name": "island",
         "dtype": "int64",
         "stats": {
          "unique_count": 1,
          "nan_count": 0,
          "min": "2",
          "max": "2",
          "histogram": [
           {
            "bin_start": 1.5,
            "bin_end": 1.6,
            "count": 0
           },
           {
            "bin_start": 1.6,
            "bin_end": 1.7,
            "count": 0
           },
           {
            "bin_start": 1.7,
            "bin_end": 1.8,
            "count": 0
           },
           {
            "bin_start": 1.8,
            "bin_end": 1.9,
            "count": 0
           },
           {
            "bin_start": 1.9,
            "bin_end": 2,
            "count": 0
           },
           {
            "bin_start": 2,
            "bin_end": 2.1,
            "count": 5
           },
           {
            "bin_start": 2.1,
            "bin_end": 2.2,
            "count": 0
           },
           {
            "bin_start": 2.2,
            "bin_end": 2.3,
            "count": 0
           },
           {
            "bin_start": 2.3,
            "bin_end": 2.4,
            "count": 0
           },
           {
            "bin_start": 2.4,
            "bin_end": 2.5,
            "count": 0
           }
          ]
         }
        },
        {
         "name": "clutch_completion",
         "dtype": "int64",
         "stats": {
          "unique_count": 1,
          "nan_count": 0,
          "min": "1",
          "max": "1",
          "histogram": [
           {
            "bin_start": 0.5,
            "bin_end": 0.6,
            "count": 0
           },
           {
            "bin_start": 0.6,
            "bin_end": 0.7,
            "count": 0
           },
           {
            "bin_start": 0.7,
            "bin_end": 0.8,
            "count": 0
           },
           {
            "bin_start": 0.8,
            "bin_end": 0.9,
            "count": 0
           },
           {
            "bin_start": 0.9,
            "bin_end": 1,
            "count": 0
           },
           {
            "bin_start": 1,
            "bin_end": 1.1,
            "count": 5
           },
           {
            "bin_start": 1.1,
            "bin_end": 1.2000000000000002,
            "count": 0
           },
           {
            "bin_start": 1.2000000000000002,
            "bin_end": 1.3,
            "count": 0
           },
           {
            "bin_start": 1.3,
            "bin_end": 1.4,
            "count": 0
           },
           {
            "bin_start": 1.4,
            "bin_end": 1.5,
            "count": 0
           }
          ]
         }
        },
        {
         "name": "date_egg",
         "dtype": "int64",
         "stats": {
          "unique_count": 2,
          "nan_count": 0,
          "min": "2",
          "max": "6",
          "histogram": [
           {
            "bin_start": 2,
            "bin_end": 2.4,
            "count": 2
           },
           {
            "bin_start": 2.4,
            "bin_end": 2.8,
            "count": 0
           },
           {
            "bin_start": 2.8,
            "bin_end": 3.2,
            "count": 0
           },
           {
            "bin_start": 3.2,
            "bin_end": 3.6,
            "count": 0
           },
           {
            "bin_start": 3.6,
            "bin_end": 4,
            "count": 0
           },
           {
            "bin_start": 4,
            "bin_end": 4.4,
            "count": 0
           },
           {
            "bin_start": 4.4,
            "bin_end": 4.800000000000001,
            "count": 0
           },
           {
            "bin_start": 4.800000000000001,
            "bin_end": 5.2,
            "count": 0
           },
           {
            "bin_start": 5.2,
            "bin_end": 5.6,
            "count": 0
           },
           {
            "bin_start": 5.6,
            "bin_end": 6,
            "count": 3
           }
          ]
         }
        },
        {
         "name": "bill_length",
         "dtype": "float64",
         "stats": {
          "unique_count": 5,
          "nan_count": 0,
          "min": "36.7",
          "max": "40.3",
          "histogram": [
           {
            "bin_start": 36.7,
            "bin_end": 37.06,
            "count": 1
           },
           {
            "bin_start": 37.06,
            "bin_end": 37.42,
            "count": 0
           },
           {
            "bin_start": 37.42,
            "bin_end": 37.78,
            "count": 0
           },
           {
            "bin_start": 37.78,
            "bin_end": 38.14,
            "count": 0
           },
           {
            "bin_start": 38.14,
            "bin_end": 38.5,
            "count": 0
           },
           {
            "bin_start": 38.5,
            "bin_end": 38.86,
            "count": 0
           },
           {
            "bin_start": 38.86,
            "bin_end": 39.22,
            "count": 1
           },
           {
            "bin_start": 39.22,
            "bin_end": 39.58,
            "count": 2
           },
           {
            "bin_start": 39.58,
            "bin_end": 39.94,
            "count": 0
           },
           {
            "bin_start": 39.94,
            "bin_end": 40.3,
            "count": 1
           }
          ]
         }
        },
        {
         "name": "bill_depth",
         "dtype": "float64",
         "stats": {
          "unique_count": 5,
          "nan_count": 0,
          "min": "17.4",
          "max": "20.6",
          "histogram": [
           {
            "bin_start": 17.4,
            "bin_end": 17.72,
            "count": 1
           },
           {
            "bin_start": 17.72,
            "bin_end": 18.04,
            "count": 1
           },
           {
            "bin_start": 18.04,
            "bin_end": 18.36,
            "count": 0
           },
           {
            "bin_start": 18.36,
            "bin_end": 18.68,
            "count": 0
           },
           {
            "bin_start": 18.68,
            "bin_end": 19,
            "count": 1
           },
           {
            "bin_start": 19,
            "bin_end": 19.32,
            "count": 1
           },
           {
            "bin_start": 19.32,
            "bin_end": 19.64,
            "count": 0
           },
           {
            "bin_start": 19.64,
            "bin_end": 19.96,
            "count": 0
           },
           {
            "bin_start": 19.96,
            "bin_end": 20.28,
            "count": 0
           },
           {
            "bin_start": 20.28,
            "bin_end": 20.6,
            "count": 1
           }
          ]
         }
        },
        {
         "name": "flipper_length",
         "dtype": "float64",
         "stats": {
          "unique_count": 5,
          "nan_count": 0,
          "min": "181.0",
          "max": "195.0",
          "histogram": [
           {
            "bin_start": 181,
            "bin_end": 182.4,
            "count": 1
           },
           {
            "bin_start": 182.4,
            "bin_end": 183.8,
            "count": 0
           },
           {
            "bin_start": 183.8,
            "bin_end": 185.2,
            "count": 0
           },
           {
            "bin_start": 185.2,
            "bin_end": 186.6,
            "count": 1
           },
           {
            "bin_start": 186.6,
            "bin_end": 188,
            "count": 0
           },
           {
            "bin_start": 188,
            "bin_end": 189.4,
            "count": 0
           },
           {
            "bin_start": 189.4,
            "bin_end": 190.8,
            "count": 1
           },
           {
            "bin_start": 190.8,
            "bin_end": 192.2,
            "count": 0
           },
           {
            "bin_start": 192.2,
            "bin_end": 193.6,
            "count": 1
           },
           {
            "bin_start": 193.6,
            "bin_end": 195,
            "count": 1
           }
          ]
         }
        },
        {
         "name": "body_mass",
         "dtype": "float64",
         "stats": {
          "unique_count": 5,
          "nan_count": 0,
          "min": "3250.0",
          "max": "3800.0",
          "histogram": [
           {
            "bin_start": 3250,
            "bin_end": 3305,
            "count": 1
           },
           {
            "bin_start": 3305,
            "bin_end": 3360,
            "count": 0
           },
           {
            "bin_start": 3360,
            "bin_end": 3415,
            "count": 0
           },
           {
            "bin_start": 3415,
            "bin_end": 3470,
            "count": 1
           },
           {
            "bin_start": 3470,
            "bin_end": 3525,
            "count": 0
           },
           {
            "bin_start": 3525,
            "bin_end": 3580,
            "count": 0
           },
           {
            "bin_start": 3580,
            "bin_end": 3635,
            "count": 0
           },
           {
            "bin_start": 3635,
            "bin_end": 3690,
            "count": 1
           },
           {
            "bin_start": 3690,
            "bin_end": 3745,
            "count": 0
           },
           {
            "bin_start": 3745,
            "bin_end": 3800,
            "count": 2
           }
          ]
         }
        },
        {
         "name": "sex",
         "dtype": "int64",
         "stats": {
          "unique_count": 2,
          "nan_count": 0,
          "min": "0",
          "max": "1",
          "histogram": [
           {
            "bin_start": 0,
            "bin_end": 0.1,
            "count": 3
           },
           {
            "bin_start": 0.1,
            "bin_end": 0.2,
            "count": 0
           },
           {
            "bin_start": 0.2,
            "bin_end": 0.30000000000000004,
            "count": 0
           },
           {
            "bin_start": 0.30000000000000004,
            "bin_end": 0.4,
            "count": 0
           },
           {
            "bin_start": 0.4,
            "bin_end": 0.5,
            "count": 0
           },
           {
            "bin_start": 0.5,
            "bin_end": 0.6000000000000001,
            "count": 0
           },
           {
            "bin_start": 0.6000000000000001,
            "bin_end": 0.7000000000000001,
            "count": 0
           },
           {
            "bin_start": 0.7000000000000001,
            "bin_end": 0.8,
            "count": 0
           },
           {
            "bin_start": 0.8,
            "bin_end": 0.9,
            "count": 0
           },
           {
            "bin_start": 0.9,
            "bin_end": 1,
            "count": 2
           }
          ]
         }
        },
        {
         "name": "del15",
         "dtype": "float64",
         "stats": {
          "unique_count": 5,
          "nan_count": 0,
          "min": "8.36821",
          "max": "8.94956",
          "histogram": [
           {
            "bin_start": 8.36821,
            "bin_end": 8.426345,
            "count": 1
           },
           {
            "bin_start": 8.426345,
            "bin_end": 8.48448,
            "count": 0
           },
           {
            "bin_start": 8.48448,
            "bin_end": 8.542615,
            "count": 0
           },
           {
            "bin_start": 8.542615,
            "bin_end": 8.60075,
            "count": 0
           },
           {
            "bin_start": 8.60075,
            "bin_end": 8.658885,
            "count": 0
           },
           {
            "bin_start": 8.658885,
            "bin_end": 8.71702,
            "count": 1
           },
           {
            "bin_start": 8.71702,
            "bin_end": 8.775155,
            "count": 1
           },
           {
            "bin_start": 8.775155,
            "bin_end": 8.83329,
            "count": 0
           },
           {
            "bin_start": 8.83329,
            "bin_end": 8.891425,
            "count": 1
           },
           {
            "bin_start": 8.891425,
            "bin_end": 8.94956,
            "count": 1
           }
          ]
         }
        },
        {
         "name": "del13",
         "dtype": "float64",
         "stats": {
          "unique_count": 5,
          "nan_count": 0,
          "min": "-25.80419375886525",
          "max": "-24.69454",
          "histogram": [
           {
            "bin_start": -25.80419375886525,
            "bin_end": -25.693228382978724,
            "count": 1
           },
           {
            "bin_start": -25.693228382978724,
            "bin_end": -25.582263007092198,
            "count": 0
           },
           {
            "bin_start": -25.582263007092198,
            "bin_end": -25.471297631205676,
            "count": 0
           },
           {
            "bin_start": -25.471297631205676,
            "bin_end": -25.36033225531915,
            "count": 0
           },
           {
            "bin_start": -25.36033225531915,
            "bin_end": -25.249366879432625,
            "count": 3
           },
           {
            "bin_start": -25.249366879432625,
            "bin_end": -25.1384015035461,
            "count": 0
           },
           {
            "bin_start": -25.1384015035461,
            "bin_end": -25.027436127659573,
            "count": 0
           },
           {
            "bin_start": -25.027436127659573,
            "bin_end": -24.91647075177305,
            "count": 0
           },
           {
            "bin_start": -24.91647075177305,
            "bin_end": -24.805505375886526,
            "count": 0
           },
           {
            "bin_start": -24.805505375886526,
            "bin_end": -24.69454,
            "count": 1
           }
          ]
         }
        },
        {
         "name": "species_code",
         "dtype": "int64",
         "stats": {
          "unique_count": 1,
          "nan_count": 0,
          "min": "0",
          "max": "0",
          "histogram": [
           {
            "bin_start": -0.5,
            "bin_end": -0.4,
            "count": 0
           },
           {
            "bin_start": -0.4,
            "bin_end": -0.3,
            "count": 0
           },
           {
            "bin_start": -0.3,
            "bin_end": -0.19999999999999996,
            "count": 0
           },
           {
            "bin_start": -0.19999999999999996,
            "bin_end": -0.09999999999999998,
            "count": 0
           },
           {
            "bin_start": -0.09999999999999998,
            "bin_end": 0,
            "count": 0
           },
           {
            "bin_start": 0,
            "bin_end": 0.10000000000000009,
            "count": 5
           },
           {
            "bin_start": 0.10000000000000009,
            "bin_end": 0.20000000000000007,
            "count": 0
           },
           {
            "bin_start": 0.20000000000000007,
            "bin_end": 0.30000000000000004,
            "count": 0
           },
           {
            "bin_start": 0.30000000000000004,
            "bin_end": 0.4,
            "count": 0
           },
           {
            "bin_start": 0.4,
            "bin_end": 0.5,
            "count": 0
           }
          ]
         }
        },
        {
         "name": "_deepnote_index_column",
         "dtype": "int64"
        }
       ],
       "rows_top": [
        {
         "species": "Adelie",
         "island": 2,
         "clutch_completion": 1,
         "date_egg": 2,
         "bill_length": 39.1,
         "bill_depth": 18.7,
         "flipper_length": 181,
         "body_mass": 3750,
         "sex": 1,
         "del15": 8.859732765957446,
         "del13": -25.80419375886525,
         "species_code": 0,
         "_deepnote_index_column": 0
        },
        {
         "species": "Adelie",
         "island": 2,
         "clutch_completion": 1,
         "date_egg": 2,
         "bill_length": 39.5,
         "bill_depth": 17.4,
         "flipper_length": 186,
         "body_mass": 3800,
         "sex": 0,
         "del15": 8.94956,
         "del13": -24.69454,
         "species_code": 0,
         "_deepnote_index_column": 1
        },
        {
         "species": "Adelie",
         "island": 2,
         "clutch_completion": 1,
         "date_egg": 6,
         "bill_length": 40.3,
         "bill_depth": 18,
         "flipper_length": 195,
         "body_mass": 3250,
         "sex": 0,
         "del15": 8.36821,
         "del13": -25.33302,
         "species_code": 0,
         "_deepnote_index_column": 2
        },
        {
         "species": "Adelie",
         "island": 2,
         "clutch_completion": 1,
         "date_egg": 6,
         "bill_length": 36.7,
         "bill_depth": 19.3,
         "flipper_length": 193,
         "body_mass": 3450,
         "sex": 0,
         "del15": 8.76651,
         "del13": -25.32426,
         "species_code": 0,
         "_deepnote_index_column": 3
        },
        {
         "species": "Adelie",
         "island": 2,
         "clutch_completion": 1,
         "date_egg": 6,
         "bill_length": 39.3,
         "bill_depth": 20.6,
         "flipper_length": 190,
         "body_mass": 3650,
         "sex": 1,
         "del15": 8.66496,
         "del13": -25.29805,
         "species_code": 0,
         "_deepnote_index_column": 4
        }
       ],
       "rows_bottom": null
      },
      "text/plain": "  species  island  clutch_completion  date_egg  bill_length  bill_depth  \\\n0  Adelie       2                  1         2         39.1        18.7   \n1  Adelie       2                  1         2         39.5        17.4   \n2  Adelie       2                  1         6         40.3        18.0   \n3  Adelie       2                  1         6         36.7        19.3   \n4  Adelie       2                  1         6         39.3        20.6   \n\n   flipper_length  body_mass  sex     del15      del13  species_code  \n0           181.0     3750.0    1  8.859733 -25.804194             0  \n1           186.0     3800.0    0  8.949560 -24.694540             0  \n2           195.0     3250.0    0  8.368210 -25.333020             0  \n3           193.0     3450.0    0  8.766510 -25.324260             0  \n4           190.0     3650.0    1  8.664960 -25.298050             0  ",
      "text/html": "<div>\n<style scoped>\n    .dataframe tbody tr th:only-of-type {\n        vertical-align: middle;\n    }\n\n    .dataframe tbody tr th {\n        vertical-align: top;\n    }\n\n    .dataframe thead th {\n        text-align: right;\n    }\n</style>\n<table border=\"1\" class=\"dataframe\">\n  <thead>\n    <tr style=\"text-align: right;\">\n      <th></th>\n      <th>species</th>\n      <th>island</th>\n      <th>clutch_completion</th>\n      <th>date_egg</th>\n      <th>bill_length</th>\n      <th>bill_depth</th>\n      <th>flipper_length</th>\n      <th>body_mass</th>\n      <th>sex</th>\n      <th>del15</th>\n      <th>del13</th>\n      <th>species_code</th>\n    </tr>\n  </thead>\n  <tbody>\n    <tr>\n      <th>0</th>\n      <td>Adelie</td>\n      <td>2</td>\n      <td>1</td>\n      <td>2</td>\n      <td>39.1</td>\n      <td>18.7</td>\n      <td>181.0</td>\n      <td>3750.0</td>\n      <td>1</td>\n      <td>8.859733</td>\n      <td>-25.804194</td>\n      <td>0</td>\n    </tr>\n    <tr>\n      <th>1</th>\n      <td>Adelie</td>\n      <td>2</td>\n      <td>1</td>\n      <td>2</td>\n      <td>39.5</td>\n      <td>17.4</td>\n      <td>186.0</td>\n      <td>3800.0</td>\n      <td>0</td>\n      <td>8.949560</td>\n      <td>-24.694540</td>\n      <td>0</td>\n    </tr>\n    <tr>\n      <th>2</th>\n      <td>Adelie</td>\n      <td>2</td>\n      <td>1</td>\n      <td>6</td>\n      <td>40.3</td>\n      <td>18.0</td>\n      <td>195.0</td>\n      <td>3250.0</td>\n      <td>0</td>\n      <td>8.368210</td>\n      <td>-25.333020</td>\n      <td>0</td>\n    </tr>\n    <tr>\n      <th>3</th>\n      <td>Adelie</td>\n      <td>2</td>\n      <td>1</td>\n      <td>6</td>\n      <td>36.7</td>\n      <td>19.3</td>\n      <td>193.0</td>\n      <td>3450.0</td>\n      <td>0</td>\n      <td>8.766510</td>\n      <td>-25.324260</td>\n      <td>0</td>\n    </tr>\n    <tr>\n      <th>4</th>\n      <td>Adelie</td>\n      <td>2</td>\n      <td>1</td>\n      <td>6</td>\n      <td>39.3</td>\n      <td>20.6</td>\n      <td>190.0</td>\n      <td>3650.0</td>\n      <td>1</td>\n      <td>8.664960</td>\n      <td>-25.298050</td>\n      <td>0</td>\n    </tr>\n  </tbody>\n</table>\n</div>"
     },
     "metadata": {}
    }
   ]
  },
  {
   "cell_type": "markdown",
   "source": "# Sélection des variables",
   "metadata": {
    "cell_id": "00005-553eecae-ee79-41d1-a8ba-4a8dd014ec42",
    "deepnote_cell_type": "markdown"
   }
  },
  {
   "cell_type": "code",
   "metadata": {
    "cell_id": "00006-54f8d0db-91c0-4e05-888f-abfb183cdd45",
    "deepnote_to_be_reexecuted": false,
    "source_hash": "fbdb0943",
    "execution_start": 1622918282614,
    "execution_millis": 3,
    "deepnote_cell_type": "code"
   },
   "source": "bestfeatures = SelectKBest(score_func=f_classif, k='all')",
   "execution_count": null,
   "outputs": []
  },
  {
   "cell_type": "code",
   "metadata": {
    "cell_id": "00007-b96c251b-8079-4c86-8bed-f2203ef392ed",
    "deepnote_to_be_reexecuted": false,
    "source_hash": "83c22b17",
    "execution_start": 1622918282658,
    "execution_millis": 55,
    "deepnote_cell_type": "code"
   },
   "source": "X=lter_encode.drop(['species','species_code'], axis=1)\nY=lter_encode['species']\nfit = bestfeatures.fit(X,Y)\ndfscores = pd.DataFrame(fit.scores_)\ndfcolumns = pd.DataFrame(X.columns)\nfeatureScores = pd.concat([dfcolumns,dfscores],axis=1)\nfeatureScores.columns = ['Feature','Score'] \nprint(featureScores.nlargest(lter_encode.shape[1],'Score')) ",
   "execution_count": null,
   "outputs": [
    {
     "name": "stdout",
     "text": "             Feature       Score\n5     flipper_length  594.801627\n3        bill_length  410.600255\n4         bill_depth  359.789149\n6          body_mass  343.626275\n9              del13  234.897119\n8              del15  229.625963\n0             island  150.350633\n1  clutch_completion    5.554315\n2           date_egg    4.368453\n7                sex    0.283857\n",
     "output_type": "stream"
    }
   ]
  },
  {
   "cell_type": "code",
   "metadata": {
    "cell_id": "00008-5677a26c-0189-4b88-bd1c-b75e7eec7bde",
    "deepnote_to_be_reexecuted": false,
    "source_hash": "41de3e15",
    "execution_start": 1622918282708,
    "execution_millis": 0,
    "deepnote_cell_type": "code"
   },
   "source": "data = data.drop(\n    columns=[\n        'clutch_completion',\n        'date_egg',\n        'sex'\n    ]\n)",
   "execution_count": null,
   "outputs": []
  },
  {
   "cell_type": "markdown",
   "source": "# Préparation des données",
   "metadata": {
    "cell_id": "00009-3143712b-d93a-4060-a335-251bd3ac8ff6",
    "deepnote_cell_type": "markdown"
   }
  },
  {
   "cell_type": "markdown",
   "source": "## OHE",
   "metadata": {
    "cell_id": "00010-dd02dee8-c220-4309-85c6-f12a71d2a471",
    "deepnote_cell_type": "markdown"
   }
  },
  {
   "cell_type": "code",
   "metadata": {
    "cell_id": "00011-44df3517-efa9-4756-98ce-b06b0c4aa7e2",
    "deepnote_to_be_reexecuted": false,
    "source_hash": "f54827a8",
    "execution_start": 1622918282750,
    "execution_millis": 150,
    "deepnote_cell_type": "code"
   },
   "source": "data = pd.get_dummies(data,columns=['island'])\ndata",
   "execution_count": null,
   "outputs": [
    {
     "output_type": "execute_result",
     "execution_count": 8,
     "data": {
      "application/vnd.deepnote.dataframe.v2+json": {
       "row_count": 342,
       "column_count": 10,
       "columns": [
        {
         "name": "species",
         "dtype": "object",
         "stats": {
          "unique_count": 3,
          "nan_count": 0,
          "categories": [
           {
            "name": "Adelie",
            "count": 151
           },
           {
            "name": "Gentoo",
            "count": 123
           },
           {
            "name": "Chinstrap",
            "count": 68
           }
          ]
         }
        },
        {
         "name": "bill_length",
         "dtype": "float64",
         "stats": {
          "unique_count": 164,
          "nan_count": 0,
          "min": "32.1",
          "max": "59.6",
          "histogram": [
           {
            "bin_start": 32.1,
            "bin_end": 34.85,
            "count": 9
           },
           {
            "bin_start": 34.85,
            "bin_end": 37.6,
            "count": 40
           },
           {
            "bin_start": 37.6,
            "bin_end": 40.35,
            "count": 57
           },
           {
            "bin_start": 40.35,
            "bin_end": 43.1,
            "count": 48
           },
           {
            "bin_start": 43.1,
            "bin_end": 45.85,
            "count": 49
           },
           {
            "bin_start": 45.85,
            "bin_end": 48.6,
            "count": 55
           },
           {
            "bin_start": 48.6,
            "bin_end": 51.35,
            "count": 61
           },
           {
            "bin_start": 51.35,
            "bin_end": 54.1,
            "count": 16
           },
           {
            "bin_start": 54.1,
            "bin_end": 56.85,
            "count": 5
           },
           {
            "bin_start": 56.85,
            "bin_end": 59.6,
            "count": 2
           }
          ]
         }
        },
        {
         "name": "bill_depth",
         "dtype": "float64",
         "stats": {
          "unique_count": 80,
          "nan_count": 0,
          "min": "13.1",
          "max": "21.5",
          "histogram": [
           {
            "bin_start": 13.1,
            "bin_end": 13.94,
            "count": 21
           },
           {
            "bin_start": 13.94,
            "bin_end": 14.78,
            "count": 35
           },
           {
            "bin_start": 14.78,
            "bin_end": 15.620000000000001,
            "count": 32
           },
           {
            "bin_start": 15.620000000000001,
            "bin_end": 16.46,
            "count": 34
           },
           {
            "bin_start": 16.46,
            "bin_end": 17.3,
            "count": 44
           },
           {
            "bin_start": 17.3,
            "bin_end": 18.14,
            "count": 55
           },
           {
            "bin_start": 18.14,
            "bin_end": 18.98,
            "count": 56
           },
           {
            "bin_start": 18.98,
            "bin_end": 19.82,
            "count": 39
           },
           {
            "bin_start": 19.82,
            "bin_end": 20.66,
            "count": 16
           },
           {
            "bin_start": 20.66,
            "bin_end": 21.5,
            "count": 10
           }
          ]
         }
        },
        {
         "name": "flipper_length",
         "dtype": "float64",
         "stats": {
          "unique_count": 55,
          "nan_count": 0,
          "min": "172.0",
          "max": "231.0",
          "histogram": [
           {
            "bin_start": 172,
            "bin_end": 177.9,
            "count": 3
           },
           {
            "bin_start": 177.9,
            "bin_end": 183.8,
            "count": 22
           },
           {
            "bin_start": 183.8,
            "bin_end": 189.7,
            "count": 52
           },
           {
            "bin_start": 189.7,
            "bin_end": 195.6,
            "count": 79
           },
           {
            "bin_start": 195.6,
            "bin_end": 201.5,
            "count": 44
           },
           {
            "bin_start": 201.5,
            "bin_end": 207.4,
            "count": 15
           },
           {
            "bin_start": 207.4,
            "bin_end": 213.3,
            "count": 42
           },
           {
            "bin_start": 213.3,
            "bin_end": 219.2,
            "count": 42
           },
           {
            "bin_start": 219.2,
            "bin_end": 225.1,
            "count": 28
           },
           {
            "bin_start": 225.1,
            "bin_end": 231,
            "count": 15
           }
          ]
         }
        },
        {
         "name": "body_mass",
         "dtype": "float64",
         "stats": {
          "unique_count": 94,
          "nan_count": 0,
          "min": "2700.0",
          "max": "6300.0",
          "histogram": [
           {
            "bin_start": 2700,
            "bin_end": 3060,
            "count": 15
           },
           {
            "bin_start": 3060,
            "bin_end": 3420,
            "count": 43
           },
           {
            "bin_start": 3420,
            "bin_end": 3780,
            "count": 71
           },
           {
            "bin_start": 3780,
            "bin_end": 4140,
            "count": 53
           },
           {
            "bin_start": 4140,
            "bin_end": 4500,
            "count": 42
           },
           {
            "bin_start": 4500,
            "bin_end": 4860,
            "count": 41
           },
           {
            "bin_start": 4860,
            "bin_end": 5220,
            "count": 28
           },
           {
            "bin_start": 5220,
            "bin_end": 5580,
            "count": 27
           },
           {
            "bin_start": 5580,
            "bin_end": 5940,
            "count": 16
           },
           {
            "bin_start": 5940,
            "bin_end": 6300,
            "count": 6
           }
          ]
         }
        },
        {
         "name": "del15",
         "dtype": "float64",
         "stats": {
          "unique_count": 333,
          "nan_count": 0,
          "min": "7.6322",
          "max": "10.02544",
          "histogram": [
           {
            "bin_start": 7.6322,
            "bin_end": 7.871524,
            "count": 13
           },
           {
            "bin_start": 7.871524,
            "bin_end": 8.110848,
            "count": 27
           },
           {
            "bin_start": 8.110848,
            "bin_end": 8.350172,
            "count": 53
           },
           {
            "bin_start": 8.350172,
            "bin_end": 8.589496,
            "count": 56
           },
           {
            "bin_start": 8.589496,
            "bin_end": 8.82882,
            "count": 43
           },
           {
            "bin_start": 8.82882,
            "bin_end": 9.068144,
            "count": 51
           },
           {
            "bin_start": 9.068144,
            "bin_end": 9.307468,
            "count": 38
           },
           {
            "bin_start": 9.307468,
            "bin_end": 9.546792,
            "count": 34
           },
           {
            "bin_start": 9.546792,
            "bin_end": 9.786116,
            "count": 18
           },
           {
            "bin_start": 9.786116,
            "bin_end": 10.02544,
            "count": 9
           }
          ]
         }
        },
        {
         "name": "del13",
         "dtype": "float64",
         "stats": {
          "unique_count": 333,
          "nan_count": 0,
          "min": "-27.01854",
          "max": "-23.78767",
          "histogram": [
           {
            "bin_start": -27.01854,
            "bin_end": -26.695453,
            "count": 31
           },
           {
            "bin_start": -26.695453,
            "bin_end": -26.372366,
            "count": 45
           },
           {
            "bin_start": -26.372366,
            "bin_end": -26.049279000000002,
            "count": 67
           },
           {
            "bin_start": -26.049279000000002,
            "bin_end": -25.726192,
            "count": 46
           },
           {
            "bin_start": -25.726192,
            "bin_end": -25.403105,
            "count": 31
           },
           {
            "bin_start": -25.403105,
            "bin_end": -25.080018,
            "count": 36
           },
           {
            "bin_start": -25.080018,
            "bin_end": -24.756930999999998,
            "count": 22
           },
           {
            "bin_start": -24.756930999999998,
            "bin_end": -24.433844,
            "count": 39
           },
           {
            "bin_start": -24.433844,
            "bin_end": -24.110757,
            "count": 21
           },
           {
            "bin_start": -24.110757,
            "bin_end": -23.78767,
            "count": 4
           }
          ]
         }
        },
        {
         "name": "island_Biscoe",
         "dtype": "uint8",
         "stats": {
          "unique_count": 2,
          "nan_count": 0,
          "min": "0",
          "max": "1",
          "histogram": [
           {
            "bin_start": 0,
            "bin_end": 0.1,
            "count": 175
           },
           {
            "bin_start": 0.1,
            "bin_end": 0.2,
            "count": 0
           },
           {
            "bin_start": 0.2,
            "bin_end": 0.30000000000000004,
            "count": 0
           },
           {
            "bin_start": 0.30000000000000004,
            "bin_end": 0.4,
            "count": 0
           },
           {
            "bin_start": 0.4,
            "bin_end": 0.5,
            "count": 0
           },
           {
            "bin_start": 0.5,
            "bin_end": 0.6000000000000001,
            "count": 0
           },
           {
            "bin_start": 0.6000000000000001,
            "bin_end": 0.7000000000000001,
            "count": 0
           },
           {
            "bin_start": 0.7000000000000001,
            "bin_end": 0.8,
            "count": 0
           },
           {
            "bin_start": 0.8,
            "bin_end": 0.9,
            "count": 0
           },
           {
            "bin_start": 0.9,
            "bin_end": 1,
            "count": 167
           }
          ]
         }
        },
        {
         "name": "island_Dream",
         "dtype": "uint8",
         "stats": {
          "unique_count": 2,
          "nan_count": 0,
          "min": "0",
          "max": "1",
          "histogram": [
           {
            "bin_start": 0,
            "bin_end": 0.1,
            "count": 218
           },
           {
            "bin_start": 0.1,
            "bin_end": 0.2,
            "count": 0
           },
           {
            "bin_start": 0.2,
            "bin_end": 0.30000000000000004,
            "count": 0
           },
           {
            "bin_start": 0.30000000000000004,
            "bin_end": 0.4,
            "count": 0
           },
           {
            "bin_start": 0.4,
            "bin_end": 0.5,
            "count": 0
           },
           {
            "bin_start": 0.5,
            "bin_end": 0.6000000000000001,
            "count": 0
           },
           {
            "bin_start": 0.6000000000000001,
            "bin_end": 0.7000000000000001,
            "count": 0
           },
           {
            "bin_start": 0.7000000000000001,
            "bin_end": 0.8,
            "count": 0
           },
           {
            "bin_start": 0.8,
            "bin_end": 0.9,
            "count": 0
           },
           {
            "bin_start": 0.9,
            "bin_end": 1,
            "count": 124
           }
          ]
         }
        },
        {
         "name": "island_Torgersen",
         "dtype": "uint8",
         "stats": {
          "unique_count": 2,
          "nan_count": 0,
          "min": "0",
          "max": "1",
          "histogram": [
           {
            "bin_start": 0,
            "bin_end": 0.1,
            "count": 291
           },
           {
            "bin_start": 0.1,
            "bin_end": 0.2,
            "count": 0
           },
           {
            "bin_start": 0.2,
            "bin_end": 0.30000000000000004,
            "count": 0
           },
           {
            "bin_start": 0.30000000000000004,
            "bin_end": 0.4,
            "count": 0
           },
           {
            "bin_start": 0.4,
            "bin_end": 0.5,
            "count": 0
           },
           {
            "bin_start": 0.5,
            "bin_end": 0.6000000000000001,
            "count": 0
           },
           {
            "bin_start": 0.6000000000000001,
            "bin_end": 0.7000000000000001,
            "count": 0
           },
           {
            "bin_start": 0.7000000000000001,
            "bin_end": 0.8,
            "count": 0
           },
           {
            "bin_start": 0.8,
            "bin_end": 0.9,
            "count": 0
           },
           {
            "bin_start": 0.9,
            "bin_end": 1,
            "count": 51
           }
          ]
         }
        },
        {
         "name": "_deepnote_index_column",
         "dtype": "int64"
        }
       ],
       "rows_top": [
        {
         "species": "Adelie",
         "bill_length": 39.1,
         "bill_depth": 18.7,
         "flipper_length": 181,
         "body_mass": 3750,
         "del15": 8.859732765957446,
         "del13": -25.80419375886525,
         "island_Biscoe": 0,
         "island_Dream": 0,
         "island_Torgersen": 1,
         "_deepnote_index_column": 0
        },
        {
         "species": "Adelie",
         "bill_length": 39.5,
         "bill_depth": 17.4,
         "flipper_length": 186,
         "body_mass": 3800,
         "del15": 8.94956,
         "del13": -24.69454,
         "island_Biscoe": 0,
         "island_Dream": 0,
         "island_Torgersen": 1,
         "_deepnote_index_column": 1
        },
        {
         "species": "Adelie",
         "bill_length": 40.3,
         "bill_depth": 18,
         "flipper_length": 195,
         "body_mass": 3250,
         "del15": 8.36821,
         "del13": -25.33302,
         "island_Biscoe": 0,
         "island_Dream": 0,
         "island_Torgersen": 1,
         "_deepnote_index_column": 2
        },
        {
         "species": "Adelie",
         "bill_length": 36.7,
         "bill_depth": 19.3,
         "flipper_length": 193,
         "body_mass": 3450,
         "del15": 8.76651,
         "del13": -25.32426,
         "island_Biscoe": 0,
         "island_Dream": 0,
         "island_Torgersen": 1,
         "_deepnote_index_column": 3
        },
        {
         "species": "Adelie",
         "bill_length": 39.3,
         "bill_depth": 20.6,
         "flipper_length": 190,
         "body_mass": 3650,
         "del15": 8.66496,
         "del13": -25.29805,
         "island_Biscoe": 0,
         "island_Dream": 0,
         "island_Torgersen": 1,
         "_deepnote_index_column": 4
        },
        {
         "species": "Adelie",
         "bill_length": 38.9,
         "bill_depth": 17.8,
         "flipper_length": 181,
         "body_mass": 3625,
         "del15": 9.18718,
         "del13": -25.21799,
         "island_Biscoe": 0,
         "island_Dream": 0,
         "island_Torgersen": 1,
         "_deepnote_index_column": 5
        },
        {
         "species": "Adelie",
         "bill_length": 39.2,
         "bill_depth": 19.6,
         "flipper_length": 195,
         "body_mass": 4675,
         "del15": 9.4606,
         "del13": -24.89958,
         "island_Biscoe": 0,
         "island_Dream": 0,
         "island_Torgersen": 1,
         "_deepnote_index_column": 6
        },
        {
         "species": "Adelie",
         "bill_length": 34.1,
         "bill_depth": 18.1,
         "flipper_length": 193,
         "body_mass": 3475,
         "del15": 8.859732765957446,
         "del13": -25.80419375886525,
         "island_Biscoe": 0,
         "island_Dream": 0,
         "island_Torgersen": 1,
         "_deepnote_index_column": 7
        },
        {
         "species": "Adelie",
         "bill_length": 42,
         "bill_depth": 20.2,
         "flipper_length": 190,
         "body_mass": 4250,
         "del15": 9.13362,
         "del13": -25.09368,
         "island_Biscoe": 0,
         "island_Dream": 0,
         "island_Torgersen": 1,
         "_deepnote_index_column": 8
        },
        {
         "species": "Adelie",
         "bill_length": 37.8,
         "bill_depth": 17.1,
         "flipper_length": 186,
         "body_mass": 3300,
         "del15": 8.63243,
         "del13": -25.21315,
         "island_Biscoe": 0,
         "island_Dream": 0,
         "island_Torgersen": 1,
         "_deepnote_index_column": 9
        },
        {
         "species": "Adelie",
         "bill_length": 37.8,
         "bill_depth": 17.3,
         "flipper_length": 180,
         "body_mass": 3700,
         "del15": 8.859732765957446,
         "del13": -25.80419375886525,
         "island_Biscoe": 0,
         "island_Dream": 0,
         "island_Torgersen": 1,
         "_deepnote_index_column": 10
        },
        {
         "species": "Adelie",
         "bill_length": 41.1,
         "bill_depth": 17.6,
         "flipper_length": 182,
         "body_mass": 3200,
         "del15": 8.859732765957446,
         "del13": -25.80419375886525,
         "island_Biscoe": 0,
         "island_Dream": 0,
         "island_Torgersen": 1,
         "_deepnote_index_column": 11
        },
        {
         "species": "Adelie",
         "bill_length": 38.6,
         "bill_depth": 21.2,
         "flipper_length": 191,
         "body_mass": 3800,
         "del15": 8.859732765957446,
         "del13": -25.80419375886525,
         "island_Biscoe": 0,
         "island_Dream": 0,
         "island_Torgersen": 1,
         "_deepnote_index_column": 12
        },
        {
         "species": "Adelie",
         "bill_length": 34.6,
         "bill_depth": 21.1,
         "flipper_length": 198,
         "body_mass": 4400,
         "del15": 8.55583,
         "del13": -25.22588,
         "island_Biscoe": 0,
         "island_Dream": 0,
         "island_Torgersen": 1,
         "_deepnote_index_column": 13
        },
        {
         "species": "Adelie",
         "bill_length": 36.6,
         "bill_depth": 17.8,
         "flipper_length": 185,
         "body_mass": 3700,
         "del15": 8.859732765957446,
         "del13": -25.80419375886525,
         "island_Biscoe": 0,
         "island_Dream": 0,
         "island_Torgersen": 1,
         "_deepnote_index_column": 14
        },
        {
         "species": "Adelie",
         "bill_length": 38.7,
         "bill_depth": 19,
         "flipper_length": 195,
         "body_mass": 3450,
         "del15": 9.18528,
         "del13": -25.06691,
         "island_Biscoe": 0,
         "island_Dream": 0,
         "island_Torgersen": 1,
         "_deepnote_index_column": 15
        },
        {
         "species": "Adelie",
         "bill_length": 42.5,
         "bill_depth": 20.7,
         "flipper_length": 197,
         "body_mass": 4500,
         "del15": 8.67538,
         "del13": -25.13993,
         "island_Biscoe": 0,
         "island_Dream": 0,
         "island_Torgersen": 1,
         "_deepnote_index_column": 16
        },
        {
         "species": "Adelie",
         "bill_length": 34.4,
         "bill_depth": 18.4,
         "flipper_length": 184,
         "body_mass": 3325,
         "del15": 8.47827,
         "del13": -25.23319,
         "island_Biscoe": 0,
         "island_Dream": 0,
         "island_Torgersen": 1,
         "_deepnote_index_column": 17
        },
        {
         "species": "Adelie",
         "bill_length": 46,
         "bill_depth": 21.5,
         "flipper_length": 194,
         "body_mass": 4200,
         "del15": 9.11616,
         "del13": -24.77227,
         "island_Biscoe": 0,
         "island_Dream": 0,
         "island_Torgersen": 1,
         "_deepnote_index_column": 18
        },
        {
         "species": "Adelie",
         "bill_length": 37.8,
         "bill_depth": 18.3,
         "flipper_length": 174,
         "body_mass": 3400,
         "del15": 8.73762,
         "del13": -25.09383,
         "island_Biscoe": 1,
         "island_Dream": 0,
         "island_Torgersen": 0,
         "_deepnote_index_column": 19
        },
        {
         "species": "Adelie",
         "bill_length": 37.7,
         "bill_depth": 18.7,
         "flipper_length": 180,
         "body_mass": 3600,
         "del15": 8.66271,
         "del13": -25.0639,
         "island_Biscoe": 1,
         "island_Dream": 0,
         "island_Torgersen": 0,
         "_deepnote_index_column": 20
        },
        {
         "species": "Adelie",
         "bill_length": 35.9,
         "bill_depth": 19.2,
         "flipper_length": 189,
         "body_mass": 3800,
         "del15": 9.22286,
         "del13": -25.03474,
         "island_Biscoe": 1,
         "island_Dream": 0,
         "island_Torgersen": 0,
         "_deepnote_index_column": 21
        },
        {
         "species": "Adelie",
         "bill_length": 38.2,
         "bill_depth": 18.1,
         "flipper_length": 185,
         "body_mass": 3950,
         "del15": 8.43423,
         "del13": -25.22664,
         "island_Biscoe": 1,
         "island_Dream": 0,
         "island_Torgersen": 0,
         "_deepnote_index_column": 22
        },
        {
         "species": "Adelie",
         "bill_length": 38.8,
         "bill_depth": 17.2,
         "flipper_length": 180,
         "body_mass": 3800,
         "del15": 9.63954,
         "del13": -25.29856,
         "island_Biscoe": 1,
         "island_Dream": 0,
         "island_Torgersen": 0,
         "_deepnote_index_column": 23
        },
        {
         "species": "Adelie",
         "bill_length": 35.3,
         "bill_depth": 18.9,
         "flipper_length": 187,
         "body_mass": 3800,
         "del15": 9.21292,
         "del13": -24.3613,
         "island_Biscoe": 1,
         "island_Dream": 0,
         "island_Torgersen": 0,
         "_deepnote_index_column": 24
        },
        {
         "species": "Adelie",
         "bill_length": 40.6,
         "bill_depth": 18.6,
         "flipper_length": 183,
         "body_mass": 3550,
         "del15": 8.93997,
         "del13": -25.36288,
         "island_Biscoe": 1,
         "island_Dream": 0,
         "island_Torgersen": 0,
         "_deepnote_index_column": 25
        },
        {
         "species": "Adelie",
         "bill_length": 40.5,
         "bill_depth": 17.9,
         "flipper_length": 187,
         "body_mass": 3200,
         "del15": 8.08138,
         "del13": -25.49448,
         "island_Biscoe": 1,
         "island_Dream": 0,
         "island_Torgersen": 0,
         "_deepnote_index_column": 26
        },
        {
         "species": "Adelie",
         "bill_length": 37.9,
         "bill_depth": 18.6,
         "flipper_length": 172,
         "body_mass": 3150,
         "del15": 8.38404,
         "del13": -25.19837,
         "island_Biscoe": 1,
         "island_Dream": 0,
         "island_Torgersen": 0,
         "_deepnote_index_column": 27
        },
        {
         "species": "Adelie",
         "bill_length": 40.5,
         "bill_depth": 18.9,
         "flipper_length": 180,
         "body_mass": 3950,
         "del15": 8.90027,
         "del13": -25.11609,
         "island_Biscoe": 1,
         "island_Dream": 0,
         "island_Torgersen": 0,
         "_deepnote_index_column": 28
        },
        {
         "species": "Adelie",
         "bill_length": 39.5,
         "bill_depth": 16.7,
         "flipper_length": 178,
         "body_mass": 3250,
         "del15": 9.69756,
         "del13": -25.11223,
         "island_Biscoe": 0,
         "island_Dream": 1,
         "island_Torgersen": 0,
         "_deepnote_index_column": 29
        },
        {
         "species": "Adelie",
         "bill_length": 37.2,
         "bill_depth": 18.1,
         "flipper_length": 178,
         "body_mass": 3900,
         "del15": 9.72764,
         "del13": -25.0102,
         "island_Biscoe": 0,
         "island_Dream": 1,
         "island_Torgersen": 0,
         "_deepnote_index_column": 30
        },
        {
         "species": "Adelie",
         "bill_length": 39.5,
         "bill_depth": 17.8,
         "flipper_length": 188,
         "body_mass": 3300,
         "del15": 9.66523,
         "del13": -25.0602,
         "island_Biscoe": 0,
         "island_Dream": 1,
         "island_Torgersen": 0,
         "_deepnote_index_column": 31
        },
        {
         "species": "Adelie",
         "bill_length": 40.9,
         "bill_depth": 18.9,
         "flipper_length": 184,
         "body_mass": 3900,
         "del15": 8.79665,
         "del13": -25.14591,
         "island_Biscoe": 0,
         "island_Dream": 1,
         "island_Torgersen": 0,
         "_deepnote_index_column": 32
        },
        {
         "species": "Adelie",
         "bill_length": 36.4,
         "bill_depth": 17,
         "flipper_length": 195,
         "body_mass": 3325,
         "del15": 9.17847,
         "del13": -25.23061,
         "island_Biscoe": 0,
         "island_Dream": 1,
         "island_Torgersen": 0,
         "_deepnote_index_column": 33
        },
        {
         "species": "Adelie",
         "bill_length": 39.2,
         "bill_depth": 21.1,
         "flipper_length": 196,
         "body_mass": 4150,
         "del15": 9.15308,
         "del13": -25.03469,
         "island_Biscoe": 0,
         "island_Dream": 1,
         "island_Torgersen": 0,
         "_deepnote_index_column": 34
        },
        {
         "species": "Adelie",
         "bill_length": 38.8,
         "bill_depth": 20,
         "flipper_length": 190,
         "body_mass": 3950,
         "del15": 9.18985,
         "del13": -25.12255,
         "island_Biscoe": 0,
         "island_Dream": 1,
         "island_Torgersen": 0,
         "_deepnote_index_column": 35
        },
        {
         "species": "Adelie",
         "bill_length": 42.2,
         "bill_depth": 18.5,
         "flipper_length": 180,
         "body_mass": 3550,
         "del15": 8.04787,
         "del13": -25.49523,
         "island_Biscoe": 0,
         "island_Dream": 1,
         "island_Torgersen": 0,
         "_deepnote_index_column": 36
        },
        {
         "species": "Adelie",
         "bill_length": 37.6,
         "bill_depth": 19.3,
         "flipper_length": 181,
         "body_mass": 3300,
         "del15": 9.41131,
         "del13": -25.04169,
         "island_Biscoe": 0,
         "island_Dream": 1,
         "island_Torgersen": 0,
         "_deepnote_index_column": 37
        },
        {
         "species": "Adelie",
         "bill_length": 39.8,
         "bill_depth": 19.1,
         "flipper_length": 184,
         "body_mass": 4650,
         "del15": 8.859732765957446,
         "del13": -25.80419375886525,
         "island_Biscoe": 0,
         "island_Dream": 1,
         "island_Torgersen": 0,
         "_deepnote_index_column": 38
        },
        {
         "species": "Adelie",
         "bill_length": 36.5,
         "bill_depth": 18,
         "flipper_length": 182,
         "body_mass": 3150,
         "del15": 9.68933,
         "del13": -24.4228,
         "island_Biscoe": 0,
         "island_Dream": 1,
         "island_Torgersen": 0,
         "_deepnote_index_column": 39
        },
        {
         "species": "Adelie",
         "bill_length": 40.8,
         "bill_depth": 18.4,
         "flipper_length": 195,
         "body_mass": 3900,
         "del15": 8.859732765957446,
         "del13": -25.80419375886525,
         "island_Biscoe": 0,
         "island_Dream": 1,
         "island_Torgersen": 0,
         "_deepnote_index_column": 40
        },
        {
         "species": "Adelie",
         "bill_length": 36,
         "bill_depth": 18.5,
         "flipper_length": 186,
         "body_mass": 3100,
         "del15": 9.50772,
         "del13": -25.03492,
         "island_Biscoe": 0,
         "island_Dream": 1,
         "island_Torgersen": 0,
         "_deepnote_index_column": 41
        },
        {
         "species": "Adelie",
         "bill_length": 44.1,
         "bill_depth": 19.7,
         "flipper_length": 196,
         "body_mass": 4400,
         "del15": 9.2372,
         "del13": -24.52698,
         "island_Biscoe": 0,
         "island_Dream": 1,
         "island_Torgersen": 0,
         "_deepnote_index_column": 42
        },
        {
         "species": "Adelie",
         "bill_length": 37,
         "bill_depth": 16.9,
         "flipper_length": 185,
         "body_mass": 3000,
         "del15": 9.36392,
         "del13": -25.01745,
         "island_Biscoe": 0,
         "island_Dream": 1,
         "island_Torgersen": 0,
         "_deepnote_index_column": 43
        },
        {
         "species": "Adelie",
         "bill_length": 39.6,
         "bill_depth": 18.8,
         "flipper_length": 190,
         "body_mass": 4600,
         "del15": 9.49106,
         "del13": -24.10255,
         "island_Biscoe": 0,
         "island_Dream": 1,
         "island_Torgersen": 0,
         "_deepnote_index_column": 44
        },
        {
         "species": "Adelie",
         "bill_length": 41.1,
         "bill_depth": 19,
         "flipper_length": 182,
         "body_mass": 3425,
         "del15": 8.859732765957446,
         "del13": -25.80419375886525,
         "island_Biscoe": 0,
         "island_Dream": 1,
         "island_Torgersen": 0,
         "_deepnote_index_column": 45
        },
        {
         "species": "Adelie",
         "bill_length": 37.5,
         "bill_depth": 18.9,
         "flipper_length": 179,
         "body_mass": 2975,
         "del15": 8.859732765957446,
         "del13": -25.80419375886525,
         "island_Biscoe": 0,
         "island_Dream": 1,
         "island_Torgersen": 0,
         "_deepnote_index_column": 46
        },
        {
         "species": "Adelie",
         "bill_length": 36,
         "bill_depth": 17.9,
         "flipper_length": 190,
         "body_mass": 3450,
         "del15": 9.51784,
         "del13": -25.07683,
         "island_Biscoe": 0,
         "island_Dream": 1,
         "island_Torgersen": 0,
         "_deepnote_index_column": 47
        },
        {
         "species": "Adelie",
         "bill_length": 42.3,
         "bill_depth": 21.2,
         "flipper_length": 191,
         "body_mass": 4150,
         "del15": 8.87988,
         "del13": -25.18543,
         "island_Biscoe": 0,
         "island_Dream": 1,
         "island_Torgersen": 0,
         "_deepnote_index_column": 48
        },
        {
         "species": "Adelie",
         "bill_length": 39.6,
         "bill_depth": 17.7,
         "flipper_length": 186,
         "body_mass": 3500,
         "del15": 8.46616,
         "del13": -26.12989,
         "island_Biscoe": 1,
         "island_Dream": 0,
         "island_Torgersen": 0,
         "_deepnote_index_column": 49
        }
       ],
       "rows_bottom": [
        {
         "species": "Chinstrap",
         "bill_length": 46.4,
         "bill_depth": 18.6,
         "flipper_length": 190,
         "body_mass": 3450,
         "del15": 9.32105,
         "del13": -24.64162,
         "island_Biscoe": 0,
         "island_Dream": 1,
         "island_Torgersen": 0,
         "_deepnote_index_column": 292
        },
        {
         "species": "Chinstrap",
         "bill_length": 49.2,
         "bill_depth": 18.2,
         "flipper_length": 195,
         "body_mass": 4400,
         "del15": 9.27158,
         "del13": -24.64335,
         "island_Biscoe": 0,
         "island_Dream": 1,
         "island_Torgersen": 0,
         "_deepnote_index_column": 293
        },
        {
         "species": "Chinstrap",
         "bill_length": 42.4,
         "bill_depth": 17.3,
         "flipper_length": 181,
         "body_mass": 3600,
         "del15": 9.35138,
         "del13": -24.6879,
         "island_Biscoe": 0,
         "island_Dream": 1,
         "island_Torgersen": 0,
         "_deepnote_index_column": 294
        },
        {
         "species": "Chinstrap",
         "bill_length": 48.5,
         "bill_depth": 17.5,
         "flipper_length": 191,
         "body_mass": 3400,
         "del15": 9.42666,
         "del13": -24.26375,
         "island_Biscoe": 0,
         "island_Dream": 1,
         "island_Torgersen": 0,
         "_deepnote_index_column": 295
        },
        {
         "species": "Chinstrap",
         "bill_length": 43.2,
         "bill_depth": 16.6,
         "flipper_length": 187,
         "body_mass": 2900,
         "del15": 9.35416,
         "del13": -25.01185,
         "island_Biscoe": 0,
         "island_Dream": 1,
         "island_Torgersen": 0,
         "_deepnote_index_column": 296
        },
        {
         "species": "Chinstrap",
         "bill_length": 50.6,
         "bill_depth": 19.4,
         "flipper_length": 193,
         "body_mass": 3800,
         "del15": 9.28153,
         "del13": -24.97134,
         "island_Biscoe": 0,
         "island_Dream": 1,
         "island_Torgersen": 0,
         "_deepnote_index_column": 297
        },
        {
         "species": "Chinstrap",
         "bill_length": 46.7,
         "bill_depth": 17.9,
         "flipper_length": 195,
         "body_mass": 3300,
         "del15": 9.74144,
         "del13": -24.59467,
         "island_Biscoe": 0,
         "island_Dream": 1,
         "island_Torgersen": 0,
         "_deepnote_index_column": 298
        },
        {
         "species": "Chinstrap",
         "bill_length": 52,
         "bill_depth": 19,
         "flipper_length": 197,
         "body_mass": 4150,
         "del15": 9.36799,
         "del13": -24.47142,
         "island_Biscoe": 0,
         "island_Dream": 1,
         "island_Torgersen": 0,
         "_deepnote_index_column": 299
        },
        {
         "species": "Chinstrap",
         "bill_length": 50.5,
         "bill_depth": 18.4,
         "flipper_length": 200,
         "body_mass": 3400,
         "del15": 8.9399,
         "del13": -23.89017,
         "island_Biscoe": 0,
         "island_Dream": 1,
         "island_Torgersen": 0,
         "_deepnote_index_column": 300
        },
        {
         "species": "Chinstrap",
         "bill_length": 49.5,
         "bill_depth": 19,
         "flipper_length": 200,
         "body_mass": 3800,
         "del15": 9.63074,
         "del13": -24.34684,
         "island_Biscoe": 0,
         "island_Dream": 1,
         "island_Torgersen": 0,
         "_deepnote_index_column": 301
        },
        {
         "species": "Chinstrap",
         "bill_length": 46.4,
         "bill_depth": 17.8,
         "flipper_length": 191,
         "body_mass": 3700,
         "del15": 9.37369,
         "del13": -24.52896,
         "island_Biscoe": 0,
         "island_Dream": 1,
         "island_Torgersen": 0,
         "_deepnote_index_column": 302
        },
        {
         "species": "Chinstrap",
         "bill_length": 52.8,
         "bill_depth": 20,
         "flipper_length": 205,
         "body_mass": 4550,
         "del15": 9.25177,
         "del13": -24.69638,
         "island_Biscoe": 0,
         "island_Dream": 1,
         "island_Torgersen": 0,
         "_deepnote_index_column": 303
        },
        {
         "species": "Chinstrap",
         "bill_length": 40.9,
         "bill_depth": 16.6,
         "flipper_length": 187,
         "body_mass": 3200,
         "del15": 9.08458,
         "del13": -24.54903,
         "island_Biscoe": 0,
         "island_Dream": 1,
         "island_Torgersen": 0,
         "_deepnote_index_column": 304
        },
        {
         "species": "Chinstrap",
         "bill_length": 54.2,
         "bill_depth": 20.8,
         "flipper_length": 201,
         "body_mass": 4300,
         "del15": 9.49283,
         "del13": -24.59996,
         "island_Biscoe": 0,
         "island_Dream": 1,
         "island_Torgersen": 0,
         "_deepnote_index_column": 305
        },
        {
         "species": "Chinstrap",
         "bill_length": 42.5,
         "bill_depth": 16.7,
         "flipper_length": 187,
         "body_mass": 3350,
         "del15": 9.36668,
         "del13": -24.45195,
         "island_Biscoe": 0,
         "island_Dream": 1,
         "island_Torgersen": 0,
         "_deepnote_index_column": 306
        },
        {
         "species": "Chinstrap",
         "bill_length": 51,
         "bill_depth": 18.8,
         "flipper_length": 203,
         "body_mass": 4100,
         "del15": 9.23196,
         "del13": -24.17282,
         "island_Biscoe": 0,
         "island_Dream": 1,
         "island_Torgersen": 0,
         "_deepnote_index_column": 307
        },
        {
         "species": "Chinstrap",
         "bill_length": 49.7,
         "bill_depth": 18.6,
         "flipper_length": 195,
         "body_mass": 3600,
         "del15": 9.75486,
         "del13": -24.31198,
         "island_Biscoe": 0,
         "island_Dream": 1,
         "island_Torgersen": 0,
         "_deepnote_index_column": 308
        },
        {
         "species": "Chinstrap",
         "bill_length": 47.5,
         "bill_depth": 16.8,
         "flipper_length": 199,
         "body_mass": 3900,
         "del15": 9.07825,
         "del13": -25.1455,
         "island_Biscoe": 0,
         "island_Dream": 1,
         "island_Torgersen": 0,
         "_deepnote_index_column": 309
        },
        {
         "species": "Chinstrap",
         "bill_length": 47.6,
         "bill_depth": 18.3,
         "flipper_length": 195,
         "body_mass": 3850,
         "del15": 8.83502,
         "del13": -24.65859,
         "island_Biscoe": 0,
         "island_Dream": 1,
         "island_Torgersen": 0,
         "_deepnote_index_column": 310
        },
        {
         "species": "Chinstrap",
         "bill_length": 52,
         "bill_depth": 20.7,
         "flipper_length": 210,
         "body_mass": 4800,
         "del15": 9.43146,
         "del13": -24.6844,
         "island_Biscoe": 0,
         "island_Dream": 1,
         "island_Torgersen": 0,
         "_deepnote_index_column": 311
        },
        {
         "species": "Chinstrap",
         "bill_length": 46.9,
         "bill_depth": 16.6,
         "flipper_length": 192,
         "body_mass": 2700,
         "del15": 9.80589,
         "del13": -24.73735,
         "island_Biscoe": 0,
         "island_Dream": 1,
         "island_Torgersen": 0,
         "_deepnote_index_column": 312
        },
        {
         "species": "Chinstrap",
         "bill_length": 53.5,
         "bill_depth": 19.9,
         "flipper_length": 205,
         "body_mass": 4500,
         "del15": 10.02544,
         "del13": -24.90816,
         "island_Biscoe": 0,
         "island_Dream": 1,
         "island_Torgersen": 0,
         "_deepnote_index_column": 313
        },
        {
         "species": "Chinstrap",
         "bill_length": 49,
         "bill_depth": 19.5,
         "flipper_length": 210,
         "body_mass": 3950,
         "del15": 9.53262,
         "del13": -24.66867,
         "island_Biscoe": 0,
         "island_Dream": 1,
         "island_Torgersen": 0,
         "_deepnote_index_column": 314
        },
        {
         "species": "Chinstrap",
         "bill_length": 46.2,
         "bill_depth": 17.5,
         "flipper_length": 187,
         "body_mass": 3650,
         "del15": 9.61734,
         "del13": -24.66188,
         "island_Biscoe": 0,
         "island_Dream": 1,
         "island_Torgersen": 0,
         "_deepnote_index_column": 315
        },
        {
         "species": "Chinstrap",
         "bill_length": 50.9,
         "bill_depth": 19.1,
         "flipper_length": 196,
         "body_mass": 3550,
         "del15": 10.02372,
         "del13": -24.86594,
         "island_Biscoe": 0,
         "island_Dream": 1,
         "island_Torgersen": 0,
         "_deepnote_index_column": 316
        },
        {
         "species": "Chinstrap",
         "bill_length": 45.5,
         "bill_depth": 17,
         "flipper_length": 196,
         "body_mass": 3500,
         "del15": 9.36493,
         "del13": -24.66259,
         "island_Biscoe": 0,
         "island_Dream": 1,
         "island_Torgersen": 0,
         "_deepnote_index_column": 317
        },
        {
         "species": "Chinstrap",
         "bill_length": 50.9,
         "bill_depth": 17.9,
         "flipper_length": 196,
         "body_mass": 3675,
         "del15": 9.43684,
         "del13": -24.16566,
         "island_Biscoe": 0,
         "island_Dream": 1,
         "island_Torgersen": 0,
         "_deepnote_index_column": 318
        },
        {
         "species": "Chinstrap",
         "bill_length": 50.8,
         "bill_depth": 18.5,
         "flipper_length": 201,
         "body_mass": 4450,
         "del15": 9.45827,
         "del13": -24.35575,
         "island_Biscoe": 0,
         "island_Dream": 1,
         "island_Torgersen": 0,
         "_deepnote_index_column": 319
        },
        {
         "species": "Chinstrap",
         "bill_length": 50.1,
         "bill_depth": 17.9,
         "flipper_length": 190,
         "body_mass": 3400,
         "del15": 9.46819,
         "del13": -24.45721,
         "island_Biscoe": 0,
         "island_Dream": 1,
         "island_Torgersen": 0,
         "_deepnote_index_column": 320
        },
        {
         "species": "Chinstrap",
         "bill_length": 49,
         "bill_depth": 19.6,
         "flipper_length": 212,
         "body_mass": 4300,
         "del15": 9.34089,
         "del13": -24.45189,
         "island_Biscoe": 0,
         "island_Dream": 1,
         "island_Torgersen": 0,
         "_deepnote_index_column": 321
        },
        {
         "species": "Chinstrap",
         "bill_length": 51.5,
         "bill_depth": 18.7,
         "flipper_length": 187,
         "body_mass": 3250,
         "del15": 9.6895,
         "del13": -24.43062,
         "island_Biscoe": 0,
         "island_Dream": 1,
         "island_Torgersen": 0,
         "_deepnote_index_column": 322
        },
        {
         "species": "Chinstrap",
         "bill_length": 49.8,
         "bill_depth": 17.3,
         "flipper_length": 198,
         "body_mass": 3675,
         "del15": 9.32169,
         "del13": -24.41562,
         "island_Biscoe": 0,
         "island_Dream": 1,
         "island_Torgersen": 0,
         "_deepnote_index_column": 323
        },
        {
         "species": "Chinstrap",
         "bill_length": 48.1,
         "bill_depth": 16.4,
         "flipper_length": 199,
         "body_mass": 3325,
         "del15": 9.46929,
         "del13": -24.48403,
         "island_Biscoe": 0,
         "island_Dream": 1,
         "island_Torgersen": 0,
         "_deepnote_index_column": 324
        },
        {
         "species": "Chinstrap",
         "bill_length": 51.4,
         "bill_depth": 19,
         "flipper_length": 201,
         "body_mass": 3950,
         "del15": 9.43782,
         "del13": -24.36202,
         "island_Biscoe": 0,
         "island_Dream": 1,
         "island_Torgersen": 0,
         "_deepnote_index_column": 325
        },
        {
         "species": "Chinstrap",
         "bill_length": 45.7,
         "bill_depth": 17.3,
         "flipper_length": 193,
         "body_mass": 3600,
         "del15": 9.415,
         "del13": -24.805,
         "island_Biscoe": 0,
         "island_Dream": 1,
         "island_Torgersen": 0,
         "_deepnote_index_column": 326
        },
        {
         "species": "Chinstrap",
         "bill_length": 50.7,
         "bill_depth": 19.7,
         "flipper_length": 203,
         "body_mass": 4050,
         "del15": 9.93727,
         "del13": -24.59066,
         "island_Biscoe": 0,
         "island_Dream": 1,
         "island_Torgersen": 0,
         "_deepnote_index_column": 327
        },
        {
         "species": "Chinstrap",
         "bill_length": 42.5,
         "bill_depth": 17.3,
         "flipper_length": 187,
         "body_mass": 3350,
         "del15": 9.56534,
         "del13": -24.60882,
         "island_Biscoe": 0,
         "island_Dream": 1,
         "island_Torgersen": 0,
         "_deepnote_index_column": 328
        },
        {
         "species": "Chinstrap",
         "bill_length": 52.2,
         "bill_depth": 18.8,
         "flipper_length": 197,
         "body_mass": 3450,
         "del15": 9.77528,
         "del13": -24.56481,
         "island_Biscoe": 0,
         "island_Dream": 1,
         "island_Torgersen": 0,
         "_deepnote_index_column": 329
        },
        {
         "species": "Chinstrap",
         "bill_length": 45.2,
         "bill_depth": 16.6,
         "flipper_length": 191,
         "body_mass": 3250,
         "del15": 9.62357,
         "del13": -24.78984,
         "island_Biscoe": 0,
         "island_Dream": 1,
         "island_Torgersen": 0,
         "_deepnote_index_column": 330
        },
        {
         "species": "Chinstrap",
         "bill_length": 49.3,
         "bill_depth": 19.9,
         "flipper_length": 203,
         "body_mass": 4050,
         "del15": 9.88809,
         "del13": -24.59513,
         "island_Biscoe": 0,
         "island_Dream": 1,
         "island_Torgersen": 0,
         "_deepnote_index_column": 331
        },
        {
         "species": "Chinstrap",
         "bill_length": 50.2,
         "bill_depth": 18.8,
         "flipper_length": 202,
         "body_mass": 3800,
         "del15": 9.74492,
         "del13": -24.404,
         "island_Biscoe": 0,
         "island_Dream": 1,
         "island_Torgersen": 0,
         "_deepnote_index_column": 332
        },
        {
         "species": "Chinstrap",
         "bill_length": 45.6,
         "bill_depth": 19.4,
         "flipper_length": 194,
         "body_mass": 3525,
         "del15": 9.46985,
         "del13": -24.65786,
         "island_Biscoe": 0,
         "island_Dream": 1,
         "island_Torgersen": 0,
         "_deepnote_index_column": 333
        },
        {
         "species": "Chinstrap",
         "bill_length": 51.9,
         "bill_depth": 19.5,
         "flipper_length": 206,
         "body_mass": 3950,
         "del15": 9.356154776119403,
         "del13": -23.78767,
         "island_Biscoe": 0,
         "island_Dream": 1,
         "island_Torgersen": 0,
         "_deepnote_index_column": 334
        },
        {
         "species": "Chinstrap",
         "bill_length": 46.8,
         "bill_depth": 16.5,
         "flipper_length": 189,
         "body_mass": 3650,
         "del15": 9.65061,
         "del13": -24.48153,
         "island_Biscoe": 0,
         "island_Dream": 1,
         "island_Torgersen": 0,
         "_deepnote_index_column": 335
        },
        {
         "species": "Chinstrap",
         "bill_length": 45.7,
         "bill_depth": 17,
         "flipper_length": 195,
         "body_mass": 3650,
         "del15": 9.26715,
         "del13": -24.31912,
         "island_Biscoe": 0,
         "island_Dream": 1,
         "island_Torgersen": 0,
         "_deepnote_index_column": 336
        },
        {
         "species": "Chinstrap",
         "bill_length": 55.8,
         "bill_depth": 19.8,
         "flipper_length": 207,
         "body_mass": 4000,
         "del15": 9.70465,
         "del13": -24.53494,
         "island_Biscoe": 0,
         "island_Dream": 1,
         "island_Torgersen": 0,
         "_deepnote_index_column": 337
        },
        {
         "species": "Chinstrap",
         "bill_length": 43.5,
         "bill_depth": 18.1,
         "flipper_length": 202,
         "body_mass": 3400,
         "del15": 9.37608,
         "del13": -24.40753,
         "island_Biscoe": 0,
         "island_Dream": 1,
         "island_Torgersen": 0,
         "_deepnote_index_column": 338
        },
        {
         "species": "Chinstrap",
         "bill_length": 49.6,
         "bill_depth": 18.2,
         "flipper_length": 193,
         "body_mass": 3775,
         "del15": 9.4618,
         "del13": -24.70615,
         "island_Biscoe": 0,
         "island_Dream": 1,
         "island_Torgersen": 0,
         "_deepnote_index_column": 339
        },
        {
         "species": "Chinstrap",
         "bill_length": 50.8,
         "bill_depth": 19,
         "flipper_length": 210,
         "body_mass": 4100,
         "del15": 9.98044,
         "del13": -24.68741,
         "island_Biscoe": 0,
         "island_Dream": 1,
         "island_Torgersen": 0,
         "_deepnote_index_column": 340
        },
        {
         "species": "Chinstrap",
         "bill_length": 50.2,
         "bill_depth": 18.7,
         "flipper_length": 198,
         "body_mass": 3775,
         "del15": 9.39305,
         "del13": -24.25255,
         "island_Biscoe": 0,
         "island_Dream": 1,
         "island_Torgersen": 0,
         "_deepnote_index_column": 341
        }
       ]
      },
      "text/plain": "       species  bill_length  bill_depth  flipper_length  body_mass     del15  \\\n0       Adelie         39.1        18.7           181.0     3750.0  8.859733   \n1       Adelie         39.5        17.4           186.0     3800.0  8.949560   \n2       Adelie         40.3        18.0           195.0     3250.0  8.368210   \n3       Adelie         36.7        19.3           193.0     3450.0  8.766510   \n4       Adelie         39.3        20.6           190.0     3650.0  8.664960   \n..         ...          ...         ...             ...        ...       ...   \n337  Chinstrap         55.8        19.8           207.0     4000.0  9.704650   \n338  Chinstrap         43.5        18.1           202.0     3400.0  9.376080   \n339  Chinstrap         49.6        18.2           193.0     3775.0  9.461800   \n340  Chinstrap         50.8        19.0           210.0     4100.0  9.980440   \n341  Chinstrap         50.2        18.7           198.0     3775.0  9.393050   \n\n         del13  island_Biscoe  island_Dream  island_Torgersen  \n0   -25.804194              0             0                 1  \n1   -24.694540              0             0                 1  \n2   -25.333020              0             0                 1  \n3   -25.324260              0             0                 1  \n4   -25.298050              0             0                 1  \n..         ...            ...           ...               ...  \n337 -24.534940              0             1                 0  \n338 -24.407530              0             1                 0  \n339 -24.706150              0             1                 0  \n340 -24.687410              0             1                 0  \n341 -24.252550              0             1                 0  \n\n[342 rows x 10 columns]",
      "text/html": "<div>\n<style scoped>\n    .dataframe tbody tr th:only-of-type {\n        vertical-align: middle;\n    }\n\n    .dataframe tbody tr th {\n        vertical-align: top;\n    }\n\n    .dataframe thead th {\n        text-align: right;\n    }\n</style>\n<table border=\"1\" class=\"dataframe\">\n  <thead>\n    <tr style=\"text-align: right;\">\n      <th></th>\n      <th>species</th>\n      <th>bill_length</th>\n      <th>bill_depth</th>\n      <th>flipper_length</th>\n      <th>body_mass</th>\n      <th>del15</th>\n      <th>del13</th>\n      <th>island_Biscoe</th>\n      <th>island_Dream</th>\n      <th>island_Torgersen</th>\n    </tr>\n  </thead>\n  <tbody>\n    <tr>\n      <th>0</th>\n      <td>Adelie</td>\n      <td>39.1</td>\n      <td>18.7</td>\n      <td>181.0</td>\n      <td>3750.0</td>\n      <td>8.859733</td>\n      <td>-25.804194</td>\n      <td>0</td>\n      <td>0</td>\n      <td>1</td>\n    </tr>\n    <tr>\n      <th>1</th>\n      <td>Adelie</td>\n      <td>39.5</td>\n      <td>17.4</td>\n      <td>186.0</td>\n      <td>3800.0</td>\n      <td>8.949560</td>\n      <td>-24.694540</td>\n      <td>0</td>\n      <td>0</td>\n      <td>1</td>\n    </tr>\n    <tr>\n      <th>2</th>\n      <td>Adelie</td>\n      <td>40.3</td>\n      <td>18.0</td>\n      <td>195.0</td>\n      <td>3250.0</td>\n      <td>8.368210</td>\n      <td>-25.333020</td>\n      <td>0</td>\n      <td>0</td>\n      <td>1</td>\n    </tr>\n    <tr>\n      <th>3</th>\n      <td>Adelie</td>\n      <td>36.7</td>\n      <td>19.3</td>\n      <td>193.0</td>\n      <td>3450.0</td>\n      <td>8.766510</td>\n      <td>-25.324260</td>\n      <td>0</td>\n      <td>0</td>\n      <td>1</td>\n    </tr>\n    <tr>\n      <th>4</th>\n      <td>Adelie</td>\n      <td>39.3</td>\n      <td>20.6</td>\n      <td>190.0</td>\n      <td>3650.0</td>\n      <td>8.664960</td>\n      <td>-25.298050</td>\n      <td>0</td>\n      <td>0</td>\n      <td>1</td>\n    </tr>\n    <tr>\n      <th>...</th>\n      <td>...</td>\n      <td>...</td>\n      <td>...</td>\n      <td>...</td>\n      <td>...</td>\n      <td>...</td>\n      <td>...</td>\n      <td>...</td>\n      <td>...</td>\n      <td>...</td>\n    </tr>\n    <tr>\n      <th>337</th>\n      <td>Chinstrap</td>\n      <td>55.8</td>\n      <td>19.8</td>\n      <td>207.0</td>\n      <td>4000.0</td>\n      <td>9.704650</td>\n      <td>-24.534940</td>\n      <td>0</td>\n      <td>1</td>\n      <td>0</td>\n    </tr>\n    <tr>\n      <th>338</th>\n      <td>Chinstrap</td>\n      <td>43.5</td>\n      <td>18.1</td>\n      <td>202.0</td>\n      <td>3400.0</td>\n      <td>9.376080</td>\n      <td>-24.407530</td>\n      <td>0</td>\n      <td>1</td>\n      <td>0</td>\n    </tr>\n    <tr>\n      <th>339</th>\n      <td>Chinstrap</td>\n      <td>49.6</td>\n      <td>18.2</td>\n      <td>193.0</td>\n      <td>3775.0</td>\n      <td>9.461800</td>\n      <td>-24.706150</td>\n      <td>0</td>\n      <td>1</td>\n      <td>0</td>\n    </tr>\n    <tr>\n      <th>340</th>\n      <td>Chinstrap</td>\n      <td>50.8</td>\n      <td>19.0</td>\n      <td>210.0</td>\n      <td>4100.0</td>\n      <td>9.980440</td>\n      <td>-24.687410</td>\n      <td>0</td>\n      <td>1</td>\n      <td>0</td>\n    </tr>\n    <tr>\n      <th>341</th>\n      <td>Chinstrap</td>\n      <td>50.2</td>\n      <td>18.7</td>\n      <td>198.0</td>\n      <td>3775.0</td>\n      <td>9.393050</td>\n      <td>-24.252550</td>\n      <td>0</td>\n      <td>1</td>\n      <td>0</td>\n    </tr>\n  </tbody>\n</table>\n<p>342 rows × 10 columns</p>\n</div>"
     },
     "metadata": {}
    }
   ]
  },
  {
   "cell_type": "markdown",
   "source": "## Standardization",
   "metadata": {
    "cell_id": "00012-2821fc79-5c8f-4422-8cae-5089cc736f36",
    "deepnote_cell_type": "markdown"
   }
  },
  {
   "cell_type": "code",
   "metadata": {
    "cell_id": "00013-1b12de1b-3f5e-4a52-9f04-0df0d7dbbe85",
    "deepnote_to_be_reexecuted": false,
    "source_hash": "866b8212",
    "execution_start": 1622918282936,
    "execution_millis": 180005,
    "deepnote_cell_type": "code"
   },
   "source": "from sklearn.preprocessing import StandardScaler",
   "execution_count": null,
   "outputs": []
  },
  {
   "cell_type": "code",
   "metadata": {
    "cell_id": "00014-07b938dd-25cd-4a42-9c54-b1aec2c30f05",
    "deepnote_to_be_reexecuted": false,
    "source_hash": "8e1e427f",
    "execution_start": 1622918283002,
    "execution_millis": 61,
    "deepnote_cell_type": "code"
   },
   "source": "scale=StandardScaler()\nscale.fit(data.drop(['species','island_Biscoe','island_Dream','island_Torgersen'],axis=1))\ntransformed=scale.transform(data.drop(['species','island_Biscoe','island_Dream','island_Torgersen'],axis=1))\nX_scaled=pd.DataFrame(transformed,columns=data.columns[1:7])\nX_scaled[['island_Biscoe','island_Dream','island_Torgersen']]=data[['island_Biscoe','island_Dream','island_Torgersen']]\nX_scaled",
   "execution_count": null,
   "outputs": [
    {
     "output_type": "execute_result",
     "execution_count": 10,
     "data": {
      "application/vnd.deepnote.dataframe.v2+json": {
       "row_count": 342,
       "column_count": 9,
       "columns": [
        {
         "name": "bill_length",
         "dtype": "float64",
         "stats": {
          "unique_count": 164,
          "nan_count": 0,
          "min": "-2.168526386462677",
          "max": "2.875867930937704",
          "histogram": [
           {
            "bin_start": -2.168526386462677,
            "bin_end": -1.664086954722639,
            "count": 9
           },
           {
            "bin_start": -1.664086954722639,
            "bin_end": -1.1596475229826007,
            "count": 43
           },
           {
            "bin_start": -1.1596475229826007,
            "bin_end": -0.6552080912425624,
            "count": 54
           },
           {
            "bin_start": -0.6552080912425624,
            "bin_end": -0.15076865950252438,
            "count": 49
           },
           {
            "bin_start": -0.15076865950252438,
            "bin_end": 0.35367077223751364,
            "count": 48
           },
           {
            "bin_start": 0.35367077223751364,
            "bin_end": 0.8581102039775521,
            "count": 56
           },
           {
            "bin_start": 0.8581102039775521,
            "bin_end": 1.3625496357175901,
            "count": 60
           },
           {
            "bin_start": 1.3625496357175901,
            "bin_end": 1.8669890674576282,
            "count": 16
           },
           {
            "bin_start": 1.8669890674576282,
            "bin_end": 2.371428499197666,
            "count": 5
           },
           {
            "bin_start": 2.371428499197666,
            "bin_end": 2.875867930937704,
            "count": 2
           }
          ]
         }
        },
        {
         "name": "bill_depth",
         "dtype": "float64",
         "stats": {
          "unique_count": 80,
          "nan_count": 0,
          "min": "-2.0544457324261955",
          "max": "2.2053967072085756",
          "histogram": [
           {
            "bin_start": -2.0544457324261955,
            "bin_end": -1.6284614884627184,
            "count": 21
           },
           {
            "bin_start": -1.6284614884627184,
            "bin_end": -1.2024772444992413,
            "count": 35
           },
           {
            "bin_start": -1.2024772444992413,
            "bin_end": -0.7764930005357642,
            "count": 32
           },
           {
            "bin_start": -0.7764930005357642,
            "bin_end": -0.3505087565722871,
            "count": 34
           },
           {
            "bin_start": -0.3505087565722871,
            "bin_end": 0.07547548739119003,
            "count": 44
           },
           {
            "bin_start": 0.07547548739119003,
            "bin_end": 0.5014597313546671,
            "count": 55
           },
           {
            "bin_start": 0.5014597313546671,
            "bin_end": 0.9274439753181443,
            "count": 56
           },
           {
            "bin_start": 0.9274439753181443,
            "bin_end": 1.3534282192816214,
            "count": 39
           },
           {
            "bin_start": 1.3534282192816214,
            "bin_end": 1.7794124632450985,
            "count": 16
           },
           {
            "bin_start": 1.7794124632450985,
            "bin_end": 2.2053967072085756,
            "count": 10
           }
          ]
         }
        },
        {
         "name": "flipper_length",
         "dtype": "float64",
         "stats": {
          "unique_count": 55,
          "nan_count": 0,
          "min": "-2.059320219544535",
          "max": "2.142617629577683",
          "histogram": [
           {
            "bin_start": -2.059320219544535,
            "bin_end": -1.6391264346323133,
            "count": 3
           },
           {
            "bin_start": -1.6391264346323133,
            "bin_end": -1.2189326497200914,
            "count": 22
           },
           {
            "bin_start": -1.2189326497200914,
            "bin_end": -0.7987388648078695,
            "count": 52
           },
           {
            "bin_start": -0.7987388648078695,
            "bin_end": -0.3785450798956478,
            "count": 79
           },
           {
            "bin_start": -0.3785450798956478,
            "bin_end": 0.04164870501657392,
            "count": 44
           },
           {
            "bin_start": 0.04164870501657392,
            "bin_end": 0.46184248992879606,
            "count": 15
           },
           {
            "bin_start": 0.46184248992879606,
            "bin_end": 0.8820362748410178,
            "count": 42
           },
           {
            "bin_start": 0.8820362748410178,
            "bin_end": 1.3022300597532395,
            "count": 42
           },
           {
            "bin_start": 1.3022300597532395,
            "bin_end": 1.7224238446654612,
            "count": 28
           },
           {
            "bin_start": 1.7224238446654612,
            "bin_end": 2.142617629577683,
            "count": 15
           }
          ]
         }
        },
        {
         "name": "body_mass",
         "dtype": "float64",
         "stats": {
          "unique_count": 94,
          "nan_count": 0,
          "min": "-1.8753616232901589",
          "max": "2.6202482493633528",
          "histogram": [
           {
            "bin_start": -1.8753616232901589,
            "bin_end": -1.4258006360248077,
            "count": 15
           },
           {
            "bin_start": -1.4258006360248077,
            "bin_end": -0.9762396487594565,
            "count": 43
           },
           {
            "bin_start": -0.9762396487594565,
            "bin_end": -0.5266786614941052,
            "count": 71
           },
           {
            "bin_start": -0.5266786614941052,
            "bin_end": -0.07711767422875404,
            "count": 53
           },
           {
            "bin_start": -0.07711767422875404,
            "bin_end": 0.37244331303659717,
            "count": 45
           },
           {
            "bin_start": 0.37244331303659717,
            "bin_end": 0.8220043003019484,
            "count": 38
           },
           {
            "bin_start": 0.8220043003019484,
            "bin_end": 1.2715652875672996,
            "count": 28
           },
           {
            "bin_start": 1.2715652875672996,
            "bin_end": 1.7211262748326508,
            "count": 27
           },
           {
            "bin_start": 1.7211262748326508,
            "bin_end": 2.170687262098002,
            "count": 16
           },
           {
            "bin_start": 2.170687262098002,
            "bin_end": 2.6202482493633528,
            "count": 6
           }
          ]
         }
        },
        {
         "name": "del15",
         "dtype": "float64",
         "stats": {
          "unique_count": 333,
          "nan_count": 0,
          "min": "-2.034421064965669",
          "max": "2.3707083107497904",
          "histogram": [
           {
            "bin_start": -2.034421064965669,
            "bin_end": -1.593908127394123,
            "count": 13
           },
           {
            "bin_start": -1.593908127394123,
            "bin_end": -1.153395189822577,
            "count": 27
           },
           {
            "bin_start": -1.153395189822577,
            "bin_end": -0.7128822522510312,
            "count": 53
           },
           {
            "bin_start": -0.7128822522510312,
            "bin_end": -0.2723693146794852,
            "count": 56
           },
           {
            "bin_start": -0.2723693146794852,
            "bin_end": 0.16814362289206075,
            "count": 43
           },
           {
            "bin_start": 0.16814362289206075,
            "bin_end": 0.6086565604636065,
            "count": 51
           },
           {
            "bin_start": 0.6086565604636065,
            "bin_end": 1.0491694980351527,
            "count": 38
           },
           {
            "bin_start": 1.0491694980351527,
            "bin_end": 1.4896824356066984,
            "count": 34
           },
           {
            "bin_start": 1.4896824356066984,
            "bin_end": 1.9301953731782442,
            "count": 18
           },
           {
            "bin_start": 1.9301953731782442,
            "bin_end": 2.3707083107497904,
            "count": 9
           }
          ]
         }
        },
        {
         "name": "del13",
         "dtype": "float64",
         "stats": {
          "unique_count": 333,
          "nan_count": 0,
          "min": "-1.7003704038021537",
          "max": "2.4384845107725477",
          "histogram": [
           {
            "bin_start": -1.7003704038021537,
            "bin_end": -1.2864849123446835,
            "count": 31
           },
           {
            "bin_start": -1.2864849123446835,
            "bin_end": -0.8725994208872133,
            "count": 45
           },
           {
            "bin_start": -0.8725994208872133,
            "bin_end": -0.4587139294297431,
            "count": 67
           },
           {
            "bin_start": -0.4587139294297431,
            "bin_end": -0.04482843797227298,
            "count": 46
           },
           {
            "bin_start": -0.04482843797227298,
            "bin_end": 0.36905705348519713,
            "count": 31
           },
           {
            "bin_start": 0.36905705348519713,
            "bin_end": 0.7829425449426675,
            "count": 36
           },
           {
            "bin_start": 0.7829425449426675,
            "bin_end": 1.1968280364001374,
            "count": 22
           },
           {
            "bin_start": 1.1968280364001374,
            "bin_end": 1.6107135278576077,
            "count": 39
           },
           {
            "bin_start": 1.6107135278576077,
            "bin_end": 2.024599019315078,
            "count": 21
           },
           {
            "bin_start": 2.024599019315078,
            "bin_end": 2.4384845107725477,
            "count": 4
           }
          ]
         }
        },
        {
         "name": "island_Biscoe",
         "dtype": "uint8",
         "stats": {
          "unique_count": 2,
          "nan_count": 0,
          "min": "0",
          "max": "1",
          "histogram": [
           {
            "bin_start": 0,
            "bin_end": 0.1,
            "count": 175
           },
           {
            "bin_start": 0.1,
            "bin_end": 0.2,
            "count": 0
           },
           {
            "bin_start": 0.2,
            "bin_end": 0.30000000000000004,
            "count": 0
           },
           {
            "bin_start": 0.30000000000000004,
            "bin_end": 0.4,
            "count": 0
           },
           {
            "bin_start": 0.4,
            "bin_end": 0.5,
            "count": 0
           },
           {
            "bin_start": 0.5,
            "bin_end": 0.6000000000000001,
            "count": 0
           },
           {
            "bin_start": 0.6000000000000001,
            "bin_end": 0.7000000000000001,
            "count": 0
           },
           {
            "bin_start": 0.7000000000000001,
            "bin_end": 0.8,
            "count": 0
           },
           {
            "bin_start": 0.8,
            "bin_end": 0.9,
            "count": 0
           },
           {
            "bin_start": 0.9,
            "bin_end": 1,
            "count": 167
           }
          ]
         }
        },
        {
         "name": "island_Dream",
         "dtype": "uint8",
         "stats": {
          "unique_count": 2,
          "nan_count": 0,
          "min": "0",
          "max": "1",
          "histogram": [
           {
            "bin_start": 0,
            "bin_end": 0.1,
            "count": 218
           },
           {
            "bin_start": 0.1,
            "bin_end": 0.2,
            "count": 0
           },
           {
            "bin_start": 0.2,
            "bin_end": 0.30000000000000004,
            "count": 0
           },
           {
            "bin_start": 0.30000000000000004,
            "bin_end": 0.4,
            "count": 0
           },
           {
            "bin_start": 0.4,
            "bin_end": 0.5,
            "count": 0
           },
           {
            "bin_start": 0.5,
            "bin_end": 0.6000000000000001,
            "count": 0
           },
           {
            "bin_start": 0.6000000000000001,
            "bin_end": 0.7000000000000001,
            "count": 0
           },
           {
            "bin_start": 0.7000000000000001,
            "bin_end": 0.8,
            "count": 0
           },
           {
            "bin_start": 0.8,
            "bin_end": 0.9,
            "count": 0
           },
           {
            "bin_start": 0.9,
            "bin_end": 1,
            "count": 124
           }
          ]
         }
        },
        {
         "name": "island_Torgersen",
         "dtype": "uint8",
         "stats": {
          "unique_count": 2,
          "nan_count": 0,
          "min": "0",
          "max": "1",
          "histogram": [
           {
            "bin_start": 0,
            "bin_end": 0.1,
            "count": 291
           },
           {
            "bin_start": 0.1,
            "bin_end": 0.2,
            "count": 0
           },
           {
            "bin_start": 0.2,
            "bin_end": 0.30000000000000004,
            "count": 0
           },
           {
            "bin_start": 0.30000000000000004,
            "bin_end": 0.4,
            "count": 0
           },
           {
            "bin_start": 0.4,
            "bin_end": 0.5,
            "count": 0
           },
           {
            "bin_start": 0.5,
            "bin_end": 0.6000000000000001,
            "count": 0
           },
           {
            "bin_start": 0.6000000000000001,
            "bin_end": 0.7000000000000001,
            "count": 0
           },
           {
            "bin_start": 0.7000000000000001,
            "bin_end": 0.8,
            "count": 0
           },
           {
            "bin_start": 0.8,
            "bin_end": 0.9,
            "count": 0
           },
           {
            "bin_start": 0.9,
            "bin_end": 1,
            "count": 51
           }
          ]
         }
        },
        {
         "name": "_deepnote_index_column",
         "dtype": "int64"
        }
       ],
       "rows_top": [
        {
         "bill_length": -0.8844987420334891,
         "bill_depth": 0.7854492273303183,
         "flipper_length": -1.4183466493394512,
         "body_mass": -0.5641420770995512,
         "del15": 0.2250433627442122,
         "del13": -0.14475135750320656,
         "island_Biscoe": 0,
         "island_Dream": 0,
         "island_Torgersen": 1,
         "_deepnote_index_column": 0
        },
        {
         "bill_length": -0.8111257337803929,
         "bill_depth": 0.12618789738684139,
         "flipper_length": -1.0622502214477376,
         "body_mass": -0.5017030510904746,
         "del15": 0.3903843178595044,
         "del13": 1.2767530401840184,
         "island_Biscoe": 0,
         "island_Dream": 0,
         "island_Torgersen": 1,
         "_deepnote_index_column": 1
        },
        {
         "bill_length": -0.6643797172742005,
         "bill_depth": 0.43046235736075433,
         "flipper_length": -0.42127665124265357,
         "body_mass": -1.1885323371903167,
         "del15": -0.6796805158271233,
         "del13": 0.45883833428199877,
         "island_Biscoe": 0,
         "island_Dream": 0,
         "island_Torgersen": 1,
         "_deepnote_index_column": 2
        },
        {
         "bill_length": -1.3247367915520676,
         "bill_depth": 1.0897236873042313,
         "flipper_length": -0.5637152223993389,
         "body_mass": -0.9387762331540105,
         "del15": 0.053452404543366576,
         "del13": 0.470060193735237,
         "island_Biscoe": 0,
         "island_Dream": 0,
         "island_Torgersen": 1,
         "_deepnote_index_column": 3
        },
        {
         "bill_length": -0.8478122379069417,
         "bill_depth": 1.7489850172477082,
         "flipper_length": -0.777373079134367,
         "body_mass": -0.6890201291177043,
         "del15": -0.1334661193422041,
         "del13": 0.5036360997020505,
         "island_Biscoe": 0,
         "island_Dream": 0,
         "island_Torgersen": 1,
         "_deepnote_index_column": 4
        },
        {
         "bill_length": -0.9211852461600378,
         "bill_depth": 0.32903753736945063,
         "flipper_length": -1.4183466493394512,
         "body_mass": -0.7202396421222426,
         "del15": 0.8277607791661458,
         "del13": 0.6061956964858419,
         "island_Biscoe": 0,
         "island_Dream": 0,
         "island_Torgersen": 1,
         "_deepnote_index_column": 5
        },
        {
         "bill_length": -0.8661554899702147,
         "bill_depth": 1.2418609172911876,
         "flipper_length": -0.42127665124265357,
         "body_mass": 0.590979904068365,
         "del15": 1.3310326925171343,
         "del13": 1.0140897910639988,
         "island_Biscoe": 0,
         "island_Dream": 0,
         "island_Torgersen": 1,
         "_deepnote_index_column": 6
        },
        {
         "bill_length": -1.8016613451971948,
         "bill_depth": 0.48117476735640713,
         "flipper_length": -0.5637152223993389,
         "body_mass": -0.9075567201494722,
         "del15": 0.2250433627442122,
         "del13": -0.14475135750320656,
         "island_Biscoe": 0,
         "island_Dream": 0,
         "island_Torgersen": 1,
         "_deepnote_index_column": 7
        },
        {
         "bill_length": -0.3525444321985401,
         "bill_depth": 1.5461353772650988,
         "flipper_length": -0.777373079134367,
         "body_mass": 0.060248182991214295,
         "del15": 0.7291752928115318,
         "del13": 0.7654410559186838,
         "island_Biscoe": 0,
         "island_Dream": 0,
         "island_Torgersen": 1,
         "_deepnote_index_column": 8
        },
        {
         "bill_length": -1.1229610188560535,
         "bill_depth": -0.025949332600113284,
         "flipper_length": -1.0622502214477376,
         "body_mass": -1.1260933111812401,
         "del15": -0.19334262925848059,
         "del13": 0.6123959019371749,
         "island_Biscoe": 0,
         "island_Dream": 0,
         "island_Torgersen": 1,
         "_deepnote_index_column": 9
        },
        {
         "bill_length": -1.1229610188560535,
         "bill_depth": 0.07547548739119044,
         "flipper_length": -1.4895659349177939,
         "body_mass": -0.6265811031086278,
         "del15": 0.2250433627442122,
         "del13": -0.14475135750320656,
         "island_Biscoe": 0,
         "island_Dream": 0,
         "island_Torgersen": 1,
         "_deepnote_index_column": 10
        },
        {
         "bill_length": -0.5176337007680069,
         "bill_depth": 0.22761271737814692,
         "flipper_length": -1.3471273637611083,
         "body_mass": -1.2509713631993933,
         "del15": 0.2250433627442122,
         "del13": -0.14475135750320656,
         "island_Biscoe": 0,
         "island_Dream": 0,
         "island_Torgersen": 1,
         "_deepnote_index_column": 11
        },
        {
         "bill_length": -0.9762150023498597,
         "bill_depth": 2.0532594772216193,
         "flipper_length": -0.7061537935560243,
         "body_mass": -0.5017030510904746,
         "del15": 0.2250433627442122,
         "del13": -0.14475135750320656,
         "island_Biscoe": 0,
         "island_Dream": 0,
         "island_Torgersen": 1,
         "_deepnote_index_column": 12
        },
        {
         "bill_length": -1.7099450848808242,
         "bill_depth": 2.002547067225968,
         "flipper_length": -0.20761879450762555,
         "body_mass": 0.24756526101844395,
         "del15": -0.3343368087723615,
         "del13": 0.5960883367728256,
         "island_Biscoe": 0,
         "island_Dream": 0,
         "island_Torgersen": 1,
         "_deepnote_index_column": 13
        },
        {
         "bill_length": -1.343080043615342,
         "bill_depth": 0.32903753736945063,
         "flipper_length": -1.1334695070260803,
         "body_mass": -0.6265811031086278,
         "del15": 0.2250433627442122,
         "del13": -0.14475135750320656,
         "island_Biscoe": 0,
         "island_Dream": 0,
         "island_Torgersen": 1,
         "_deepnote_index_column": 14
        },
        {
         "bill_length": -0.9578717502865853,
         "bill_depth": 0.9375864573172747,
         "flipper_length": -0.42127665124265357,
         "body_mass": -0.9387762331540105,
         "del15": 0.8242635345045759,
         "del13": 0.7997343410286266,
         "island_Biscoe": 0,
         "island_Dream": 0,
         "island_Torgersen": 1,
         "_deepnote_index_column": 15
        },
        {
         "bill_length": -0.2608281718821695,
         "bill_depth": 1.799697427243359,
         "flipper_length": -0.2788380800859682,
         "body_mass": 0.37244331303659706,
         "del15": -0.1142864933561122,
         "del13": 0.7061932249013163,
         "island_Biscoe": 0,
         "island_Dream": 0,
         "island_Torgersen": 1,
         "_deepnote_index_column": 16
        },
        {
         "bill_length": -1.746631589007373,
         "bill_depth": 0.6333119973433617,
         "flipper_length": -1.204688792604423,
         "body_mass": -1.0948737981767018,
         "del15": -0.47709801716788025,
         "del13": 0.5867239768866208,
         "island_Biscoe": 0,
         "island_Dream": 0,
         "island_Torgersen": 1,
         "_deepnote_index_column": 17
        },
        {
         "bill_length": 0.3811856503324245,
         "bill_depth": 2.2053967072085756,
         "flipper_length": -0.4924959368209963,
         "body_mass": -0.0021908430178622556,
         "del15": 0.697037455026775,
         "del13": 1.1771782530493187,
         "island_Biscoe": 0,
         "island_Dream": 0,
         "island_Torgersen": 1,
         "_deepnote_index_column": 18
        },
        {
         "bill_length": -1.1229610188560535,
         "bill_depth": 0.5825995873477108,
         "flipper_length": -1.91688164838785,
         "body_mass": -1.0012152591630872,
         "del15": 0.00027587913662844844,
         "del13": 0.7652489007910581,
         "island_Biscoe": 1,
         "island_Dream": 0,
         "island_Torgersen": 0,
         "_deepnote_index_column": 19
        },
        {
         "bill_length": -1.1413042709193264,
         "bill_depth": 0.7854492273303183,
         "flipper_length": -1.4895659349177939,
         "body_mass": -0.7514591551267809,
         "del15": -0.13760759328353891,
         "del13": 0.8035902539229457,
         "island_Biscoe": 1,
         "island_Dream": 0,
         "island_Torgersen": 0,
         "_deepnote_index_column": 20
        },
        {
         "bill_length": -1.4714828080582614,
         "bill_depth": 1.0390112773085785,
         "flipper_length": -0.8485923647127097,
         "body_mass": -0.5017030510904746,
         "del15": 0.8934353526002904,
         "del13": 0.8409452107330316,
         "island_Biscoe": 1,
         "island_Dream": 0,
         "island_Torgersen": 0,
         "_deepnote_index_column": 21
        },
        {
         "bill_length": -1.0495880106029558,
         "bill_depth": 0.48117476735640713,
         "flipper_length": -1.1334695070260803,
         "body_mass": -0.314385973063245,
         "del15": -0.5581604671129389,
         "del13": 0.595114750792865,
         "island_Biscoe": 1,
         "island_Dream": 0,
         "island_Torgersen": 0,
         "_deepnote_index_column": 22
        },
        {
         "bill_length": -0.9395284982233122,
         "bill_depth": 0.024763077395537673,
         "flipper_length": -1.4895659349177939,
         "body_mass": -0.5017030510904746,
         "del15": 1.6603995134337695,
         "del13": 0.5029827722681312,
         "island_Biscoe": 1,
         "island_Dream": 0,
         "island_Torgersen": 0,
         "_deepnote_index_column": 23
        },
        {
         "bill_length": -1.5815423204379062,
         "bill_depth": 0.886874047321622,
         "flipper_length": -0.9910309358693951,
         "body_mass": -0.5017030510904746,
         "del15": 0.8751392410550157,
         "del13": 1.7036448717132573,
         "island_Biscoe": 1,
         "island_Dream": 0,
         "island_Torgersen": 0,
         "_deepnote_index_column": 24
        },
        {
         "bill_length": -0.6093499610843774,
         "bill_depth": 0.7347368173346673,
         "flipper_length": -1.2759080781827656,
         "body_mass": -0.8138981811358574,
         "del15": 0.37273243559399477,
         "del13": 0.42058665354300345,
         "island_Biscoe": 1,
         "island_Dream": 0,
         "island_Torgersen": 0,
         "_deepnote_index_column": 25
        },
        {
         "bill_length": -0.6276932131476518,
         "bill_depth": 0.3797499473651016,
         "flipper_length": -0.9910309358693951,
         "body_mass": -1.2509713631993933,
         "del15": -1.2076356138684672,
         "del13": 0.2520025549076435,
         "island_Biscoe": 1,
         "island_Dream": 0,
         "island_Torgersen": 0,
         "_deepnote_index_column": 26
        },
        {
         "bill_length": -1.104617766792779,
         "bill_depth": 0.7347368173346673,
         "flipper_length": -2.059320219544535,
         "body_mass": -1.3134103892084699,
         "del15": -0.6505429458309755,
         "del13": 0.6313295871790467,
         "island_Biscoe": 1,
         "island_Dream": 0,
         "island_Torgersen": 0,
         "_deepnote_index_column": 27
        },
        {
         "bill_length": -0.6276932131476518,
         "bill_depth": 0.886874047321622,
         "flipper_length": -1.4895659349177939,
         "body_mass": -0.314385973063245,
         "del15": 0.2996584287180011,
         "del13": 0.7367330798516735,
         "island_Biscoe": 1,
         "island_Dream": 0,
         "island_Torgersen": 0,
         "_deepnote_index_column": 28
        },
        {
         "bill_length": -0.8111257337803929,
         "bill_depth": -0.22879897258272253,
         "flipper_length": -1.6320045060744792,
         "body_mass": -1.1885323371903167,
         "del15": 1.767194321467651,
         "del13": 0.7416778718025276,
         "island_Biscoe": 0,
         "island_Dream": 1,
         "island_Torgersen": 0,
         "_deepnote_index_column": 29
        },
        {
         "bill_length": -1.233020531235697,
         "bill_depth": 0.48117476735640713,
         "flipper_length": -1.6320045060744792,
         "body_mass": -0.3768249990723216,
         "del15": 1.8225612264255828,
         "del13": 0.8723817896122981,
         "island_Biscoe": 0,
         "island_Dream": 1,
         "island_Torgersen": 0,
         "_deepnote_index_column": 30
        },
        {
         "bill_length": -0.8111257337803929,
         "bill_depth": 0.32903753736945063,
         "flipper_length": -0.9198116502910524,
         "body_mass": -1.1260933111812401,
         "del15": 1.7076859425683846,
         "del13": 0.8083300804043376,
         "island_Biscoe": 0,
         "island_Dream": 1,
         "island_Torgersen": 0,
         "_deepnote_index_column": 31
        },
        {
         "bill_length": -0.5543202048945556,
         "bill_depth": 0.886874047321622,
         "flipper_length": -1.204688792604423,
         "body_mass": -0.3768249990723216,
         "del15": 0.10892974880639965,
         "del13": 0.6985326404800426,
         "island_Biscoe": 0,
         "island_Dream": 1,
         "island_Torgersen": 0,
         "_deepnote_index_column": 32
        },
        {
         "bill_length": -1.3797665477418908,
         "bill_depth": -0.07666174259576604,
         "flipper_length": -0.42127665124265357,
         "body_mass": -1.0948737981767018,
         "del15": 0.8117286733754701,
         "del13": 0.590029045081754,
         "island_Biscoe": 0,
         "island_Dream": 1,
         "island_Torgersen": 0,
         "_deepnote_index_column": 33
        },
        {
         "bill_length": -0.8661554899702147,
         "bill_depth": 2.002547067225968,
         "flipper_length": -0.3500573656643109,
         "body_mass": -0.0646298690269388,
         "del15": 0.7649944407663617,
         "del13": 0.8410092624422372,
         "island_Biscoe": 0,
         "island_Dream": 1,
         "island_Torgersen": 0,
         "_deepnote_index_column": 34
        },
        {
         "bill_length": -0.9395284982233122,
         "bill_depth": 1.444710557273795,
         "flipper_length": -0.777373079134367,
         "body_mass": -0.314385973063245,
         "del15": 0.8326753282431966,
         "del13": 0.7284575990220038,
         "island_Biscoe": 0,
         "island_Dream": 1,
         "island_Torgersen": 0,
         "_deepnote_index_column": 35
        },
        {
         "bill_length": -0.3158579280719913,
         "bill_depth": 0.6840244073390146,
         "flipper_length": -1.4895659349177939,
         "body_mass": -0.8138981811358574,
         "del15": -1.2693159657680777,
         "del13": 0.25104177926952403,
         "island_Biscoe": 0,
         "island_Dream": 1,
         "island_Torgersen": 0,
         "_deepnote_index_column": 36
        },
        {
         "bill_length": -1.1596475229826009,
         "bill_depth": 1.0897236873042313,
         "flipper_length": -1.4183466493394512,
         "body_mass": -1.1260933111812401,
         "del15": 1.240306803375631,
         "del13": 0.8320420231531249,
         "island_Biscoe": 0,
         "island_Dream": 1,
         "island_Torgersen": 0,
         "_deepnote_index_column": 37
        },
        {
         "bill_length": -0.7560959775905711,
         "bill_depth": 0.9882988673129275,
         "flipper_length": -1.204688792604423,
         "body_mass": 0.5597603910638267,
         "del15": 0.2250433627442122,
         "del13": -0.14475135750320656,
         "island_Biscoe": 0,
         "island_Dream": 1,
         "island_Torgersen": 0,
         "_deepnote_index_column": 38
        },
        {
         "bill_length": -1.3614232956786163,
         "bill_depth": 0.43046235736075433,
         "flipper_length": -1.3471273637611083,
         "body_mass": -1.3134103892084699,
         "del15": 1.7520457301177927,
         "del13": 1.6248612693874631,
         "island_Biscoe": 0,
         "island_Dream": 1,
         "island_Torgersen": 0,
         "_deepnote_index_column": 39
        },
        {
         "bill_length": -0.5726634569578299,
         "bill_depth": 0.6333119973433617,
         "flipper_length": -0.42127665124265357,
         "body_mass": -0.3768249990723216,
         "del15": 0.2250433627442122,
         "del13": -0.14475135750320656,
         "island_Biscoe": 0,
         "island_Dream": 1,
         "island_Torgersen": 0,
         "_deepnote_index_column": 40
        },
        {
         "bill_length": -1.453139555994987,
         "bill_depth": 0.6840244073390146,
         "flipper_length": -1.0622502214477376,
         "body_mass": -1.3758494152175464,
         "del15": 1.4177643601241101,
         "del13": 0.8407146245798826,
         "island_Biscoe": 0,
         "island_Dream": 1,
         "island_Torgersen": 0,
         "_deepnote_index_column": 41
        },
        {
         "bill_length": 0.03266386113021659,
         "bill_depth": 1.2925733272868387,
         "flipper_length": -0.3500573656643109,
         "body_mass": 0.24756526101844395,
         "del15": 0.919830346519728,
         "del13": 1.4914031280817497,
         "island_Biscoe": 0,
         "island_Dream": 1,
         "island_Torgersen": 0,
         "_deepnote_index_column": 42
        },
        {
         "bill_length": -1.2697070353622457,
         "bill_depth": -0.1273741525914188,
         "flipper_length": -1.1334695070260803,
         "body_mass": -1.5007274672356994,
         "del15": 1.1530781588956978,
         "del13": 0.8630942917771445,
         "island_Biscoe": 0,
         "island_Dream": 1,
         "island_Torgersen": 0,
         "_deepnote_index_column": 43
        },
        {
         "bill_length": -0.7927824817171185,
         "bill_depth": 0.836161637325971,
         "flipper_length": -0.777373079134367,
         "body_mass": 0.49732136505475016,
         "del15": 1.38709904640738,
         "del13": 2.0351124668644704,
         "island_Biscoe": 0,
         "island_Dream": 1,
         "island_Torgersen": 0,
         "_deepnote_index_column": 44
        },
        {
         "bill_length": -0.5176337007680069,
         "bill_depth": 0.9375864573172747,
         "flipper_length": -1.3471273637611083,
         "body_mass": -0.9699957461585488,
         "del15": 0.2250433627442122,
         "del13": -0.14475135750320656,
         "island_Biscoe": 0,
         "island_Dream": 1,
         "island_Torgersen": 0,
         "_deepnote_index_column": 45
        },
        {
         "bill_length": -1.1779907750458751,
         "bill_depth": 0.886874047321622,
         "flipper_length": -1.5607852204961365,
         "body_mass": -1.5319469802402377,
         "del15": 0.2250433627442122,
         "del13": -0.14475135750320656,
         "island_Biscoe": 0,
         "island_Dream": 1,
         "island_Torgersen": 0,
         "_deepnote_index_column": 46
        },
        {
         "bill_length": -1.453139555994987,
         "bill_depth": 0.3797499473651016,
         "flipper_length": -0.777373079134367,
         "body_mass": -0.9387762331540105,
         "del15": 1.4363917895846887,
         "del13": 0.7870264819217653,
         "island_Biscoe": 0,
         "island_Dream": 1,
         "island_Torgersen": 0,
         "_deepnote_index_column": 47
        },
        {
         "bill_length": -0.2975146760087182,
         "bill_depth": 2.0532594772216193,
         "flipper_length": -0.7061537935560243,
         "body_mass": -0.0646298690269388,
         "del15": 0.26212747153408233,
         "del13": 0.6479061695220684,
         "island_Biscoe": 0,
         "island_Dream": 1,
         "island_Torgersen": 0,
         "_deepnote_index_column": 48
        },
        {
         "bill_length": -0.7927824817171185,
         "bill_depth": 0.2783251273737979,
         "flipper_length": -1.0622502214477376,
         "body_mass": -0.876337207144934,
         "del15": -0.4993883502476857,
         "del13": -0.5619793760490058,
         "island_Biscoe": 1,
         "island_Dream": 0,
         "island_Torgersen": 0,
         "_deepnote_index_column": 49
        },
        {
         "bill_length": -0.7010662214007479,
         "bill_depth": 0.886874047321622,
         "flipper_length": -0.9198116502910524,
         "body_mass": 0.12268720900029084,
         "del15": -0.4120308599118013,
         "del13": -1.1078664729448011,
         "island_Biscoe": 1,
         "island_Dream": 0,
         "island_Torgersen": 0,
         "_deepnote_index_column": 50
        },
        {
         "bill_length": -1.636572076627728,
         "bill_depth": 0.3797499473651016,
         "flipper_length": -0.777373079134367,
         "body_mass": -0.9387762331540105,
         "del15": -0.9977825276233262,
         "del13": -0.6160902599878934,
         "island_Biscoe": 1,
         "island_Dream": 0,
         "island_Torgersen": 0,
         "_deepnote_index_column": 51
        },
        {
         "bill_length": -0.3525444321985401,
         "bill_depth": 1.191148507295535,
         "flipper_length": -0.06518022335094019,
         "body_mass": -0.1895079210450919,
         "del15": -0.4721650615399798,
         "del13": -0.7985992002050655,
         "island_Biscoe": 1,
         "island_Dream": 0,
         "island_Torgersen": 0,
         "_deepnote_index_column": 52
        },
        {
         "bill_length": -1.7282883369440987,
         "bill_depth": 0.48117476735640713,
         "flipper_length": -0.9910309358693951,
         "body_mass": -1.6256055192538525,
         "del15": -0.5873532567616357,
         "del13": -1.096542130756834,
         "island_Biscoe": 1,
         "island_Dream": 0,
         "island_Torgersen": 0,
         "_deepnote_index_column": 53
        },
        {
         "bill_length": -0.462603944578185,
         "bill_depth": 0.7347368173346673,
         "flipper_length": -0.7061537935560243,
         "body_mass": -0.6265811031086278,
         "del15": -0.7059098507889072,
         "del13": -0.7523922971824418,
         "island_Biscoe": 1,
         "island_Dream": 0,
         "island_Torgersen": 0,
         "_deepnote_index_column": 54
        }
       ],
       "rows_bottom": [
        {
         "bill_length": 0.5646181709651656,
         "bill_depth": 0.07547548739119044,
         "flipper_length": -1.1334695070260803,
         "body_mass": -0.6265811031086278,
         "del15": -0.03147542108026862,
         "del13": 1.134916935313902,
         "island_Biscoe": 0,
         "island_Dream": 1,
         "island_Torgersen": 0,
         "_deepnote_index_column": 286
        },
        {
         "bill_length": 1.4817807741288713,
         "bill_depth": 0.48117476735640713,
         "flipper_length": 0.006039062227402486,
         "body_mass": -0.1895079210450919,
         "del15": 0.5261142238301808,
         "del13": 1.6677374835312713,
         "island_Biscoe": 0,
         "island_Dream": 1,
         "island_Torgersen": 0,
         "_deepnote_index_column": 287
        },
        {
         "bill_length": 0.3628423982691501,
         "bill_depth": -0.025949332600113284,
         "flipper_length": -0.777373079134367,
         "body_mass": -0.7826786681313191,
         "del15": 0.709204185138871,
         "del13": 1.0132443085024538,
         "island_Biscoe": 0,
         "island_Dream": 1,
         "island_Torgersen": 0,
         "_deepnote_index_column": 288
        },
        {
         "bill_length": 1.2066319931797596,
         "bill_depth": 1.2418609172911876,
         "flipper_length": 0.006039062227402486,
         "body_mass": -0.1895079210450919,
         "del15": 1.9666108933806283,
         "del13": 1.2320961885242279,
         "island_Biscoe": 0,
         "island_Dream": 1,
         "island_Torgersen": 0,
         "_deepnote_index_column": 289
        },
        {
         "bill_length": 1.1699454890532108,
         "bill_depth": 1.444710557273795,
         "flipper_length": -0.2788380800859682,
         "body_mass": -1.1260933111812401,
         "del15": 2.3610448715533425,
         "del13": 1.4657055823475134,
         "island_Biscoe": 0,
         "island_Dream": 1,
         "island_Torgersen": 0,
         "_deepnote_index_column": 290
        },
        {
         "bill_length": 2.5823758979253184,
         "bill_depth": 0.32903753736945063,
         "flipper_length": -1.4183466493394512,
         "body_mass": -0.6265811031086278,
         "del15": 0.7479499746789143,
         "del13": 1.4235595576886713,
         "island_Biscoe": 0,
         "island_Dream": 1,
         "island_Torgersen": 0,
         "_deepnote_index_column": 291
        },
        {
         "bill_length": 0.4545586585855207,
         "bill_depth": 0.7347368173346673,
         "flipper_length": -0.777373079134367,
         "body_mass": -0.9387762331540105,
         "del15": 1.0741692754001333,
         "del13": 1.344545369209728,
         "island_Biscoe": 0,
         "island_Dream": 1,
         "island_Torgersen": 0,
         "_deepnote_index_column": 292
        },
        {
         "bill_length": 0.9681697163571966,
         "bill_depth": 0.531887177352058,
         "flipper_length": -0.42127665124265357,
         "body_mass": 0.24756526101844395,
         "del15": 0.9831120683433227,
         "del13": 1.34232918007113,
         "island_Biscoe": 0,
         "island_Dream": 1,
         "island_Torgersen": 0,
         "_deepnote_index_column": 293
        },
        {
         "bill_length": -0.27917142394544386,
         "bill_depth": 0.07547548739119044,
         "flipper_length": -1.4183466493394512,
         "body_mass": -0.7514591551267809,
         "del15": 1.1299963441293266,
         "del13": 1.2852591071668371,
         "island_Biscoe": 0,
         "island_Dream": 1,
         "island_Torgersen": 0,
         "_deepnote_index_column": 294
        },
        {
         "bill_length": 0.8397669519142773,
         "bill_depth": 0.17690030738249415,
         "flipper_length": -0.7061537935560243,
         "body_mass": -1.0012152591630872,
         "del15": 1.2685608589309583,
         "del13": 1.8286097563779928,
         "island_Biscoe": 0,
         "island_Dream": 1,
         "island_Torgersen": 0,
         "_deepnote_index_column": 295
        },
        {
         "bill_length": -0.1324254074392502,
         "bill_depth": -0.2795113825783735,
         "flipper_length": -0.9910309358693951,
         "body_mass": -1.6256055192538525,
         "del15": 1.1351133652657304,
         "del13": 0.870268083208438,
         "island_Biscoe": 0,
         "island_Dream": 1,
         "island_Torgersen": 0,
         "_deepnote_index_column": 296
        },
        {
         "bill_length": 1.224975245243034,
         "bill_depth": 1.1404360972998822,
         "flipper_length": -0.5637152223993389,
         "body_mass": -0.5017030510904746,
         "del15": 1.001426586439447,
         "del13": 0.9221627780087274,
         "island_Biscoe": 0,
         "island_Dream": 1,
         "island_Torgersen": 0,
         "_deepnote_index_column": 297
        },
        {
         "bill_length": 0.5095884147753438,
         "bill_depth": 0.3797499473651016,
         "flipper_length": -0.42127665124265357,
         "body_mass": -1.1260933111812401,
         "del15": 1.8479622665991051,
         "del13": 1.404689924156005,
         "island_Biscoe": 0,
         "island_Dream": 1,
         "island_Torgersen": 0,
         "_deepnote_index_column": 298
        },
        {
         "bill_length": 1.4817807741288713,
         "bill_depth": 0.9375864573172747,
         "flipper_length": -0.2788380800859682,
         "body_mass": -0.0646298690269388,
         "del15": 1.1605696250918016,
         "del13": 1.5625773873536393,
         "island_Biscoe": 0,
         "island_Dream": 1,
         "island_Torgersen": 0,
         "_deepnote_index_column": 299
        },
        {
         "bill_length": 1.2066319931797596,
         "bill_depth": 0.6333119973433617,
         "flipper_length": -0.06518022335094019,
         "body_mass": -1.0012152591630872,
         "del15": 0.3726035897380405,
         "del13": 2.307178506896218,
         "island_Biscoe": 0,
         "island_Dream": 1,
         "island_Torgersen": 0,
         "_deepnote_index_column": 300
        },
        {
         "bill_length": 1.0231994725470186,
         "bill_depth": 0.9375864573172747,
         "flipper_length": -0.06518022335094019,
         "body_mass": -0.5017030510904746,
         "del15": 1.6442017486854368,
         "del13": 1.7221686260162001,
         "island_Biscoe": 0,
         "island_Dream": 1,
         "island_Torgersen": 0,
         "_deepnote_index_column": 301
        },
        {
         "bill_length": 0.4545586585855207,
         "bill_depth": 0.32903753736945063,
         "flipper_length": -0.7061537935560243,
         "body_mass": -0.6265811031086278,
         "del15": 1.1710613590765147,
         "del13": 1.4888666803971102,
         "island_Biscoe": 0,
         "island_Dream": 1,
         "island_Torgersen": 0,
         "_deepnote_index_column": 302
        },
        {
         "bill_length": 1.6285267906350638,
         "bill_depth": 1.444710557273795,
         "flipper_length": 0.2909162045407732,
         "body_mass": 0.4348823390456736,
         "del15": 0.9466486911087278,
         "del13": 1.2743959372851634,
         "island_Biscoe": 0,
         "island_Dream": 1,
         "island_Torgersen": 0,
         "_deepnote_index_column": 303
        },
        {
         "bill_length": -0.5543202048945556,
         "bill_depth": -0.2795113825783735,
         "flipper_length": -0.9910309358693951,
         "body_mass": -1.2509713631993933,
         "del15": 0.6389095674412868,
         "del13": 1.4631563243210375,
         "island_Biscoe": 0,
         "island_Dream": 1,
         "island_Torgersen": 0,
         "_deepnote_index_column": 304
        },
        {
         "bill_length": 1.8853323195209024,
         "bill_depth": 1.8504098372390119,
         "flipper_length": 0.006039062227402486,
         "body_mass": 0.12268720900029084,
         "del15": 1.3903570059078976,
         "del13": 1.397913253321804,
         "island_Biscoe": 0,
         "island_Dream": 1,
         "island_Torgersen": 0,
         "_deepnote_index_column": 305
        },
        {
         "bill_length": -0.2608281718821695,
         "bill_depth": -0.22879897258272253,
         "flipper_length": -0.9910309358693951,
         "body_mass": -1.0636542851721635,
         "del15": 1.158158366930402,
         "del13": 1.5875191229192183,
         "island_Biscoe": 0,
         "island_Dream": 1,
         "island_Torgersen": 0,
         "_deepnote_index_column": 306
        },
        {
         "bill_length": 1.2983482534961301,
         "bill_depth": 0.836161637325971,
         "flipper_length": 0.14847763338408784,
         "body_mass": -0.12706889503601534,
         "del15": 0.910185313874133,
         "del13": 1.9450941947435967,
         "island_Biscoe": 0,
         "island_Dream": 1,
         "island_Torgersen": 0,
         "_deepnote_index_column": 307
        },
        {
         "bill_length": 1.0598859766735673,
         "bill_depth": 0.7347368173346673,
         "flipper_length": -0.42127665124265357,
         "body_mass": -0.7514591551267809,
         "del15": 1.87266385784031,
         "del13": 1.766825477675995,
         "island_Biscoe": 0,
         "island_Dream": 1,
         "island_Torgersen": 0,
         "_deepnote_index_column": 308
        },
        {
         "bill_length": 0.6563344312815362,
         "bill_depth": -0.17808656258706976,
         "flipper_length": -0.13639950892928288,
         "body_mass": -0.3768249990723216,
         "del15": 0.6272582207529983,
         "del13": 0.6990578644955507,
         "island_Biscoe": 0,
         "island_Dream": 1,
         "island_Torgersen": 0,
         "_deepnote_index_column": 309
        },
        {
         "bill_length": 0.6746776833448106,
         "bill_depth": 0.5825995873477108,
         "flipper_length": -0.42127665124265357,
         "body_mass": -0.4392640250813981,
         "del15": 0.1795556844192944,
         "del13": 1.3228062191045442,
         "island_Biscoe": 0,
         "island_Dream": 1,
         "island_Torgersen": 0,
         "_deepnote_index_column": 310
        },
        {
         "bill_length": 1.4817807741288713,
         "bill_depth": 1.799697427243359,
         "flipper_length": 0.6470126324324866,
         "body_mass": 0.7470774690910563,
         "del15": 1.2773960033391378,
         "del13": 1.2897427268113932,
         "island_Biscoe": 0,
         "island_Dream": 1,
         "island_Torgersen": 0,
         "_deepnote_index_column": 311
        },
        {
         "bill_length": 0.5462749189018913,
         "bill_depth": -0.2795113825783735,
         "flipper_length": -0.6349345079776816,
         "body_mass": -1.8753616232901589,
         "del15": 1.9665924868297786,
         "del13": 1.2219119667601603,
         "island_Biscoe": 0,
         "island_Dream": 1,
         "island_Torgersen": 0,
         "_deepnote_index_column": 312
        },
        {
         "bill_length": 1.756929555077983,
         "bill_depth": 1.3939981472781424,
         "flipper_length": 0.2909162045407732,
         "body_mass": 0.37244331303659706,
         "del15": 2.3707083107497904,
         "del13": 1.0030985177639142,
         "island_Biscoe": 0,
         "island_Dream": 1,
         "island_Torgersen": 0,
         "_deepnote_index_column": 313
        },
        {
         "bill_length": 0.9314832122306479,
         "bill_depth": 1.191148507295535,
         "flipper_length": 0.6470126324324866,
         "body_mass": -0.314385973063245,
         "del15": 1.463596671741545,
         "del13": 1.3098933945282205,
         "island_Biscoe": 0,
         "island_Dream": 1,
         "island_Torgersen": 0,
         "_deepnote_index_column": 314
        },
        {
         "bill_length": 0.41787215445897324,
         "bill_depth": 0.17690030738249415,
         "flipper_length": -0.9910309358693951,
         "body_mass": -0.6890201291177043,
         "del15": 1.6195369705459346,
         "del13": 1.3185916166386604,
         "island_Biscoe": 0,
         "island_Dream": 1,
         "island_Torgersen": 0,
         "_deepnote_index_column": 315
        },
        {
         "bill_length": 1.280005001432856,
         "bill_depth": 0.9882988673129275,
         "flipper_length": -0.3500573656643109,
         "body_mass": -0.8138981811358574,
         "del15": 2.367542384003528,
         "del13": 1.0571837810191196,
         "island_Biscoe": 0,
         "island_Dream": 1,
         "island_Torgersen": 0,
         "_deepnote_index_column": 316
        },
        {
         "bill_length": 0.28946939001605393,
         "bill_depth": -0.07666174259576604,
         "flipper_length": -0.3500573656643109,
         "body_mass": -0.876337207144934,
         "del15": 1.154937220531584,
         "del13": 1.3176820823679054,
         "island_Biscoe": 0,
         "island_Dream": 1,
         "island_Torgersen": 0,
         "_deepnote_index_column": 317
        },
        {
         "bill_length": 1.280005001432856,
         "bill_depth": 0.3797499473651016,
         "flipper_length": -0.3500573656643109,
         "body_mass": -0.6578006161131661,
         "del15": 1.2872987276966414,
         "del13": 1.9542663995021803,
         "island_Biscoe": 0,
         "island_Dream": 1,
         "island_Torgersen": 0,
         "_deepnote_index_column": 318
        },
        {
         "bill_length": 1.2616617493695814,
         "bill_depth": 0.6840244073390146,
         "flipper_length": 0.006039062227402486,
         "body_mass": 0.3100042870275205,
         "del15": 1.3267439661689988,
         "del13": 1.7107546114353407,
         "island_Biscoe": 0,
         "island_Dream": 1,
         "island_Torgersen": 0,
         "_deepnote_index_column": 319
        },
        {
         "bill_length": 1.1332589849266634,
         "bill_depth": 0.3797499473651016,
         "flipper_length": -0.777373079134367,
         "body_mass": -1.0012152591630872,
         "del15": 1.345003264612571,
         "del13": 1.5807808831105408,
         "island_Biscoe": 0,
         "island_Dream": 1,
         "island_Torgersen": 0,
         "_deepnote_index_column": 320
        },
        {
         "bill_length": 0.9314832122306479,
         "bill_depth": 1.2418609172911876,
         "flipper_length": 0.789451203589172,
         "body_mass": 0.12268720900029084,
         "del15": 1.1106878722872804,
         "del13": 1.5875959849702694,
         "island_Biscoe": 0,
         "island_Dream": 1,
         "island_Torgersen": 0,
         "_deepnote_index_column": 321
        },
        {
         "bill_length": 1.3900645138125007,
         "bill_depth": 0.7854492273303183,
         "flipper_length": -0.9910309358693951,
         "body_mass": -1.1885323371903167,
         "del15": 1.7523586414822503,
         "del13": 1.6148435820673344,
         "island_Biscoe": 0,
         "island_Dream": 1,
         "island_Torgersen": 0,
         "_deepnote_index_column": 322
        },
        {
         "bill_length": 1.0782292287368402,
         "bill_depth": 0.07547548739119044,
         "flipper_length": -0.20761879450762555,
         "body_mass": -0.6578006161131661,
         "del15": 1.0753472946545586,
         "del13": 1.6340590948297244,
         "island_Biscoe": 0,
         "island_Dream": 1,
         "island_Torgersen": 0,
         "_deepnote_index_column": 323
        },
        {
         "bill_length": 0.7663939436611812,
         "bill_depth": -0.380936202569679,
         "flipper_length": -0.13639950892928288,
         "body_mass": -1.0948737981767018,
         "del15": 1.347027985206114,
         "del13": 1.5464235462913878,
         "island_Biscoe": 0,
         "island_Dream": 1,
         "island_Torgersen": 0,
         "_deepnote_index_column": 324
        },
        {
         "bill_length": 1.3717212617492265,
         "bill_depth": 0.9375864573172747,
         "flipper_length": 0.006039062227402486,
         "body_mass": -0.314385973063245,
         "del15": 1.2891025696799787,
         "del13": 1.7027225271006612,
         "island_Biscoe": 0,
         "island_Dream": 1,
         "island_Torgersen": 0,
         "_deepnote_index_column": 325
        },
        {
         "bill_length": 0.32615589414260265,
         "bill_depth": 0.07547548739119044,
         "flipper_length": -0.5637152223993389,
         "body_mass": -0.7514591551267809,
         "del15": 1.2470988206394178,
         "del13": 1.1352500042017843,
         "island_Biscoe": 0,
         "island_Dream": 1,
         "island_Torgersen": 0,
         "_deepnote_index_column": 326
        },
        {
         "bill_length": 1.2433184973063083,
         "bill_depth": 1.2925733272868387,
         "flipper_length": 0.14847763338408784,
         "body_mass": -0.1895079210450919,
         "del15": 2.2084177519020227,
         "del13": 1.4098268712344848,
         "island_Biscoe": 0,
         "island_Dream": 1,
         "island_Torgersen": 0,
         "_deepnote_index_column": 327
        },
        {
         "bill_length": -0.2608281718821695,
         "bill_depth": 0.07547548739119044,
         "flipper_length": -0.9910309358693951,
         "body_mass": -1.0636542851721635,
         "del15": 1.5238229061239785,
         "del13": 1.38656329045015,
         "island_Biscoe": 0,
         "island_Dream": 1,
         "island_Torgersen": 0,
         "_deepnote_index_column": 328
        },
        {
         "bill_length": 1.51846727825542,
         "bill_depth": 0.836161637325971,
         "flipper_length": -0.2788380800859682,
         "body_mass": -0.9387762331540105,
         "del15": 1.910250034676778,
         "del13": 1.4429416048950001,
         "island_Biscoe": 0,
         "island_Dream": 1,
         "island_Torgersen": 0,
         "_deepnote_index_column": 329
        },
        {
         "bill_length": 0.23443963382623212,
         "bill_depth": -0.2795113825783735,
         "flipper_length": -0.7061537935560243,
         "body_mass": -1.1885323371903167,
         "del15": 1.6310042517257197,
         "del13": 1.1546704824336367,
         "island_Biscoe": 0,
         "island_Dream": 1,
         "island_Torgersen": 0,
         "_deepnote_index_column": 330
        },
        {
         "bill_length": 0.9865129684204698,
         "bill_depth": 1.3939981472781424,
         "flipper_length": 0.14847763338408784,
         "body_mass": -0.1895079210450919,
         "del15": 2.1178943348198724,
         "del13": 1.404100648431291,
         "island_Biscoe": 0,
         "island_Dream": 1,
         "island_Torgersen": 0,
         "_deepnote_index_column": 331
        },
        {
         "bill_length": 1.151602236989938,
         "bill_depth": 0.836161637325971,
         "flipper_length": 0.07725834780574517,
         "body_mass": -0.5017030510904746,
         "del15": 1.8543677462950354,
         "del13": 1.648944712049656,
         "island_Biscoe": 0,
         "island_Dream": 1,
         "island_Torgersen": 0,
         "_deepnote_index_column": 332
        },
        {
         "bill_length": 0.3078126420793283,
         "bill_depth": 1.1404360972998822,
         "flipper_length": -0.4924959368209963,
         "body_mass": -0.8451176941403957,
         "del15": 1.348058752053732,
         "del13": 1.3237413740589814,
         "island_Biscoe": 0,
         "island_Dream": 1,
         "island_Torgersen": 0,
         "_deepnote_index_column": 333
        },
        {
         "bill_length": 1.463437522065597,
         "bill_depth": 1.191148507295535,
         "flipper_length": 0.3621354901191159,
         "body_mass": -0.314385973063245,
         "del15": 1.1387850600734217,
         "del13": 2.4384845107725477,
         "island_Biscoe": 0,
         "island_Dream": 1,
         "island_Torgersen": 0,
         "_deepnote_index_column": 334
        },
        {
         "bill_length": 0.5279316668386169,
         "bill_depth": -0.33022379257402623,
         "flipper_length": -0.8485923647127097,
         "body_mass": -0.6890201291177043,
         "del15": 1.6807755652251364,
         "del13": 1.5496261317517876,
         "island_Biscoe": 0,
         "island_Dream": 1,
         "island_Torgersen": 0,
         "_deepnote_index_column": 335
        },
        {
         "bill_length": 0.32615589414260265,
         "bill_depth": -0.07666174259576604,
         "flipper_length": -0.42127665124265357,
         "body_mass": -0.6890201291177043,
         "del15": 0.9749579663166074,
         "del13": 1.7576788936010936,
         "island_Biscoe": 0,
         "island_Dream": 1,
         "island_Torgersen": 0,
         "_deepnote_index_column": 336
        },
        {
         "bill_length": 2.178824352533287,
         "bill_depth": 1.3432857372824913,
         "flipper_length": 0.43335477569745856,
         "body_mass": -0.2519469470541685,
         "del15": 1.7802445660205708,
         "del13": 1.481206095975841,
         "island_Biscoe": 0,
         "island_Dream": 1,
         "island_Torgersen": 0,
         "_deepnote_index_column": 337
        },
        {
         "bill_length": -0.07739565124942835,
         "bill_depth": 0.48117476735640713,
         "flipper_length": 0.07725834780574517,
         "body_mass": -1.0012152591630872,
         "del15": 1.1754605247297547,
         "del13": 1.644422661379572,
         "island_Biscoe": 0,
         "island_Dream": 1,
         "island_Torgersen": 0,
         "_deepnote_index_column": 338
        },
        {
         "bill_length": 1.0415427246102928,
         "bill_depth": 0.531887177352058,
         "flipper_length": -0.5637152223993389,
         "body_mass": -0.5329225640950129,
         "del15": 1.3332414786191809,
         "del13": 1.2618802333059278,
         "island_Biscoe": 0,
         "island_Dream": 1,
         "island_Torgersen": 0,
         "_deepnote_index_column": 339
        },
        {
         "bill_length": 1.2616617493695814,
         "bill_depth": 0.9375864573172747,
         "flipper_length": 0.6470126324324866,
         "body_mass": -0.12706889503601534,
         "del15": 2.287878831923097,
         "del13": 1.285886813917074,
         "island_Biscoe": 0,
         "island_Dream": 1,
         "island_Torgersen": 0,
         "_deepnote_index_column": 340
        },
        {
         "bill_length": 1.151602236989938,
         "bill_depth": 0.7854492273303183,
         "flipper_length": -0.20761879450762555,
         "body_mass": -0.5329225640950129,
         "del15": 1.2066964415228445,
         "del13": 1.8429573392405798,
         "island_Biscoe": 0,
         "island_Dream": 1,
         "island_Torgersen": 0,
         "_deepnote_index_column": 341
        }
       ]
      },
      "text/plain": "     bill_length  bill_depth  flipper_length  body_mass     del15     del13  \\\n0      -0.884499    0.785449       -1.418347  -0.564142  0.225043 -0.144751   \n1      -0.811126    0.126188       -1.062250  -0.501703  0.390384  1.276753   \n2      -0.664380    0.430462       -0.421277  -1.188532 -0.679681  0.458838   \n3      -1.324737    1.089724       -0.563715  -0.938776  0.053452  0.470060   \n4      -0.847812    1.748985       -0.777373  -0.689020 -0.133466  0.503636   \n..           ...         ...             ...        ...       ...       ...   \n337     2.178824    1.343286        0.433355  -0.251947  1.780245  1.481206   \n338    -0.077396    0.481175        0.077258  -1.001215  1.175461  1.644423   \n339     1.041543    0.531887       -0.563715  -0.532923  1.333241  1.261880   \n340     1.261662    0.937586        0.647013  -0.127069  2.287879  1.285887   \n341     1.151602    0.785449       -0.207619  -0.532923  1.206696  1.842957   \n\n     island_Biscoe  island_Dream  island_Torgersen  \n0                0             0                 1  \n1                0             0                 1  \n2                0             0                 1  \n3                0             0                 1  \n4                0             0                 1  \n..             ...           ...               ...  \n337              0             1                 0  \n338              0             1                 0  \n339              0             1                 0  \n340              0             1                 0  \n341              0             1                 0  \n\n[342 rows x 9 columns]",
      "text/html": "<div>\n<style scoped>\n    .dataframe tbody tr th:only-of-type {\n        vertical-align: middle;\n    }\n\n    .dataframe tbody tr th {\n        vertical-align: top;\n    }\n\n    .dataframe thead th {\n        text-align: right;\n    }\n</style>\n<table border=\"1\" class=\"dataframe\">\n  <thead>\n    <tr style=\"text-align: right;\">\n      <th></th>\n      <th>bill_length</th>\n      <th>bill_depth</th>\n      <th>flipper_length</th>\n      <th>body_mass</th>\n      <th>del15</th>\n      <th>del13</th>\n      <th>island_Biscoe</th>\n      <th>island_Dream</th>\n      <th>island_Torgersen</th>\n    </tr>\n  </thead>\n  <tbody>\n    <tr>\n      <th>0</th>\n      <td>-0.884499</td>\n      <td>0.785449</td>\n      <td>-1.418347</td>\n      <td>-0.564142</td>\n      <td>0.225043</td>\n      <td>-0.144751</td>\n      <td>0</td>\n      <td>0</td>\n      <td>1</td>\n    </tr>\n    <tr>\n      <th>1</th>\n      <td>-0.811126</td>\n      <td>0.126188</td>\n      <td>-1.062250</td>\n      <td>-0.501703</td>\n      <td>0.390384</td>\n      <td>1.276753</td>\n      <td>0</td>\n      <td>0</td>\n      <td>1</td>\n    </tr>\n    <tr>\n      <th>2</th>\n      <td>-0.664380</td>\n      <td>0.430462</td>\n      <td>-0.421277</td>\n      <td>-1.188532</td>\n      <td>-0.679681</td>\n      <td>0.458838</td>\n      <td>0</td>\n      <td>0</td>\n      <td>1</td>\n    </tr>\n    <tr>\n      <th>3</th>\n      <td>-1.324737</td>\n      <td>1.089724</td>\n      <td>-0.563715</td>\n      <td>-0.938776</td>\n      <td>0.053452</td>\n      <td>0.470060</td>\n      <td>0</td>\n      <td>0</td>\n      <td>1</td>\n    </tr>\n    <tr>\n      <th>4</th>\n      <td>-0.847812</td>\n      <td>1.748985</td>\n      <td>-0.777373</td>\n      <td>-0.689020</td>\n      <td>-0.133466</td>\n      <td>0.503636</td>\n      <td>0</td>\n      <td>0</td>\n      <td>1</td>\n    </tr>\n    <tr>\n      <th>...</th>\n      <td>...</td>\n      <td>...</td>\n      <td>...</td>\n      <td>...</td>\n      <td>...</td>\n      <td>...</td>\n      <td>...</td>\n      <td>...</td>\n      <td>...</td>\n    </tr>\n    <tr>\n      <th>337</th>\n      <td>2.178824</td>\n      <td>1.343286</td>\n      <td>0.433355</td>\n      <td>-0.251947</td>\n      <td>1.780245</td>\n      <td>1.481206</td>\n      <td>0</td>\n      <td>1</td>\n      <td>0</td>\n    </tr>\n    <tr>\n      <th>338</th>\n      <td>-0.077396</td>\n      <td>0.481175</td>\n      <td>0.077258</td>\n      <td>-1.001215</td>\n      <td>1.175461</td>\n      <td>1.644423</td>\n      <td>0</td>\n      <td>1</td>\n      <td>0</td>\n    </tr>\n    <tr>\n      <th>339</th>\n      <td>1.041543</td>\n      <td>0.531887</td>\n      <td>-0.563715</td>\n      <td>-0.532923</td>\n      <td>1.333241</td>\n      <td>1.261880</td>\n      <td>0</td>\n      <td>1</td>\n      <td>0</td>\n    </tr>\n    <tr>\n      <th>340</th>\n      <td>1.261662</td>\n      <td>0.937586</td>\n      <td>0.647013</td>\n      <td>-0.127069</td>\n      <td>2.287879</td>\n      <td>1.285887</td>\n      <td>0</td>\n      <td>1</td>\n      <td>0</td>\n    </tr>\n    <tr>\n      <th>341</th>\n      <td>1.151602</td>\n      <td>0.785449</td>\n      <td>-0.207619</td>\n      <td>-0.532923</td>\n      <td>1.206696</td>\n      <td>1.842957</td>\n      <td>0</td>\n      <td>1</td>\n      <td>0</td>\n    </tr>\n  </tbody>\n</table>\n<p>342 rows × 9 columns</p>\n</div>"
     },
     "metadata": {}
    }
   ]
  },
  {
   "cell_type": "markdown",
   "source": "## Séparation du jeu de données",
   "metadata": {
    "cell_id": "00015-dc277be6-2bc4-472e-b136-a77841ee2453",
    "deepnote_cell_type": "markdown"
   }
  },
  {
   "cell_type": "code",
   "metadata": {
    "cell_id": "00016-d2bcd17e-ce56-4a9f-9273-5bdfff078464",
    "deepnote_to_be_reexecuted": false,
    "source_hash": "f7c4ae0d",
    "execution_start": 1622918283073,
    "execution_millis": 179977,
    "deepnote_cell_type": "code"
   },
   "source": "from sklearn.model_selection import train_test_split\nX = X_scaled\ny = data['species']\nX_train,X_test,y_train,y_test=train_test_split(X_scaled,data['species'],test_size=0.25)",
   "execution_count": null,
   "outputs": []
  },
  {
   "cell_type": "markdown",
   "source": "# Application des méthodes",
   "metadata": {
    "cell_id": "00017-dd38d00a-7c57-4d53-9c4c-ca55d3bd7554",
    "deepnote_cell_type": "markdown"
   }
  },
  {
   "cell_type": "markdown",
   "source": "## KNN",
   "metadata": {
    "cell_id": "00018-f5aab213-d292-4ad8-94e4-2cd4dd148e2e",
    "deepnote_cell_type": "markdown"
   }
  },
  {
   "cell_type": "code",
   "metadata": {
    "cell_id": "00019-a3cb01af-ef56-435e-9fc5-4360e4f11202",
    "deepnote_to_be_reexecuted": false,
    "source_hash": "3f66f9dc",
    "execution_start": 1622918283151,
    "execution_millis": 179918,
    "deepnote_cell_type": "code"
   },
   "source": "from sklearn.neighbors import KNeighborsClassifier\nfrom sklearn.model_selection import GridSearchCV\nfrom sklearn.metrics import confusion_matrix,accuracy_score,classification_report",
   "execution_count": null,
   "outputs": []
  },
  {
   "cell_type": "code",
   "metadata": {
    "cell_id": "00020-258c6fcd-2110-4f4d-8fc6-202ddf4bf299",
    "deepnote_to_be_reexecuted": false,
    "source_hash": "793d2d73",
    "execution_start": 1622918283152,
    "execution_millis": 12772,
    "deepnote_cell_type": "code"
   },
   "source": "n_neighbors_list = np.arange(1, 100)\n# hyper-paramètre\nparam_grid = {\"n_neighbors\": n_neighbors_list}\ncls = KNeighborsClassifier()\nsearch = GridSearchCV(cls, param_grid, cv=10)\nsearch.fit(X_train, y_train)\nprint(search.best_params_)\nprint(search.best_score_)",
   "execution_count": null,
   "outputs": [
    {
     "name": "stdout",
     "text": "{'n_neighbors': 2}\n0.9961538461538462\n",
     "output_type": "stream"
    }
   ]
  },
  {
   "cell_type": "code",
   "metadata": {
    "cell_id": "00021-ab1589e4-688f-49fd-8a20-94a09f348261",
    "deepnote_to_be_reexecuted": false,
    "source_hash": "1302a53b",
    "execution_start": 1622918295925,
    "execution_millis": 294,
    "deepnote_cell_type": "code"
   },
   "source": "dfgrid = pd.DataFrame(\n    dict(n_neighbors = d[\"n_neighbors\"], error=e, std=s)\n    for d, e, s in zip(\n        search.cv_results_[\"params\"],\n        search.cv_results_[\"mean_test_score\"],\n        search.cv_results_[\"std_test_score\"],\n    )\n)\nplt.errorbar(dfgrid[\"n_neighbors\"], dfgrid[\"error\"], yerr=dfgrid[\"std\"])\nplt.show()",
   "execution_count": null,
   "outputs": [
    {
     "data": {
      "text/plain": "<Figure size 432x288 with 1 Axes>",
      "image/png": "[encoded data removed]"
     },
     "metadata": {
      "needs_background": "light",
      "image/png": {
       "width": 378,
       "height": 248
      }
     },
     "output_type": "display_data"
    }
   ]
  },
  {
   "cell_type": "code",
   "metadata": {
    "cell_id": "00022-2987c1d3-8fb5-4ba8-ad05-cce4f9b23b3f",
    "deepnote_to_be_reexecuted": false,
    "source_hash": "605425de",
    "execution_start": 1622918296223,
    "execution_millis": 15,
    "deepnote_cell_type": "code"
   },
   "source": "knn = KNeighborsClassifier(n_neighbors=2)\nknn.fit(X,y)\npreds_knn = knn.predict(X_test)\nprint(confusion_matrix(y_test,preds_knn))\nprint(classification_report(y_test, preds_knn))",
   "execution_count": null,
   "outputs": [
    {
     "name": "stdout",
     "text": "[[47  0  0]\n [ 0 12  0]\n [ 0  0 27]]\n              precision    recall  f1-score   support\n\n      Adelie       1.00      1.00      1.00        47\n   Chinstrap       1.00      1.00      1.00        12\n      Gentoo       1.00      1.00      1.00        27\n\n    accuracy                           1.00        86\n   macro avg       1.00      1.00      1.00        86\nweighted avg       1.00      1.00      1.00        86\n\n",
     "output_type": "stream"
    }
   ]
  },
  {
   "cell_type": "markdown",
   "source": "## Apprentissage avec PCA",
   "metadata": {
    "cell_id": "00023-a176d610-9295-43dc-8526-d7db3f33abe9",
    "deepnote_cell_type": "markdown"
   }
  },
  {
   "cell_type": "code",
   "metadata": {
    "cell_id": "00024-7cb188d9-0cea-4b89-94ba-5ee09b9e7c65",
    "deepnote_to_be_reexecuted": false,
    "source_hash": "2969eaf1",
    "execution_start": 1622918296307,
    "deepnote_cell_type": "code"
   },
   "source": "from sklearn.decomposition import PCA\npca = PCA().fit(X_scaled)\nprint('Ratios:',pca.explained_variance_ratio_*100)#Ratio per component.",
   "execution_count": null,
   "outputs": [
    {
     "name": "stdout",
     "text": "Ratios: [5.40936484e+01 2.29864840e+01 8.27458313e+00 5.56729016e+00\n 3.08389327e+00 2.32667814e+00 2.20703257e+00 1.46039027e+00\n 1.68677986e-31]\n",
     "output_type": "stream"
    }
   ]
  },
  {
   "cell_type": "code",
   "metadata": {
    "cell_id": "00025-3329e096-2e00-4e65-bf44-0c9cace60c7a",
    "deepnote_to_be_reexecuted": false,
    "source_hash": "968d066f",
    "execution_start": 1622918296386,
    "execution_millis": 198,
    "deepnote_cell_type": "code"
   },
   "source": "plt.bar(range(len(pca.explained_variance_ratio_)), pca.explained_variance_ratio_, alpha=0.5)\nplt.step(range(len(pca.explained_variance_ratio_)), np.cumsum(pca.explained_variance_ratio_))\nplt.ylabel(\"Explained variance ratio\")\nplt.xlabel(\"Principal components\")\nplt.show()",
   "execution_count": null,
   "outputs": [
    {
     "data": {
      "text/plain": "<Figure size 432x288 with 1 Axes>",
      "image/png": "[encoded data removed]"
     },
     "metadata": {
      "needs_background": "light",
      "image/png": {
       "width": 386,
       "height": 262
      }
     },
     "output_type": "display_data"
    }
   ]
  },
  {
   "cell_type": "code",
   "metadata": {
    "cell_id": "00026-7d3bf66c-3404-4580-ae8e-9b90884ad2b2",
    "deepnote_to_be_reexecuted": false,
    "source_hash": "a88e8542",
    "execution_start": 1622918296651,
    "deepnote_cell_type": "code"
   },
   "source": "pca = PCA(n_components=3)\nX = X_scaled\ny = data['species']\nX_train,X_test,y_train,y_test=train_test_split(X_scaled,data['species'],test_size=0.25)\nX_train_pca = pca.fit_transform(X_train) \nX_test_pca = pca.transform(X_test) ",
   "execution_count": null,
   "outputs": []
  },
  {
   "cell_type": "markdown",
   "source": "### KNN",
   "metadata": {
    "cell_id": "00027-31cd0f75-58dd-415c-9178-b247a0e0dabe",
    "deepnote_cell_type": "markdown"
   }
  },
  {
   "cell_type": "code",
   "metadata": {
    "cell_id": "00028-55d47dd1-f0da-4180-8679-61a7bb4ad77f",
    "deepnote_to_be_reexecuted": false,
    "source_hash": "c5cfc454",
    "execution_start": 1622918296694,
    "execution_millis": 6201,
    "deepnote_cell_type": "code"
   },
   "source": "n_neighbors_list = np.arange(1, 100)\n# hyper-paramètre\nparam_grid = {\"n_neighbors\": n_neighbors_list}\ncls = KNeighborsClassifier()\nsearch = GridSearchCV(cls, param_grid, cv=10)\nsearch.fit(X_train_pca, y_train)\nprint(search.best_params_)\nprint(search.best_score_)",
   "execution_count": null,
   "outputs": [
    {
     "name": "stdout",
     "text": "{'n_neighbors': 9}\n0.9961538461538462\n",
     "output_type": "stream"
    }
   ]
  },
  {
   "cell_type": "code",
   "metadata": {
    "cell_id": "00029-8d927867-7775-48a8-8531-5c7e60734bc5",
    "deepnote_to_be_reexecuted": false,
    "source_hash": "1302a53b",
    "execution_start": 1622918302955,
    "execution_millis": 228,
    "deepnote_cell_type": "code"
   },
   "source": "dfgrid = pd.DataFrame(\n    dict(n_neighbors = d[\"n_neighbors\"], error=e, std=s)\n    for d, e, s in zip(\n        search.cv_results_[\"params\"],\n        search.cv_results_[\"mean_test_score\"],\n        search.cv_results_[\"std_test_score\"],\n    )\n)\nplt.errorbar(dfgrid[\"n_neighbors\"], dfgrid[\"error\"], yerr=dfgrid[\"std\"])\nplt.show()",
   "execution_count": null,
   "outputs": [
    {
     "data": {
      "text/plain": "<Figure size 432x288 with 1 Axes>",
      "image/png": "[encoded data removed]"
     },
     "metadata": {
      "needs_background": "light",
      "image/png": {
       "width": 378,
       "height": 248
      }
     },
     "output_type": "display_data"
    }
   ]
  },
  {
   "cell_type": "code",
   "metadata": {
    "cell_id": "00030-8d78ce09-053a-4d75-8324-1cba1628133c",
    "deepnote_to_be_reexecuted": false,
    "source_hash": "72d4c1aa",
    "execution_start": 1622918303199,
    "deepnote_cell_type": "code"
   },
   "source": "knn = KNeighborsClassifier(n_neighbors=6)\nknn.fit(X_train_pca,y_train)\npreds_knn = knn.predict(X_test_pca)\nprint(confusion_matrix(y_test,preds_knn))\nprint(classification_report(y_test, preds_knn))",
   "execution_count": null,
   "outputs": [
    {
     "name": "stdout",
     "text": "[[42  1  0]\n [ 0 18  0]\n [ 0  0 25]]\n              precision    recall  f1-score   support\n\n      Adelie       1.00      0.98      0.99        43\n   Chinstrap       0.95      1.00      0.97        18\n      Gentoo       1.00      1.00      1.00        25\n\n    accuracy                           0.99        86\n   macro avg       0.98      0.99      0.99        86\nweighted avg       0.99      0.99      0.99        86\n\n",
     "output_type": "stream"
    }
   ]
  },
  {
   "cell_type": "code",
   "metadata": {
    "cell_id": "00031-a01c2846-7cad-4e5b-b866-c617e56c9b1e",
    "deepnote_to_be_reexecuted": false,
    "source_hash": "43012727",
    "execution_start": 1622918303262,
    "execution_millis": 468,
    "deepnote_cell_type": "code"
   },
   "source": "X_pca = X_test_pca\nex_variance=np.var(X_pca,axis=0)\nex_variance_ratio = ex_variance/np.sum(ex_variance)\nex_variance_ratio\n\n\nXax = X_pca[:,0]\nYax = X_pca[:,1]\nZax = X_pca[:,2]\n\ncdict = {'Adelie':'red','Chinstrap':'green','Gentoo':'blue'}\nmarker = {'Adelie':'*','Chinstrap':'x','Gentoo':'+'}\nalpha = {'0':.3, 1:.5}\n\nfig = plt.figure(figsize=(7,5))\nax = fig.add_subplot(111, projection='3d')\n\nfig.patch.set_facecolor('white')\nfor l in np.unique(preds_knn):\n    ix=np.where(preds_knn==l)\n    ax.scatter(Xax[ix], Yax[ix], Zax[ix], s=40,label=l, marker=marker[l])\n# for loop ends\nax.set_xlabel(\"First Principal Component\", fontsize=14)\nax.set_ylabel(\"Second Principal Component\", fontsize=14)\nax.set_zlabel(\"Third Principal Component\", fontsize=14)\n\nax.legend()\nplt.show()",
   "execution_count": null,
   "outputs": [
    {
     "data": {
      "text/plain": "<Figure size 504x360 with 1 Axes>",
      "image/png": "[encoded data removed]"
     },
     "metadata": {
      "image/png": {
       "width": 341,
       "height": 330
      }
     },
     "output_type": "display_data"
    }
   ]
  },
  {
   "cell_type": "code",
   "metadata": {
    "cell_id": "00032-e1059100-10ac-4617-a79f-26606493a2bb",
    "deepnote_to_be_reexecuted": false,
    "source_hash": "9ddd06ad",
    "execution_start": 1622918325827,
    "execution_millis": 600,
    "deepnote_cell_type": "code"
   },
   "source": "import seaborn as sns\nsns.scatterplot(x=X_test_pca[:,0], y=X_test_pca[:,1], hue=preds_knn)",
   "execution_count": null,
   "outputs": [
    {
     "output_type": "execute_result",
     "execution_count": 24,
     "data": {
      "text/plain": "<AxesSubplot:>"
     },
     "metadata": {}
    },
    {
     "data": {
      "text/plain": "<Figure size 432x288 with 1 Axes>",
      "image/png": "[encoded data removed]"
     },
     "metadata": {
      "needs_background": "light",
      "image/png": {
       "width": 370,
       "height": 248
      }
     },
     "output_type": "display_data"
    }
   ]
  },
  {
   "cell_type": "markdown",
   "source": "## Analyse discriminante",
   "metadata": {
    "cell_id": "00033-4c35ef89-fdfa-4e96-a95c-9ccd8348a60d",
    "deepnote_cell_type": "markdown"
   }
  },
  {
   "cell_type": "code",
   "metadata": {
    "cell_id": "00034-70c13fd4-f1bf-4666-8ced-1ba9dcace404",
    "deepnote_to_be_reexecuted": false,
    "source_hash": "49c128ed",
    "execution_start": 1622918329126,
    "execution_millis": 20,
    "deepnote_cell_type": "code"
   },
   "source": "from sklearn.model_selection import cross_val_score\nfrom sklearn.discriminant_analysis import LinearDiscriminantAnalysis\nfrom sklearn.discriminant_analysis import QuadraticDiscriminantAnalysis\nfrom sklearn.naive_bayes import GaussianNB",
   "execution_count": null,
   "outputs": []
  },
  {
   "cell_type": "code",
   "metadata": {
    "cell_id": "00035-645355ee-ae00-4b0a-9910-f890847a9bba",
    "deepnote_to_be_reexecuted": false,
    "source_hash": "89197aa4",
    "execution_start": 1622918329518,
    "execution_millis": 18,
    "deepnote_cell_type": "code"
   },
   "source": "def add_decision_boundary(\n    model, levels=None, resolution=100, ax=None, label=None, color=None, region=True\n):\n    \"\"\"Trace une frontière et des régions de décision sur une figure existante.\n\n    La fonction requiert un modèle scikit-learn `model` pour prédire\n    un score ou une classe. La discrétisation utilisée est fixée par\n    l'argument `resolution`. Une (ou plusieurs frontières) sont\n    ensuite tracées d'après le paramètre `levels` qui fixe la valeur\n    des lignes de niveaux recherchées.\n\n    \"\"\"\n\n    if ax is None:\n        ax = plt.gca()\n\n    # Create grid to evaluate model\n    xlim = ax.get_xlim()\n    ylim = ax.get_ylim()\n    xx = np.linspace(xlim[0], xlim[1], resolution)\n    yy = np.linspace(ylim[0], ylim[1], resolution)\n    XX, YY = np.meshgrid(xx, yy)\n    xy = np.vstack([XX.ravel(), YY.ravel()]).T\n    Z = model.predict(xy).reshape(XX.shape)\n\n    cat2num = {cat: num for num, cat in enumerate(model.classes_)}\n    num2cat = {num: cat for num, cat in enumerate(model.classes_)}\n    vcat2num = np.vectorize(lambda x: cat2num[x])\n    Z_num = vcat2num(Z)\n\n    # Add decision boundary to legend\n    color = \"b\" if color is None else color\n    sns.lineplot(x=[0], y=[0], label=label, ax=ax, color=color, linestyle=\"dashed\")\n    mask = np.zeros_like(Z_num, dtype=bool)\n    for k in range(len(model.classes_) - 1):\n        mask |= Z_num == k - 1\n        Z_num_mask = np.ma.array(Z_num, mask=mask)\n        ax.contour(\n            XX,\n            YY,\n            Z_num_mask,\n            levels=[k + 0.5],\n            linestyles=\"dashed\",\n            corner_mask=True,\n            colors=[color],\n            antialiased=True,\n        )\n\n    if region:\n        # Hack to get colors\n        # TODO use legend_out = True\n        slabels = [str(l) for l in model.classes_]\n        hdls, hlabels = ax.get_legend_handles_labels()\n        hlabels_hdls = {l: h for l, h in zip(hlabels, hdls)}\n\n        color_dict = {}\n        for label in model.classes_:\n            if str(label) in hlabels_hdls:\n                hdl = hlabels_hdls[str(label)]\n                color = hdl.get_facecolor().ravel()\n                color_dict[label] = color\n            else:\n                raise Exception(\"No corresponding label found for \", label)\n\n        colors = [color_dict[num2cat[i]] for i in range(len(model.classes_))]\n        cmap = mpl.colors.ListedColormap(colors)\n\n        ax.imshow(\n            Z_num,\n            interpolation=\"nearest\",\n            extent=ax.get_xlim() + ax.get_ylim(),\n            aspect=\"auto\",\n            origin=\"lower\",\n            cmap=cmap,\n            alpha=0.2,\n        )",
   "execution_count": null,
   "outputs": []
  },
  {
   "cell_type": "code",
   "metadata": {
    "cell_id": "00036-220ba852-eb67-4e61-a2d3-394a14670c62",
    "deepnote_to_be_reexecuted": false,
    "source_hash": "493f445",
    "execution_start": 1622918330712,
    "execution_millis": 3,
    "deepnote_cell_type": "code"
   },
   "source": "colors = sns.color_palette()",
   "execution_count": null,
   "outputs": []
  },
  {
   "cell_type": "code",
   "metadata": {
    "cell_id": "00037-f4097ba4-5236-4358-8940-e8defd77eb82",
    "deepnote_to_be_reexecuted": false,
    "source_hash": "2b7c064b",
    "execution_start": 1622918331171,
    "execution_millis": 9,
    "deepnote_cell_type": "code"
   },
   "source": "lda = LinearDiscriminantAnalysis()\nmodelLDA = lda.fit(X_train_pca[:, 0:2], y_train)",
   "execution_count": null,
   "outputs": []
  },
  {
   "cell_type": "code",
   "metadata": {
    "cell_id": "00038-d7ba2206-bc61-4d8f-b5d8-99d9c789f03a",
    "deepnote_to_be_reexecuted": false,
    "source_hash": "bf1daf05",
    "execution_start": 1622918332250,
    "execution_millis": 6,
    "deepnote_cell_type": "code"
   },
   "source": "print(modelLDA.priors_)",
   "execution_count": null,
   "outputs": [
    {
     "name": "stdout",
     "text": "[0.421875  0.1953125 0.3828125]\n",
     "output_type": "stream"
    }
   ]
  },
  {
   "cell_type": "code",
   "metadata": {
    "cell_id": "00039-b6df8bf0-22bb-4996-b874-717abc5ebe27",
    "deepnote_to_be_reexecuted": false,
    "source_hash": "6853e826",
    "execution_start": 1622918333360,
    "execution_millis": 17,
    "deepnote_cell_type": "code"
   },
   "source": "predLDA=modelLDA.predict(X_test_pca[:, 0:2])\nprint(np.unique(predLDA, return_counts=True))",
   "execution_count": null,
   "outputs": [
    {
     "name": "stdout",
     "text": "(array(['Adelie', 'Chinstrap', 'Gentoo'], dtype='<U9'), array([43, 18, 25]))\n",
     "output_type": "stream"
    }
   ]
  },
  {
   "cell_type": "code",
   "metadata": {
    "cell_id": "00040-83c9d7e5-5545-4512-b716-abbfeab32171",
    "deepnote_to_be_reexecuted": false,
    "source_hash": "f006c7d8",
    "execution_start": 1622918334356,
    "execution_millis": 21,
    "deepnote_cell_type": "code"
   },
   "source": "print(confusion_matrix(predLDA, y_test))\nprint(classification_report(y_test, predLDA, digits=3))",
   "execution_count": null,
   "outputs": [
    {
     "name": "stdout",
     "text": "[[42  1  0]\n [ 1 17  0]\n [ 0  0 25]]\n              precision    recall  f1-score   support\n\n      Adelie      0.977     0.977     0.977        43\n   Chinstrap      0.944     0.944     0.944        18\n      Gentoo      1.000     1.000     1.000        25\n\n    accuracy                          0.977        86\n   macro avg      0.974     0.974     0.974        86\nweighted avg      0.977     0.977     0.977        86\n\n",
     "output_type": "stream"
    }
   ]
  },
  {
   "cell_type": "code",
   "metadata": {
    "cell_id": "00041-6246dfaf-041e-4294-ade6-af768976fbd9",
    "deepnote_to_be_reexecuted": false,
    "source_hash": "5afcf353",
    "execution_start": 1622918335485,
    "execution_millis": 8,
    "deepnote_cell_type": "code"
   },
   "source": "qda = QuadraticDiscriminantAnalysis()\nmodelQDA = qda.fit(X_train_pca[:, 0:2], y_train)",
   "execution_count": null,
   "outputs": []
  },
  {
   "cell_type": "code",
   "metadata": {
    "cell_id": "00042-b8b24b00-002e-4c1d-8718-c97046745cf9",
    "deepnote_to_be_reexecuted": false,
    "source_hash": "4e53f5a4",
    "execution_start": 1622918336274,
    "execution_millis": 22,
    "deepnote_cell_type": "code"
   },
   "source": "print(modelQDA.priors_)",
   "execution_count": null,
   "outputs": [
    {
     "name": "stdout",
     "text": "[0.421875  0.1953125 0.3828125]\n",
     "output_type": "stream"
    }
   ]
  },
  {
   "cell_type": "code",
   "metadata": {
    "cell_id": "00043-de6c45f4-f066-4a2e-997a-d2a63d18d20e",
    "deepnote_to_be_reexecuted": false,
    "source_hash": "85b64c87",
    "execution_start": 1622918337190,
    "execution_millis": 3,
    "deepnote_cell_type": "code"
   },
   "source": "predQDA=modelQDA.predict(X_test_pca[:, 0:2])\nprint(np.unique(predQDA, return_counts=True))",
   "execution_count": null,
   "outputs": [
    {
     "name": "stdout",
     "text": "(array(['Adelie', 'Chinstrap', 'Gentoo'], dtype=object), array([43, 18, 25]))\n",
     "output_type": "stream"
    }
   ]
  },
  {
   "cell_type": "code",
   "metadata": {
    "cell_id": "00044-c5834e2e-c57e-4384-a404-4dde2992ae3d",
    "deepnote_to_be_reexecuted": false,
    "source_hash": "fc46516a",
    "execution_start": 1622918338051,
    "execution_millis": 3,
    "deepnote_cell_type": "code"
   },
   "source": "print(confusion_matrix(predQDA, y_test))\nprint(classification_report(y_test, predQDA, digits=3))",
   "execution_count": null,
   "outputs": [
    {
     "name": "stdout",
     "text": "[[42  1  0]\n [ 1 17  0]\n [ 0  0 25]]\n              precision    recall  f1-score   support\n\n      Adelie      0.977     0.977     0.977        43\n   Chinstrap      0.944     0.944     0.944        18\n      Gentoo      1.000     1.000     1.000        25\n\n    accuracy                          0.977        86\n   macro avg      0.974     0.974     0.974        86\nweighted avg      0.977     0.977     0.977        86\n\n",
     "output_type": "stream"
    }
   ]
  },
  {
   "cell_type": "code",
   "metadata": {
    "cell_id": "00045-ed8fb47f-6c33-45d7-8851-36cc9e16355c",
    "deepnote_to_be_reexecuted": false,
    "source_hash": "52f8986c",
    "execution_start": 1622918339092,
    "execution_millis": 18,
    "deepnote_cell_type": "code"
   },
   "source": "nb = GaussianNB()\nmodelNB = qda.fit(X_train_pca[:, 0:2], y_train)",
   "execution_count": null,
   "outputs": []
  },
  {
   "cell_type": "code",
   "metadata": {
    "cell_id": "00046-597be885-5e50-4387-9f45-a5aa659afb92",
    "deepnote_to_be_reexecuted": false,
    "source_hash": "27c76c8a",
    "execution_start": 1622918340410,
    "execution_millis": 4,
    "deepnote_cell_type": "code"
   },
   "source": "print(modelNB.priors_)",
   "execution_count": null,
   "outputs": [
    {
     "name": "stdout",
     "text": "[0.421875  0.1953125 0.3828125]\n",
     "output_type": "stream"
    }
   ]
  },
  {
   "cell_type": "code",
   "metadata": {
    "cell_id": "00047-c76d25c4-d86e-4a21-a637-44958996c52b",
    "deepnote_to_be_reexecuted": false,
    "source_hash": "f0fb8204",
    "execution_start": 1622918340962,
    "execution_millis": 0,
    "deepnote_cell_type": "code"
   },
   "source": "predNB=modelNB.predict(X_test_pca[:, 0:2])\nprint(np.unique(predNB, return_counts=True))",
   "execution_count": null,
   "outputs": [
    {
     "name": "stdout",
     "text": "(array(['Adelie', 'Chinstrap', 'Gentoo'], dtype=object), array([43, 18, 25]))\n",
     "output_type": "stream"
    }
   ]
  },
  {
   "cell_type": "code",
   "metadata": {
    "cell_id": "00048-282915ea-3512-4cac-9c8f-bfd13043e9d1",
    "deepnote_to_be_reexecuted": false,
    "source_hash": "b8cf3d57",
    "execution_start": 1622918341737,
    "execution_millis": 43,
    "deepnote_cell_type": "code"
   },
   "source": "print(confusion_matrix(predNB, y_test))\nprint(classification_report(y_test, predNB, digits=3))",
   "execution_count": null,
   "outputs": [
    {
     "name": "stdout",
     "text": "[[42  1  0]\n [ 1 17  0]\n [ 0  0 25]]\n              precision    recall  f1-score   support\n\n      Adelie      0.977     0.977     0.977        43\n   Chinstrap      0.944     0.944     0.944        18\n      Gentoo      1.000     1.000     1.000        25\n\n    accuracy                          0.977        86\n   macro avg      0.974     0.974     0.974        86\nweighted avg      0.977     0.977     0.977        86\n\n",
     "output_type": "stream"
    }
   ]
  },
  {
   "cell_type": "code",
   "metadata": {
    "cell_id": "00049-9fa6920d-568a-46fd-98b7-5e07f188bdd8",
    "deepnote_to_be_reexecuted": false,
    "source_hash": "84c1e1b3",
    "execution_start": 1622918342393,
    "execution_millis": 1875,
    "deepnote_cell_type": "code"
   },
   "source": "colors = sns.color_palette()\nfig, ax1 = plt.subplots(1, 1, figsize=(12,6))\nsns.scatterplot(x=X_train_pca[:,0], y=X_train_pca[:,1], hue=y_train,ax=ax1)\nadd_decision_boundary(modelLDA, label=\"LDA\", color=colors.pop(), region=False, \n                      resolution=1000)\nadd_decision_boundary(modelQDA, label=\"QDA\", color=colors.pop(), region=False,\n                      resolution=1000)\nadd_decision_boundary(modelNB, label=\"GaussianNB\", color=colors.pop(), region=False)",
   "execution_count": null,
   "outputs": [
    {
     "data": {
      "text/plain": "<Figure size 864x432 with 1 Axes>",
      "image/png": "[encoded data removed]"
     },
     "metadata": {
      "needs_background": "light",
      "image/png": {
       "width": 705,
       "height": 357
      }
     },
     "output_type": "display_data"
    }
   ]
  },
  {
   "cell_type": "code",
   "metadata": {
    "cell_id": "00050-04cc1976-ddb8-4e38-8478-c878dd27a78a",
    "deepnote_to_be_reexecuted": false,
    "source_hash": "b623e53d",
    "execution_start": 1622918344287,
    "execution_millis": 11,
    "deepnote_cell_type": "code"
   },
   "source": "",
   "execution_count": null,
   "outputs": []
  },
  {
   "cell_type": "code",
   "metadata": {
    "tags": [],
    "cell_id": "00051-f3a75c24-1b0d-4afe-8cb1-f3f61c0e0be3",
    "deepnote_cell_type": "code"
   },
   "source": " \n ",
   "execution_count": null,
   "outputs": []
  },
  {
   "cell_type": "markdown",
   "source": "<a style='text-decoration:none;line-height:16px;display:flex;color:#5B5B62;padding:10px;justify-content:end;' href='https://deepnote.com?utm_source=created-in-deepnote-cell&projectId=1dd35576-464a-4d46-a0e6-752fc35b7463' target=\"_blank\">\n<img alt='Created in deepnote.com' style='display:inline;max-height:16px;margin:0px;margin-right:7.5px;' src='data:image/svg+xml;base64,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' > </img>\nCreated in <span style='font-weight:600;margin-left:4px;'>Deepnote</span></a>",
   "metadata": {
    "tags": [],
    "created_in_deepnote_cell": true,
    "deepnote_cell_type": "markdown"
   }
  }
 ],
 "nbformat": 4,
 "nbformat_minor": 5,
 "metadata": {
  "kernelspec": {
   "display_name": "venv",
   "language": "python",
   "name": "venv"
  },
  "language_info": {
   "codemirror_mode": {
    "name": "ipython",
    "version": 3
   },
   "file_extension": ".py",
   "mimetype": "text/x-python",
   "name": "python",
   "nbconvert_exporter": "python",
   "pygments_lexer": "ipython3",
   "version": "3.9.5"
  },
  "deepnote_notebook_id": "2b00cc50-dbd4-4992-92be-570fc1b0f4d5",
  "deepnote": {},
  "deepnote_execution_queue": []
 }
}