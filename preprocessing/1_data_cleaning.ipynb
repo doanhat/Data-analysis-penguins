{
 "cells": [
  {
   "cell_type": "code",
   "metadata": {
    "cell_id": "00000-11e18283-fb70-4c81-a5ff-b69e68d12635",
    "deepnote_to_be_reexecuted": false,
    "source_hash": "d2388596",
    "execution_start": 1621709435318,
    "execution_millis": 5,
    "deepnote_cell_type": "code"
   },
   "source": "import matplotlib.pyplot as plt\nimport seaborn as sns\n# ^^^ pyforest auto-imports - don't write above this line",
   "execution_count": null,
   "outputs": []
  },
  {
   "cell_type": "markdown",
   "source": "# 1. Description de données",
   "metadata": {
    "cell_id": "00001-331ddb2e-6620-40e1-aff4-0bcb5490b185",
    "deepnote_cell_type": "markdown"
   }
  },
  {
   "cell_type": "code",
   "metadata": {
    "cell_id": "00002-6a129eb3-7f7e-41e6-aec0-bd8e5cb509fa",
    "deepnote_to_be_reexecuted": false,
    "source_hash": "cb58e7fc",
    "execution_start": 1621709435324,
    "execution_millis": 75,
    "deepnote_cell_type": "code"
   },
   "source": "import pandas as pd\n# ^^^ pyforest auto-imports - don't write above this line\ndata_source = pd.read_csv(\"https://raw.githubusercontent.com/rfordatascience/tidytuesday/master/data/2020/2020-07-28/penguins_raw.csv\")\ndata_raw = data_source\ndata_raw.head()",
   "execution_count": null,
   "outputs": [
    {
     "output_type": "execute_result",
     "execution_count": 79,
     "data": {
      "application/vnd.deepnote.dataframe.v2+json": {
       "row_count": 5,
       "column_count": 17,
       "columns": [
        {
         "name": "studyName",
         "dtype": "object",
         "stats": {
          "unique_count": 1,
          "nan_count": 0,
          "categories": [
           {
            "name": "PAL0708",
            "count": 5
           }
          ]
         }
        },
        {
         "name": "Sample Number",
         "dtype": "int64",
         "stats": {
          "unique_count": 5,
          "nan_count": 0,
          "min": "1",
          "max": "5",
          "histogram": [
           {
            "bin_start": 1,
            "bin_end": 1.4,
            "count": 1
           },
           {
            "bin_start": 1.4,
            "bin_end": 1.8,
            "count": 0
           },
           {
            "bin_start": 1.8,
            "bin_end": 2.2,
            "count": 1
           },
           {
            "bin_start": 2.2,
            "bin_end": 2.6,
            "count": 0
           },
           {
            "bin_start": 2.6,
            "bin_end": 3,
            "count": 0
           },
           {
            "bin_start": 3,
            "bin_end": 3.4000000000000004,
            "count": 1
           },
           {
            "bin_start": 3.4000000000000004,
            "bin_end": 3.8000000000000003,
            "count": 0
           },
           {
            "bin_start": 3.8000000000000003,
            "bin_end": 4.2,
            "count": 1
           },
           {
            "bin_start": 4.2,
            "bin_end": 4.6,
            "count": 0
           },
           {
            "bin_start": 4.6,
            "bin_end": 5,
            "count": 1
           }
          ]
         }
        },
        {
         "name": "Species",
         "dtype": "object",
         "stats": {
          "unique_count": 1,
          "nan_count": 0,
          "categories": [
           {
            "name": "Adelie Penguin (Pygoscelis adeliae)",
            "count": 5
           }
          ]
         }
        },
        {
         "name": "Region",
         "dtype": "object",
         "stats": {
          "unique_count": 1,
          "nan_count": 0,
          "categories": [
           {
            "name": "Anvers",
            "count": 5
           }
          ]
         }
        },
        {
         "name": "Island",
         "dtype": "object",
         "stats": {
          "unique_count": 1,
          "nan_count": 0,
          "categories": [
           {
            "name": "Torgersen",
            "count": 5
           }
          ]
         }
        },
        {
         "name": "Stage",
         "dtype": "object",
         "stats": {
          "unique_count": 1,
          "nan_count": 0,
          "categories": [
           {
            "name": "Adult, 1 Egg Stage",
            "count": 5
           }
          ]
         }
        },
        {
         "name": "Individual ID",
         "dtype": "object",
         "stats": {
          "unique_count": 5,
          "nan_count": 0,
          "categories": [
           {
            "name": "N1A1",
            "count": 1
           },
           {
            "name": "N1A2",
            "count": 1
           },
           {
            "name": "3 others",
            "count": 3
           }
          ]
         }
        },
        {
         "name": "Clutch Completion",
         "dtype": "object",
         "stats": {
          "unique_count": 1,
          "nan_count": 0,
          "categories": [
           {
            "name": "Yes",
            "count": 5
           }
          ]
         }
        },
        {
         "name": "Date Egg",
         "dtype": "object",
         "stats": {
          "unique_count": 2,
          "nan_count": 0,
          "categories": [
           {
            "name": "2007-11-16",
            "count": 3
           },
           {
            "name": "2007-11-11",
            "count": 2
           }
          ]
         }
        },
        {
         "name": "Culmen Length (mm)",
         "dtype": "float64",
         "stats": {
          "unique_count": 4,
          "nan_count": 1,
          "min": "36.7",
          "max": "40.3",
          "histogram": [
           {
            "bin_start": 36.7,
            "bin_end": 37.06,
            "count": 1
           },
           {
            "bin_start": 37.06,
            "bin_end": 37.42,
            "count": 0
           },
           {
            "bin_start": 37.42,
            "bin_end": 37.78,
            "count": 0
           },
           {
            "bin_start": 37.78,
            "bin_end": 38.14,
            "count": 0
           },
           {
            "bin_start": 38.14,
            "bin_end": 38.5,
            "count": 0
           },
           {
            "bin_start": 38.5,
            "bin_end": 38.86,
            "count": 0
           },
           {
            "bin_start": 38.86,
            "bin_end": 39.22,
            "count": 1
           },
           {
            "bin_start": 39.22,
            "bin_end": 39.58,
            "count": 1
           },
           {
            "bin_start": 39.58,
            "bin_end": 39.94,
            "count": 0
           },
           {
            "bin_start": 39.94,
            "bin_end": 40.3,
            "count": 1
           }
          ]
         }
        },
        {
         "name": "Culmen Depth (mm)",
         "dtype": "float64",
         "stats": {
          "unique_count": 4,
          "nan_count": 1,
          "min": "17.4",
          "max": "19.3",
          "histogram": [
           {
            "bin_start": 17.4,
            "bin_end": 17.59,
            "count": 1
           },
           {
            "bin_start": 17.59,
            "bin_end": 17.779999999999998,
            "count": 0
           },
           {
            "bin_start": 17.779999999999998,
            "bin_end": 17.97,
            "count": 0
           },
           {
            "bin_start": 17.97,
            "bin_end": 18.16,
            "count": 1
           },
           {
            "bin_start": 18.16,
            "bin_end": 18.35,
            "count": 0
           },
           {
            "bin_start": 18.35,
            "bin_end": 18.54,
            "count": 0
           },
           {
            "bin_start": 18.54,
            "bin_end": 18.73,
            "count": 1
           },
           {
            "bin_start": 18.73,
            "bin_end": 18.92,
            "count": 0
           },
           {
            "bin_start": 18.92,
            "bin_end": 19.11,
            "count": 0
           },
           {
            "bin_start": 19.11,
            "bin_end": 19.3,
            "count": 1
           }
          ]
         }
        },
        {
         "name": "Flipper Length (mm)",
         "dtype": "float64",
         "stats": {
          "unique_count": 4,
          "nan_count": 1,
          "min": "181.0",
          "max": "195.0",
          "histogram": [
           {
            "bin_start": 181,
            "bin_end": 182.4,
            "count": 1
           },
           {
            "bin_start": 182.4,
            "bin_end": 183.8,
            "count": 0
           },
           {
            "bin_start": 183.8,
            "bin_end": 185.2,
            "count": 0
           },
           {
            "bin_start": 185.2,
            "bin_end": 186.6,
            "count": 1
           },
           {
            "bin_start": 186.6,
            "bin_end": 188,
            "count": 0
           },
           {
            "bin_start": 188,
            "bin_end": 189.4,
            "count": 0
           },
           {
            "bin_start": 189.4,
            "bin_end": 190.8,
            "count": 0
           },
           {
            "bin_start": 190.8,
            "bin_end": 192.2,
            "count": 0
           },
           {
            "bin_start": 192.2,
            "bin_end": 193.6,
            "count": 1
           },
           {
            "bin_start": 193.6,
            "bin_end": 195,
            "count": 1
           }
          ]
         }
        },
        {
         "name": "Body Mass (g)",
         "dtype": "float64",
         "stats": {
          "unique_count": 4,
          "nan_count": 1,
          "min": "3250.0",
          "max": "3800.0",
          "histogram": [
           {
            "bin_start": 3250,
            "bin_end": 3305,
            "count": 1
           },
           {
            "bin_start": 3305,
            "bin_end": 3360,
            "count": 0
           },
           {
            "bin_start": 3360,
            "bin_end": 3415,
            "count": 0
           },
           {
            "bin_start": 3415,
            "bin_end": 3470,
            "count": 1
           },
           {
            "bin_start": 3470,
            "bin_end": 3525,
            "count": 0
           },
           {
            "bin_start": 3525,
            "bin_end": 3580,
            "count": 0
           },
           {
            "bin_start": 3580,
            "bin_end": 3635,
            "count": 0
           },
           {
            "bin_start": 3635,
            "bin_end": 3690,
            "count": 0
           },
           {
            "bin_start": 3690,
            "bin_end": 3745,
            "count": 0
           },
           {
            "bin_start": 3745,
            "bin_end": 3800,
            "count": 2
           }
          ]
         }
        },
        {
         "name": "Sex",
         "dtype": "object",
         "stats": {
          "unique_count": 2,
          "nan_count": 1,
          "categories": [
           {
            "name": "FEMALE",
            "count": 3
           },
           {
            "name": "MALE",
            "count": 1
           },
           {
            "name": "Missing",
            "count": 1
           }
          ]
         }
        },
        {
         "name": "Delta 15 N (o/oo)",
         "dtype": "float64",
         "stats": {
          "unique_count": 3,
          "nan_count": 2,
          "min": "8.36821",
          "max": "8.94956",
          "histogram": [
           {
            "bin_start": 8.36821,
            "bin_end": 8.426345,
            "count": 1
           },
           {
            "bin_start": 8.426345,
            "bin_end": 8.48448,
            "count": 0
           },
           {
            "bin_start": 8.48448,
            "bin_end": 8.542615,
            "count": 0
           },
           {
            "bin_start": 8.542615,
            "bin_end": 8.60075,
            "count": 0
           },
           {
            "bin_start": 8.60075,
            "bin_end": 8.658885,
            "count": 0
           },
           {
            "bin_start": 8.658885,
            "bin_end": 8.71702,
            "count": 0
           },
           {
            "bin_start": 8.71702,
            "bin_end": 8.775155,
            "count": 1
           },
           {
            "bin_start": 8.775155,
            "bin_end": 8.83329,
            "count": 0
           },
           {
            "bin_start": 8.83329,
            "bin_end": 8.891425,
            "count": 0
           },
           {
            "bin_start": 8.891425,
            "bin_end": 8.94956,
            "count": 1
           }
          ]
         }
        },
        {
         "name": "Delta 13 C (o/oo)",
         "dtype": "float64",
         "stats": {
          "unique_count": 3,
          "nan_count": 2,
          "min": "-25.33302",
          "max": "-24.69454",
          "histogram": [
           {
            "bin_start": -25.33302,
            "bin_end": -25.269172,
            "count": 2
           },
           {
            "bin_start": -25.269172,
            "bin_end": -25.205324,
            "count": 0
           },
           {
            "bin_start": -25.205324,
            "bin_end": -25.141476,
            "count": 0
           },
           {
            "bin_start": -25.141476,
            "bin_end": -25.077628,
            "count": 0
           },
           {
            "bin_start": -25.077628,
            "bin_end": -25.01378,
            "count": 0
           },
           {
            "bin_start": -25.01378,
            "bin_end": -24.949932,
            "count": 0
           },
           {
            "bin_start": -24.949932,
            "bin_end": -24.886084,
            "count": 0
           },
           {
            "bin_start": -24.886084,
            "bin_end": -24.822236,
            "count": 0
           },
           {
            "bin_start": -24.822236,
            "bin_end": -24.758388,
            "count": 0
           },
           {
            "bin_start": -24.758388,
            "bin_end": -24.69454,
            "count": 1
           }
          ]
         }
        },
        {
         "name": "Comments",
         "dtype": "object",
         "stats": {
          "unique_count": 2,
          "nan_count": 3,
          "categories": [
           {
            "name": "Not enough blood for isotopes.",
            "count": 1
           },
           {
            "name": "Adult not sampled.",
            "count": 1
           },
           {
            "name": "Missing",
            "count": 3
           }
          ]
         }
        },
        {
         "name": "_deepnote_index_column",
         "dtype": "int64"
        }
       ],
       "rows_top": [
        {
         "studyName": "PAL0708",
         "Sample Number": 1,
         "Species": "Adelie Penguin (Pygoscelis adeliae)",
         "Region": "Anvers",
         "Island": "Torgersen",
         "Stage": "Adult, 1 Egg Stage",
         "Individual ID": "N1A1",
         "Clutch Completion": "Yes",
         "Date Egg": "2007-11-11",
         "Culmen Length (mm)": "39.1",
         "Culmen Depth (mm)": "18.7",
         "Flipper Length (mm)": "181.0",
         "Body Mass (g)": "3750.0",
         "Sex": "MALE",
         "Delta 15 N (o/oo)": "nan",
         "Delta 13 C (o/oo)": "nan",
         "Comments": "Not enough blood for isotopes.",
         "_deepnote_index_column": 0
        },
        {
         "studyName": "PAL0708",
         "Sample Number": 2,
         "Species": "Adelie Penguin (Pygoscelis adeliae)",
         "Region": "Anvers",
         "Island": "Torgersen",
         "Stage": "Adult, 1 Egg Stage",
         "Individual ID": "N1A2",
         "Clutch Completion": "Yes",
         "Date Egg": "2007-11-11",
         "Culmen Length (mm)": "39.5",
         "Culmen Depth (mm)": "17.4",
         "Flipper Length (mm)": "186.0",
         "Body Mass (g)": "3800.0",
         "Sex": "FEMALE",
         "Delta 15 N (o/oo)": "8.94956",
         "Delta 13 C (o/oo)": "-24.69454",
         "Comments": "nan",
         "_deepnote_index_column": 1
        },
        {
         "studyName": "PAL0708",
         "Sample Number": 3,
         "Species": "Adelie Penguin (Pygoscelis adeliae)",
         "Region": "Anvers",
         "Island": "Torgersen",
         "Stage": "Adult, 1 Egg Stage",
         "Individual ID": "N2A1",
         "Clutch Completion": "Yes",
         "Date Egg": "2007-11-16",
         "Culmen Length (mm)": "40.3",
         "Culmen Depth (mm)": "18.0",
         "Flipper Length (mm)": "195.0",
         "Body Mass (g)": "3250.0",
         "Sex": "FEMALE",
         "Delta 15 N (o/oo)": "8.36821",
         "Delta 13 C (o/oo)": "-25.33302",
         "Comments": "nan",
         "_deepnote_index_column": 2
        },
        {
         "studyName": "PAL0708",
         "Sample Number": 4,
         "Species": "Adelie Penguin (Pygoscelis adeliae)",
         "Region": "Anvers",
         "Island": "Torgersen",
         "Stage": "Adult, 1 Egg Stage",
         "Individual ID": "N2A2",
         "Clutch Completion": "Yes",
         "Date Egg": "2007-11-16",
         "Culmen Length (mm)": "nan",
         "Culmen Depth (mm)": "nan",
         "Flipper Length (mm)": "nan",
         "Body Mass (g)": "nan",
         "Sex": "nan",
         "Delta 15 N (o/oo)": "nan",
         "Delta 13 C (o/oo)": "nan",
         "Comments": "Adult not sampled.",
         "_deepnote_index_column": 3
        },
        {
         "studyName": "PAL0708",
         "Sample Number": 5,
         "Species": "Adelie Penguin (Pygoscelis adeliae)",
         "Region": "Anvers",
         "Island": "Torgersen",
         "Stage": "Adult, 1 Egg Stage",
         "Individual ID": "N3A1",
         "Clutch Completion": "Yes",
         "Date Egg": "2007-11-16",
         "Culmen Length (mm)": "36.7",
         "Culmen Depth (mm)": "19.3",
         "Flipper Length (mm)": "193.0",
         "Body Mass (g)": "3450.0",
         "Sex": "FEMALE",
         "Delta 15 N (o/oo)": "8.76651",
         "Delta 13 C (o/oo)": "-25.32426",
         "Comments": "nan",
         "_deepnote_index_column": 4
        }
       ],
       "rows_bottom": null
      },
      "text/plain": "  studyName  Sample Number                              Species  Region  \\\n0   PAL0708              1  Adelie Penguin (Pygoscelis adeliae)  Anvers   \n1   PAL0708              2  Adelie Penguin (Pygoscelis adeliae)  Anvers   \n2   PAL0708              3  Adelie Penguin (Pygoscelis adeliae)  Anvers   \n3   PAL0708              4  Adelie Penguin (Pygoscelis adeliae)  Anvers   \n4   PAL0708              5  Adelie Penguin (Pygoscelis adeliae)  Anvers   \n\n      Island               Stage Individual ID Clutch Completion    Date Egg  \\\n0  Torgersen  Adult, 1 Egg Stage          N1A1               Yes  2007-11-11   \n1  Torgersen  Adult, 1 Egg Stage          N1A2               Yes  2007-11-11   \n2  Torgersen  Adult, 1 Egg Stage          N2A1               Yes  2007-11-16   \n3  Torgersen  Adult, 1 Egg Stage          N2A2               Yes  2007-11-16   \n4  Torgersen  Adult, 1 Egg Stage          N3A1               Yes  2007-11-16   \n\n   Culmen Length (mm)  Culmen Depth (mm)  Flipper Length (mm)  Body Mass (g)  \\\n0                39.1               18.7                181.0         3750.0   \n1                39.5               17.4                186.0         3800.0   \n2                40.3               18.0                195.0         3250.0   \n3                 NaN                NaN                  NaN            NaN   \n4                36.7               19.3                193.0         3450.0   \n\n      Sex  Delta 15 N (o/oo)  Delta 13 C (o/oo)  \\\n0    MALE                NaN                NaN   \n1  FEMALE            8.94956          -24.69454   \n2  FEMALE            8.36821          -25.33302   \n3     NaN                NaN                NaN   \n4  FEMALE            8.76651          -25.32426   \n\n                         Comments  \n0  Not enough blood for isotopes.  \n1                             NaN  \n2                             NaN  \n3              Adult not sampled.  \n4                             NaN  ",
      "text/html": "<div>\n<style scoped>\n    .dataframe tbody tr th:only-of-type {\n        vertical-align: middle;\n    }\n\n    .dataframe tbody tr th {\n        vertical-align: top;\n    }\n\n    .dataframe thead th {\n        text-align: right;\n    }\n</style>\n<table border=\"1\" class=\"dataframe\">\n  <thead>\n    <tr style=\"text-align: right;\">\n      <th></th>\n      <th>studyName</th>\n      <th>Sample Number</th>\n      <th>Species</th>\n      <th>Region</th>\n      <th>Island</th>\n      <th>Stage</th>\n      <th>Individual ID</th>\n      <th>Clutch Completion</th>\n      <th>Date Egg</th>\n      <th>Culmen Length (mm)</th>\n      <th>Culmen Depth (mm)</th>\n      <th>Flipper Length (mm)</th>\n      <th>Body Mass (g)</th>\n      <th>Sex</th>\n      <th>Delta 15 N (o/oo)</th>\n      <th>Delta 13 C (o/oo)</th>\n      <th>Comments</th>\n    </tr>\n  </thead>\n  <tbody>\n    <tr>\n      <th>0</th>\n      <td>PAL0708</td>\n      <td>1</td>\n      <td>Adelie Penguin (Pygoscelis adeliae)</td>\n      <td>Anvers</td>\n      <td>Torgersen</td>\n      <td>Adult, 1 Egg Stage</td>\n      <td>N1A1</td>\n      <td>Yes</td>\n      <td>2007-11-11</td>\n      <td>39.1</td>\n      <td>18.7</td>\n      <td>181.0</td>\n      <td>3750.0</td>\n      <td>MALE</td>\n      <td>NaN</td>\n      <td>NaN</td>\n      <td>Not enough blood for isotopes.</td>\n    </tr>\n    <tr>\n      <th>1</th>\n      <td>PAL0708</td>\n      <td>2</td>\n      <td>Adelie Penguin (Pygoscelis adeliae)</td>\n      <td>Anvers</td>\n      <td>Torgersen</td>\n      <td>Adult, 1 Egg Stage</td>\n      <td>N1A2</td>\n      <td>Yes</td>\n      <td>2007-11-11</td>\n      <td>39.5</td>\n      <td>17.4</td>\n      <td>186.0</td>\n      <td>3800.0</td>\n      <td>FEMALE</td>\n      <td>8.94956</td>\n      <td>-24.69454</td>\n      <td>NaN</td>\n    </tr>\n    <tr>\n      <th>2</th>\n      <td>PAL0708</td>\n      <td>3</td>\n      <td>Adelie Penguin (Pygoscelis adeliae)</td>\n      <td>Anvers</td>\n      <td>Torgersen</td>\n      <td>Adult, 1 Egg Stage</td>\n      <td>N2A1</td>\n      <td>Yes</td>\n      <td>2007-11-16</td>\n      <td>40.3</td>\n      <td>18.0</td>\n      <td>195.0</td>\n      <td>3250.0</td>\n      <td>FEMALE</td>\n      <td>8.36821</td>\n      <td>-25.33302</td>\n      <td>NaN</td>\n    </tr>\n    <tr>\n      <th>3</th>\n      <td>PAL0708</td>\n      <td>4</td>\n      <td>Adelie Penguin (Pygoscelis adeliae)</td>\n      <td>Anvers</td>\n      <td>Torgersen</td>\n      <td>Adult, 1 Egg Stage</td>\n      <td>N2A2</td>\n      <td>Yes</td>\n      <td>2007-11-16</td>\n      <td>NaN</td>\n      <td>NaN</td>\n      <td>NaN</td>\n      <td>NaN</td>\n      <td>NaN</td>\n      <td>NaN</td>\n      <td>NaN</td>\n      <td>Adult not sampled.</td>\n    </tr>\n    <tr>\n      <th>4</th>\n      <td>PAL0708</td>\n      <td>5</td>\n      <td>Adelie Penguin (Pygoscelis adeliae)</td>\n      <td>Anvers</td>\n      <td>Torgersen</td>\n      <td>Adult, 1 Egg Stage</td>\n      <td>N3A1</td>\n      <td>Yes</td>\n      <td>2007-11-16</td>\n      <td>36.7</td>\n      <td>19.3</td>\n      <td>193.0</td>\n      <td>3450.0</td>\n      <td>FEMALE</td>\n      <td>8.76651</td>\n      <td>-25.32426</td>\n      <td>NaN</td>\n    </tr>\n  </tbody>\n</table>\n</div>"
     },
     "metadata": {}
    }
   ]
  },
  {
   "cell_type": "code",
   "metadata": {
    "cell_id": "00003-d489ddf5-c210-42e7-ad19-dc58c594bc0a",
    "deepnote_to_be_reexecuted": false,
    "source_hash": "beeaaa83",
    "execution_start": 1621709435396,
    "execution_millis": 14,
    "deepnote_cell_type": "code"
   },
   "source": "#Informations sur les colonnes\ndata_raw.info()",
   "execution_count": null,
   "outputs": [
    {
     "name": "stdout",
     "text": "<class 'pandas.core.frame.DataFrame'>\nRangeIndex: 344 entries, 0 to 343\nData columns (total 17 columns):\n #   Column               Non-Null Count  Dtype  \n---  ------               --------------  -----  \n 0   studyName            344 non-null    object \n 1   Sample Number        344 non-null    int64  \n 2   Species              344 non-null    object \n 3   Region               344 non-null    object \n 4   Island               344 non-null    object \n 5   Stage                344 non-null    object \n 6   Individual ID        344 non-null    object \n 7   Clutch Completion    344 non-null    object \n 8   Date Egg             344 non-null    object \n 9   Culmen Length (mm)   342 non-null    float64\n 10  Culmen Depth (mm)    342 non-null    float64\n 11  Flipper Length (mm)  342 non-null    float64\n 12  Body Mass (g)        342 non-null    float64\n 13  Sex                  333 non-null    object \n 14  Delta 15 N (o/oo)    330 non-null    float64\n 15  Delta 13 C (o/oo)    331 non-null    float64\n 16  Comments             54 non-null     object \ndtypes: float64(6), int64(1), object(10)\nmemory usage: 45.8+ KB\n",
     "output_type": "stream"
    }
   ]
  },
  {
   "cell_type": "markdown",
   "source": "## 1.1 Explications des variables/colonnes\n\n|variable            |class     |description |\n|:-------------------|:---------|:-----------|\n|studyName           |character | Study name |\n|Sample Number       |double    | Sample id|\n|Species             |character | Species of penguin |\n|Region              |character | Region where recorded |\n|Island              |character | Island where recorded |\n|Stage               |character | Stage of egg |\n|Individual ID       |character | Individual penguin ID |\n|Clutch Completion   |character | Egg clutch completion |\n|Date Egg            |double    | Date of egg |\n|Culmen Length (mm)  |double    | culmen length in mm (beak length) |\n|Culmen Depth (mm)   |double    | culmen depth in mm (beak depth)|\n|Flipper Length (mm) |double    | Flipper length in mm |\n|Body Mass (g)       |double    | Body mass in g |\n|Sex                 |character | Sex of the penguin |\n|Delta 15 N (o/oo)   |double    | Blood isotopic Nitrogen - used for dietary comparison |\n|Delta 13 C (o/oo)   |double    | Blood isotopic Carbon - used for dietary comparison |\n|Comments            |character | Miscellaneous comments |",
   "metadata": {
    "cell_id": "00004-d26c6632-92f3-4e83-a939-9d0a39a54892",
    "deepnote_cell_type": "markdown"
   }
  },
  {
   "cell_type": "code",
   "metadata": {
    "cell_id": "00005-0567736f-1067-4cd7-a718-30fdae62bf96",
    "deepnote_to_be_reexecuted": false,
    "source_hash": "ac5d1962",
    "execution_start": 1621709435426,
    "execution_millis": 77,
    "deepnote_cell_type": "code"
   },
   "source": "data_raw.describe(include='all')",
   "execution_count": null,
   "outputs": [
    {
     "output_type": "execute_result",
     "execution_count": 81,
     "data": {
      "application/vnd.deepnote.dataframe.v2+json": {
       "row_count": 11,
       "column_count": 17,
       "columns": [
        {
         "name": "studyName",
         "dtype": "object",
         "stats": {
          "unique_count": 4,
          "nan_count": 7,
          "categories": [
           {
            "name": "344",
            "count": 1
           },
           {
            "name": "3 others",
            "count": 3
           },
           {
            "name": "Missing",
            "count": 7
           }
          ]
         }
        },
        {
         "name": "Sample Number",
         "dtype": "float64",
         "stats": {
          "unique_count": 8,
          "nan_count": 3,
          "min": "1.0",
          "max": "344.0",
          "histogram": [
           {
            "bin_start": 1,
            "bin_end": 35.3,
            "count": 2
           },
           {
            "bin_start": 35.3,
            "bin_end": 69.6,
            "count": 3
           },
           {
            "bin_start": 69.6,
            "bin_end": 103.89999999999999,
            "count": 1
           },
           {
            "bin_start": 103.89999999999999,
            "bin_end": 138.2,
            "count": 0
           },
           {
            "bin_start": 138.2,
            "bin_end": 172.5,
            "count": 1
           },
           {
            "bin_start": 172.5,
            "bin_end": 206.79999999999998,
            "count": 0
           },
           {
            "bin_start": 206.79999999999998,
            "bin_end": 241.09999999999997,
            "count": 0
           },
           {
            "bin_start": 241.09999999999997,
            "bin_end": 275.4,
            "count": 0
           },
           {
            "bin_start": 275.4,
            "bin_end": 309.7,
            "count": 0
           },
           {
            "bin_start": 309.7,
            "bin_end": 344,
            "count": 1
           }
          ]
         }
        },
        {
         "name": "Species",
         "dtype": "object",
         "stats": {
          "unique_count": 4,
          "nan_count": 7,
          "categories": [
           {
            "name": "344",
            "count": 1
           },
           {
            "name": "3 others",
            "count": 3
           },
           {
            "name": "Missing",
            "count": 7
           }
          ]
         }
        },
        {
         "name": "Region",
         "dtype": "object",
         "stats": {
          "unique_count": 3,
          "nan_count": 7,
          "categories": [
           {
            "name": "344",
            "count": 2
           },
           {
            "name": "2 others",
            "count": 2
           },
           {
            "name": "Missing",
            "count": 7
           }
          ]
         }
        },
        {
         "name": "Island",
         "dtype": "object",
         "stats": {
          "unique_count": 4,
          "nan_count": 7,
          "categories": [
           {
            "name": "344",
            "count": 1
           },
           {
            "name": "3 others",
            "count": 3
           },
           {
            "name": "Missing",
            "count": 7
           }
          ]
         }
        },
        {
         "name": "Stage",
         "dtype": "object",
         "stats": {
          "unique_count": 3,
          "nan_count": 7,
          "categories": [
           {
            "name": "344",
            "count": 2
           },
           {
            "name": "2 others",
            "count": 2
           },
           {
            "name": "Missing",
            "count": 7
           }
          ]
         }
        },
        {
         "name": "Individual ID",
         "dtype": "object",
         "stats": {
          "unique_count": 4,
          "nan_count": 7,
          "categories": [
           {
            "name": "344",
            "count": 1
           },
           {
            "name": "3 others",
            "count": 3
           },
           {
            "name": "Missing",
            "count": 7
           }
          ]
         }
        },
        {
         "name": "Clutch Completion",
         "dtype": "object",
         "stats": {
          "unique_count": 4,
          "nan_count": 7,
          "categories": [
           {
            "name": "344",
            "count": 1
           },
           {
            "name": "3 others",
            "count": 3
           },
           {
            "name": "Missing",
            "count": 7
           }
          ]
         }
        },
        {
         "name": "Date Egg",
         "dtype": "object",
         "stats": {
          "unique_count": 4,
          "nan_count": 7,
          "categories": [
           {
            "name": "344",
            "count": 1
           },
           {
            "name": "3 others",
            "count": 3
           },
           {
            "name": "Missing",
            "count": 7
           }
          ]
         }
        },
        {
         "name": "Culmen Length (mm)",
         "dtype": "float64",
         "stats": {
          "unique_count": 8,
          "nan_count": 3,
          "min": "5.4595837139265315",
          "max": "342.0",
          "histogram": [
           {
            "bin_start": 5.4595837139265315,
            "bin_end": 39.11362534253388,
            "count": 2
           },
           {
            "bin_start": 39.11362534253388,
            "bin_end": 72.76766697114122,
            "count": 5
           },
           {
            "bin_start": 72.76766697114122,
            "bin_end": 106.42170859974857,
            "count": 0
           },
           {
            "bin_start": 106.42170859974857,
            "bin_end": 140.0757502283559,
            "count": 0
           },
           {
            "bin_start": 140.0757502283559,
            "bin_end": 173.72979185696323,
            "count": 0
           },
           {
            "bin_start": 173.72979185696323,
            "bin_end": 207.3838334855706,
            "count": 0
           },
           {
            "bin_start": 207.3838334855706,
            "bin_end": 241.03787511417795,
            "count": 0
           },
           {
            "bin_start": 241.03787511417795,
            "bin_end": 274.6919167427853,
            "count": 0
           },
           {
            "bin_start": 274.6919167427853,
            "bin_end": 308.3459583713926,
            "count": 0
           },
           {
            "bin_start": 308.3459583713926,
            "bin_end": 342,
            "count": 1
           }
          ]
         }
        },
        {
         "name": "Culmen Depth (mm)",
         "dtype": "float64",
         "stats": {
          "unique_count": 8,
          "nan_count": 3,
          "min": "1.9747931568167814",
          "max": "342.0",
          "histogram": [
           {
            "bin_start": 1.9747931568167814,
            "bin_end": 35.97731384113511,
            "count": 7
           },
           {
            "bin_start": 35.97731384113511,
            "bin_end": 69.97983452545344,
            "count": 0
           },
           {
            "bin_start": 69.97983452545344,
            "bin_end": 103.98235520977177,
            "count": 0
           },
           {
            "bin_start": 103.98235520977177,
            "bin_end": 137.9848758940901,
            "count": 0
           },
           {
            "bin_start": 137.9848758940901,
            "bin_end": 171.9873965784084,
            "count": 0
           },
           {
            "bin_start": 171.9873965784084,
            "bin_end": 205.98991726272675,
            "count": 0
           },
           {
            "bin_start": 205.98991726272675,
            "bin_end": 239.9924379470451,
            "count": 0
           },
           {
            "bin_start": 239.9924379470451,
            "bin_end": 273.9949586313634,
            "count": 0
           },
           {
            "bin_start": 273.9949586313634,
            "bin_end": 307.9974793156817,
            "count": 0
           },
           {
            "bin_start": 307.9974793156817,
            "bin_end": 342,
            "count": 1
           }
          ]
         }
        },
        {
         "name": "Flipper Length (mm)",
         "dtype": "float64",
         "stats": {
          "unique_count": 8,
          "nan_count": 3,
          "min": "14.061713679356888",
          "max": "342.0",
          "histogram": [
           {
            "bin_start": 14.061713679356888,
            "bin_end": 46.8555423114212,
            "count": 1
           },
           {
            "bin_start": 46.8555423114212,
            "bin_end": 79.64937094348551,
            "count": 0
           },
           {
            "bin_start": 79.64937094348551,
            "bin_end": 112.44319957554983,
            "count": 0
           },
           {
            "bin_start": 112.44319957554983,
            "bin_end": 145.23702820761415,
            "count": 0
           },
           {
            "bin_start": 145.23702820761415,
            "bin_end": 178.03085683967845,
            "count": 1
           },
           {
            "bin_start": 178.03085683967845,
            "bin_end": 210.82468547174278,
            "count": 3
           },
           {
            "bin_start": 210.82468547174278,
            "bin_end": 243.6185141038071,
            "count": 2
           },
           {
            "bin_start": 243.6185141038071,
            "bin_end": 276.4123427358714,
            "count": 0
           },
           {
            "bin_start": 276.4123427358714,
            "bin_end": 309.2061713679357,
            "count": 0
           },
           {
            "bin_start": 309.2061713679357,
            "bin_end": 342,
            "count": 1
           }
          ]
         }
        },
        {
         "name": "Body Mass (g)",
         "dtype": "float64",
         "stats": {
          "unique_count": 8,
          "nan_count": 3,
          "min": "342.0",
          "max": "6300.0",
          "histogram": [
           {
            "bin_start": 342,
            "bin_end": 937.8,
            "count": 2
           },
           {
            "bin_start": 937.8,
            "bin_end": 1533.6,
            "count": 0
           },
           {
            "bin_start": 1533.6,
            "bin_end": 2129.3999999999996,
            "count": 0
           },
           {
            "bin_start": 2129.3999999999996,
            "bin_end": 2725.2,
            "count": 1
           },
           {
            "bin_start": 2725.2,
            "bin_end": 3321,
            "count": 0
           },
           {
            "bin_start": 3321,
            "bin_end": 3916.7999999999997,
            "count": 1
           },
           {
            "bin_start": 3916.7999999999997,
            "bin_end": 4512.599999999999,
            "count": 2
           },
           {
            "bin_start": 4512.599999999999,
            "bin_end": 5108.4,
            "count": 1
           },
           {
            "bin_start": 5108.4,
            "bin_end": 5704.2,
            "count": 0
           },
           {
            "bin_start": 5704.2,
            "bin_end": 6300,
            "count": 1
           }
          ]
         }
        },
        {
         "name": "Sex",
         "dtype": "object",
         "stats": {
          "unique_count": 4,
          "nan_count": 7,
          "categories": [
           {
            "name": "333",
            "count": 1
           },
           {
            "name": "3 others",
            "count": 3
           },
           {
            "name": "Missing",
            "count": 7
           }
          ]
         }
        },
        {
         "name": "Delta 15 N (o/oo)",
         "dtype": "float64",
         "stats": {
          "unique_count": 8,
          "nan_count": 3,
          "min": "0.5517703369138499",
          "max": "330.0",
          "histogram": [
           {
            "bin_start": 0.5517703369138499,
            "bin_end": 33.49659330322246,
            "count": 7
           },
           {
            "bin_start": 33.49659330322246,
            "bin_end": 66.44141626953108,
            "count": 0
           },
           {
            "bin_start": 66.44141626953108,
            "bin_end": 99.3862392358397,
            "count": 0
           },
           {
            "bin_start": 99.3862392358397,
            "bin_end": 132.3310622021483,
            "count": 0
           },
           {
            "bin_start": 132.3310622021483,
            "bin_end": 165.2758851684569,
            "count": 0
           },
           {
            "bin_start": 165.2758851684569,
            "bin_end": 198.22070813476554,
            "count": 0
           },
           {
            "bin_start": 198.22070813476554,
            "bin_end": 231.16553110107415,
            "count": 0
           },
           {
            "bin_start": 231.16553110107415,
            "bin_end": 264.1103540673828,
            "count": 0
           },
           {
            "bin_start": 264.1103540673828,
            "bin_end": 297.0551770336914,
            "count": 0
           },
           {
            "bin_start": 297.0551770336914,
            "bin_end": 330,
            "count": 1
           }
          ]
         }
        },
        {
         "name": "Delta 13 C (o/oo)",
         "dtype": "float64",
         "stats": {
          "unique_count": 8,
          "nan_count": 3,
          "min": "-27.01854",
          "max": "331.0",
          "histogram": [
           {
            "bin_start": -27.01854,
            "bin_end": 8.783314000000004,
            "count": 7
           },
           {
            "bin_start": 8.783314000000004,
            "bin_end": 44.58516800000001,
            "count": 0
           },
           {
            "bin_start": 44.58516800000001,
            "bin_end": 80.38702200000002,
            "count": 0
           },
           {
            "bin_start": 80.38702200000002,
            "bin_end": 116.18887600000002,
            "count": 0
           },
           {
            "bin_start": 116.18887600000002,
            "bin_end": 151.99073,
            "count": 0
           },
           {
            "bin_start": 151.99073,
            "bin_end": 187.79258400000003,
            "count": 0
           },
           {
            "bin_start": 187.79258400000003,
            "bin_end": 223.59443800000005,
            "count": 0
           },
           {
            "bin_start": 223.59443800000005,
            "bin_end": 259.396292,
            "count": 0
           },
           {
            "bin_start": 259.396292,
            "bin_end": 295.19814600000007,
            "count": 0
           },
           {
            "bin_start": 295.19814600000007,
            "bin_end": 331,
            "count": 1
           }
          ]
         }
        },
        {
         "name": "Comments",
         "dtype": "object",
         "stats": {
          "unique_count": 4,
          "nan_count": 7,
          "categories": [
           {
            "name": "54",
            "count": 1
           },
           {
            "name": "3 others",
            "count": 3
           },
           {
            "name": "Missing",
            "count": 7
           }
          ]
         }
        },
        {
         "name": "_deepnote_index_column",
         "dtype": "object"
        }
       ],
       "rows_top": [
        {
         "studyName": "344",
         "Sample Number": "344.0",
         "Species": "344",
         "Region": "344",
         "Island": "344",
         "Stage": "344",
         "Individual ID": "344",
         "Clutch Completion": "344",
         "Date Egg": "344",
         "Culmen Length (mm)": "342.0",
         "Culmen Depth (mm)": "342.0",
         "Flipper Length (mm)": "342.0",
         "Body Mass (g)": "342.0",
         "Sex": "333",
         "Delta 15 N (o/oo)": "330.0",
         "Delta 13 C (o/oo)": "331.0",
         "Comments": "54",
         "_deepnote_index_column": "count"
        },
        {
         "studyName": "3",
         "Sample Number": "nan",
         "Species": "3",
         "Region": "1",
         "Island": "3",
         "Stage": "1",
         "Individual ID": "190",
         "Clutch Completion": "2",
         "Date Egg": "50",
         "Culmen Length (mm)": "nan",
         "Culmen Depth (mm)": "nan",
         "Flipper Length (mm)": "nan",
         "Body Mass (g)": "nan",
         "Sex": "2",
         "Delta 15 N (o/oo)": "nan",
         "Delta 13 C (o/oo)": "nan",
         "Comments": "10",
         "_deepnote_index_column": "unique"
        },
        {
         "studyName": "PAL0910",
         "Sample Number": "nan",
         "Species": "Adelie Penguin (Pygoscelis adeliae)",
         "Region": "Anvers",
         "Island": "Biscoe",
         "Stage": "Adult, 1 Egg Stage",
         "Individual ID": "N39A1",
         "Clutch Completion": "Yes",
         "Date Egg": "2007-11-27",
         "Culmen Length (mm)": "nan",
         "Culmen Depth (mm)": "nan",
         "Flipper Length (mm)": "nan",
         "Body Mass (g)": "nan",
         "Sex": "MALE",
         "Delta 15 N (o/oo)": "nan",
         "Delta 13 C (o/oo)": "nan",
         "Comments": "Nest never observed with full clutch.",
         "_deepnote_index_column": "top"
        },
        {
         "studyName": "120",
         "Sample Number": "nan",
         "Species": "152",
         "Region": "344",
         "Island": "168",
         "Stage": "344",
         "Individual ID": "3",
         "Clutch Completion": "308",
         "Date Egg": "18",
         "Culmen Length (mm)": "nan",
         "Culmen Depth (mm)": "nan",
         "Flipper Length (mm)": "nan",
         "Body Mass (g)": "nan",
         "Sex": "168",
         "Delta 15 N (o/oo)": "nan",
         "Delta 13 C (o/oo)": "nan",
         "Comments": "34",
         "_deepnote_index_column": "freq"
        },
        {
         "studyName": "nan",
         "Sample Number": "63.151162790697676",
         "Species": "nan",
         "Region": "nan",
         "Island": "nan",
         "Stage": "nan",
         "Individual ID": "nan",
         "Clutch Completion": "nan",
         "Date Egg": "nan",
         "Culmen Length (mm)": "43.9219298245614",
         "Culmen Depth (mm)": "17.151169590643274",
         "Flipper Length (mm)": "200.91520467836258",
         "Body Mass (g)": "4201.754385964912",
         "Sex": "nan",
         "Delta 15 N (o/oo)": "8.733381696969698",
         "Delta 13 C (o/oo)": "-25.6862915407855",
         "Comments": "nan",
         "_deepnote_index_column": "mean"
        },
        {
         "studyName": "nan",
         "Sample Number": "40.43019898414575",
         "Species": "nan",
         "Region": "nan",
         "Island": "nan",
         "Stage": "nan",
         "Individual ID": "nan",
         "Clutch Completion": "nan",
         "Date Egg": "nan",
         "Culmen Length (mm)": "5.4595837139265315",
         "Culmen Depth (mm)": "1.9747931568167814",
         "Flipper Length (mm)": "14.061713679356888",
         "Body Mass (g)": "801.9545356980955",
         "Sex": "nan",
         "Delta 15 N (o/oo)": "0.5517703369138499",
         "Delta 13 C (o/oo)": "0.7939612110060316",
         "Comments": "nan",
         "_deepnote_index_column": "std"
        },
        {
         "studyName": "nan",
         "Sample Number": "1.0",
         "Species": "nan",
         "Region": "nan",
         "Island": "nan",
         "Stage": "nan",
         "Individual ID": "nan",
         "Clutch Completion": "nan",
         "Date Egg": "nan",
         "Culmen Length (mm)": "32.1",
         "Culmen Depth (mm)": "13.1",
         "Flipper Length (mm)": "172.0",
         "Body Mass (g)": "2700.0",
         "Sex": "nan",
         "Delta 15 N (o/oo)": "7.6322",
         "Delta 13 C (o/oo)": "-27.01854",
         "Comments": "nan",
         "_deepnote_index_column": "min"
        },
        {
         "studyName": "nan",
         "Sample Number": "29.0",
         "Species": "nan",
         "Region": "nan",
         "Island": "nan",
         "Stage": "nan",
         "Individual ID": "nan",
         "Clutch Completion": "nan",
         "Date Egg": "nan",
         "Culmen Length (mm)": "39.225",
         "Culmen Depth (mm)": "15.6",
         "Flipper Length (mm)": "190.0",
         "Body Mass (g)": "3550.0",
         "Sex": "nan",
         "Delta 15 N (o/oo)": "8.29989",
         "Delta 13 C (o/oo)": "-26.320304999999998",
         "Comments": "nan",
         "_deepnote_index_column": "25%"
        },
        {
         "studyName": "nan",
         "Sample Number": "58.0",
         "Species": "nan",
         "Region": "nan",
         "Island": "nan",
         "Stage": "nan",
         "Individual ID": "nan",
         "Clutch Completion": "nan",
         "Date Egg": "nan",
         "Culmen Length (mm)": "44.45",
         "Culmen Depth (mm)": "17.3",
         "Flipper Length (mm)": "197.0",
         "Body Mass (g)": "4050.0",
         "Sex": "nan",
         "Delta 15 N (o/oo)": "8.652405",
         "Delta 13 C (o/oo)": "-25.83352",
         "Comments": "nan",
         "_deepnote_index_column": "50%"
        },
        {
         "studyName": "nan",
         "Sample Number": "95.25",
         "Species": "nan",
         "Region": "nan",
         "Island": "nan",
         "Stage": "nan",
         "Individual ID": "nan",
         "Clutch Completion": "nan",
         "Date Egg": "nan",
         "Culmen Length (mm)": "48.5",
         "Culmen Depth (mm)": "18.7",
         "Flipper Length (mm)": "213.0",
         "Body Mass (g)": "4750.0",
         "Sex": "nan",
         "Delta 15 N (o/oo)": "9.1721225",
         "Delta 13 C (o/oo)": "-25.06205",
         "Comments": "nan",
         "_deepnote_index_column": "75%"
        },
        {
         "studyName": "nan",
         "Sample Number": "152.0",
         "Species": "nan",
         "Region": "nan",
         "Island": "nan",
         "Stage": "nan",
         "Individual ID": "nan",
         "Clutch Completion": "nan",
         "Date Egg": "nan",
         "Culmen Length (mm)": "59.6",
         "Culmen Depth (mm)": "21.5",
         "Flipper Length (mm)": "231.0",
         "Body Mass (g)": "6300.0",
         "Sex": "nan",
         "Delta 15 N (o/oo)": "10.02544",
         "Delta 13 C (o/oo)": "-23.78767",
         "Comments": "nan",
         "_deepnote_index_column": "max"
        }
       ],
       "rows_bottom": null
      },
      "text/plain": "       studyName  Sample Number                              Species  Region  \\\ncount        344     344.000000                                  344     344   \nunique         3            NaN                                    3       1   \ntop      PAL0910            NaN  Adelie Penguin (Pygoscelis adeliae)  Anvers   \nfreq         120            NaN                                  152     344   \nmean         NaN      63.151163                                  NaN     NaN   \nstd          NaN      40.430199                                  NaN     NaN   \nmin          NaN       1.000000                                  NaN     NaN   \n25%          NaN      29.000000                                  NaN     NaN   \n50%          NaN      58.000000                                  NaN     NaN   \n75%          NaN      95.250000                                  NaN     NaN   \nmax          NaN     152.000000                                  NaN     NaN   \n\n        Island               Stage Individual ID Clutch Completion  \\\ncount      344                 344           344               344   \nunique       3                   1           190                 2   \ntop     Biscoe  Adult, 1 Egg Stage         N39A1               Yes   \nfreq       168                 344             3               308   \nmean       NaN                 NaN           NaN               NaN   \nstd        NaN                 NaN           NaN               NaN   \nmin        NaN                 NaN           NaN               NaN   \n25%        NaN                 NaN           NaN               NaN   \n50%        NaN                 NaN           NaN               NaN   \n75%        NaN                 NaN           NaN               NaN   \nmax        NaN                 NaN           NaN               NaN   \n\n          Date Egg  Culmen Length (mm)  Culmen Depth (mm)  \\\ncount          344          342.000000         342.000000   \nunique          50                 NaN                NaN   \ntop     2007-11-27                 NaN                NaN   \nfreq            18                 NaN                NaN   \nmean           NaN           43.921930          17.151170   \nstd            NaN            5.459584           1.974793   \nmin            NaN           32.100000          13.100000   \n25%            NaN           39.225000          15.600000   \n50%            NaN           44.450000          17.300000   \n75%            NaN           48.500000          18.700000   \nmax            NaN           59.600000          21.500000   \n\n        Flipper Length (mm)  Body Mass (g)   Sex  Delta 15 N (o/oo)  \\\ncount            342.000000     342.000000   333         330.000000   \nunique                  NaN            NaN     2                NaN   \ntop                     NaN            NaN  MALE                NaN   \nfreq                    NaN            NaN   168                NaN   \nmean             200.915205    4201.754386   NaN           8.733382   \nstd               14.061714     801.954536   NaN           0.551770   \nmin              172.000000    2700.000000   NaN           7.632200   \n25%              190.000000    3550.000000   NaN           8.299890   \n50%              197.000000    4050.000000   NaN           8.652405   \n75%              213.000000    4750.000000   NaN           9.172123   \nmax              231.000000    6300.000000   NaN          10.025440   \n\n        Delta 13 C (o/oo)                               Comments  \ncount          331.000000                                     54  \nunique                NaN                                     10  \ntop                   NaN  Nest never observed with full clutch.  \nfreq                  NaN                                     34  \nmean           -25.686292                                    NaN  \nstd              0.793961                                    NaN  \nmin            -27.018540                                    NaN  \n25%            -26.320305                                    NaN  \n50%            -25.833520                                    NaN  \n75%            -25.062050                                    NaN  \nmax            -23.787670                                    NaN  ",
      "text/html": "<div>\n<style scoped>\n    .dataframe tbody tr th:only-of-type {\n        vertical-align: middle;\n    }\n\n    .dataframe tbody tr th {\n        vertical-align: top;\n    }\n\n    .dataframe thead th {\n        text-align: right;\n    }\n</style>\n<table border=\"1\" class=\"dataframe\">\n  <thead>\n    <tr style=\"text-align: right;\">\n      <th></th>\n      <th>studyName</th>\n      <th>Sample Number</th>\n      <th>Species</th>\n      <th>Region</th>\n      <th>Island</th>\n      <th>Stage</th>\n      <th>Individual ID</th>\n      <th>Clutch Completion</th>\n      <th>Date Egg</th>\n      <th>Culmen Length (mm)</th>\n      <th>Culmen Depth (mm)</th>\n      <th>Flipper Length (mm)</th>\n      <th>Body Mass (g)</th>\n      <th>Sex</th>\n      <th>Delta 15 N (o/oo)</th>\n      <th>Delta 13 C (o/oo)</th>\n      <th>Comments</th>\n    </tr>\n  </thead>\n  <tbody>\n    <tr>\n      <th>count</th>\n      <td>344</td>\n      <td>344.000000</td>\n      <td>344</td>\n      <td>344</td>\n      <td>344</td>\n      <td>344</td>\n      <td>344</td>\n      <td>344</td>\n      <td>344</td>\n      <td>342.000000</td>\n      <td>342.000000</td>\n      <td>342.000000</td>\n      <td>342.000000</td>\n      <td>333</td>\n      <td>330.000000</td>\n      <td>331.000000</td>\n      <td>54</td>\n    </tr>\n    <tr>\n      <th>unique</th>\n      <td>3</td>\n      <td>NaN</td>\n      <td>3</td>\n      <td>1</td>\n      <td>3</td>\n      <td>1</td>\n      <td>190</td>\n      <td>2</td>\n      <td>50</td>\n      <td>NaN</td>\n      <td>NaN</td>\n      <td>NaN</td>\n      <td>NaN</td>\n      <td>2</td>\n      <td>NaN</td>\n      <td>NaN</td>\n      <td>10</td>\n    </tr>\n    <tr>\n      <th>top</th>\n      <td>PAL0910</td>\n      <td>NaN</td>\n      <td>Adelie Penguin (Pygoscelis adeliae)</td>\n      <td>Anvers</td>\n      <td>Biscoe</td>\n      <td>Adult, 1 Egg Stage</td>\n      <td>N39A1</td>\n      <td>Yes</td>\n      <td>2007-11-27</td>\n      <td>NaN</td>\n      <td>NaN</td>\n      <td>NaN</td>\n      <td>NaN</td>\n      <td>MALE</td>\n      <td>NaN</td>\n      <td>NaN</td>\n      <td>Nest never observed with full clutch.</td>\n    </tr>\n    <tr>\n      <th>freq</th>\n      <td>120</td>\n      <td>NaN</td>\n      <td>152</td>\n      <td>344</td>\n      <td>168</td>\n      <td>344</td>\n      <td>3</td>\n      <td>308</td>\n      <td>18</td>\n      <td>NaN</td>\n      <td>NaN</td>\n      <td>NaN</td>\n      <td>NaN</td>\n      <td>168</td>\n      <td>NaN</td>\n      <td>NaN</td>\n      <td>34</td>\n    </tr>\n    <tr>\n      <th>mean</th>\n      <td>NaN</td>\n      <td>63.151163</td>\n      <td>NaN</td>\n      <td>NaN</td>\n      <td>NaN</td>\n      <td>NaN</td>\n      <td>NaN</td>\n      <td>NaN</td>\n      <td>NaN</td>\n      <td>43.921930</td>\n      <td>17.151170</td>\n      <td>200.915205</td>\n      <td>4201.754386</td>\n      <td>NaN</td>\n      <td>8.733382</td>\n      <td>-25.686292</td>\n      <td>NaN</td>\n    </tr>\n    <tr>\n      <th>std</th>\n      <td>NaN</td>\n      <td>40.430199</td>\n      <td>NaN</td>\n      <td>NaN</td>\n      <td>NaN</td>\n      <td>NaN</td>\n      <td>NaN</td>\n      <td>NaN</td>\n      <td>NaN</td>\n      <td>5.459584</td>\n      <td>1.974793</td>\n      <td>14.061714</td>\n      <td>801.954536</td>\n      <td>NaN</td>\n      <td>0.551770</td>\n      <td>0.793961</td>\n      <td>NaN</td>\n    </tr>\n    <tr>\n      <th>min</th>\n      <td>NaN</td>\n      <td>1.000000</td>\n      <td>NaN</td>\n      <td>NaN</td>\n      <td>NaN</td>\n      <td>NaN</td>\n      <td>NaN</td>\n      <td>NaN</td>\n      <td>NaN</td>\n      <td>32.100000</td>\n      <td>13.100000</td>\n      <td>172.000000</td>\n      <td>2700.000000</td>\n      <td>NaN</td>\n      <td>7.632200</td>\n      <td>-27.018540</td>\n      <td>NaN</td>\n    </tr>\n    <tr>\n      <th>25%</th>\n      <td>NaN</td>\n      <td>29.000000</td>\n      <td>NaN</td>\n      <td>NaN</td>\n      <td>NaN</td>\n      <td>NaN</td>\n      <td>NaN</td>\n      <td>NaN</td>\n      <td>NaN</td>\n      <td>39.225000</td>\n      <td>15.600000</td>\n      <td>190.000000</td>\n      <td>3550.000000</td>\n      <td>NaN</td>\n      <td>8.299890</td>\n      <td>-26.320305</td>\n      <td>NaN</td>\n    </tr>\n    <tr>\n      <th>50%</th>\n      <td>NaN</td>\n      <td>58.000000</td>\n      <td>NaN</td>\n      <td>NaN</td>\n      <td>NaN</td>\n      <td>NaN</td>\n      <td>NaN</td>\n      <td>NaN</td>\n      <td>NaN</td>\n      <td>44.450000</td>\n      <td>17.300000</td>\n      <td>197.000000</td>\n      <td>4050.000000</td>\n      <td>NaN</td>\n      <td>8.652405</td>\n      <td>-25.833520</td>\n      <td>NaN</td>\n    </tr>\n    <tr>\n      <th>75%</th>\n      <td>NaN</td>\n      <td>95.250000</td>\n      <td>NaN</td>\n      <td>NaN</td>\n      <td>NaN</td>\n      <td>NaN</td>\n      <td>NaN</td>\n      <td>NaN</td>\n      <td>NaN</td>\n      <td>48.500000</td>\n      <td>18.700000</td>\n      <td>213.000000</td>\n      <td>4750.000000</td>\n      <td>NaN</td>\n      <td>9.172123</td>\n      <td>-25.062050</td>\n      <td>NaN</td>\n    </tr>\n    <tr>\n      <th>max</th>\n      <td>NaN</td>\n      <td>152.000000</td>\n      <td>NaN</td>\n      <td>NaN</td>\n      <td>NaN</td>\n      <td>NaN</td>\n      <td>NaN</td>\n      <td>NaN</td>\n      <td>NaN</td>\n      <td>59.600000</td>\n      <td>21.500000</td>\n      <td>231.000000</td>\n      <td>6300.000000</td>\n      <td>NaN</td>\n      <td>10.025440</td>\n      <td>-23.787670</td>\n      <td>NaN</td>\n    </tr>\n  </tbody>\n</table>\n</div>"
     },
     "metadata": {}
    }
   ]
  },
  {
   "cell_type": "markdown",
   "source": "# 2. Réduction de données",
   "metadata": {
    "cell_id": "00006-bcff2b16-cbfe-4ead-a8bd-302993a1b91b",
    "deepnote_cell_type": "markdown"
   }
  },
  {
   "cell_type": "markdown",
   "source": "## 2.1 Colonnes à retirer",
   "metadata": {
    "cell_id": "00007-e7be359b-7cc6-4d0e-8715-c722596f05cd",
    "deepnote_cell_type": "markdown"
   }
  },
  {
   "cell_type": "code",
   "metadata": {
    "cell_id": "00008-f0ae8022-7416-454c-90b6-ad0375b96355",
    "deepnote_to_be_reexecuted": false,
    "source_hash": "e659df4",
    "execution_start": 1621709435497,
    "execution_millis": 13,
    "deepnote_cell_type": "code"
   },
   "source": "data_raw['studyName'].unique()",
   "execution_count": null,
   "outputs": [
    {
     "output_type": "execute_result",
     "execution_count": 82,
     "data": {
      "text/plain": "array(['PAL0708', 'PAL0809', 'PAL0910'], dtype=object)"
     },
     "metadata": {}
    }
   ]
  },
  {
   "cell_type": "code",
   "metadata": {
    "cell_id": "00009-96bf97de-49f6-485d-8635-d4e09d44c382",
    "deepnote_to_be_reexecuted": false,
    "source_hash": "24fe8cc9",
    "execution_start": 1621709435514,
    "execution_millis": 65515,
    "deepnote_cell_type": "code"
   },
   "source": "data_raw['Region'].unique()",
   "execution_count": null,
   "outputs": [
    {
     "output_type": "execute_result",
     "execution_count": 83,
     "data": {
      "text/plain": "array(['Anvers'], dtype=object)"
     },
     "metadata": {}
    }
   ]
  },
  {
   "cell_type": "code",
   "metadata": {
    "cell_id": "00010-d3f2d960-37ae-4eca-8df5-04802a784a29",
    "deepnote_to_be_reexecuted": false,
    "source_hash": "8dee87bf",
    "execution_start": 1621709435523,
    "execution_millis": 65500,
    "deepnote_cell_type": "code"
   },
   "source": "data_raw['Stage'].unique()",
   "execution_count": null,
   "outputs": [
    {
     "output_type": "execute_result",
     "execution_count": 84,
     "data": {
      "text/plain": "array(['Adult, 1 Egg Stage'], dtype=object)"
     },
     "metadata": {}
    }
   ]
  },
  {
   "cell_type": "code",
   "metadata": {
    "cell_id": "00011-ed83933b-27c1-40b3-96a3-aa32ec5e9c0f",
    "deepnote_to_be_reexecuted": false,
    "source_hash": "591e7786",
    "execution_start": 1621709435548,
    "execution_millis": 65503,
    "deepnote_cell_type": "code"
   },
   "source": "dropped_columns = [ # les colonnes à retirer\n    'studyName', # peu d'intérêt\n    'Sample Number', # numéro d'ordre \n    'Region', # 1 seule valeur\n    'Stage' , # 1 seule valeur\n    'Individual ID', # id\n    'Comments', # peu d'intérêt\n    #'Delta 15 N (o/oo)', # peu d'intérêt\n    #'Delta 13 C (o/oo)' # peu d'intérêt\n]",
   "execution_count": null,
   "outputs": []
  },
  {
   "cell_type": "code",
   "metadata": {
    "cell_id": "00012-2db33002-1c1f-4abc-a5b2-e21fce6e468d",
    "deepnote_to_be_reexecuted": false,
    "source_hash": "db693882",
    "execution_start": 1621709435549,
    "execution_millis": 0,
    "deepnote_cell_type": "code"
   },
   "source": "data_raw = data_raw.drop(columns=dropped_columns)",
   "execution_count": null,
   "outputs": []
  },
  {
   "cell_type": "markdown",
   "source": "## 2.2 Nettoyage de données",
   "metadata": {
    "cell_id": "00013-5389f463-102c-4d0a-86b0-b9a234bfdd0c",
    "deepnote_cell_type": "markdown"
   }
  },
  {
   "cell_type": "markdown",
   "source": "### 2.2.1 Renommage des colonnes",
   "metadata": {
    "cell_id": "00014-c0a181c6-33c6-480f-87d1-293052f419c2",
    "deepnote_cell_type": "markdown"
   }
  },
  {
   "cell_type": "code",
   "metadata": {
    "cell_id": "00015-603b6b2a-a61e-41fd-b43f-9a43e2659a6a",
    "deepnote_to_be_reexecuted": false,
    "source_hash": "6199d458",
    "execution_start": 1621709435550,
    "execution_millis": 0,
    "deepnote_cell_type": "code"
   },
   "source": "data_raw.rename(columns = {\n    'Species':'species',\n    'Island':'island',\n    'Clutch Completion':'clutch_completion',\n    'Date Egg':'date_egg',\n    'Culmen Length (mm)':'bill_length',\n    'Culmen Depth (mm)':'bill_depth',\n    'Flipper Length (mm)':'flipper_length',\n    'Body Mass (g)':'body_mass',\n    'Sex':'sex',\n     'Delta 15 N (o/oo)':'del15', \n     'Delta 13 C (o/oo)':'del13', \n}, inplace = True)",
   "execution_count": null,
   "outputs": []
  },
  {
   "cell_type": "code",
   "metadata": {
    "cell_id": "00016-ba4fbb38-6079-4d8f-928c-5692a90ba3b2",
    "deepnote_to_be_reexecuted": false,
    "source_hash": "e014b618",
    "execution_start": 1621709435551,
    "execution_millis": 17,
    "deepnote_cell_type": "code"
   },
   "source": "data_raw.columns",
   "execution_count": null,
   "outputs": [
    {
     "output_type": "execute_result",
     "execution_count": 88,
     "data": {
      "text/plain": "Index(['species', 'island', 'clutch_completion', 'date_egg', 'bill_length',\n       'bill_depth', 'flipper_length', 'body_mass', 'sex', 'del15', 'del13'],\n      dtype='object')"
     },
     "metadata": {}
    }
   ]
  },
  {
   "cell_type": "markdown",
   "source": "### 2.2.2 Traitement des données manquantes",
   "metadata": {
    "cell_id": "00017-d1817284-41c4-4a34-ae7e-45d1bfc6656b",
    "deepnote_cell_type": "markdown"
   }
  },
  {
   "cell_type": "code",
   "metadata": {
    "cell_id": "00018-4715b729-1422-4a60-ae0f-ef7d2be18357",
    "deepnote_to_be_reexecuted": false,
    "source_hash": "ac5d1962",
    "execution_start": 1621709435558,
    "execution_millis": 55,
    "deepnote_cell_type": "code"
   },
   "source": "data_raw.describe(include='all')",
   "execution_count": null,
   "outputs": [
    {
     "output_type": "execute_result",
     "execution_count": 89,
     "data": {
      "application/vnd.deepnote.dataframe.v2+json": {
       "row_count": 11,
       "column_count": 11,
       "columns": [
        {
         "name": "species",
         "dtype": "object",
         "stats": {
          "unique_count": 4,
          "nan_count": 7,
          "categories": [
           {
            "name": "344",
            "count": 1
           },
           {
            "name": "3 others",
            "count": 3
           },
           {
            "name": "Missing",
            "count": 7
           }
          ]
         }
        },
        {
         "name": "island",
         "dtype": "object",
         "stats": {
          "unique_count": 4,
          "nan_count": 7,
          "categories": [
           {
            "name": "344",
            "count": 1
           },
           {
            "name": "3 others",
            "count": 3
           },
           {
            "name": "Missing",
            "count": 7
           }
          ]
         }
        },
        {
         "name": "clutch_completion",
         "dtype": "object",
         "stats": {
          "unique_count": 4,
          "nan_count": 7,
          "categories": [
           {
            "name": "344",
            "count": 1
           },
           {
            "name": "3 others",
            "count": 3
           },
           {
            "name": "Missing",
            "count": 7
           }
          ]
         }
        },
        {
         "name": "date_egg",
         "dtype": "object",
         "stats": {
          "unique_count": 4,
          "nan_count": 7,
          "categories": [
           {
            "name": "344",
            "count": 1
           },
           {
            "name": "3 others",
            "count": 3
           },
           {
            "name": "Missing",
            "count": 7
           }
          ]
         }
        },
        {
         "name": "bill_length",
         "dtype": "float64",
         "stats": {
          "unique_count": 8,
          "nan_count": 3,
          "min": "5.4595837139265315",
          "max": "342.0",
          "histogram": [
           {
            "bin_start": 5.4595837139265315,
            "bin_end": 39.11362534253388,
            "count": 2
           },
           {
            "bin_start": 39.11362534253388,
            "bin_end": 72.76766697114122,
            "count": 5
           },
           {
            "bin_start": 72.76766697114122,
            "bin_end": 106.42170859974857,
            "count": 0
           },
           {
            "bin_start": 106.42170859974857,
            "bin_end": 140.0757502283559,
            "count": 0
           },
           {
            "bin_start": 140.0757502283559,
            "bin_end": 173.72979185696323,
            "count": 0
           },
           {
            "bin_start": 173.72979185696323,
            "bin_end": 207.3838334855706,
            "count": 0
           },
           {
            "bin_start": 207.3838334855706,
            "bin_end": 241.03787511417795,
            "count": 0
           },
           {
            "bin_start": 241.03787511417795,
            "bin_end": 274.6919167427853,
            "count": 0
           },
           {
            "bin_start": 274.6919167427853,
            "bin_end": 308.3459583713926,
            "count": 0
           },
           {
            "bin_start": 308.3459583713926,
            "bin_end": 342,
            "count": 1
           }
          ]
         }
        },
        {
         "name": "bill_depth",
         "dtype": "float64",
         "stats": {
          "unique_count": 8,
          "nan_count": 3,
          "min": "1.9747931568167814",
          "max": "342.0",
          "histogram": [
           {
            "bin_start": 1.9747931568167814,
            "bin_end": 35.97731384113511,
            "count": 7
           },
           {
            "bin_start": 35.97731384113511,
            "bin_end": 69.97983452545344,
            "count": 0
           },
           {
            "bin_start": 69.97983452545344,
            "bin_end": 103.98235520977177,
            "count": 0
           },
           {
            "bin_start": 103.98235520977177,
            "bin_end": 137.9848758940901,
            "count": 0
           },
           {
            "bin_start": 137.9848758940901,
            "bin_end": 171.9873965784084,
            "count": 0
           },
           {
            "bin_start": 171.9873965784084,
            "bin_end": 205.98991726272675,
            "count": 0
           },
           {
            "bin_start": 205.98991726272675,
            "bin_end": 239.9924379470451,
            "count": 0
           },
           {
            "bin_start": 239.9924379470451,
            "bin_end": 273.9949586313634,
            "count": 0
           },
           {
            "bin_start": 273.9949586313634,
            "bin_end": 307.9974793156817,
            "count": 0
           },
           {
            "bin_start": 307.9974793156817,
            "bin_end": 342,
            "count": 1
           }
          ]
         }
        },
        {
         "name": "flipper_length",
         "dtype": "float64",
         "stats": {
          "unique_count": 8,
          "nan_count": 3,
          "min": "14.061713679356888",
          "max": "342.0",
          "histogram": [
           {
            "bin_start": 14.061713679356888,
            "bin_end": 46.8555423114212,
            "count": 1
           },
           {
            "bin_start": 46.8555423114212,
            "bin_end": 79.64937094348551,
            "count": 0
           },
           {
            "bin_start": 79.64937094348551,
            "bin_end": 112.44319957554983,
            "count": 0
           },
           {
            "bin_start": 112.44319957554983,
            "bin_end": 145.23702820761415,
            "count": 0
           },
           {
            "bin_start": 145.23702820761415,
            "bin_end": 178.03085683967845,
            "count": 1
           },
           {
            "bin_start": 178.03085683967845,
            "bin_end": 210.82468547174278,
            "count": 3
           },
           {
            "bin_start": 210.82468547174278,
            "bin_end": 243.6185141038071,
            "count": 2
           },
           {
            "bin_start": 243.6185141038071,
            "bin_end": 276.4123427358714,
            "count": 0
           },
           {
            "bin_start": 276.4123427358714,
            "bin_end": 309.2061713679357,
            "count": 0
           },
           {
            "bin_start": 309.2061713679357,
            "bin_end": 342,
            "count": 1
           }
          ]
         }
        },
        {
         "name": "body_mass",
         "dtype": "float64",
         "stats": {
          "unique_count": 8,
          "nan_count": 3,
          "min": "342.0",
          "max": "6300.0",
          "histogram": [
           {
            "bin_start": 342,
            "bin_end": 937.8,
            "count": 2
           },
           {
            "bin_start": 937.8,
            "bin_end": 1533.6,
            "count": 0
           },
           {
            "bin_start": 1533.6,
            "bin_end": 2129.3999999999996,
            "count": 0
           },
           {
            "bin_start": 2129.3999999999996,
            "bin_end": 2725.2,
            "count": 1
           },
           {
            "bin_start": 2725.2,
            "bin_end": 3321,
            "count": 0
           },
           {
            "bin_start": 3321,
            "bin_end": 3916.7999999999997,
            "count": 1
           },
           {
            "bin_start": 3916.7999999999997,
            "bin_end": 4512.599999999999,
            "count": 2
           },
           {
            "bin_start": 4512.599999999999,
            "bin_end": 5108.4,
            "count": 1
           },
           {
            "bin_start": 5108.4,
            "bin_end": 5704.2,
            "count": 0
           },
           {
            "bin_start": 5704.2,
            "bin_end": 6300,
            "count": 1
           }
          ]
         }
        },
        {
         "name": "sex",
         "dtype": "object",
         "stats": {
          "unique_count": 4,
          "nan_count": 7,
          "categories": [
           {
            "name": "333",
            "count": 1
           },
           {
            "name": "3 others",
            "count": 3
           },
           {
            "name": "Missing",
            "count": 7
           }
          ]
         }
        },
        {
         "name": "del15",
         "dtype": "float64",
         "stats": {
          "unique_count": 8,
          "nan_count": 3,
          "min": "0.5517703369138499",
          "max": "330.0",
          "histogram": [
           {
            "bin_start": 0.5517703369138499,
            "bin_end": 33.49659330322246,
            "count": 7
           },
           {
            "bin_start": 33.49659330322246,
            "bin_end": 66.44141626953108,
            "count": 0
           },
           {
            "bin_start": 66.44141626953108,
            "bin_end": 99.3862392358397,
            "count": 0
           },
           {
            "bin_start": 99.3862392358397,
            "bin_end": 132.3310622021483,
            "count": 0
           },
           {
            "bin_start": 132.3310622021483,
            "bin_end": 165.2758851684569,
            "count": 0
           },
           {
            "bin_start": 165.2758851684569,
            "bin_end": 198.22070813476554,
            "count": 0
           },
           {
            "bin_start": 198.22070813476554,
            "bin_end": 231.16553110107415,
            "count": 0
           },
           {
            "bin_start": 231.16553110107415,
            "bin_end": 264.1103540673828,
            "count": 0
           },
           {
            "bin_start": 264.1103540673828,
            "bin_end": 297.0551770336914,
            "count": 0
           },
           {
            "bin_start": 297.0551770336914,
            "bin_end": 330,
            "count": 1
           }
          ]
         }
        },
        {
         "name": "del13",
         "dtype": "float64",
         "stats": {
          "unique_count": 8,
          "nan_count": 3,
          "min": "-27.01854",
          "max": "331.0",
          "histogram": [
           {
            "bin_start": -27.01854,
            "bin_end": 8.783314000000004,
            "count": 7
           },
           {
            "bin_start": 8.783314000000004,
            "bin_end": 44.58516800000001,
            "count": 0
           },
           {
            "bin_start": 44.58516800000001,
            "bin_end": 80.38702200000002,
            "count": 0
           },
           {
            "bin_start": 80.38702200000002,
            "bin_end": 116.18887600000002,
            "count": 0
           },
           {
            "bin_start": 116.18887600000002,
            "bin_end": 151.99073,
            "count": 0
           },
           {
            "bin_start": 151.99073,
            "bin_end": 187.79258400000003,
            "count": 0
           },
           {
            "bin_start": 187.79258400000003,
            "bin_end": 223.59443800000005,
            "count": 0
           },
           {
            "bin_start": 223.59443800000005,
            "bin_end": 259.396292,
            "count": 0
           },
           {
            "bin_start": 259.396292,
            "bin_end": 295.19814600000007,
            "count": 0
           },
           {
            "bin_start": 295.19814600000007,
            "bin_end": 331,
            "count": 1
           }
          ]
         }
        },
        {
         "name": "_deepnote_index_column",
         "dtype": "object"
        }
       ],
       "rows_top": [
        {
         "species": "344",
         "island": "344",
         "clutch_completion": "344",
         "date_egg": "344",
         "bill_length": "342.0",
         "bill_depth": "342.0",
         "flipper_length": "342.0",
         "body_mass": "342.0",
         "sex": "333",
         "del15": "330.0",
         "del13": "331.0",
         "_deepnote_index_column": "count"
        },
        {
         "species": "3",
         "island": "3",
         "clutch_completion": "2",
         "date_egg": "50",
         "bill_length": "nan",
         "bill_depth": "nan",
         "flipper_length": "nan",
         "body_mass": "nan",
         "sex": "2",
         "del15": "nan",
         "del13": "nan",
         "_deepnote_index_column": "unique"
        },
        {
         "species": "Adelie Penguin (Pygoscelis adeliae)",
         "island": "Biscoe",
         "clutch_completion": "Yes",
         "date_egg": "2007-11-27",
         "bill_length": "nan",
         "bill_depth": "nan",
         "flipper_length": "nan",
         "body_mass": "nan",
         "sex": "MALE",
         "del15": "nan",
         "del13": "nan",
         "_deepnote_index_column": "top"
        },
        {
         "species": "152",
         "island": "168",
         "clutch_completion": "308",
         "date_egg": "18",
         "bill_length": "nan",
         "bill_depth": "nan",
         "flipper_length": "nan",
         "body_mass": "nan",
         "sex": "168",
         "del15": "nan",
         "del13": "nan",
         "_deepnote_index_column": "freq"
        },
        {
         "species": "nan",
         "island": "nan",
         "clutch_completion": "nan",
         "date_egg": "nan",
         "bill_length": "43.9219298245614",
         "bill_depth": "17.151169590643274",
         "flipper_length": "200.91520467836258",
         "body_mass": "4201.754385964912",
         "sex": "nan",
         "del15": "8.733381696969698",
         "del13": "-25.6862915407855",
         "_deepnote_index_column": "mean"
        },
        {
         "species": "nan",
         "island": "nan",
         "clutch_completion": "nan",
         "date_egg": "nan",
         "bill_length": "5.4595837139265315",
         "bill_depth": "1.9747931568167814",
         "flipper_length": "14.061713679356888",
         "body_mass": "801.9545356980955",
         "sex": "nan",
         "del15": "0.5517703369138499",
         "del13": "0.7939612110060316",
         "_deepnote_index_column": "std"
        },
        {
         "species": "nan",
         "island": "nan",
         "clutch_completion": "nan",
         "date_egg": "nan",
         "bill_length": "32.1",
         "bill_depth": "13.1",
         "flipper_length": "172.0",
         "body_mass": "2700.0",
         "sex": "nan",
         "del15": "7.6322",
         "del13": "-27.01854",
         "_deepnote_index_column": "min"
        },
        {
         "species": "nan",
         "island": "nan",
         "clutch_completion": "nan",
         "date_egg": "nan",
         "bill_length": "39.225",
         "bill_depth": "15.6",
         "flipper_length": "190.0",
         "body_mass": "3550.0",
         "sex": "nan",
         "del15": "8.29989",
         "del13": "-26.320304999999998",
         "_deepnote_index_column": "25%"
        },
        {
         "species": "nan",
         "island": "nan",
         "clutch_completion": "nan",
         "date_egg": "nan",
         "bill_length": "44.45",
         "bill_depth": "17.3",
         "flipper_length": "197.0",
         "body_mass": "4050.0",
         "sex": "nan",
         "del15": "8.652405",
         "del13": "-25.83352",
         "_deepnote_index_column": "50%"
        },
        {
         "species": "nan",
         "island": "nan",
         "clutch_completion": "nan",
         "date_egg": "nan",
         "bill_length": "48.5",
         "bill_depth": "18.7",
         "flipper_length": "213.0",
         "body_mass": "4750.0",
         "sex": "nan",
         "del15": "9.1721225",
         "del13": "-25.06205",
         "_deepnote_index_column": "75%"
        },
        {
         "species": "nan",
         "island": "nan",
         "clutch_completion": "nan",
         "date_egg": "nan",
         "bill_length": "59.6",
         "bill_depth": "21.5",
         "flipper_length": "231.0",
         "body_mass": "6300.0",
         "sex": "nan",
         "del15": "10.02544",
         "del13": "-23.78767",
         "_deepnote_index_column": "max"
        }
       ],
       "rows_bottom": null
      },
      "text/plain": "                                    species  island clutch_completion  \\\ncount                                   344     344               344   \nunique                                    3       3                 2   \ntop     Adelie Penguin (Pygoscelis adeliae)  Biscoe               Yes   \nfreq                                    152     168               308   \nmean                                    NaN     NaN               NaN   \nstd                                     NaN     NaN               NaN   \nmin                                     NaN     NaN               NaN   \n25%                                     NaN     NaN               NaN   \n50%                                     NaN     NaN               NaN   \n75%                                     NaN     NaN               NaN   \nmax                                     NaN     NaN               NaN   \n\n          date_egg  bill_length  bill_depth  flipper_length    body_mass  \\\ncount          344   342.000000  342.000000      342.000000   342.000000   \nunique          50          NaN         NaN             NaN          NaN   \ntop     2007-11-27          NaN         NaN             NaN          NaN   \nfreq            18          NaN         NaN             NaN          NaN   \nmean           NaN    43.921930   17.151170      200.915205  4201.754386   \nstd            NaN     5.459584    1.974793       14.061714   801.954536   \nmin            NaN    32.100000   13.100000      172.000000  2700.000000   \n25%            NaN    39.225000   15.600000      190.000000  3550.000000   \n50%            NaN    44.450000   17.300000      197.000000  4050.000000   \n75%            NaN    48.500000   18.700000      213.000000  4750.000000   \nmax            NaN    59.600000   21.500000      231.000000  6300.000000   \n\n         sex       del15       del13  \ncount    333  330.000000  331.000000  \nunique     2         NaN         NaN  \ntop     MALE         NaN         NaN  \nfreq     168         NaN         NaN  \nmean     NaN    8.733382  -25.686292  \nstd      NaN    0.551770    0.793961  \nmin      NaN    7.632200  -27.018540  \n25%      NaN    8.299890  -26.320305  \n50%      NaN    8.652405  -25.833520  \n75%      NaN    9.172123  -25.062050  \nmax      NaN   10.025440  -23.787670  ",
      "text/html": "<div>\n<style scoped>\n    .dataframe tbody tr th:only-of-type {\n        vertical-align: middle;\n    }\n\n    .dataframe tbody tr th {\n        vertical-align: top;\n    }\n\n    .dataframe thead th {\n        text-align: right;\n    }\n</style>\n<table border=\"1\" class=\"dataframe\">\n  <thead>\n    <tr style=\"text-align: right;\">\n      <th></th>\n      <th>species</th>\n      <th>island</th>\n      <th>clutch_completion</th>\n      <th>date_egg</th>\n      <th>bill_length</th>\n      <th>bill_depth</th>\n      <th>flipper_length</th>\n      <th>body_mass</th>\n      <th>sex</th>\n      <th>del15</th>\n      <th>del13</th>\n    </tr>\n  </thead>\n  <tbody>\n    <tr>\n      <th>count</th>\n      <td>344</td>\n      <td>344</td>\n      <td>344</td>\n      <td>344</td>\n      <td>342.000000</td>\n      <td>342.000000</td>\n      <td>342.000000</td>\n      <td>342.000000</td>\n      <td>333</td>\n      <td>330.000000</td>\n      <td>331.000000</td>\n    </tr>\n    <tr>\n      <th>unique</th>\n      <td>3</td>\n      <td>3</td>\n      <td>2</td>\n      <td>50</td>\n      <td>NaN</td>\n      <td>NaN</td>\n      <td>NaN</td>\n      <td>NaN</td>\n      <td>2</td>\n      <td>NaN</td>\n      <td>NaN</td>\n    </tr>\n    <tr>\n      <th>top</th>\n      <td>Adelie Penguin (Pygoscelis adeliae)</td>\n      <td>Biscoe</td>\n      <td>Yes</td>\n      <td>2007-11-27</td>\n      <td>NaN</td>\n      <td>NaN</td>\n      <td>NaN</td>\n      <td>NaN</td>\n      <td>MALE</td>\n      <td>NaN</td>\n      <td>NaN</td>\n    </tr>\n    <tr>\n      <th>freq</th>\n      <td>152</td>\n      <td>168</td>\n      <td>308</td>\n      <td>18</td>\n      <td>NaN</td>\n      <td>NaN</td>\n      <td>NaN</td>\n      <td>NaN</td>\n      <td>168</td>\n      <td>NaN</td>\n      <td>NaN</td>\n    </tr>\n    <tr>\n      <th>mean</th>\n      <td>NaN</td>\n      <td>NaN</td>\n      <td>NaN</td>\n      <td>NaN</td>\n      <td>43.921930</td>\n      <td>17.151170</td>\n      <td>200.915205</td>\n      <td>4201.754386</td>\n      <td>NaN</td>\n      <td>8.733382</td>\n      <td>-25.686292</td>\n    </tr>\n    <tr>\n      <th>std</th>\n      <td>NaN</td>\n      <td>NaN</td>\n      <td>NaN</td>\n      <td>NaN</td>\n      <td>5.459584</td>\n      <td>1.974793</td>\n      <td>14.061714</td>\n      <td>801.954536</td>\n      <td>NaN</td>\n      <td>0.551770</td>\n      <td>0.793961</td>\n    </tr>\n    <tr>\n      <th>min</th>\n      <td>NaN</td>\n      <td>NaN</td>\n      <td>NaN</td>\n      <td>NaN</td>\n      <td>32.100000</td>\n      <td>13.100000</td>\n      <td>172.000000</td>\n      <td>2700.000000</td>\n      <td>NaN</td>\n      <td>7.632200</td>\n      <td>-27.018540</td>\n    </tr>\n    <tr>\n      <th>25%</th>\n      <td>NaN</td>\n      <td>NaN</td>\n      <td>NaN</td>\n      <td>NaN</td>\n      <td>39.225000</td>\n      <td>15.600000</td>\n      <td>190.000000</td>\n      <td>3550.000000</td>\n      <td>NaN</td>\n      <td>8.299890</td>\n      <td>-26.320305</td>\n    </tr>\n    <tr>\n      <th>50%</th>\n      <td>NaN</td>\n      <td>NaN</td>\n      <td>NaN</td>\n      <td>NaN</td>\n      <td>44.450000</td>\n      <td>17.300000</td>\n      <td>197.000000</td>\n      <td>4050.000000</td>\n      <td>NaN</td>\n      <td>8.652405</td>\n      <td>-25.833520</td>\n    </tr>\n    <tr>\n      <th>75%</th>\n      <td>NaN</td>\n      <td>NaN</td>\n      <td>NaN</td>\n      <td>NaN</td>\n      <td>48.500000</td>\n      <td>18.700000</td>\n      <td>213.000000</td>\n      <td>4750.000000</td>\n      <td>NaN</td>\n      <td>9.172123</td>\n      <td>-25.062050</td>\n    </tr>\n    <tr>\n      <th>max</th>\n      <td>NaN</td>\n      <td>NaN</td>\n      <td>NaN</td>\n      <td>NaN</td>\n      <td>59.600000</td>\n      <td>21.500000</td>\n      <td>231.000000</td>\n      <td>6300.000000</td>\n      <td>NaN</td>\n      <td>10.025440</td>\n      <td>-23.787670</td>\n    </tr>\n  </tbody>\n</table>\n</div>"
     },
     "metadata": {}
    }
   ]
  },
  {
   "cell_type": "code",
   "metadata": {
    "cell_id": "00019-1ff7cf6d-cc97-4459-8a8a-c76f4396027c",
    "deepnote_to_be_reexecuted": false,
    "source_hash": "821df321",
    "execution_start": 1621709435617,
    "execution_millis": 103,
    "deepnote_cell_type": "code"
   },
   "source": "data_raw.notnull().describe()",
   "execution_count": null,
   "outputs": [
    {
     "output_type": "execute_result",
     "execution_count": 90,
     "data": {
      "application/vnd.deepnote.dataframe.v2+json": {
       "row_count": 4,
       "column_count": 11,
       "columns": [
        {
         "name": "species",
         "dtype": "object",
         "stats": {
          "unique_count": 2,
          "nan_count": 0,
          "categories": [
           {
            "name": "344",
            "count": 2
           },
           {
            "name": "1",
            "count": 1
           },
           {
            "name": "True",
            "count": 1
           }
          ]
         }
        },
        {
         "name": "island",
         "dtype": "object",
         "stats": {
          "unique_count": 2,
          "nan_count": 0,
          "categories": [
           {
            "name": "344",
            "count": 2
           },
           {
            "name": "1",
            "count": 1
           },
           {
            "name": "True",
            "count": 1
           }
          ]
         }
        },
        {
         "name": "clutch_completion",
         "dtype": "object",
         "stats": {
          "unique_count": 2,
          "nan_count": 0,
          "categories": [
           {
            "name": "344",
            "count": 2
           },
           {
            "name": "1",
            "count": 1
           },
           {
            "name": "True",
            "count": 1
           }
          ]
         }
        },
        {
         "name": "date_egg",
         "dtype": "object",
         "stats": {
          "unique_count": 2,
          "nan_count": 0,
          "categories": [
           {
            "name": "344",
            "count": 2
           },
           {
            "name": "1",
            "count": 1
           },
           {
            "name": "True",
            "count": 1
           }
          ]
         }
        },
        {
         "name": "bill_length",
         "dtype": "object",
         "stats": {
          "unique_count": 4,
          "nan_count": 0,
          "categories": [
           {
            "name": "344",
            "count": 1
           },
           {
            "name": "2",
            "count": 1
           },
           {
            "name": "2 others",
            "count": 2
           }
          ]
         }
        },
        {
         "name": "bill_depth",
         "dtype": "object",
         "stats": {
          "unique_count": 4,
          "nan_count": 0,
          "categories": [
           {
            "name": "344",
            "count": 1
           },
           {
            "name": "2",
            "count": 1
           },
           {
            "name": "2 others",
            "count": 2
           }
          ]
         }
        },
        {
         "name": "flipper_length",
         "dtype": "object",
         "stats": {
          "unique_count": 4,
          "nan_count": 0,
          "categories": [
           {
            "name": "344",
            "count": 1
           },
           {
            "name": "2",
            "count": 1
           },
           {
            "name": "2 others",
            "count": 2
           }
          ]
         }
        },
        {
         "name": "body_mass",
         "dtype": "object",
         "stats": {
          "unique_count": 4,
          "nan_count": 0,
          "categories": [
           {
            "name": "344",
            "count": 1
           },
           {
            "name": "2",
            "count": 1
           },
           {
            "name": "2 others",
            "count": 2
           }
          ]
         }
        },
        {
         "name": "sex",
         "dtype": "object",
         "stats": {
          "unique_count": 4,
          "nan_count": 0,
          "categories": [
           {
            "name": "344",
            "count": 1
           },
           {
            "name": "2",
            "count": 1
           },
           {
            "name": "2 others",
            "count": 2
           }
          ]
         }
        },
        {
         "name": "del15",
         "dtype": "object",
         "stats": {
          "unique_count": 4,
          "nan_count": 0,
          "categories": [
           {
            "name": "344",
            "count": 1
           },
           {
            "name": "2",
            "count": 1
           },
           {
            "name": "2 others",
            "count": 2
           }
          ]
         }
        },
        {
         "name": "del13",
         "dtype": "object",
         "stats": {
          "unique_count": 4,
          "nan_count": 0,
          "categories": [
           {
            "name": "344",
            "count": 1
           },
           {
            "name": "2",
            "count": 1
           },
           {
            "name": "2 others",
            "count": 2
           }
          ]
         }
        },
        {
         "name": "_deepnote_index_column",
         "dtype": "object"
        }
       ],
       "rows_top": [
        {
         "species": "344",
         "island": "344",
         "clutch_completion": "344",
         "date_egg": "344",
         "bill_length": "344",
         "bill_depth": "344",
         "flipper_length": "344",
         "body_mass": "344",
         "sex": "344",
         "del15": "344",
         "del13": "344",
         "_deepnote_index_column": "count"
        },
        {
         "species": "1",
         "island": "1",
         "clutch_completion": "1",
         "date_egg": "1",
         "bill_length": "2",
         "bill_depth": "2",
         "flipper_length": "2",
         "body_mass": "2",
         "sex": "2",
         "del15": "2",
         "del13": "2",
         "_deepnote_index_column": "unique"
        },
        {
         "species": "True",
         "island": "True",
         "clutch_completion": "True",
         "date_egg": "True",
         "bill_length": "True",
         "bill_depth": "True",
         "flipper_length": "True",
         "body_mass": "True",
         "sex": "True",
         "del15": "True",
         "del13": "True",
         "_deepnote_index_column": "top"
        },
        {
         "species": "344",
         "island": "344",
         "clutch_completion": "344",
         "date_egg": "344",
         "bill_length": "342",
         "bill_depth": "342",
         "flipper_length": "342",
         "body_mass": "342",
         "sex": "333",
         "del15": "330",
         "del13": "331",
         "_deepnote_index_column": "freq"
        }
       ],
       "rows_bottom": null
      },
      "text/plain": "       species island clutch_completion date_egg bill_length bill_depth  \\\ncount      344    344               344      344         344        344   \nunique       1      1                 1        1           2          2   \ntop       True   True              True     True        True       True   \nfreq       344    344               344      344         342        342   \n\n       flipper_length body_mass   sex del15 del13  \ncount             344       344   344   344   344  \nunique              2         2     2     2     2  \ntop              True      True  True  True  True  \nfreq              342       342   333   330   331  ",
      "text/html": "<div>\n<style scoped>\n    .dataframe tbody tr th:only-of-type {\n        vertical-align: middle;\n    }\n\n    .dataframe tbody tr th {\n        vertical-align: top;\n    }\n\n    .dataframe thead th {\n        text-align: right;\n    }\n</style>\n<table border=\"1\" class=\"dataframe\">\n  <thead>\n    <tr style=\"text-align: right;\">\n      <th></th>\n      <th>species</th>\n      <th>island</th>\n      <th>clutch_completion</th>\n      <th>date_egg</th>\n      <th>bill_length</th>\n      <th>bill_depth</th>\n      <th>flipper_length</th>\n      <th>body_mass</th>\n      <th>sex</th>\n      <th>del15</th>\n      <th>del13</th>\n    </tr>\n  </thead>\n  <tbody>\n    <tr>\n      <th>count</th>\n      <td>344</td>\n      <td>344</td>\n      <td>344</td>\n      <td>344</td>\n      <td>344</td>\n      <td>344</td>\n      <td>344</td>\n      <td>344</td>\n      <td>344</td>\n      <td>344</td>\n      <td>344</td>\n    </tr>\n    <tr>\n      <th>unique</th>\n      <td>1</td>\n      <td>1</td>\n      <td>1</td>\n      <td>1</td>\n      <td>2</td>\n      <td>2</td>\n      <td>2</td>\n      <td>2</td>\n      <td>2</td>\n      <td>2</td>\n      <td>2</td>\n    </tr>\n    <tr>\n      <th>top</th>\n      <td>True</td>\n      <td>True</td>\n      <td>True</td>\n      <td>True</td>\n      <td>True</td>\n      <td>True</td>\n      <td>True</td>\n      <td>True</td>\n      <td>True</td>\n      <td>True</td>\n      <td>True</td>\n    </tr>\n    <tr>\n      <th>freq</th>\n      <td>344</td>\n      <td>344</td>\n      <td>344</td>\n      <td>344</td>\n      <td>342</td>\n      <td>342</td>\n      <td>342</td>\n      <td>342</td>\n      <td>333</td>\n      <td>330</td>\n      <td>331</td>\n    </tr>\n  </tbody>\n</table>\n</div>"
     },
     "metadata": {}
    }
   ]
  },
  {
   "cell_type": "markdown",
   "source": "D'abord, on va éliminer les lignes contenant au moins une valeur NaN dans (bill_length\tbill_depth\tflipper_length\tbody_mass), l'impact de cette action est négligeable puisque le ratio est très petit. De +, les commentaires associés à ces deux lignes montrent que les experts n'ont pas pu acquérir les données, elles ne sont pas représentatives d'un quelquonque individu. ",
   "metadata": {
    "cell_id": "00020-51e09674-5432-47e3-a0ef-90c5e702b973",
    "deepnote_cell_type": "markdown"
   }
  },
  {
   "cell_type": "code",
   "metadata": {
    "cell_id": "00021-cdd608c7-ff00-430d-8da1-54b3c4027959",
    "deepnote_to_be_reexecuted": false,
    "source_hash": "4e0d3107",
    "execution_start": 1621709435714,
    "execution_millis": 0,
    "deepnote_cell_type": "code"
   },
   "source": "data_raw.dropna(axis=0,how='any',subset=['bill_length','bill_depth','flipper_length','body_mass'],inplace=True)",
   "execution_count": null,
   "outputs": []
  },
  {
   "cell_type": "code",
   "metadata": {
    "cell_id": "00022-e73284a3-6731-48f9-afa5-08ab887dd9bd",
    "deepnote_to_be_reexecuted": false,
    "source_hash": "821df321",
    "execution_start": 1621709435715,
    "execution_millis": 52,
    "deepnote_cell_type": "code"
   },
   "source": "data_raw.notnull().describe()",
   "execution_count": null,
   "outputs": [
    {
     "output_type": "execute_result",
     "execution_count": 92,
     "data": {
      "application/vnd.deepnote.dataframe.v2+json": {
       "row_count": 4,
       "column_count": 11,
       "columns": [
        {
         "name": "species",
         "dtype": "object",
         "stats": {
          "unique_count": 2,
          "nan_count": 0,
          "categories": [
           {
            "name": "342",
            "count": 2
           },
           {
            "name": "1",
            "count": 1
           },
           {
            "name": "True",
            "count": 1
           }
          ]
         }
        },
        {
         "name": "island",
         "dtype": "object",
         "stats": {
          "unique_count": 2,
          "nan_count": 0,
          "categories": [
           {
            "name": "342",
            "count": 2
           },
           {
            "name": "1",
            "count": 1
           },
           {
            "name": "True",
            "count": 1
           }
          ]
         }
        },
        {
         "name": "clutch_completion",
         "dtype": "object",
         "stats": {
          "unique_count": 2,
          "nan_count": 0,
          "categories": [
           {
            "name": "342",
            "count": 2
           },
           {
            "name": "1",
            "count": 1
           },
           {
            "name": "True",
            "count": 1
           }
          ]
         }
        },
        {
         "name": "date_egg",
         "dtype": "object",
         "stats": {
          "unique_count": 2,
          "nan_count": 0,
          "categories": [
           {
            "name": "342",
            "count": 2
           },
           {
            "name": "1",
            "count": 1
           },
           {
            "name": "True",
            "count": 1
           }
          ]
         }
        },
        {
         "name": "bill_length",
         "dtype": "object",
         "stats": {
          "unique_count": 2,
          "nan_count": 0,
          "categories": [
           {
            "name": "342",
            "count": 2
           },
           {
            "name": "1",
            "count": 1
           },
           {
            "name": "True",
            "count": 1
           }
          ]
         }
        },
        {
         "name": "bill_depth",
         "dtype": "object",
         "stats": {
          "unique_count": 2,
          "nan_count": 0,
          "categories": [
           {
            "name": "342",
            "count": 2
           },
           {
            "name": "1",
            "count": 1
           },
           {
            "name": "True",
            "count": 1
           }
          ]
         }
        },
        {
         "name": "flipper_length",
         "dtype": "object",
         "stats": {
          "unique_count": 2,
          "nan_count": 0,
          "categories": [
           {
            "name": "342",
            "count": 2
           },
           {
            "name": "1",
            "count": 1
           },
           {
            "name": "True",
            "count": 1
           }
          ]
         }
        },
        {
         "name": "body_mass",
         "dtype": "object",
         "stats": {
          "unique_count": 2,
          "nan_count": 0,
          "categories": [
           {
            "name": "342",
            "count": 2
           },
           {
            "name": "1",
            "count": 1
           },
           {
            "name": "True",
            "count": 1
           }
          ]
         }
        },
        {
         "name": "sex",
         "dtype": "object",
         "stats": {
          "unique_count": 4,
          "nan_count": 0,
          "categories": [
           {
            "name": "342",
            "count": 1
           },
           {
            "name": "2",
            "count": 1
           },
           {
            "name": "2 others",
            "count": 2
           }
          ]
         }
        },
        {
         "name": "del15",
         "dtype": "object",
         "stats": {
          "unique_count": 4,
          "nan_count": 0,
          "categories": [
           {
            "name": "342",
            "count": 1
           },
           {
            "name": "2",
            "count": 1
           },
           {
            "name": "2 others",
            "count": 2
           }
          ]
         }
        },
        {
         "name": "del13",
         "dtype": "object",
         "stats": {
          "unique_count": 4,
          "nan_count": 0,
          "categories": [
           {
            "name": "342",
            "count": 1
           },
           {
            "name": "2",
            "count": 1
           },
           {
            "name": "2 others",
            "count": 2
           }
          ]
         }
        },
        {
         "name": "_deepnote_index_column",
         "dtype": "object"
        }
       ],
       "rows_top": [
        {
         "species": "342",
         "island": "342",
         "clutch_completion": "342",
         "date_egg": "342",
         "bill_length": "342",
         "bill_depth": "342",
         "flipper_length": "342",
         "body_mass": "342",
         "sex": "342",
         "del15": "342",
         "del13": "342",
         "_deepnote_index_column": "count"
        },
        {
         "species": "1",
         "island": "1",
         "clutch_completion": "1",
         "date_egg": "1",
         "bill_length": "1",
         "bill_depth": "1",
         "flipper_length": "1",
         "body_mass": "1",
         "sex": "2",
         "del15": "2",
         "del13": "2",
         "_deepnote_index_column": "unique"
        },
        {
         "species": "True",
         "island": "True",
         "clutch_completion": "True",
         "date_egg": "True",
         "bill_length": "True",
         "bill_depth": "True",
         "flipper_length": "True",
         "body_mass": "True",
         "sex": "True",
         "del15": "True",
         "del13": "True",
         "_deepnote_index_column": "top"
        },
        {
         "species": "342",
         "island": "342",
         "clutch_completion": "342",
         "date_egg": "342",
         "bill_length": "342",
         "bill_depth": "342",
         "flipper_length": "342",
         "body_mass": "342",
         "sex": "333",
         "del15": "330",
         "del13": "331",
         "_deepnote_index_column": "freq"
        }
       ],
       "rows_bottom": null
      },
      "text/plain": "       species island clutch_completion date_egg bill_length bill_depth  \\\ncount      342    342               342      342         342        342   \nunique       1      1                 1        1           1          1   \ntop       True   True              True     True        True       True   \nfreq       342    342               342      342         342        342   \n\n       flipper_length body_mass   sex del15 del13  \ncount             342       342   342   342   342  \nunique              1         1     2     2     2  \ntop              True      True  True  True  True  \nfreq              342       342   333   330   331  ",
      "text/html": "<div>\n<style scoped>\n    .dataframe tbody tr th:only-of-type {\n        vertical-align: middle;\n    }\n\n    .dataframe tbody tr th {\n        vertical-align: top;\n    }\n\n    .dataframe thead th {\n        text-align: right;\n    }\n</style>\n<table border=\"1\" class=\"dataframe\">\n  <thead>\n    <tr style=\"text-align: right;\">\n      <th></th>\n      <th>species</th>\n      <th>island</th>\n      <th>clutch_completion</th>\n      <th>date_egg</th>\n      <th>bill_length</th>\n      <th>bill_depth</th>\n      <th>flipper_length</th>\n      <th>body_mass</th>\n      <th>sex</th>\n      <th>del15</th>\n      <th>del13</th>\n    </tr>\n  </thead>\n  <tbody>\n    <tr>\n      <th>count</th>\n      <td>342</td>\n      <td>342</td>\n      <td>342</td>\n      <td>342</td>\n      <td>342</td>\n      <td>342</td>\n      <td>342</td>\n      <td>342</td>\n      <td>342</td>\n      <td>342</td>\n      <td>342</td>\n    </tr>\n    <tr>\n      <th>unique</th>\n      <td>1</td>\n      <td>1</td>\n      <td>1</td>\n      <td>1</td>\n      <td>1</td>\n      <td>1</td>\n      <td>1</td>\n      <td>1</td>\n      <td>2</td>\n      <td>2</td>\n      <td>2</td>\n    </tr>\n    <tr>\n      <th>top</th>\n      <td>True</td>\n      <td>True</td>\n      <td>True</td>\n      <td>True</td>\n      <td>True</td>\n      <td>True</td>\n      <td>True</td>\n      <td>True</td>\n      <td>True</td>\n      <td>True</td>\n      <td>True</td>\n    </tr>\n    <tr>\n      <th>freq</th>\n      <td>342</td>\n      <td>342</td>\n      <td>342</td>\n      <td>342</td>\n      <td>342</td>\n      <td>342</td>\n      <td>342</td>\n      <td>342</td>\n      <td>333</td>\n      <td>330</td>\n      <td>331</td>\n    </tr>\n  </tbody>\n</table>\n</div>"
     },
     "metadata": {}
    }
   ]
  },
  {
   "cell_type": "markdown",
   "source": "Pour la colonne 'sex', on remplace 'NaN' avec 'UNKNOWN'",
   "metadata": {
    "cell_id": "00023-4a097e3f-e7e3-4616-96ab-d5e06a12ed6a",
    "deepnote_cell_type": "markdown"
   }
  },
  {
   "cell_type": "code",
   "metadata": {
    "cell_id": "00024-8da530b2-1680-41aa-959d-f7199ad368a5",
    "deepnote_to_be_reexecuted": false,
    "source_hash": "18e1e040",
    "execution_start": 1621709435760,
    "execution_millis": 3,
    "deepnote_cell_type": "code"
   },
   "source": "data_raw['sex'].fillna('UNKNOWN', inplace=True)",
   "execution_count": null,
   "outputs": []
  },
  {
   "cell_type": "code",
   "metadata": {
    "tags": [],
    "cell_id": "00026-e07b424c-0b4a-4344-aa7b-536a653774e4",
    "deepnote_to_be_reexecuted": false,
    "source_hash": "84a22576",
    "execution_start": 1621709435765,
    "execution_millis": 27,
    "deepnote_cell_type": "code"
   },
   "source": "data_raw[data_raw['species']=='Adelie']['del15'].mean()",
   "execution_count": null,
   "outputs": [
    {
     "output_type": "execute_result",
     "execution_count": 94,
     "data": {
      "text/plain": "nan"
     },
     "metadata": {}
    }
   ]
  },
  {
   "cell_type": "markdown",
   "source": "Remplacer les noms des espèces pour + de simplicité ",
   "metadata": {
    "tags": [],
    "cell_id": "00026-04131c27-593d-4f9d-b9d2-a18bb353bd96",
    "deepnote_cell_type": "text-cell-p"
   }
  },
  {
   "cell_type": "code",
   "metadata": {
    "tags": [],
    "cell_id": "00026-fd657be4-6286-41de-98c0-8471e7f598a1",
    "deepnote_to_be_reexecuted": false,
    "source_hash": "2b51cb58",
    "execution_start": 1621709435776,
    "execution_millis": 4,
    "deepnote_cell_type": "code"
   },
   "source": "adelie_data = data_raw[data_raw['species']=='Adelie']\ngentoo_data = data_raw[data_raw['species']=='Gentoo']\nchinstrap_data = data_raw[data_raw['species']=='Chinstrap']",
   "execution_count": null,
   "outputs": []
  },
  {
   "cell_type": "markdown",
   "source": "Pour les delta, on remplacer les qq valeurs manquantes par leur moyennes respectives (en considérant leur espèce !)",
   "metadata": {
    "tags": [],
    "cell_id": "00028-4bd938b7-4d62-4794-8ea1-769d262217d0",
    "deepnote_cell_type": "text-cell-p"
   }
  },
  {
   "cell_type": "code",
   "metadata": {
    "tags": [],
    "cell_id": "00027-4dbf9c99-1930-4a32-bcb4-b59f061087b8",
    "deepnote_to_be_reexecuted": false,
    "source_hash": "78b4d2de",
    "execution_start": 1621709435783,
    "execution_millis": 34,
    "deepnote_cell_type": "code"
   },
   "source": "adelie_data['del15'].fillna(adelie_data['del15'].mean(),inplace=True)",
   "execution_count": null,
   "outputs": [
    {
     "name": "stderr",
     "text": "/shared-libs/python3.7/py/lib/python3.7/site-packages/pandas/core/series.py:4469: SettingWithCopyWarning: \nA value is trying to be set on a copy of a slice from a DataFrame\n\nSee the caveats in the documentation: https://pandas.pydata.org/pandas-docs/stable/user_guide/indexing.html#returning-a-view-versus-a-copy\n  downcast=downcast,\n",
     "output_type": "stream"
    }
   ]
  },
  {
   "cell_type": "code",
   "metadata": {
    "tags": [],
    "cell_id": "00026-f4744118-370c-4fcb-b46b-3f9999e90500",
    "deepnote_to_be_reexecuted": false,
    "source_hash": "191fe84e",
    "execution_start": 1621709435799,
    "execution_millis": 4,
    "deepnote_cell_type": "code"
   },
   "source": "data_raw[data_raw['species']=='Adelie']['del15'].fillna(data_raw[data_raw['species']=='Adelie']['del15'].mean(),inplace=True)\n",
   "execution_count": null,
   "outputs": []
  },
  {
   "cell_type": "code",
   "metadata": {
    "tags": [],
    "cell_id": "00029-26798856-2e95-41cc-8e21-702668005b6b",
    "deepnote_to_be_reexecuted": false,
    "source_hash": "adea3250",
    "execution_start": 1621709435813,
    "execution_millis": 58,
    "deepnote_cell_type": "code"
   },
   "source": "adelie_data.notnull().describe()",
   "execution_count": null,
   "outputs": [
    {
     "output_type": "execute_result",
     "execution_count": 98,
     "data": {
      "application/vnd.deepnote.dataframe.v2+json": {
       "row_count": 4,
       "column_count": 11,
       "columns": [
        {
         "name": "species",
         "dtype": "object",
         "stats": {
          "unique_count": 1,
          "nan_count": 2,
          "categories": [
           {
            "name": "0.0",
            "count": 2
           },
           {
            "name": "Missing",
            "count": 2
           }
          ]
         }
        },
        {
         "name": "island",
         "dtype": "object",
         "stats": {
          "unique_count": 1,
          "nan_count": 2,
          "categories": [
           {
            "name": "0.0",
            "count": 2
           },
           {
            "name": "Missing",
            "count": 2
           }
          ]
         }
        },
        {
         "name": "clutch_completion",
         "dtype": "object",
         "stats": {
          "unique_count": 1,
          "nan_count": 2,
          "categories": [
           {
            "name": "0.0",
            "count": 2
           },
           {
            "name": "Missing",
            "count": 2
           }
          ]
         }
        },
        {
         "name": "date_egg",
         "dtype": "object",
         "stats": {
          "unique_count": 1,
          "nan_count": 2,
          "categories": [
           {
            "name": "0.0",
            "count": 2
           },
           {
            "name": "Missing",
            "count": 2
           }
          ]
         }
        },
        {
         "name": "bill_length",
         "dtype": "object",
         "stats": {
          "unique_count": 1,
          "nan_count": 2,
          "categories": [
           {
            "name": "0.0",
            "count": 2
           },
           {
            "name": "Missing",
            "count": 2
           }
          ]
         }
        },
        {
         "name": "bill_depth",
         "dtype": "object",
         "stats": {
          "unique_count": 1,
          "nan_count": 2,
          "categories": [
           {
            "name": "0.0",
            "count": 2
           },
           {
            "name": "Missing",
            "count": 2
           }
          ]
         }
        },
        {
         "name": "flipper_length",
         "dtype": "object",
         "stats": {
          "unique_count": 1,
          "nan_count": 2,
          "categories": [
           {
            "name": "0.0",
            "count": 2
           },
           {
            "name": "Missing",
            "count": 2
           }
          ]
         }
        },
        {
         "name": "body_mass",
         "dtype": "object",
         "stats": {
          "unique_count": 1,
          "nan_count": 2,
          "categories": [
           {
            "name": "0.0",
            "count": 2
           },
           {
            "name": "Missing",
            "count": 2
           }
          ]
         }
        },
        {
         "name": "sex",
         "dtype": "object",
         "stats": {
          "unique_count": 1,
          "nan_count": 2,
          "categories": [
           {
            "name": "0.0",
            "count": 2
           },
           {
            "name": "Missing",
            "count": 2
           }
          ]
         }
        },
        {
         "name": "del15",
         "dtype": "object",
         "stats": {
          "unique_count": 1,
          "nan_count": 2,
          "categories": [
           {
            "name": "0.0",
            "count": 2
           },
           {
            "name": "Missing",
            "count": 2
           }
          ]
         }
        },
        {
         "name": "del13",
         "dtype": "object",
         "stats": {
          "unique_count": 1,
          "nan_count": 2,
          "categories": [
           {
            "name": "0.0",
            "count": 2
           },
           {
            "name": "Missing",
            "count": 2
           }
          ]
         }
        },
        {
         "name": "_deepnote_index_column",
         "dtype": "object"
        }
       ],
       "rows_top": [
        {
         "species": "0",
         "island": "0",
         "clutch_completion": "0",
         "date_egg": "0",
         "bill_length": "0",
         "bill_depth": "0",
         "flipper_length": "0",
         "body_mass": "0",
         "sex": "0",
         "del15": "0",
         "del13": "0",
         "_deepnote_index_column": "count"
        },
        {
         "species": "0",
         "island": "0",
         "clutch_completion": "0",
         "date_egg": "0",
         "bill_length": "0",
         "bill_depth": "0",
         "flipper_length": "0",
         "body_mass": "0",
         "sex": "0",
         "del15": "0",
         "del13": "0",
         "_deepnote_index_column": "unique"
        },
        {
         "species": "nan",
         "island": "nan",
         "clutch_completion": "nan",
         "date_egg": "nan",
         "bill_length": "nan",
         "bill_depth": "nan",
         "flipper_length": "nan",
         "body_mass": "nan",
         "sex": "nan",
         "del15": "nan",
         "del13": "nan",
         "_deepnote_index_column": "top"
        },
        {
         "species": "nan",
         "island": "nan",
         "clutch_completion": "nan",
         "date_egg": "nan",
         "bill_length": "nan",
         "bill_depth": "nan",
         "flipper_length": "nan",
         "body_mass": "nan",
         "sex": "nan",
         "del15": "nan",
         "del13": "nan",
         "_deepnote_index_column": "freq"
        }
       ],
       "rows_bottom": null
      },
      "text/plain": "       species island clutch_completion date_egg bill_length bill_depth  \\\ncount        0      0                 0        0           0          0   \nunique       0      0                 0        0           0          0   \ntop        NaN    NaN               NaN      NaN         NaN        NaN   \nfreq       NaN    NaN               NaN      NaN         NaN        NaN   \n\n       flipper_length body_mass  sex del15 del13  \ncount               0         0    0     0     0  \nunique              0         0    0     0     0  \ntop               NaN       NaN  NaN   NaN   NaN  \nfreq              NaN       NaN  NaN   NaN   NaN  ",
      "text/html": "<div>\n<style scoped>\n    .dataframe tbody tr th:only-of-type {\n        vertical-align: middle;\n    }\n\n    .dataframe tbody tr th {\n        vertical-align: top;\n    }\n\n    .dataframe thead th {\n        text-align: right;\n    }\n</style>\n<table border=\"1\" class=\"dataframe\">\n  <thead>\n    <tr style=\"text-align: right;\">\n      <th></th>\n      <th>species</th>\n      <th>island</th>\n      <th>clutch_completion</th>\n      <th>date_egg</th>\n      <th>bill_length</th>\n      <th>bill_depth</th>\n      <th>flipper_length</th>\n      <th>body_mass</th>\n      <th>sex</th>\n      <th>del15</th>\n      <th>del13</th>\n    </tr>\n  </thead>\n  <tbody>\n    <tr>\n      <th>count</th>\n      <td>0</td>\n      <td>0</td>\n      <td>0</td>\n      <td>0</td>\n      <td>0</td>\n      <td>0</td>\n      <td>0</td>\n      <td>0</td>\n      <td>0</td>\n      <td>0</td>\n      <td>0</td>\n    </tr>\n    <tr>\n      <th>unique</th>\n      <td>0</td>\n      <td>0</td>\n      <td>0</td>\n      <td>0</td>\n      <td>0</td>\n      <td>0</td>\n      <td>0</td>\n      <td>0</td>\n      <td>0</td>\n      <td>0</td>\n      <td>0</td>\n    </tr>\n    <tr>\n      <th>top</th>\n      <td>NaN</td>\n      <td>NaN</td>\n      <td>NaN</td>\n      <td>NaN</td>\n      <td>NaN</td>\n      <td>NaN</td>\n      <td>NaN</td>\n      <td>NaN</td>\n      <td>NaN</td>\n      <td>NaN</td>\n      <td>NaN</td>\n    </tr>\n    <tr>\n      <th>freq</th>\n      <td>NaN</td>\n      <td>NaN</td>\n      <td>NaN</td>\n      <td>NaN</td>\n      <td>NaN</td>\n      <td>NaN</td>\n      <td>NaN</td>\n      <td>NaN</td>\n      <td>NaN</td>\n      <td>NaN</td>\n      <td>NaN</td>\n    </tr>\n  </tbody>\n</table>\n</div>"
     },
     "metadata": {}
    }
   ]
  },
  {
   "cell_type": "code",
   "metadata": {
    "cell_id": "00025-34f573fd-caff-4ea0-b7b1-782cffb018a0",
    "deepnote_to_be_reexecuted": false,
    "source_hash": "5867f837",
    "execution_start": 1621709435859,
    "execution_millis": 4,
    "deepnote_cell_type": "code"
   },
   "source": "data_raw['species'].replace(\n    {'Adelie Penguin (Pygoscelis adeliae)':'Adelie', \n     'Gentoo penguin (Pygoscelis papua)':'Gentoo', \n     'Chinstrap penguin (Pygoscelis antarctica)':'Chinstrap'},\n    inplace=True\n)",
   "execution_count": null,
   "outputs": []
  },
  {
   "cell_type": "code",
   "metadata": {
    "tags": [],
    "cell_id": "00025-320627a3-0e45-49cb-9cfe-b6d01d47cdad",
    "deepnote_to_be_reexecuted": false,
    "source_hash": "e4705b6e",
    "execution_start": 1621709435867,
    "execution_millis": 60,
    "deepnote_cell_type": "code"
   },
   "source": "partitions = []\nfor specie in data_raw['species'].unique():\n    data = data_raw[data_raw['species']==specie]\n    data['del15'].fillna(data['del15'].mean(),inplace=True)\n    data['del13'].fillna(data['del13'].mean(),inplace=True)\n    partitions.append(data)\ndata_new = pd.concat(partitions)\ndata_new.notnull().describe()",
   "execution_count": null,
   "outputs": [
    {
     "name": "stderr",
     "text": "/shared-libs/python3.7/py/lib/python3.7/site-packages/pandas/core/series.py:4469: SettingWithCopyWarning: \nA value is trying to be set on a copy of a slice from a DataFrame\n\nSee the caveats in the documentation: https://pandas.pydata.org/pandas-docs/stable/user_guide/indexing.html#returning-a-view-versus-a-copy\n  downcast=downcast,\n",
     "output_type": "stream"
    },
    {
     "output_type": "execute_result",
     "execution_count": 100,
     "data": {
      "application/vnd.deepnote.dataframe.v2+json": {
       "row_count": 4,
       "column_count": 11,
       "columns": [
        {
         "name": "species",
         "dtype": "object",
         "stats": {
          "unique_count": 2,
          "nan_count": 0,
          "categories": [
           {
            "name": "342",
            "count": 2
           },
           {
            "name": "1",
            "count": 1
           },
           {
            "name": "True",
            "count": 1
           }
          ]
         }
        },
        {
         "name": "island",
         "dtype": "object",
         "stats": {
          "unique_count": 2,
          "nan_count": 0,
          "categories": [
           {
            "name": "342",
            "count": 2
           },
           {
            "name": "1",
            "count": 1
           },
           {
            "name": "True",
            "count": 1
           }
          ]
         }
        },
        {
         "name": "clutch_completion",
         "dtype": "object",
         "stats": {
          "unique_count": 2,
          "nan_count": 0,
          "categories": [
           {
            "name": "342",
            "count": 2
           },
           {
            "name": "1",
            "count": 1
           },
           {
            "name": "True",
            "count": 1
           }
          ]
         }
        },
        {
         "name": "date_egg",
         "dtype": "object",
         "stats": {
          "unique_count": 2,
          "nan_count": 0,
          "categories": [
           {
            "name": "342",
            "count": 2
           },
           {
            "name": "1",
            "count": 1
           },
           {
            "name": "True",
            "count": 1
           }
          ]
         }
        },
        {
         "name": "bill_length",
         "dtype": "object",
         "stats": {
          "unique_count": 2,
          "nan_count": 0,
          "categories": [
           {
            "name": "342",
            "count": 2
           },
           {
            "name": "1",
            "count": 1
           },
           {
            "name": "True",
            "count": 1
           }
          ]
         }
        },
        {
         "name": "bill_depth",
         "dtype": "object",
         "stats": {
          "unique_count": 2,
          "nan_count": 0,
          "categories": [
           {
            "name": "342",
            "count": 2
           },
           {
            "name": "1",
            "count": 1
           },
           {
            "name": "True",
            "count": 1
           }
          ]
         }
        },
        {
         "name": "flipper_length",
         "dtype": "object",
         "stats": {
          "unique_count": 2,
          "nan_count": 0,
          "categories": [
           {
            "name": "342",
            "count": 2
           },
           {
            "name": "1",
            "count": 1
           },
           {
            "name": "True",
            "count": 1
           }
          ]
         }
        },
        {
         "name": "body_mass",
         "dtype": "object",
         "stats": {
          "unique_count": 2,
          "nan_count": 0,
          "categories": [
           {
            "name": "342",
            "count": 2
           },
           {
            "name": "1",
            "count": 1
           },
           {
            "name": "True",
            "count": 1
           }
          ]
         }
        },
        {
         "name": "sex",
         "dtype": "object",
         "stats": {
          "unique_count": 2,
          "nan_count": 0,
          "categories": [
           {
            "name": "342",
            "count": 2
           },
           {
            "name": "1",
            "count": 1
           },
           {
            "name": "True",
            "count": 1
           }
          ]
         }
        },
        {
         "name": "del15",
         "dtype": "object",
         "stats": {
          "unique_count": 2,
          "nan_count": 0,
          "categories": [
           {
            "name": "342",
            "count": 2
           },
           {
            "name": "1",
            "count": 1
           },
           {
            "name": "True",
            "count": 1
           }
          ]
         }
        },
        {
         "name": "del13",
         "dtype": "object",
         "stats": {
          "unique_count": 2,
          "nan_count": 0,
          "categories": [
           {
            "name": "342",
            "count": 2
           },
           {
            "name": "1",
            "count": 1
           },
           {
            "name": "True",
            "count": 1
           }
          ]
         }
        },
        {
         "name": "_deepnote_index_column",
         "dtype": "object"
        }
       ],
       "rows_top": [
        {
         "species": "342",
         "island": "342",
         "clutch_completion": "342",
         "date_egg": "342",
         "bill_length": "342",
         "bill_depth": "342",
         "flipper_length": "342",
         "body_mass": "342",
         "sex": "342",
         "del15": "342",
         "del13": "342",
         "_deepnote_index_column": "count"
        },
        {
         "species": "1",
         "island": "1",
         "clutch_completion": "1",
         "date_egg": "1",
         "bill_length": "1",
         "bill_depth": "1",
         "flipper_length": "1",
         "body_mass": "1",
         "sex": "1",
         "del15": "1",
         "del13": "1",
         "_deepnote_index_column": "unique"
        },
        {
         "species": "True",
         "island": "True",
         "clutch_completion": "True",
         "date_egg": "True",
         "bill_length": "True",
         "bill_depth": "True",
         "flipper_length": "True",
         "body_mass": "True",
         "sex": "True",
         "del15": "True",
         "del13": "True",
         "_deepnote_index_column": "top"
        },
        {
         "species": "342",
         "island": "342",
         "clutch_completion": "342",
         "date_egg": "342",
         "bill_length": "342",
         "bill_depth": "342",
         "flipper_length": "342",
         "body_mass": "342",
         "sex": "342",
         "del15": "342",
         "del13": "342",
         "_deepnote_index_column": "freq"
        }
       ],
       "rows_bottom": null
      },
      "text/plain": "       species island clutch_completion date_egg bill_length bill_depth  \\\ncount      342    342               342      342         342        342   \nunique       1      1                 1        1           1          1   \ntop       True   True              True     True        True       True   \nfreq       342    342               342      342         342        342   \n\n       flipper_length body_mass   sex del15 del13  \ncount             342       342   342   342   342  \nunique              1         1     1     1     1  \ntop              True      True  True  True  True  \nfreq              342       342   342   342   342  ",
      "text/html": "<div>\n<style scoped>\n    .dataframe tbody tr th:only-of-type {\n        vertical-align: middle;\n    }\n\n    .dataframe tbody tr th {\n        vertical-align: top;\n    }\n\n    .dataframe thead th {\n        text-align: right;\n    }\n</style>\n<table border=\"1\" class=\"dataframe\">\n  <thead>\n    <tr style=\"text-align: right;\">\n      <th></th>\n      <th>species</th>\n      <th>island</th>\n      <th>clutch_completion</th>\n      <th>date_egg</th>\n      <th>bill_length</th>\n      <th>bill_depth</th>\n      <th>flipper_length</th>\n      <th>body_mass</th>\n      <th>sex</th>\n      <th>del15</th>\n      <th>del13</th>\n    </tr>\n  </thead>\n  <tbody>\n    <tr>\n      <th>count</th>\n      <td>342</td>\n      <td>342</td>\n      <td>342</td>\n      <td>342</td>\n      <td>342</td>\n      <td>342</td>\n      <td>342</td>\n      <td>342</td>\n      <td>342</td>\n      <td>342</td>\n      <td>342</td>\n    </tr>\n    <tr>\n      <th>unique</th>\n      <td>1</td>\n      <td>1</td>\n      <td>1</td>\n      <td>1</td>\n      <td>1</td>\n      <td>1</td>\n      <td>1</td>\n      <td>1</td>\n      <td>1</td>\n      <td>1</td>\n      <td>1</td>\n    </tr>\n    <tr>\n      <th>top</th>\n      <td>True</td>\n      <td>True</td>\n      <td>True</td>\n      <td>True</td>\n      <td>True</td>\n      <td>True</td>\n      <td>True</td>\n      <td>True</td>\n      <td>True</td>\n      <td>True</td>\n      <td>True</td>\n    </tr>\n    <tr>\n      <th>freq</th>\n      <td>342</td>\n      <td>342</td>\n      <td>342</td>\n      <td>342</td>\n      <td>342</td>\n      <td>342</td>\n      <td>342</td>\n      <td>342</td>\n      <td>342</td>\n      <td>342</td>\n      <td>342</td>\n    </tr>\n  </tbody>\n</table>\n</div>"
     },
     "metadata": {}
    }
   ]
  },
  {
   "cell_type": "code",
   "metadata": {
    "tags": [],
    "cell_id": "00032-7d9a5e74-48d1-4ee1-8eac-1a28cc1f7a91",
    "deepnote_to_be_reexecuted": false,
    "source_hash": "a7c0dd18",
    "execution_start": 1621709435924,
    "execution_millis": 61,
    "deepnote_cell_type": "code"
   },
   "source": "data_new",
   "execution_count": null,
   "outputs": [
    {
     "output_type": "execute_result",
     "execution_count": 101,
     "data": {
      "application/vnd.deepnote.dataframe.v2+json": {
       "row_count": 342,
       "column_count": 11,
       "columns": [
        {
         "name": "species",
         "dtype": "object",
         "stats": {
          "unique_count": 3,
          "nan_count": 0,
          "categories": [
           {
            "name": "Adelie",
            "count": 151
           },
           {
            "name": "Gentoo",
            "count": 123
           },
           {
            "name": "Chinstrap",
            "count": 68
           }
          ]
         }
        },
        {
         "name": "island",
         "dtype": "object",
         "stats": {
          "unique_count": 3,
          "nan_count": 0,
          "categories": [
           {
            "name": "Biscoe",
            "count": 167
           },
           {
            "name": "Dream",
            "count": 124
           },
           {
            "name": "Torgersen",
            "count": 51
           }
          ]
         }
        },
        {
         "name": "clutch_completion",
         "dtype": "object",
         "stats": {
          "unique_count": 2,
          "nan_count": 0,
          "categories": [
           {
            "name": "Yes",
            "count": 307
           },
           {
            "name": "No",
            "count": 35
           }
          ]
         }
        },
        {
         "name": "date_egg",
         "dtype": "object",
         "stats": {
          "unique_count": 50,
          "nan_count": 0,
          "categories": [
           {
            "name": "2007-11-27",
            "count": 18
           },
           {
            "name": "2008-11-09",
            "count": 16
           },
           {
            "name": "48 others",
            "count": 308
           }
          ]
         }
        },
        {
         "name": "bill_length",
         "dtype": "float64",
         "stats": {
          "unique_count": 164,
          "nan_count": 0,
          "min": "32.1",
          "max": "59.6",
          "histogram": [
           {
            "bin_start": 32.1,
            "bin_end": 34.85,
            "count": 9
           },
           {
            "bin_start": 34.85,
            "bin_end": 37.6,
            "count": 40
           },
           {
            "bin_start": 37.6,
            "bin_end": 40.35,
            "count": 57
           },
           {
            "bin_start": 40.35,
            "bin_end": 43.1,
            "count": 48
           },
           {
            "bin_start": 43.1,
            "bin_end": 45.85,
            "count": 49
           },
           {
            "bin_start": 45.85,
            "bin_end": 48.6,
            "count": 55
           },
           {
            "bin_start": 48.6,
            "bin_end": 51.35,
            "count": 61
           },
           {
            "bin_start": 51.35,
            "bin_end": 54.1,
            "count": 16
           },
           {
            "bin_start": 54.1,
            "bin_end": 56.85,
            "count": 5
           },
           {
            "bin_start": 56.85,
            "bin_end": 59.6,
            "count": 2
           }
          ]
         }
        },
        {
         "name": "bill_depth",
         "dtype": "float64",
         "stats": {
          "unique_count": 80,
          "nan_count": 0,
          "min": "13.1",
          "max": "21.5",
          "histogram": [
           {
            "bin_start": 13.1,
            "bin_end": 13.94,
            "count": 21
           },
           {
            "bin_start": 13.94,
            "bin_end": 14.78,
            "count": 35
           },
           {
            "bin_start": 14.78,
            "bin_end": 15.620000000000001,
            "count": 32
           },
           {
            "bin_start": 15.620000000000001,
            "bin_end": 16.46,
            "count": 34
           },
           {
            "bin_start": 16.46,
            "bin_end": 17.3,
            "count": 44
           },
           {
            "bin_start": 17.3,
            "bin_end": 18.14,
            "count": 55
           },
           {
            "bin_start": 18.14,
            "bin_end": 18.98,
            "count": 56
           },
           {
            "bin_start": 18.98,
            "bin_end": 19.82,
            "count": 39
           },
           {
            "bin_start": 19.82,
            "bin_end": 20.66,
            "count": 16
           },
           {
            "bin_start": 20.66,
            "bin_end": 21.5,
            "count": 10
           }
          ]
         }
        },
        {
         "name": "flipper_length",
         "dtype": "float64",
         "stats": {
          "unique_count": 55,
          "nan_count": 0,
          "min": "172.0",
          "max": "231.0",
          "histogram": [
           {
            "bin_start": 172,
            "bin_end": 177.9,
            "count": 3
           },
           {
            "bin_start": 177.9,
            "bin_end": 183.8,
            "count": 22
           },
           {
            "bin_start": 183.8,
            "bin_end": 189.7,
            "count": 52
           },
           {
            "bin_start": 189.7,
            "bin_end": 195.6,
            "count": 79
           },
           {
            "bin_start": 195.6,
            "bin_end": 201.5,
            "count": 44
           },
           {
            "bin_start": 201.5,
            "bin_end": 207.4,
            "count": 15
           },
           {
            "bin_start": 207.4,
            "bin_end": 213.3,
            "count": 42
           },
           {
            "bin_start": 213.3,
            "bin_end": 219.2,
            "count": 42
           },
           {
            "bin_start": 219.2,
            "bin_end": 225.1,
            "count": 28
           },
           {
            "bin_start": 225.1,
            "bin_end": 231,
            "count": 15
           }
          ]
         }
        },
        {
         "name": "body_mass",
         "dtype": "float64",
         "stats": {
          "unique_count": 94,
          "nan_count": 0,
          "min": "2700.0",
          "max": "6300.0",
          "histogram": [
           {
            "bin_start": 2700,
            "bin_end": 3060,
            "count": 15
           },
           {
            "bin_start": 3060,
            "bin_end": 3420,
            "count": 43
           },
           {
            "bin_start": 3420,
            "bin_end": 3780,
            "count": 71
           },
           {
            "bin_start": 3780,
            "bin_end": 4140,
            "count": 53
           },
           {
            "bin_start": 4140,
            "bin_end": 4500,
            "count": 42
           },
           {
            "bin_start": 4500,
            "bin_end": 4860,
            "count": 41
           },
           {
            "bin_start": 4860,
            "bin_end": 5220,
            "count": 28
           },
           {
            "bin_start": 5220,
            "bin_end": 5580,
            "count": 27
           },
           {
            "bin_start": 5580,
            "bin_end": 5940,
            "count": 16
           },
           {
            "bin_start": 5940,
            "bin_end": 6300,
            "count": 6
           }
          ]
         }
        },
        {
         "name": "sex",
         "dtype": "object",
         "stats": {
          "unique_count": 3,
          "nan_count": 0,
          "categories": [
           {
            "name": "MALE",
            "count": 168
           },
           {
            "name": "FEMALE",
            "count": 165
           },
           {
            "name": "UNKNOWN",
            "count": 9
           }
          ]
         }
        },
        {
         "name": "del15",
         "dtype": "float64",
         "stats": {
          "unique_count": 333,
          "nan_count": 0,
          "min": "7.6322",
          "max": "10.02544",
          "histogram": [
           {
            "bin_start": 7.6322,
            "bin_end": 7.871524,
            "count": 13
           },
           {
            "bin_start": 7.871524,
            "bin_end": 8.110848,
            "count": 27
           },
           {
            "bin_start": 8.110848,
            "bin_end": 8.350172,
            "count": 53
           },
           {
            "bin_start": 8.350172,
            "bin_end": 8.589496,
            "count": 56
           },
           {
            "bin_start": 8.589496,
            "bin_end": 8.82882,
            "count": 43
           },
           {
            "bin_start": 8.82882,
            "bin_end": 9.068144,
            "count": 51
           },
           {
            "bin_start": 9.068144,
            "bin_end": 9.307468,
            "count": 38
           },
           {
            "bin_start": 9.307468,
            "bin_end": 9.546792,
            "count": 34
           },
           {
            "bin_start": 9.546792,
            "bin_end": 9.786116,
            "count": 18
           },
           {
            "bin_start": 9.786116,
            "bin_end": 10.02544,
            "count": 9
           }
          ]
         }
        },
        {
         "name": "del13",
         "dtype": "float64",
         "stats": {
          "unique_count": 333,
          "nan_count": 0,
          "min": "-27.01854",
          "max": "-23.78767",
          "histogram": [
           {
            "bin_start": -27.01854,
            "bin_end": -26.695453,
            "count": 31
           },
           {
            "bin_start": -26.695453,
            "bin_end": -26.372366,
            "count": 45
           },
           {
            "bin_start": -26.372366,
            "bin_end": -26.049279000000002,
            "count": 67
           },
           {
            "bin_start": -26.049279000000002,
            "bin_end": -25.726192,
            "count": 46
           },
           {
            "bin_start": -25.726192,
            "bin_end": -25.403105,
            "count": 31
           },
           {
            "bin_start": -25.403105,
            "bin_end": -25.080018,
            "count": 36
           },
           {
            "bin_start": -25.080018,
            "bin_end": -24.756930999999998,
            "count": 22
           },
           {
            "bin_start": -24.756930999999998,
            "bin_end": -24.433844,
            "count": 39
           },
           {
            "bin_start": -24.433844,
            "bin_end": -24.110757,
            "count": 21
           },
           {
            "bin_start": -24.110757,
            "bin_end": -23.78767,
            "count": 4
           }
          ]
         }
        },
        {
         "name": "_deepnote_index_column",
         "dtype": "int64"
        }
       ],
       "rows_top": [
        {
         "species": "Adelie",
         "island": "Torgersen",
         "clutch_completion": "Yes",
         "date_egg": "2007-11-11",
         "bill_length": 39.1,
         "bill_depth": 18.7,
         "flipper_length": 181,
         "body_mass": 3750,
         "sex": "MALE",
         "del15": 8.859732765957446,
         "del13": -25.804193758865246,
         "_deepnote_index_column": 0
        },
        {
         "species": "Adelie",
         "island": "Torgersen",
         "clutch_completion": "Yes",
         "date_egg": "2007-11-11",
         "bill_length": 39.5,
         "bill_depth": 17.4,
         "flipper_length": 186,
         "body_mass": 3800,
         "sex": "FEMALE",
         "del15": 8.94956,
         "del13": -24.69454,
         "_deepnote_index_column": 1
        },
        {
         "species": "Adelie",
         "island": "Torgersen",
         "clutch_completion": "Yes",
         "date_egg": "2007-11-16",
         "bill_length": 40.3,
         "bill_depth": 18,
         "flipper_length": 195,
         "body_mass": 3250,
         "sex": "FEMALE",
         "del15": 8.36821,
         "del13": -25.33302,
         "_deepnote_index_column": 2
        },
        {
         "species": "Adelie",
         "island": "Torgersen",
         "clutch_completion": "Yes",
         "date_egg": "2007-11-16",
         "bill_length": 36.7,
         "bill_depth": 19.3,
         "flipper_length": 193,
         "body_mass": 3450,
         "sex": "FEMALE",
         "del15": 8.76651,
         "del13": -25.32426,
         "_deepnote_index_column": 4
        },
        {
         "species": "Adelie",
         "island": "Torgersen",
         "clutch_completion": "Yes",
         "date_egg": "2007-11-16",
         "bill_length": 39.3,
         "bill_depth": 20.6,
         "flipper_length": 190,
         "body_mass": 3650,
         "sex": "MALE",
         "del15": 8.66496,
         "del13": -25.29805,
         "_deepnote_index_column": 5
        },
        {
         "species": "Adelie",
         "island": "Torgersen",
         "clutch_completion": "No",
         "date_egg": "2007-11-15",
         "bill_length": 38.9,
         "bill_depth": 17.8,
         "flipper_length": 181,
         "body_mass": 3625,
         "sex": "FEMALE",
         "del15": 9.18718,
         "del13": -25.21799,
         "_deepnote_index_column": 6
        },
        {
         "species": "Adelie",
         "island": "Torgersen",
         "clutch_completion": "No",
         "date_egg": "2007-11-15",
         "bill_length": 39.2,
         "bill_depth": 19.6,
         "flipper_length": 195,
         "body_mass": 4675,
         "sex": "MALE",
         "del15": 9.4606,
         "del13": -24.89958,
         "_deepnote_index_column": 7
        },
        {
         "species": "Adelie",
         "island": "Torgersen",
         "clutch_completion": "Yes",
         "date_egg": "2007-11-09",
         "bill_length": 34.1,
         "bill_depth": 18.1,
         "flipper_length": 193,
         "body_mass": 3475,
         "sex": "UNKNOWN",
         "del15": 8.859732765957446,
         "del13": -25.804193758865246,
         "_deepnote_index_column": 8
        },
        {
         "species": "Adelie",
         "island": "Torgersen",
         "clutch_completion": "Yes",
         "date_egg": "2007-11-09",
         "bill_length": 42,
         "bill_depth": 20.2,
         "flipper_length": 190,
         "body_mass": 4250,
         "sex": "UNKNOWN",
         "del15": 9.13362,
         "del13": -25.09368,
         "_deepnote_index_column": 9
        },
        {
         "species": "Adelie",
         "island": "Torgersen",
         "clutch_completion": "Yes",
         "date_egg": "2007-11-09",
         "bill_length": 37.8,
         "bill_depth": 17.1,
         "flipper_length": 186,
         "body_mass": 3300,
         "sex": "UNKNOWN",
         "del15": 8.63243,
         "del13": -25.21315,
         "_deepnote_index_column": 10
        },
        {
         "species": "Adelie",
         "island": "Torgersen",
         "clutch_completion": "Yes",
         "date_egg": "2007-11-09",
         "bill_length": 37.8,
         "bill_depth": 17.3,
         "flipper_length": 180,
         "body_mass": 3700,
         "sex": "UNKNOWN",
         "del15": 8.859732765957446,
         "del13": -25.804193758865246,
         "_deepnote_index_column": 11
        },
        {
         "species": "Adelie",
         "island": "Torgersen",
         "clutch_completion": "Yes",
         "date_egg": "2007-11-15",
         "bill_length": 41.1,
         "bill_depth": 17.6,
         "flipper_length": 182,
         "body_mass": 3200,
         "sex": "FEMALE",
         "del15": 8.859732765957446,
         "del13": -25.804193758865246,
         "_deepnote_index_column": 12
        },
        {
         "species": "Adelie",
         "island": "Torgersen",
         "clutch_completion": "Yes",
         "date_egg": "2007-11-15",
         "bill_length": 38.6,
         "bill_depth": 21.2,
         "flipper_length": 191,
         "body_mass": 3800,
         "sex": "MALE",
         "del15": 8.859732765957446,
         "del13": -25.804193758865246,
         "_deepnote_index_column": 13
        },
        {
         "species": "Adelie",
         "island": "Torgersen",
         "clutch_completion": "Yes",
         "date_egg": "2007-11-16",
         "bill_length": 34.6,
         "bill_depth": 21.1,
         "flipper_length": 198,
         "body_mass": 4400,
         "sex": "MALE",
         "del15": 8.55583,
         "del13": -25.22588,
         "_deepnote_index_column": 14
        },
        {
         "species": "Adelie",
         "island": "Torgersen",
         "clutch_completion": "Yes",
         "date_egg": "2007-11-16",
         "bill_length": 36.6,
         "bill_depth": 17.8,
         "flipper_length": 185,
         "body_mass": 3700,
         "sex": "FEMALE",
         "del15": 8.859732765957446,
         "del13": -25.804193758865246,
         "_deepnote_index_column": 15
        },
        {
         "species": "Adelie",
         "island": "Torgersen",
         "clutch_completion": "Yes",
         "date_egg": "2007-11-12",
         "bill_length": 38.7,
         "bill_depth": 19,
         "flipper_length": 195,
         "body_mass": 3450,
         "sex": "FEMALE",
         "del15": 9.18528,
         "del13": -25.06691,
         "_deepnote_index_column": 16
        },
        {
         "species": "Adelie",
         "island": "Torgersen",
         "clutch_completion": "Yes",
         "date_egg": "2007-11-12",
         "bill_length": 42.5,
         "bill_depth": 20.7,
         "flipper_length": 197,
         "body_mass": 4500,
         "sex": "MALE",
         "del15": 8.67538,
         "del13": -25.13993,
         "_deepnote_index_column": 17
        },
        {
         "species": "Adelie",
         "island": "Torgersen",
         "clutch_completion": "Yes",
         "date_egg": "2007-11-16",
         "bill_length": 34.4,
         "bill_depth": 18.4,
         "flipper_length": 184,
         "body_mass": 3325,
         "sex": "FEMALE",
         "del15": 8.47827,
         "del13": -25.23319,
         "_deepnote_index_column": 18
        },
        {
         "species": "Adelie",
         "island": "Torgersen",
         "clutch_completion": "Yes",
         "date_egg": "2007-11-16",
         "bill_length": 46,
         "bill_depth": 21.5,
         "flipper_length": 194,
         "body_mass": 4200,
         "sex": "MALE",
         "del15": 9.11616,
         "del13": -24.77227,
         "_deepnote_index_column": 19
        },
        {
         "species": "Adelie",
         "island": "Biscoe",
         "clutch_completion": "Yes",
         "date_egg": "2007-11-12",
         "bill_length": 37.8,
         "bill_depth": 18.3,
         "flipper_length": 174,
         "body_mass": 3400,
         "sex": "FEMALE",
         "del15": 8.73762,
         "del13": -25.09383,
         "_deepnote_index_column": 20
        },
        {
         "species": "Adelie",
         "island": "Biscoe",
         "clutch_completion": "Yes",
         "date_egg": "2007-11-12",
         "bill_length": 37.7,
         "bill_depth": 18.7,
         "flipper_length": 180,
         "body_mass": 3600,
         "sex": "MALE",
         "del15": 8.66271,
         "del13": -25.0639,
         "_deepnote_index_column": 21
        },
        {
         "species": "Adelie",
         "island": "Biscoe",
         "clutch_completion": "Yes",
         "date_egg": "2007-11-12",
         "bill_length": 35.9,
         "bill_depth": 19.2,
         "flipper_length": 189,
         "body_mass": 3800,
         "sex": "FEMALE",
         "del15": 9.22286,
         "del13": -25.03474,
         "_deepnote_index_column": 22
        },
        {
         "species": "Adelie",
         "island": "Biscoe",
         "clutch_completion": "Yes",
         "date_egg": "2007-11-12",
         "bill_length": 38.2,
         "bill_depth": 18.1,
         "flipper_length": 185,
         "body_mass": 3950,
         "sex": "MALE",
         "del15": 8.43423,
         "del13": -25.22664,
         "_deepnote_index_column": 23
        },
        {
         "species": "Adelie",
         "island": "Biscoe",
         "clutch_completion": "Yes",
         "date_egg": "2007-11-10",
         "bill_length": 38.8,
         "bill_depth": 17.2,
         "flipper_length": 180,
         "body_mass": 3800,
         "sex": "MALE",
         "del15": 9.63954,
         "del13": -25.29856,
         "_deepnote_index_column": 24
        },
        {
         "species": "Adelie",
         "island": "Biscoe",
         "clutch_completion": "Yes",
         "date_egg": "2007-11-10",
         "bill_length": 35.3,
         "bill_depth": 18.9,
         "flipper_length": 187,
         "body_mass": 3800,
         "sex": "FEMALE",
         "del15": 9.21292,
         "del13": -24.3613,
         "_deepnote_index_column": 25
        },
        {
         "species": "Adelie",
         "island": "Biscoe",
         "clutch_completion": "Yes",
         "date_egg": "2007-11-12",
         "bill_length": 40.6,
         "bill_depth": 18.6,
         "flipper_length": 183,
         "body_mass": 3550,
         "sex": "MALE",
         "del15": 8.93997,
         "del13": -25.36288,
         "_deepnote_index_column": 26
        },
        {
         "species": "Adelie",
         "island": "Biscoe",
         "clutch_completion": "Yes",
         "date_egg": "2007-11-12",
         "bill_length": 40.5,
         "bill_depth": 17.9,
         "flipper_length": 187,
         "body_mass": 3200,
         "sex": "FEMALE",
         "del15": 8.08138,
         "del13": -25.49448,
         "_deepnote_index_column": 27
        },
        {
         "species": "Adelie",
         "island": "Biscoe",
         "clutch_completion": "No",
         "date_egg": "2007-11-10",
         "bill_length": 37.9,
         "bill_depth": 18.6,
         "flipper_length": 172,
         "body_mass": 3150,
         "sex": "FEMALE",
         "del15": 8.38404,
         "del13": -25.19837,
         "_deepnote_index_column": 28
        },
        {
         "species": "Adelie",
         "island": "Biscoe",
         "clutch_completion": "No",
         "date_egg": "2007-11-10",
         "bill_length": 40.5,
         "bill_depth": 18.9,
         "flipper_length": 180,
         "body_mass": 3950,
         "sex": "MALE",
         "del15": 8.90027,
         "del13": -25.11609,
         "_deepnote_index_column": 29
        },
        {
         "species": "Adelie",
         "island": "Dream",
         "clutch_completion": "Yes",
         "date_egg": "2007-11-09",
         "bill_length": 39.5,
         "bill_depth": 16.7,
         "flipper_length": 178,
         "body_mass": 3250,
         "sex": "FEMALE",
         "del15": 9.69756,
         "del13": -25.11223,
         "_deepnote_index_column": 30
        },
        {
         "species": "Adelie",
         "island": "Dream",
         "clutch_completion": "Yes",
         "date_egg": "2007-11-09",
         "bill_length": 37.2,
         "bill_depth": 18.1,
         "flipper_length": 178,
         "body_mass": 3900,
         "sex": "MALE",
         "del15": 9.72764,
         "del13": -25.0102,
         "_deepnote_index_column": 31
        },
        {
         "species": "Adelie",
         "island": "Dream",
         "clutch_completion": "Yes",
         "date_egg": "2007-11-09",
         "bill_length": 39.5,
         "bill_depth": 17.8,
         "flipper_length": 188,
         "body_mass": 3300,
         "sex": "FEMALE",
         "del15": 9.66523,
         "del13": -25.0602,
         "_deepnote_index_column": 32
        },
        {
         "species": "Adelie",
         "island": "Dream",
         "clutch_completion": "Yes",
         "date_egg": "2007-11-09",
         "bill_length": 40.9,
         "bill_depth": 18.9,
         "flipper_length": 184,
         "body_mass": 3900,
         "sex": "MALE",
         "del15": 8.79665,
         "del13": -25.14591,
         "_deepnote_index_column": 33
        },
        {
         "species": "Adelie",
         "island": "Dream",
         "clutch_completion": "Yes",
         "date_egg": "2007-11-16",
         "bill_length": 36.4,
         "bill_depth": 17,
         "flipper_length": 195,
         "body_mass": 3325,
         "sex": "FEMALE",
         "del15": 9.17847,
         "del13": -25.23061,
         "_deepnote_index_column": 34
        },
        {
         "species": "Adelie",
         "island": "Dream",
         "clutch_completion": "Yes",
         "date_egg": "2007-11-16",
         "bill_length": 39.2,
         "bill_depth": 21.1,
         "flipper_length": 196,
         "body_mass": 4150,
         "sex": "MALE",
         "del15": 9.15308,
         "del13": -25.03469,
         "_deepnote_index_column": 35
        },
        {
         "species": "Adelie",
         "island": "Dream",
         "clutch_completion": "Yes",
         "date_egg": "2007-11-16",
         "bill_length": 38.8,
         "bill_depth": 20,
         "flipper_length": 190,
         "body_mass": 3950,
         "sex": "MALE",
         "del15": 9.18985,
         "del13": -25.12255,
         "_deepnote_index_column": 36
        },
        {
         "species": "Adelie",
         "island": "Dream",
         "clutch_completion": "Yes",
         "date_egg": "2007-11-16",
         "bill_length": 42.2,
         "bill_depth": 18.5,
         "flipper_length": 180,
         "body_mass": 3550,
         "sex": "FEMALE",
         "del15": 8.04787,
         "del13": -25.49523,
         "_deepnote_index_column": 37
        },
        {
         "species": "Adelie",
         "island": "Dream",
         "clutch_completion": "No",
         "date_egg": "2007-11-13",
         "bill_length": 37.6,
         "bill_depth": 19.3,
         "flipper_length": 181,
         "body_mass": 3300,
         "sex": "FEMALE",
         "del15": 9.41131,
         "del13": -25.04169,
         "_deepnote_index_column": 38
        },
        {
         "species": "Adelie",
         "island": "Dream",
         "clutch_completion": "No",
         "date_egg": "2007-11-13",
         "bill_length": 39.8,
         "bill_depth": 19.1,
         "flipper_length": 184,
         "body_mass": 4650,
         "sex": "MALE",
         "del15": 8.859732765957446,
         "del13": -25.804193758865246,
         "_deepnote_index_column": 39
        },
        {
         "species": "Adelie",
         "island": "Dream",
         "clutch_completion": "Yes",
         "date_egg": "2007-11-16",
         "bill_length": 36.5,
         "bill_depth": 18,
         "flipper_length": 182,
         "body_mass": 3150,
         "sex": "FEMALE",
         "del15": 9.68933,
         "del13": -24.4228,
         "_deepnote_index_column": 40
        },
        {
         "species": "Adelie",
         "island": "Dream",
         "clutch_completion": "Yes",
         "date_egg": "2007-11-16",
         "bill_length": 40.8,
         "bill_depth": 18.4,
         "flipper_length": 195,
         "body_mass": 3900,
         "sex": "MALE",
         "del15": 8.859732765957446,
         "del13": -25.804193758865246,
         "_deepnote_index_column": 41
        },
        {
         "species": "Adelie",
         "island": "Dream",
         "clutch_completion": "Yes",
         "date_egg": "2007-11-19",
         "bill_length": 36,
         "bill_depth": 18.5,
         "flipper_length": 186,
         "body_mass": 3100,
         "sex": "FEMALE",
         "del15": 9.50772,
         "del13": -25.03492,
         "_deepnote_index_column": 42
        },
        {
         "species": "Adelie",
         "island": "Dream",
         "clutch_completion": "Yes",
         "date_egg": "2007-11-19",
         "bill_length": 44.1,
         "bill_depth": 19.7,
         "flipper_length": 196,
         "body_mass": 4400,
         "sex": "MALE",
         "del15": 9.2372,
         "del13": -24.52698,
         "_deepnote_index_column": 43
        },
        {
         "species": "Adelie",
         "island": "Dream",
         "clutch_completion": "Yes",
         "date_egg": "2007-11-16",
         "bill_length": 37,
         "bill_depth": 16.9,
         "flipper_length": 185,
         "body_mass": 3000,
         "sex": "FEMALE",
         "del15": 9.36392,
         "del13": -25.01745,
         "_deepnote_index_column": 44
        },
        {
         "species": "Adelie",
         "island": "Dream",
         "clutch_completion": "Yes",
         "date_egg": "2007-11-16",
         "bill_length": 39.6,
         "bill_depth": 18.8,
         "flipper_length": 190,
         "body_mass": 4600,
         "sex": "MALE",
         "del15": 9.49106,
         "del13": -24.10255,
         "_deepnote_index_column": 45
        }
       ],
       "rows_bottom": [
        {
         "species": "Chinstrap",
         "island": "Dream",
         "clutch_completion": "No",
         "date_egg": "2007-11-28",
         "bill_length": 50.6,
         "bill_depth": 19.4,
         "flipper_length": 193,
         "body_mass": 3800,
         "sex": "MALE",
         "del15": 9.28153,
         "del13": -24.97134,
         "_deepnote_index_column": 299
        },
        {
         "species": "Chinstrap",
         "island": "Dream",
         "clutch_completion": "No",
         "date_egg": "2007-11-28",
         "bill_length": 46.7,
         "bill_depth": 17.9,
         "flipper_length": 195,
         "body_mass": 3300,
         "sex": "FEMALE",
         "del15": 9.74144,
         "del13": -24.59467,
         "_deepnote_index_column": 300
        },
        {
         "species": "Chinstrap",
         "island": "Dream",
         "clutch_completion": "No",
         "date_egg": "2007-11-28",
         "bill_length": 52,
         "bill_depth": 19,
         "flipper_length": 197,
         "body_mass": 4150,
         "sex": "MALE",
         "del15": 9.36799,
         "del13": -24.47142,
         "_deepnote_index_column": 301
        },
        {
         "species": "Chinstrap",
         "island": "Dream",
         "clutch_completion": "No",
         "date_egg": "2008-11-25",
         "bill_length": 50.5,
         "bill_depth": 18.4,
         "flipper_length": 200,
         "body_mass": 3400,
         "sex": "FEMALE",
         "del15": 8.9399,
         "del13": -23.89017,
         "_deepnote_index_column": 302
        },
        {
         "species": "Chinstrap",
         "island": "Dream",
         "clutch_completion": "No",
         "date_egg": "2008-11-25",
         "bill_length": 49.5,
         "bill_depth": 19,
         "flipper_length": 200,
         "body_mass": 3800,
         "sex": "MALE",
         "del15": 9.63074,
         "del13": -24.34684,
         "_deepnote_index_column": 303
        },
        {
         "species": "Chinstrap",
         "island": "Dream",
         "clutch_completion": "Yes",
         "date_egg": "2008-11-14",
         "bill_length": 46.4,
         "bill_depth": 17.8,
         "flipper_length": 191,
         "body_mass": 3700,
         "sex": "FEMALE",
         "del15": 9.37369,
         "del13": -24.52896,
         "_deepnote_index_column": 304
        },
        {
         "species": "Chinstrap",
         "island": "Dream",
         "clutch_completion": "Yes",
         "date_egg": "2008-11-14",
         "bill_length": 52.8,
         "bill_depth": 20,
         "flipper_length": 205,
         "body_mass": 4550,
         "sex": "MALE",
         "del15": 9.25177,
         "del13": -24.69638,
         "_deepnote_index_column": 305
        },
        {
         "species": "Chinstrap",
         "island": "Dream",
         "clutch_completion": "Yes",
         "date_egg": "2008-11-24",
         "bill_length": 40.9,
         "bill_depth": 16.6,
         "flipper_length": 187,
         "body_mass": 3200,
         "sex": "FEMALE",
         "del15": 9.08458,
         "del13": -24.54903,
         "_deepnote_index_column": 306
        },
        {
         "species": "Chinstrap",
         "island": "Dream",
         "clutch_completion": "Yes",
         "date_egg": "2008-11-24",
         "bill_length": 54.2,
         "bill_depth": 20.8,
         "flipper_length": 201,
         "body_mass": 4300,
         "sex": "MALE",
         "del15": 9.49283,
         "del13": -24.59996,
         "_deepnote_index_column": 307
        },
        {
         "species": "Chinstrap",
         "island": "Dream",
         "clutch_completion": "Yes",
         "date_egg": "2008-11-24",
         "bill_length": 42.5,
         "bill_depth": 16.7,
         "flipper_length": 187,
         "body_mass": 3350,
         "sex": "FEMALE",
         "del15": 9.36668,
         "del13": -24.45195,
         "_deepnote_index_column": 308
        },
        {
         "species": "Chinstrap",
         "island": "Dream",
         "clutch_completion": "Yes",
         "date_egg": "2008-11-24",
         "bill_length": 51,
         "bill_depth": 18.8,
         "flipper_length": 203,
         "body_mass": 4100,
         "sex": "MALE",
         "del15": 9.23196,
         "del13": -24.17282,
         "_deepnote_index_column": 309
        },
        {
         "species": "Chinstrap",
         "island": "Dream",
         "clutch_completion": "Yes",
         "date_egg": "2008-11-25",
         "bill_length": 49.7,
         "bill_depth": 18.6,
         "flipper_length": 195,
         "body_mass": 3600,
         "sex": "MALE",
         "del15": 9.75486,
         "del13": -24.31198,
         "_deepnote_index_column": 310
        },
        {
         "species": "Chinstrap",
         "island": "Dream",
         "clutch_completion": "Yes",
         "date_egg": "2008-11-25",
         "bill_length": 47.5,
         "bill_depth": 16.8,
         "flipper_length": 199,
         "body_mass": 3900,
         "sex": "FEMALE",
         "del15": 9.07825,
         "del13": -25.1455,
         "_deepnote_index_column": 311
        },
        {
         "species": "Chinstrap",
         "island": "Dream",
         "clutch_completion": "Yes",
         "date_egg": "2008-11-14",
         "bill_length": 47.6,
         "bill_depth": 18.3,
         "flipper_length": 195,
         "body_mass": 3850,
         "sex": "FEMALE",
         "del15": 8.83502,
         "del13": -24.65859,
         "_deepnote_index_column": 312
        },
        {
         "species": "Chinstrap",
         "island": "Dream",
         "clutch_completion": "Yes",
         "date_egg": "2008-11-14",
         "bill_length": 52,
         "bill_depth": 20.7,
         "flipper_length": 210,
         "body_mass": 4800,
         "sex": "MALE",
         "del15": 9.43146,
         "del13": -24.6844,
         "_deepnote_index_column": 313
        },
        {
         "species": "Chinstrap",
         "island": "Dream",
         "clutch_completion": "No",
         "date_egg": "2008-11-24",
         "bill_length": 46.9,
         "bill_depth": 16.6,
         "flipper_length": 192,
         "body_mass": 2700,
         "sex": "FEMALE",
         "del15": 9.80589,
         "del13": -24.73735,
         "_deepnote_index_column": 314
        },
        {
         "species": "Chinstrap",
         "island": "Dream",
         "clutch_completion": "No",
         "date_egg": "2008-11-24",
         "bill_length": 53.5,
         "bill_depth": 19.9,
         "flipper_length": 205,
         "body_mass": 4500,
         "sex": "MALE",
         "del15": 10.02544,
         "del13": -24.90816,
         "_deepnote_index_column": 315
        },
        {
         "species": "Chinstrap",
         "island": "Dream",
         "clutch_completion": "Yes",
         "date_egg": "2008-11-24",
         "bill_length": 49,
         "bill_depth": 19.5,
         "flipper_length": 210,
         "body_mass": 3950,
         "sex": "MALE",
         "del15": 9.53262,
         "del13": -24.66867,
         "_deepnote_index_column": 316
        },
        {
         "species": "Chinstrap",
         "island": "Dream",
         "clutch_completion": "Yes",
         "date_egg": "2008-11-24",
         "bill_length": 46.2,
         "bill_depth": 17.5,
         "flipper_length": 187,
         "body_mass": 3650,
         "sex": "FEMALE",
         "del15": 9.61734,
         "del13": -24.66188,
         "_deepnote_index_column": 317
        },
        {
         "species": "Chinstrap",
         "island": "Dream",
         "clutch_completion": "Yes",
         "date_egg": "2008-11-14",
         "bill_length": 50.9,
         "bill_depth": 19.1,
         "flipper_length": 196,
         "body_mass": 3550,
         "sex": "MALE",
         "del15": 10.02372,
         "del13": -24.86594,
         "_deepnote_index_column": 318
        },
        {
         "species": "Chinstrap",
         "island": "Dream",
         "clutch_completion": "Yes",
         "date_egg": "2008-11-14",
         "bill_length": 45.5,
         "bill_depth": 17,
         "flipper_length": 196,
         "body_mass": 3500,
         "sex": "FEMALE",
         "del15": 9.36493,
         "del13": -24.66259,
         "_deepnote_index_column": 319
        },
        {
         "species": "Chinstrap",
         "island": "Dream",
         "clutch_completion": "Yes",
         "date_egg": "2009-11-17",
         "bill_length": 50.9,
         "bill_depth": 17.9,
         "flipper_length": 196,
         "body_mass": 3675,
         "sex": "FEMALE",
         "del15": 9.43684,
         "del13": -24.16566,
         "_deepnote_index_column": 320
        },
        {
         "species": "Chinstrap",
         "island": "Dream",
         "clutch_completion": "Yes",
         "date_egg": "2009-11-17",
         "bill_length": 50.8,
         "bill_depth": 18.5,
         "flipper_length": 201,
         "body_mass": 4450,
         "sex": "MALE",
         "del15": 9.45827,
         "del13": -24.35575,
         "_deepnote_index_column": 321
        },
        {
         "species": "Chinstrap",
         "island": "Dream",
         "clutch_completion": "Yes",
         "date_egg": "2009-11-27",
         "bill_length": 50.1,
         "bill_depth": 17.9,
         "flipper_length": 190,
         "body_mass": 3400,
         "sex": "FEMALE",
         "del15": 9.46819,
         "del13": -24.45721,
         "_deepnote_index_column": 322
        },
        {
         "species": "Chinstrap",
         "island": "Dream",
         "clutch_completion": "Yes",
         "date_egg": "2009-11-27",
         "bill_length": 49,
         "bill_depth": 19.6,
         "flipper_length": 212,
         "body_mass": 4300,
         "sex": "MALE",
         "del15": 9.34089,
         "del13": -24.45189,
         "_deepnote_index_column": 323
        },
        {
         "species": "Chinstrap",
         "island": "Dream",
         "clutch_completion": "Yes",
         "date_egg": "2009-11-23",
         "bill_length": 51.5,
         "bill_depth": 18.7,
         "flipper_length": 187,
         "body_mass": 3250,
         "sex": "MALE",
         "del15": 9.6895,
         "del13": -24.43062,
         "_deepnote_index_column": 324
        },
        {
         "species": "Chinstrap",
         "island": "Dream",
         "clutch_completion": "Yes",
         "date_egg": "2009-11-23",
         "bill_length": 49.8,
         "bill_depth": 17.3,
         "flipper_length": 198,
         "body_mass": 3675,
         "sex": "FEMALE",
         "del15": 9.32169,
         "del13": -24.41562,
         "_deepnote_index_column": 325
        },
        {
         "species": "Chinstrap",
         "island": "Dream",
         "clutch_completion": "Yes",
         "date_egg": "2009-11-21",
         "bill_length": 48.1,
         "bill_depth": 16.4,
         "flipper_length": 199,
         "body_mass": 3325,
         "sex": "FEMALE",
         "del15": 9.46929,
         "del13": -24.48403,
         "_deepnote_index_column": 326
        },
        {
         "species": "Chinstrap",
         "island": "Dream",
         "clutch_completion": "Yes",
         "date_egg": "2009-11-21",
         "bill_length": 51.4,
         "bill_depth": 19,
         "flipper_length": 201,
         "body_mass": 3950,
         "sex": "MALE",
         "del15": 9.43782,
         "del13": -24.36202,
         "_deepnote_index_column": 327
        },
        {
         "species": "Chinstrap",
         "island": "Dream",
         "clutch_completion": "Yes",
         "date_egg": "2009-11-23",
         "bill_length": 45.7,
         "bill_depth": 17.3,
         "flipper_length": 193,
         "body_mass": 3600,
         "sex": "FEMALE",
         "del15": 9.415,
         "del13": -24.805,
         "_deepnote_index_column": 328
        },
        {
         "species": "Chinstrap",
         "island": "Dream",
         "clutch_completion": "Yes",
         "date_egg": "2009-11-23",
         "bill_length": 50.7,
         "bill_depth": 19.7,
         "flipper_length": 203,
         "body_mass": 4050,
         "sex": "MALE",
         "del15": 9.93727,
         "del13": -24.59066,
         "_deepnote_index_column": 329
        },
        {
         "species": "Chinstrap",
         "island": "Dream",
         "clutch_completion": "Yes",
         "date_egg": "2009-11-27",
         "bill_length": 42.5,
         "bill_depth": 17.3,
         "flipper_length": 187,
         "body_mass": 3350,
         "sex": "FEMALE",
         "del15": 9.56534,
         "del13": -24.60882,
         "_deepnote_index_column": 330
        },
        {
         "species": "Chinstrap",
         "island": "Dream",
         "clutch_completion": "Yes",
         "date_egg": "2009-11-27",
         "bill_length": 52.2,
         "bill_depth": 18.8,
         "flipper_length": 197,
         "body_mass": 3450,
         "sex": "MALE",
         "del15": 9.77528,
         "del13": -24.56481,
         "_deepnote_index_column": 331
        },
        {
         "species": "Chinstrap",
         "island": "Dream",
         "clutch_completion": "Yes",
         "date_egg": "2009-11-21",
         "bill_length": 45.2,
         "bill_depth": 16.6,
         "flipper_length": 191,
         "body_mass": 3250,
         "sex": "FEMALE",
         "del15": 9.62357,
         "del13": -24.78984,
         "_deepnote_index_column": 332
        },
        {
         "species": "Chinstrap",
         "island": "Dream",
         "clutch_completion": "Yes",
         "date_egg": "2009-11-21",
         "bill_length": 49.3,
         "bill_depth": 19.9,
         "flipper_length": 203,
         "body_mass": 4050,
         "sex": "MALE",
         "del15": 9.88809,
         "del13": -24.59513,
         "_deepnote_index_column": 333
        },
        {
         "species": "Chinstrap",
         "island": "Dream",
         "clutch_completion": "Yes",
         "date_egg": "2009-11-21",
         "bill_length": 50.2,
         "bill_depth": 18.8,
         "flipper_length": 202,
         "body_mass": 3800,
         "sex": "MALE",
         "del15": 9.74492,
         "del13": -24.404,
         "_deepnote_index_column": 334
        },
        {
         "species": "Chinstrap",
         "island": "Dream",
         "clutch_completion": "Yes",
         "date_egg": "2009-11-21",
         "bill_length": 45.6,
         "bill_depth": 19.4,
         "flipper_length": 194,
         "body_mass": 3525,
         "sex": "FEMALE",
         "del15": 9.46985,
         "del13": -24.65786,
         "_deepnote_index_column": 335
        },
        {
         "species": "Chinstrap",
         "island": "Dream",
         "clutch_completion": "Yes",
         "date_egg": "2009-11-27",
         "bill_length": 51.9,
         "bill_depth": 19.5,
         "flipper_length": 206,
         "body_mass": 3950,
         "sex": "MALE",
         "del15": 9.356154776119405,
         "del13": -23.78767,
         "_deepnote_index_column": 336
        },
        {
         "species": "Chinstrap",
         "island": "Dream",
         "clutch_completion": "Yes",
         "date_egg": "2009-11-27",
         "bill_length": 46.8,
         "bill_depth": 16.5,
         "flipper_length": 189,
         "body_mass": 3650,
         "sex": "FEMALE",
         "del15": 9.65061,
         "del13": -24.48153,
         "_deepnote_index_column": 337
        },
        {
         "species": "Chinstrap",
         "island": "Dream",
         "clutch_completion": "Yes",
         "date_egg": "2009-11-19",
         "bill_length": 45.7,
         "bill_depth": 17,
         "flipper_length": 195,
         "body_mass": 3650,
         "sex": "FEMALE",
         "del15": 9.26715,
         "del13": -24.31912,
         "_deepnote_index_column": 338
        },
        {
         "species": "Chinstrap",
         "island": "Dream",
         "clutch_completion": "Yes",
         "date_egg": "2009-11-19",
         "bill_length": 55.8,
         "bill_depth": 19.8,
         "flipper_length": 207,
         "body_mass": 4000,
         "sex": "MALE",
         "del15": 9.70465,
         "del13": -24.53494,
         "_deepnote_index_column": 339
        },
        {
         "species": "Chinstrap",
         "island": "Dream",
         "clutch_completion": "No",
         "date_egg": "2009-11-21",
         "bill_length": 43.5,
         "bill_depth": 18.1,
         "flipper_length": 202,
         "body_mass": 3400,
         "sex": "FEMALE",
         "del15": 9.37608,
         "del13": -24.40753,
         "_deepnote_index_column": 340
        },
        {
         "species": "Chinstrap",
         "island": "Dream",
         "clutch_completion": "No",
         "date_egg": "2009-11-21",
         "bill_length": 49.6,
         "bill_depth": 18.2,
         "flipper_length": 193,
         "body_mass": 3775,
         "sex": "MALE",
         "del15": 9.4618,
         "del13": -24.70615,
         "_deepnote_index_column": 341
        },
        {
         "species": "Chinstrap",
         "island": "Dream",
         "clutch_completion": "Yes",
         "date_egg": "2009-11-21",
         "bill_length": 50.8,
         "bill_depth": 19,
         "flipper_length": 210,
         "body_mass": 4100,
         "sex": "MALE",
         "del15": 9.98044,
         "del13": -24.68741,
         "_deepnote_index_column": 342
        },
        {
         "species": "Chinstrap",
         "island": "Dream",
         "clutch_completion": "Yes",
         "date_egg": "2009-11-21",
         "bill_length": 50.2,
         "bill_depth": 18.7,
         "flipper_length": 198,
         "body_mass": 3775,
         "sex": "FEMALE",
         "del15": 9.39305,
         "del13": -24.25255,
         "_deepnote_index_column": 343
        }
       ]
      },
      "text/plain": "       species     island clutch_completion    date_egg  bill_length  \\\n0       Adelie  Torgersen               Yes  2007-11-11         39.1   \n1       Adelie  Torgersen               Yes  2007-11-11         39.5   \n2       Adelie  Torgersen               Yes  2007-11-16         40.3   \n4       Adelie  Torgersen               Yes  2007-11-16         36.7   \n5       Adelie  Torgersen               Yes  2007-11-16         39.3   \n..         ...        ...               ...         ...          ...   \n339  Chinstrap      Dream               Yes  2009-11-19         55.8   \n340  Chinstrap      Dream                No  2009-11-21         43.5   \n341  Chinstrap      Dream                No  2009-11-21         49.6   \n342  Chinstrap      Dream               Yes  2009-11-21         50.8   \n343  Chinstrap      Dream               Yes  2009-11-21         50.2   \n\n     bill_depth  flipper_length  body_mass     sex     del15      del13  \n0          18.7           181.0     3750.0    MALE  8.859733 -25.804194  \n1          17.4           186.0     3800.0  FEMALE  8.949560 -24.694540  \n2          18.0           195.0     3250.0  FEMALE  8.368210 -25.333020  \n4          19.3           193.0     3450.0  FEMALE  8.766510 -25.324260  \n5          20.6           190.0     3650.0    MALE  8.664960 -25.298050  \n..          ...             ...        ...     ...       ...        ...  \n339        19.8           207.0     4000.0    MALE  9.704650 -24.534940  \n340        18.1           202.0     3400.0  FEMALE  9.376080 -24.407530  \n341        18.2           193.0     3775.0    MALE  9.461800 -24.706150  \n342        19.0           210.0     4100.0    MALE  9.980440 -24.687410  \n343        18.7           198.0     3775.0  FEMALE  9.393050 -24.252550  \n\n[342 rows x 11 columns]",
      "text/html": "<div>\n<style scoped>\n    .dataframe tbody tr th:only-of-type {\n        vertical-align: middle;\n    }\n\n    .dataframe tbody tr th {\n        vertical-align: top;\n    }\n\n    .dataframe thead th {\n        text-align: right;\n    }\n</style>\n<table border=\"1\" class=\"dataframe\">\n  <thead>\n    <tr style=\"text-align: right;\">\n      <th></th>\n      <th>species</th>\n      <th>island</th>\n      <th>clutch_completion</th>\n      <th>date_egg</th>\n      <th>bill_length</th>\n      <th>bill_depth</th>\n      <th>flipper_length</th>\n      <th>body_mass</th>\n      <th>sex</th>\n      <th>del15</th>\n      <th>del13</th>\n    </tr>\n  </thead>\n  <tbody>\n    <tr>\n      <th>0</th>\n      <td>Adelie</td>\n      <td>Torgersen</td>\n      <td>Yes</td>\n      <td>2007-11-11</td>\n      <td>39.1</td>\n      <td>18.7</td>\n      <td>181.0</td>\n      <td>3750.0</td>\n      <td>MALE</td>\n      <td>8.859733</td>\n      <td>-25.804194</td>\n    </tr>\n    <tr>\n      <th>1</th>\n      <td>Adelie</td>\n      <td>Torgersen</td>\n      <td>Yes</td>\n      <td>2007-11-11</td>\n      <td>39.5</td>\n      <td>17.4</td>\n      <td>186.0</td>\n      <td>3800.0</td>\n      <td>FEMALE</td>\n      <td>8.949560</td>\n      <td>-24.694540</td>\n    </tr>\n    <tr>\n      <th>2</th>\n      <td>Adelie</td>\n      <td>Torgersen</td>\n      <td>Yes</td>\n      <td>2007-11-16</td>\n      <td>40.3</td>\n      <td>18.0</td>\n      <td>195.0</td>\n      <td>3250.0</td>\n      <td>FEMALE</td>\n      <td>8.368210</td>\n      <td>-25.333020</td>\n    </tr>\n    <tr>\n      <th>4</th>\n      <td>Adelie</td>\n      <td>Torgersen</td>\n      <td>Yes</td>\n      <td>2007-11-16</td>\n      <td>36.7</td>\n      <td>19.3</td>\n      <td>193.0</td>\n      <td>3450.0</td>\n      <td>FEMALE</td>\n      <td>8.766510</td>\n      <td>-25.324260</td>\n    </tr>\n    <tr>\n      <th>5</th>\n      <td>Adelie</td>\n      <td>Torgersen</td>\n      <td>Yes</td>\n      <td>2007-11-16</td>\n      <td>39.3</td>\n      <td>20.6</td>\n      <td>190.0</td>\n      <td>3650.0</td>\n      <td>MALE</td>\n      <td>8.664960</td>\n      <td>-25.298050</td>\n    </tr>\n    <tr>\n      <th>...</th>\n      <td>...</td>\n      <td>...</td>\n      <td>...</td>\n      <td>...</td>\n      <td>...</td>\n      <td>...</td>\n      <td>...</td>\n      <td>...</td>\n      <td>...</td>\n      <td>...</td>\n      <td>...</td>\n    </tr>\n    <tr>\n      <th>339</th>\n      <td>Chinstrap</td>\n      <td>Dream</td>\n      <td>Yes</td>\n      <td>2009-11-19</td>\n      <td>55.8</td>\n      <td>19.8</td>\n      <td>207.0</td>\n      <td>4000.0</td>\n      <td>MALE</td>\n      <td>9.704650</td>\n      <td>-24.534940</td>\n    </tr>\n    <tr>\n      <th>340</th>\n      <td>Chinstrap</td>\n      <td>Dream</td>\n      <td>No</td>\n      <td>2009-11-21</td>\n      <td>43.5</td>\n      <td>18.1</td>\n      <td>202.0</td>\n      <td>3400.0</td>\n      <td>FEMALE</td>\n      <td>9.376080</td>\n      <td>-24.407530</td>\n    </tr>\n    <tr>\n      <th>341</th>\n      <td>Chinstrap</td>\n      <td>Dream</td>\n      <td>No</td>\n      <td>2009-11-21</td>\n      <td>49.6</td>\n      <td>18.2</td>\n      <td>193.0</td>\n      <td>3775.0</td>\n      <td>MALE</td>\n      <td>9.461800</td>\n      <td>-24.706150</td>\n    </tr>\n    <tr>\n      <th>342</th>\n      <td>Chinstrap</td>\n      <td>Dream</td>\n      <td>Yes</td>\n      <td>2009-11-21</td>\n      <td>50.8</td>\n      <td>19.0</td>\n      <td>210.0</td>\n      <td>4100.0</td>\n      <td>MALE</td>\n      <td>9.980440</td>\n      <td>-24.687410</td>\n    </tr>\n    <tr>\n      <th>343</th>\n      <td>Chinstrap</td>\n      <td>Dream</td>\n      <td>Yes</td>\n      <td>2009-11-21</td>\n      <td>50.2</td>\n      <td>18.7</td>\n      <td>198.0</td>\n      <td>3775.0</td>\n      <td>FEMALE</td>\n      <td>9.393050</td>\n      <td>-24.252550</td>\n    </tr>\n  </tbody>\n</table>\n<p>342 rows × 11 columns</p>\n</div>"
     },
     "metadata": {}
    }
   ]
  },
  {
   "cell_type": "code",
   "metadata": {
    "cell_id": "00026-ef70815a-7876-4f77-958f-0b6d74d997bc",
    "deepnote_to_be_reexecuted": false,
    "source_hash": "53f36424",
    "execution_start": 1621709435975,
    "execution_millis": 5,
    "deepnote_cell_type": "code"
   },
   "source": "data_new.to_csv('../data/penguins_cleaned.csv',index=False)",
   "execution_count": null,
   "outputs": []
  },
  {
   "cell_type": "markdown",
   "source": "<a style='text-decoration:none;line-height:16px;display:flex;color:#5B5B62;padding:10px;justify-content:end;' href='https://deepnote.com?utm_source=created-in-deepnote-cell&projectId=1dd35576-464a-4d46-a0e6-752fc35b7463' target=\"_blank\">\n<img alt='Created in deepnote.com' style='display:inline;max-height:16px;margin:0px;margin-right:7.5px;' src='data:image/svg+xml;base64,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' > </img>\nCreated in <span style='font-weight:600;margin-left:4px;'>Deepnote</span></a>",
   "metadata": {
    "tags": [],
    "created_in_deepnote_cell": true,
    "deepnote_cell_type": "markdown"
   }
  }
 ],
 "nbformat": 4,
 "nbformat_minor": 4,
 "metadata": {
  "kernelspec": {
   "display_name": "venv",
   "language": "python",
   "name": "venv"
  },
  "language_info": {
   "codemirror_mode": {
    "name": "ipython",
    "version": 3
   },
   "file_extension": ".py",
   "mimetype": "text/x-python",
   "name": "python",
   "nbconvert_exporter": "python",
   "pygments_lexer": "ipython3",
   "version": "3.9.5"
  },
  "deepnote_notebook_id": "9d53b9a0-7d90-44d1-b695-be88de646560",
  "deepnote": {},
  "deepnote_execution_queue": []
 }
}